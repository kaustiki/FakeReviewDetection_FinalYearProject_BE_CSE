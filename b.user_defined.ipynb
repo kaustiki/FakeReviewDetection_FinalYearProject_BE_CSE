{
 "cells": [
  {
   "cell_type": "markdown",
   "source": "# USER DEFINED RULES",
   "metadata": {
    "formattedRanges": [],
    "is_collapsed": false,
    "tags": [],
    "cell_id": "79d08110-0ef5-46e7-b084-55e30ba8da27",
    "deepnote_cell_type": "text-cell-h1"
   }
  },
  {
   "cell_type": "markdown",
   "source": "",
   "metadata": {
    "formattedRanges": [],
    "is_collapsed": false,
    "tags": [],
    "cell_id": "00001-698f826b-ff4c-41ad-b559-c451f5aa9d4e",
    "deepnote_cell_type": "text-cell-p"
   }
  },
  {
   "cell_type": "code",
   "metadata": {
    "deepnote_to_be_reexecuted": false,
    "execution_millis": 9998,
    "execution_start": 1654235457985,
    "source_hash": "6c3283c9",
    "tags": [],
    "cell_id": "00002-3b4b9af9-bbad-4967-abb5-04c70e0cf41d",
    "deepnote_cell_type": "code",
    "deepnote_cell_height": 456.015625
   },
   "source": "!pip install bs4==0.0.1",
   "execution_count": null,
   "outputs": [
    {
     "name": "stdout",
     "output_type": "stream",
     "text": "Collecting bs4==0.0.1\n  Downloading bs4-0.0.1.tar.gz (1.1 kB)\nCollecting beautifulsoup4\n  Downloading beautifulsoup4-4.11.1-py3-none-any.whl (128 kB)\n\u001b[K     |████████████████████████████████| 128 kB 4.3 MB/s \n\u001b[?25hCollecting soupsieve>1.2\n  Downloading soupsieve-2.3.2.post1-py3-none-any.whl (37 kB)\nBuilding wheels for collected packages: bs4\n  Building wheel for bs4 (setup.py) ... \u001b[?25ldone\n\u001b[?25h  Created wheel for bs4: filename=bs4-0.0.1-py3-none-any.whl size=1272 sha256=042d419a33332556e6449f7c2468bc8391fc15d535d78610db035253b10b8db0\n  Stored in directory: /root/.cache/pip/wheels/0a/9e/ba/20e5bbc1afef3a491f0b3bb74d508f99403aabe76eda2167ca\nSuccessfully built bs4\nInstalling collected packages: soupsieve, beautifulsoup4, bs4\nSuccessfully installed beautifulsoup4-4.11.1 bs4-0.0.1 soupsieve-2.3.2.post1\n\u001b[33mWARNING: You are using pip version 20.1.1; however, version 22.1.2 is available.\nYou should consider upgrading via the '/root/venv/bin/python -m pip install --upgrade pip' command.\u001b[0m\n"
    }
   ]
  },
  {
   "cell_type": "code",
   "metadata": {
    "deepnote_to_be_reexecuted": false,
    "execution_millis": 17147,
    "execution_start": 1654235509736,
    "source_hash": "dd67f1ee",
    "tags": [],
    "cell_id": "00003-3be9212c-3ca8-47e9-b223-d6922b3d38b1",
    "deepnote_cell_type": "code",
    "deepnote_cell_height": 1438.9375
   },
   "source": "import pandas as pd\n\nimport random\nimport re\nimport pickle\nimport nltk \nfrom sklearn.feature_extraction.text import TfidfVectorizer\nfrom sklearn.decomposition import TruncatedSVD\nimport nltk\nimport re\nfrom nltk.corpus import stopwords \nimport collections\nfrom nltk.corpus import wordnet\nnltk.download('punkt')\nnltk.download('averaged_perceptron_tagger')\nnltk.download('wordnet')\nnltk.download('omw-1.4')\n!pip install contractions\nimport contractions\n\n#Sentiment\nfrom textblob import TextBlob\n\n#POS Tagging\nimport nltk\nnltk.download(\"popular\")\nfrom nltk import FreqDist\nfrom nltk.corpus import stopwords \nfrom nltk.tokenize import word_tokenize, sent_tokenize \nfrom collections import Counter\nstop_words = set(stopwords.words('english')) \nimport re\n#Pre-Processing Imports\nfrom datetime import datetime, timedelta\nfrom dateutil.relativedelta import relativedelta\nimport matplotlib.pyplot as plt\nimport requests\nfrom bs4 import BeautifulSoup\nimport re, sys\n\n#Text Feature Generation\nimport string",
   "execution_count": null,
   "outputs": [
    {
     "name": "stderr",
     "output_type": "stream",
     "text": "[nltk_data] Downloading package punkt to /root/nltk_data...\n[nltk_data]   Unzipping tokenizers/punkt.zip.\n[nltk_data] Downloading package averaged_perceptron_tagger to\n[nltk_data]     /root/nltk_data...\n[nltk_data]   Unzipping taggers/averaged_perceptron_tagger.zip.\n[nltk_data] Downloading package wordnet to /root/nltk_data...\n[nltk_data]   Unzipping corpora/wordnet.zip.\n[nltk_data] Downloading package omw-1.4 to /root/nltk_data...\n[nltk_data]   Unzipping corpora/omw-1.4.zip.\nCollecting contractions\n  Downloading contractions-0.1.72-py2.py3-none-any.whl (8.3 kB)\nCollecting textsearch>=0.0.21\n  Downloading textsearch-0.0.21-py2.py3-none-any.whl (7.5 kB)\nCollecting pyahocorasick\n  Downloading pyahocorasick-1.4.4-cp37-cp37m-manylinux_2_17_x86_64.manylinux2014_x86_64.whl (106 kB)\n\u001b[K     |████████████████████████████████| 106 kB 31.7 MB/s \n\u001b[?25hCollecting anyascii\n  Downloading anyascii-0.3.1-py3-none-any.whl (287 kB)\n\u001b[K     |████████████████████████████████| 287 kB 44.1 MB/s \n\u001b[?25hInstalling collected packages: pyahocorasick, anyascii, textsearch, contractions\nSuccessfully installed anyascii-0.3.1 contractions-0.1.72 pyahocorasick-1.4.4 textsearch-0.0.21\n\u001b[33mWARNING: You are using pip version 20.1.1; however, version 22.1.2 is available.\nYou should consider upgrading via the '/root/venv/bin/python -m pip install --upgrade pip' command.\u001b[0m\n[nltk_data] Downloading collection 'popular'\n[nltk_data]    | \n[nltk_data]    | Downloading package cmudict to /root/nltk_data...\n[nltk_data]    |   Unzipping corpora/cmudict.zip.\n[nltk_data]    | Downloading package gazetteers to /root/nltk_data...\n[nltk_data]    |   Unzipping corpora/gazetteers.zip.\n[nltk_data]    | Downloading package genesis to /root/nltk_data...\n[nltk_data]    |   Unzipping corpora/genesis.zip.\n[nltk_data]    | Downloading package gutenberg to /root/nltk_data...\n[nltk_data]    |   Unzipping corpora/gutenberg.zip.\n[nltk_data]    | Downloading package inaugural to /root/nltk_data...\n[nltk_data]    |   Unzipping corpora/inaugural.zip.\n[nltk_data]    | Downloading package movie_reviews to\n[nltk_data]    |     /root/nltk_data...\n[nltk_data]    |   Unzipping corpora/movie_reviews.zip.\n[nltk_data]    | Downloading package names to /root/nltk_data...\n[nltk_data]    |   Unzipping corpora/names.zip.\n[nltk_data]    | Downloading package shakespeare to /root/nltk_data...\n[nltk_data]    |   Unzipping corpora/shakespeare.zip.\n[nltk_data]    | Downloading package stopwords to /root/nltk_data...\n[nltk_data]    |   Unzipping corpora/stopwords.zip.\n[nltk_data]    | Downloading package treebank to /root/nltk_data...\n[nltk_data]    |   Unzipping corpora/treebank.zip.\n[nltk_data]    | Downloading package twitter_samples to\n[nltk_data]    |     /root/nltk_data...\n[nltk_data]    |   Unzipping corpora/twitter_samples.zip.\n[nltk_data]    | Downloading package omw to /root/nltk_data...\n[nltk_data]    |   Unzipping corpora/omw.zip.\n[nltk_data]    | Downloading package omw-1.4 to /root/nltk_data...\n[nltk_data]    |   Package omw-1.4 is already up-to-date!\n[nltk_data]    | Downloading package wordnet to /root/nltk_data...\n[nltk_data]    |   Package wordnet is already up-to-date!\n[nltk_data]    | Downloading package wordnet2021 to /root/nltk_data...\n[nltk_data]    |   Unzipping corpora/wordnet2021.zip.\n[nltk_data]    | Downloading package wordnet31 to /root/nltk_data...\n[nltk_data]    |   Unzipping corpora/wordnet31.zip.\n[nltk_data]    | Downloading package wordnet_ic to /root/nltk_data...\n[nltk_data]    |   Unzipping corpora/wordnet_ic.zip.\n[nltk_data]    | Downloading package words to /root/nltk_data...\n[nltk_data]    |   Unzipping corpora/words.zip.\n[nltk_data]    | Downloading package maxent_ne_chunker to\n[nltk_data]    |     /root/nltk_data...\n[nltk_data]    |   Unzipping chunkers/maxent_ne_chunker.zip.\n[nltk_data]    | Downloading package punkt to /root/nltk_data...\n[nltk_data]    |   Package punkt is already up-to-date!\n[nltk_data]    | Downloading package snowball_data to\n[nltk_data]    |     /root/nltk_data...\n[nltk_data]    | Downloading package averaged_perceptron_tagger to\n[nltk_data]    |     /root/nltk_data...\n[nltk_data]    |   Package averaged_perceptron_tagger is already up-\n[nltk_data]    |       to-date!\n[nltk_data]    | \n[nltk_data]  Done downloading collection popular\n"
    }
   ]
  },
  {
   "cell_type": "markdown",
   "source": "### VISUALISE DATA_Take data where label=Moderately Genuine",
   "metadata": {
    "formattedRanges": [],
    "is_collapsed": false,
    "tags": [],
    "cell_id": "00004-a4cf4ec7-8c81-4bec-962f-978bed99fab5",
    "deepnote_cell_type": "text-cell-h3"
   }
  },
  {
   "cell_type": "code",
   "metadata": {
    "deepnote_to_be_reexecuted": false,
    "execution_millis": 1543,
    "execution_start": 1654070315255,
    "source_hash": "5e985b46",
    "tags": [],
    "cell_id": "00005-4e9a52b1-19e1-4e9f-adcf-ef400bb1bdfe",
    "deepnote_cell_type": "code",
    "deepnote_cell_height": 687.71875
   },
   "source": "data = pd.read_csv(\"Moderately_Genuine.csv\")\ndata",
   "execution_count": null,
   "outputs": [
    {
     "name": "stderr",
     "output_type": "stream",
     "text": "/shared-libs/python3.7/py-core/lib/python3.7/site-packages/IPython/core/interactiveshell.py:3257: DtypeWarning: Columns (7) have mixed types.Specify dtype option on import or set low_memory=False.\n  interactivity=interactivity, compiler=compiler, result=result)\n"
    },
    {
     "data": {
      "application/vnd.deepnote.dataframe.v3+json": {
       "column_count": 36,
       "columns": [
        {
         "dtype": "object",
         "name": "marketplace",
         "stats": {
          "categories": [
           {
            "count": 59800,
            "name": "US"
           }
          ],
          "nan_count": 0,
          "unique_count": 1
         }
        },
        {
         "dtype": "int64",
         "name": "customer_id"
        },
        {
         "dtype": "object",
         "name": "review_id"
        },
        {
         "dtype": "object",
         "name": "product_id"
        },
        {
         "dtype": "int64",
         "name": "product_parent"
        },
        {
         "dtype": "object",
         "name": "product_title"
        },
        {
         "dtype": "object",
         "name": "product_category"
        },
        {
         "dtype": "object",
         "name": "star_rating"
        },
        {
         "dtype": "float64",
         "name": "helpful_votes"
        },
        {
         "dtype": "float64",
         "name": "total_votes"
        },
        {
         "dtype": "object",
         "name": "vine"
        },
        {
         "dtype": "int64",
         "name": "verified_purchase"
        },
        {
         "dtype": "object",
         "name": "review_headline"
        },
        {
         "dtype": "object",
         "name": "review_body"
        },
        {
         "dtype": "object",
         "name": "review_date"
        },
        {
         "dtype": "float64",
         "name": "timestamp"
        },
        {
         "dtype": "object",
         "name": "IP Address"
        },
        {
         "dtype": "float64",
         "name": "Sentiment"
        },
        {
         "dtype": "float64",
         "name": "Subjectivity"
        },
        {
         "dtype": "int64",
         "name": "Neg_Count"
        },
        {
         "dtype": "int64",
         "name": "Word_Count"
        },
        {
         "dtype": "int64",
         "name": "Unique_words"
        },
        {
         "dtype": "float64",
         "name": "Noun_Count"
        },
        {
         "dtype": "float64",
         "name": "Adj_Count"
        },
        {
         "dtype": "float64",
         "name": "Verb_Count"
        },
        {
         "dtype": "float64",
         "name": "Adv_Count"
        },
        {
         "dtype": "float64",
         "name": "Pro_Count"
        },
        {
         "dtype": "float64",
         "name": "Pre_Count"
        },
        {
         "dtype": "float64",
         "name": "Con_Count"
        },
        {
         "dtype": "float64",
         "name": "Art_Count"
        },
        {
         "dtype": "float64",
         "name": "Nega_Count"
        },
        {
         "dtype": "float64",
         "name": "Aux_Count"
        },
        {
         "dtype": "float64",
         "name": "Authenticity"
        },
        {
         "dtype": "float64",
         "name": "AT"
        },
        {
         "dtype": "float64",
         "name": "Genuinity"
        },
        {
         "dtype": "object",
         "name": "label"
        },
        {
         "dtype": "int64",
         "name": "_deepnote_index_column"
        }
       ],
       "row_count": 59800,
       "rows": [
        {
         "AT": 32,
         "Adj_Count": 3,
         "Adv_Count": 2,
         "Art_Count": 2,
         "Authenticity": 0.9285714285714286,
         "Aux_Count": 1,
         "Con_Count": 0,
         "Genuinity": 0.4999428074765137,
         "IP Address": "193.93.167.87",
         "Neg_Count": 0,
         "Nega_Count": 0,
         "Noun_Count": 7,
         "Pre_Count": 4,
         "Pro_Count": 1,
         "Sentiment": 1,
         "Subjectivity": 1,
         "Unique_words": 25,
         "Verb_Count": 4,
         "Word_Count": 28,
         "_deepnote_index_column": 0,
         "customer_id": 20422322,
         "helpful_votes": 0,
         "label": "Moderately Genuine",
         "marketplace": "US",
         "product_category": "Mobile_Electronics",
         "product_id": "B00MC4CED8",
         "product_parent": 82850235,
         "product_title": "BlackVue DR600GW-PMP",
         "review_body": "as advertised  everything works perfectly  i am very happy with the camera  as a matter of fact i am going to buy another one for my  nd car ",
         "review_date": "2015-08-31",
         "review_headline": "very happy ",
         "review_id": "R8MEA6IGAHO0B",
         "star_rating": "5",
         "timestamp": 1440987567,
         "total_votes": 0,
         "verified_purchase": 1,
         "vine": "N"
        },
        {
         "AT": 28,
         "Adj_Count": 1,
         "Adv_Count": 0,
         "Art_Count": 0,
         "Authenticity": 1.3333333333333333,
         "Aux_Count": 1,
         "Con_Count": 0,
         "Genuinity": 0.4999355421493637,
         "IP Address": "193.93.167.87",
         "Neg_Count": 0,
         "Nega_Count": 0,
         "Noun_Count": 0,
         "Pre_Count": 0,
         "Pro_Count": 1,
         "Sentiment": 0.8,
         "Subjectivity": 0.75,
         "Unique_words": 3,
         "Verb_Count": 1,
         "Word_Count": 3,
         "_deepnote_index_column": 1,
         "customer_id": 40835037,
         "helpful_votes": 0,
         "label": "Moderately Genuine",
         "marketplace": "US",
         "product_category": "Mobile_Electronics",
         "product_id": "B00OQMFG1Q",
         "product_parent": 82850235,
         "product_title": "GENSSI GSM / GPS Two Way Smart Phone Car Alarm System for iPhone Android Security",
         "review_body": "it is great",
         "review_date": "2015-08-31",
         "review_headline": "five star",
         "review_id": "R31LOQ8JGLPRLK",
         "star_rating": "5",
         "timestamp": 1441001998,
         "total_votes": 1,
         "verified_purchase": 1,
         "vine": "N"
        },
        {
         "AT": 30,
         "Adj_Count": 2,
         "Adv_Count": 0,
         "Art_Count": 1,
         "Authenticity": 1.0833333333333333,
         "Aux_Count": 0,
         "Con_Count": 1,
         "Genuinity": 0.4998767818228214,
         "IP Address": "193.93.167.87",
         "Neg_Count": 0,
         "Nega_Count": 0,
         "Noun_Count": 5,
         "Pre_Count": 1,
         "Pro_Count": 1,
         "Sentiment": 0.6000000000000001,
         "Subjectivity": 0.575,
         "Unique_words": 12,
         "Verb_Count": 0,
         "Word_Count": 12,
         "_deepnote_index_column": 2,
         "customer_id": 51469641,
         "helpful_votes": 0,
         "label": "Moderately Genuine",
         "marketplace": "US",
         "product_category": "Mobile_Electronics",
         "product_id": "B00QERR5CY",
         "product_parent": 82850235,
         "product_title": "iXCC Multi pack Lightning cable",
         "review_body": "these work great and fit my life proof case for the iphone  ",
         "review_date": "2015-08-31",
         "review_headline": "great cables",
         "review_id": "R2Y0MM9YE6OP3P",
         "star_rating": "5",
         "timestamp": 1440959483,
         "total_votes": 0,
         "verified_purchase": 1,
         "vine": "N"
        },
        {
         "AT": 28,
         "Adj_Count": 0,
         "Adv_Count": 2,
         "Art_Count": 0,
         "Authenticity": 1,
         "Aux_Count": 0,
         "Con_Count": 0,
         "Genuinity": 0.742184489121376,
         "IP Address": "193.93.167.87",
         "Neg_Count": 0,
         "Nega_Count": 0,
         "Noun_Count": 1,
         "Pre_Count": 0,
         "Pro_Count": 0,
         "Sentiment": 0.2,
         "Subjectivity": 0.3,
         "Unique_words": 3,
         "Verb_Count": 0,
         "Word_Count": 3,
         "_deepnote_index_column": 3,
         "customer_id": 4332923,
         "helpful_votes": 0,
         "label": "Moderately Genuine",
         "marketplace": "US",
         "product_category": "Mobile_Electronics",
         "product_id": "B00QUFTPV4",
         "product_parent": 82850235,
         "product_title": "abcGoodefg® FBI Covert Acoustic Tube Earpiece Headset PTT Mic for Motorola Two Way Radio Device Walkie Talkie GP88 300 2000 CT150 P040 PRO1150 SP10 XTN500 2pin",
         "review_body": "work very well ",
         "review_date": "2015-08-31",
         "review_headline": "work very well",
         "review_id": "RRB9C05HDOD4O",
         "star_rating": "4",
         "timestamp": 1441015251,
         "total_votes": 0,
         "verified_purchase": 1,
         "vine": "N"
        },
        {
         "AT": 24,
         "Adj_Count": 4,
         "Adv_Count": 1,
         "Art_Count": 0,
         "Authenticity": 0.9583333333333334,
         "Aux_Count": 3,
         "Con_Count": 2,
         "Genuinity": 0.6756851108222771,
         "IP Address": "205.10.168.66",
         "Neg_Count": 1,
         "Nega_Count": 0,
         "Noun_Count": 3,
         "Pre_Count": 2,
         "Pro_Count": 2,
         "Sentiment": 0.2875,
         "Subjectivity": 0.4875,
         "Unique_words": 22,
         "Verb_Count": 6,
         "Word_Count": 24,
         "_deepnote_index_column": 4,
         "customer_id": 7846966,
         "helpful_votes": 0,
         "label": "Moderately Genuine",
         "marketplace": "US",
         "product_category": "Mobile_Electronics",
         "product_id": "B00KA6CCVY",
         "product_parent": 563475445,
         "product_title": "Aweek® Air Acoustic Earpiece Headset for Baofeng Two Way Radios UV-5R UV-B6 BF-888S UV-B6 UV-B5 Walkie Talkies 2-Pin Jack",
         "review_body": "it appears to be good  but i am still waiting for my other items radio batteries charger  before i can go to   or   stars",
         "review_date": "2015-08-31",
         "review_headline": "it appears to be good  but i m still waiting for my other items    ",
         "review_id": "RY8DDL22YG4R5",
         "star_rating": "3",
         "timestamp": 1440977588,
         "total_votes": 1,
         "verified_purchase": 1,
         "vine": "N"
        },
        {
         "AT": 32,
         "Adj_Count": 3,
         "Adv_Count": 2,
         "Art_Count": 2,
         "Authenticity": 0.9285714285714286,
         "Aux_Count": 1,
         "Con_Count": 0,
         "Genuinity": 0.4999428074765137,
         "IP Address": "205.10.168.66",
         "Neg_Count": 0,
         "Nega_Count": 0,
         "Noun_Count": 7,
         "Pre_Count": 4,
         "Pro_Count": 1,
         "Sentiment": 1,
         "Subjectivity": 1,
         "Unique_words": 25,
         "Verb_Count": 4,
         "Word_Count": 28,
         "_deepnote_index_column": 5,
         "customer_id": 20422322,
         "helpful_votes": 0,
         "label": "Moderately Genuine",
         "marketplace": "US",
         "product_category": "Mobile_Electronics",
         "product_id": "B00MC4CED8",
         "product_parent": 563475445,
         "product_title": "BlackVue DR600GW-PMP",
         "review_body": "as advertised  everything works perfectly  i am very happy with the camera  as a matter of fact i am going to buy another one for my  nd car ",
         "review_date": "2015-08-31",
         "review_headline": "very happy ",
         "review_id": "R8MEA6IGAHO0B",
         "star_rating": "5",
         "timestamp": 1441012613,
         "total_votes": 0,
         "verified_purchase": 1,
         "vine": "N"
        },
        {
         "AT": 32,
         "Adj_Count": 3,
         "Adv_Count": 2,
         "Art_Count": 2,
         "Authenticity": 0.9285714285714286,
         "Aux_Count": 1,
         "Con_Count": 0,
         "Genuinity": 0.4999428074765137,
         "IP Address": "206.33.134.174",
         "Neg_Count": 0,
         "Nega_Count": 0,
         "Noun_Count": 7,
         "Pre_Count": 4,
         "Pro_Count": 1,
         "Sentiment": 1,
         "Subjectivity": 1,
         "Unique_words": 25,
         "Verb_Count": 4,
         "Word_Count": 28,
         "_deepnote_index_column": 6,
         "customer_id": 20422322,
         "helpful_votes": 0,
         "label": "Moderately Genuine",
         "marketplace": "US",
         "product_category": "Mobile_Electronics",
         "product_id": "B00MC4CED8",
         "product_parent": 217304173,
         "product_title": "BlackVue DR600GW-PMP",
         "review_body": "as advertised  everything works perfectly  i am very happy with the camera  as a matter of fact i am going to buy another one for my  nd car ",
         "review_date": "2015-08-31",
         "review_headline": "very happy ",
         "review_id": "R8MEA6IGAHO0B",
         "star_rating": "5",
         "timestamp": 1440987567,
         "total_votes": 0,
         "verified_purchase": 1,
         "vine": "N"
        },
        {
         "AT": 28,
         "Adj_Count": 1,
         "Adv_Count": 0,
         "Art_Count": 0,
         "Authenticity": 1.3333333333333333,
         "Aux_Count": 1,
         "Con_Count": 0,
         "Genuinity": 0.4999355421493637,
         "IP Address": "219.3.75.180",
         "Neg_Count": 0,
         "Nega_Count": 0,
         "Noun_Count": 0,
         "Pre_Count": 0,
         "Pro_Count": 1,
         "Sentiment": 0.8,
         "Subjectivity": 0.75,
         "Unique_words": 3,
         "Verb_Count": 1,
         "Word_Count": 3,
         "_deepnote_index_column": 7,
         "customer_id": 40835037,
         "helpful_votes": 0,
         "label": "Moderately Genuine",
         "marketplace": "US",
         "product_category": "Mobile_Electronics",
         "product_id": "B00OQMFG1Q",
         "product_parent": 137313254,
         "product_title": "GENSSI GSM / GPS Two Way Smart Phone Car Alarm System for iPhone Android Security",
         "review_body": "it is great",
         "review_date": "2015-08-31",
         "review_headline": "five star",
         "review_id": "R31LOQ8JGLPRLK",
         "star_rating": "5",
         "timestamp": 1441001998,
         "total_votes": 1,
         "verified_purchase": 1,
         "vine": "N"
        },
        {
         "AT": 30,
         "Adj_Count": 2,
         "Adv_Count": 0,
         "Art_Count": 1,
         "Authenticity": 1.0833333333333333,
         "Aux_Count": 0,
         "Con_Count": 1,
         "Genuinity": 0.4998767818228214,
         "IP Address": "194.12.14.67",
         "Neg_Count": 0,
         "Nega_Count": 0,
         "Noun_Count": 5,
         "Pre_Count": 1,
         "Pro_Count": 1,
         "Sentiment": 0.6000000000000001,
         "Subjectivity": 0.575,
         "Unique_words": 12,
         "Verb_Count": 0,
         "Word_Count": 12,
         "_deepnote_index_column": 8,
         "customer_id": 51469641,
         "helpful_votes": 0,
         "label": "Moderately Genuine",
         "marketplace": "US",
         "product_category": "Mobile_Electronics",
         "product_id": "B00QERR5CY",
         "product_parent": 82850235,
         "product_title": "iXCC Multi pack Lightning cable",
         "review_body": "these work great and fit my life proof case for the iphone  ",
         "review_date": "2015-08-31",
         "review_headline": "great cables",
         "review_id": "R2Y0MM9YE6OP3P",
         "star_rating": "5",
         "timestamp": 1440959483,
         "total_votes": 0,
         "verified_purchase": 1,
         "vine": "N"
        },
        {
         "AT": 26,
         "Adj_Count": 0,
         "Adv_Count": 3,
         "Art_Count": 1,
         "Authenticity": 1,
         "Aux_Count": 2,
         "Con_Count": 1,
         "Genuinity": 0.742184489121376,
         "IP Address": "213.136.76.172",
         "Neg_Count": 0,
         "Nega_Count": 1,
         "Noun_Count": 3,
         "Pre_Count": 3,
         "Pro_Count": 1,
         "Sentiment": 0.2,
         "Subjectivity": 0.3,
         "Unique_words": 20,
         "Verb_Count": 6,
         "Word_Count": 21,
         "_deepnote_index_column": 9,
         "customer_id": 4332923,
         "helpful_votes": 0,
         "label": "Moderately Genuine",
         "marketplace": "US",
         "product_category": "Mobile_Electronics",
         "product_id": "B00QUFTPV4",
         "product_parent": 221169481,
         "product_title": "abcGoodefg® FBI Covert Acoustic Tube Earpiece Headset PTT Mic for Motorola Two Way Radio Device Walkie Talkie GP88 300 2000 CT150 P040 PRO1150 SP10 XTN500 2pin",
         "review_body": "work very well but could not get used to not hearing anything out of the ear they v were plugged into ",
         "review_date": "2015-08-31",
         "review_headline": "work very well but couldn t get used to not hearing    ",
         "review_id": "RRB9C05HDOD4O",
         "star_rating": "4",
         "timestamp": 1441015251,
         "total_votes": 0,
         "verified_purchase": 1,
         "vine": "N"
        }
       ]
      },
      "text/html": "<div>\n<style scoped>\n    .dataframe tbody tr th:only-of-type {\n        vertical-align: middle;\n    }\n\n    .dataframe tbody tr th {\n        vertical-align: top;\n    }\n\n    .dataframe thead th {\n        text-align: right;\n    }\n</style>\n<table border=\"1\" class=\"dataframe\">\n  <thead>\n    <tr style=\"text-align: right;\">\n      <th></th>\n      <th>marketplace</th>\n      <th>customer_id</th>\n      <th>review_id</th>\n      <th>product_id</th>\n      <th>product_parent</th>\n      <th>product_title</th>\n      <th>product_category</th>\n      <th>star_rating</th>\n      <th>helpful_votes</th>\n      <th>total_votes</th>\n      <th>...</th>\n      <th>Pro_Count</th>\n      <th>Pre_Count</th>\n      <th>Con_Count</th>\n      <th>Art_Count</th>\n      <th>Nega_Count</th>\n      <th>Aux_Count</th>\n      <th>Authenticity</th>\n      <th>AT</th>\n      <th>Genuinity</th>\n      <th>label</th>\n    </tr>\n  </thead>\n  <tbody>\n    <tr>\n      <th>0</th>\n      <td>US</td>\n      <td>20422322</td>\n      <td>R8MEA6IGAHO0B</td>\n      <td>B00MC4CED8</td>\n      <td>82850235</td>\n      <td>BlackVue DR600GW-PMP</td>\n      <td>Mobile_Electronics</td>\n      <td>5</td>\n      <td>0.0</td>\n      <td>0.0</td>\n      <td>...</td>\n      <td>1.0</td>\n      <td>4.0</td>\n      <td>0.0</td>\n      <td>2.0</td>\n      <td>0.0</td>\n      <td>1.0</td>\n      <td>0.928571</td>\n      <td>32.0</td>\n      <td>0.499943</td>\n      <td>Moderately Genuine</td>\n    </tr>\n    <tr>\n      <th>1</th>\n      <td>US</td>\n      <td>40835037</td>\n      <td>R31LOQ8JGLPRLK</td>\n      <td>B00OQMFG1Q</td>\n      <td>82850235</td>\n      <td>GENSSI GSM / GPS Two Way Smart Phone Car Alarm...</td>\n      <td>Mobile_Electronics</td>\n      <td>5</td>\n      <td>0.0</td>\n      <td>1.0</td>\n      <td>...</td>\n      <td>1.0</td>\n      <td>0.0</td>\n      <td>0.0</td>\n      <td>0.0</td>\n      <td>0.0</td>\n      <td>1.0</td>\n      <td>1.333333</td>\n      <td>28.0</td>\n      <td>0.499936</td>\n      <td>Moderately Genuine</td>\n    </tr>\n    <tr>\n      <th>2</th>\n      <td>US</td>\n      <td>51469641</td>\n      <td>R2Y0MM9YE6OP3P</td>\n      <td>B00QERR5CY</td>\n      <td>82850235</td>\n      <td>iXCC Multi pack Lightning cable</td>\n      <td>Mobile_Electronics</td>\n      <td>5</td>\n      <td>0.0</td>\n      <td>0.0</td>\n      <td>...</td>\n      <td>1.0</td>\n      <td>1.0</td>\n      <td>1.0</td>\n      <td>1.0</td>\n      <td>0.0</td>\n      <td>0.0</td>\n      <td>1.083333</td>\n      <td>30.0</td>\n      <td>0.499877</td>\n      <td>Moderately Genuine</td>\n    </tr>\n    <tr>\n      <th>3</th>\n      <td>US</td>\n      <td>4332923</td>\n      <td>RRB9C05HDOD4O</td>\n      <td>B00QUFTPV4</td>\n      <td>82850235</td>\n      <td>abcGoodefg® FBI Covert Acoustic Tube Earpiece ...</td>\n      <td>Mobile_Electronics</td>\n      <td>4</td>\n      <td>0.0</td>\n      <td>0.0</td>\n      <td>...</td>\n      <td>0.0</td>\n      <td>0.0</td>\n      <td>0.0</td>\n      <td>0.0</td>\n      <td>0.0</td>\n      <td>0.0</td>\n      <td>1.000000</td>\n      <td>28.0</td>\n      <td>0.742184</td>\n      <td>Moderately Genuine</td>\n    </tr>\n    <tr>\n      <th>4</th>\n      <td>US</td>\n      <td>7846966</td>\n      <td>RY8DDL22YG4R5</td>\n      <td>B00KA6CCVY</td>\n      <td>563475445</td>\n      <td>Aweek® Air Acoustic Earpiece Headset for Baofe...</td>\n      <td>Mobile_Electronics</td>\n      <td>3</td>\n      <td>0.0</td>\n      <td>1.0</td>\n      <td>...</td>\n      <td>2.0</td>\n      <td>2.0</td>\n      <td>2.0</td>\n      <td>0.0</td>\n      <td>0.0</td>\n      <td>3.0</td>\n      <td>0.958333</td>\n      <td>24.0</td>\n      <td>0.675685</td>\n      <td>Moderately Genuine</td>\n    </tr>\n    <tr>\n      <th>...</th>\n      <td>...</td>\n      <td>...</td>\n      <td>...</td>\n      <td>...</td>\n      <td>...</td>\n      <td>...</td>\n      <td>...</td>\n      <td>...</td>\n      <td>...</td>\n      <td>...</td>\n      <td>...</td>\n      <td>...</td>\n      <td>...</td>\n      <td>...</td>\n      <td>...</td>\n      <td>...</td>\n      <td>...</td>\n      <td>...</td>\n      <td>...</td>\n      <td>...</td>\n      <td>...</td>\n    </tr>\n    <tr>\n      <th>59795</th>\n      <td>US</td>\n      <td>38978459</td>\n      <td>R2CDRVDUKB5Z9P</td>\n      <td>B00005OTZQ</td>\n      <td>554527960</td>\n      <td>Royal SE 2800 Hand-Held Spot Cleaner</td>\n      <td>Mobile_Electronics</td>\n      <td>5</td>\n      <td>23.0</td>\n      <td>27.0</td>\n      <td>...</td>\n      <td>0.0</td>\n      <td>0.0</td>\n      <td>0.0</td>\n      <td>0.0</td>\n      <td>0.0</td>\n      <td>0.0</td>\n      <td>0.521401</td>\n      <td>30.0</td>\n      <td>0.499941</td>\n      <td>Moderately Genuine</td>\n    </tr>\n    <tr>\n      <th>59796</th>\n      <td>US</td>\n      <td>51697602</td>\n      <td>R1DVLTZFXXOX9</td>\n      <td>B00005OTZQ</td>\n      <td>554527960</td>\n      <td>Royal SE 2800 Hand-Held Spot Cleaner</td>\n      <td>Mobile_Electronics</td>\n      <td>5</td>\n      <td>10.0</td>\n      <td>11.0</td>\n      <td>...</td>\n      <td>0.0</td>\n      <td>0.0</td>\n      <td>0.0</td>\n      <td>0.0</td>\n      <td>0.0</td>\n      <td>0.0</td>\n      <td>0.732558</td>\n      <td>30.0</td>\n      <td>0.499705</td>\n      <td>Moderately Genuine</td>\n    </tr>\n    <tr>\n      <th>59797</th>\n      <td>US</td>\n      <td>50891675</td>\n      <td>R1GHKKZMHAHQC1</td>\n      <td>B00005OTZQ</td>\n      <td>554527960</td>\n      <td>Royal SE 2800 Hand-Held Spot Cleaner</td>\n      <td>Mobile_Electronics</td>\n      <td>5</td>\n      <td>13.0</td>\n      <td>13.0</td>\n      <td>...</td>\n      <td>0.0</td>\n      <td>0.0</td>\n      <td>0.0</td>\n      <td>0.0</td>\n      <td>0.0</td>\n      <td>0.0</td>\n      <td>0.676190</td>\n      <td>30.0</td>\n      <td>0.499595</td>\n      <td>Moderately Genuine</td>\n    </tr>\n    <tr>\n      <th>59798</th>\n      <td>US</td>\n      <td>38528439</td>\n      <td>R227G6T5B26DVC</td>\n      <td>B00005OTZQ</td>\n      <td>554527960</td>\n      <td>Royal SE 2800 Hand-Held Spot Cleaner</td>\n      <td>Mobile_Electronics</td>\n      <td>5</td>\n      <td>58.0</td>\n      <td>61.0</td>\n      <td>...</td>\n      <td>0.0</td>\n      <td>0.0</td>\n      <td>0.0</td>\n      <td>0.0</td>\n      <td>0.0</td>\n      <td>0.0</td>\n      <td>0.479109</td>\n      <td>30.0</td>\n      <td>0.499938</td>\n      <td>Moderately Genuine</td>\n    </tr>\n    <tr>\n      <th>59799</th>\n      <td>US</td>\n      <td>47099634</td>\n      <td>R44WS2RSQQ0HR</td>\n      <td>B00005OTZQ</td>\n      <td>554527960</td>\n      <td>Royal SE 2800 Hand-Held Spot Cleaner</td>\n      <td>Mobile_Electronics</td>\n      <td>4</td>\n      <td>37.0</td>\n      <td>38.0</td>\n      <td>...</td>\n      <td>0.0</td>\n      <td>0.0</td>\n      <td>0.0</td>\n      <td>0.0</td>\n      <td>0.0</td>\n      <td>0.0</td>\n      <td>0.503356</td>\n      <td>30.0</td>\n      <td>0.499939</td>\n      <td>Moderately Genuine</td>\n    </tr>\n  </tbody>\n</table>\n<p>59800 rows × 36 columns</p>\n</div>",
      "text/plain": "      marketplace  customer_id       review_id  product_id  product_parent  \\\n0              US     20422322   R8MEA6IGAHO0B  B00MC4CED8        82850235   \n1              US     40835037  R31LOQ8JGLPRLK  B00OQMFG1Q        82850235   \n2              US     51469641  R2Y0MM9YE6OP3P  B00QERR5CY        82850235   \n3              US      4332923   RRB9C05HDOD4O  B00QUFTPV4        82850235   \n4              US      7846966   RY8DDL22YG4R5  B00KA6CCVY       563475445   \n...           ...          ...             ...         ...             ...   \n59795          US     38978459  R2CDRVDUKB5Z9P  B00005OTZQ       554527960   \n59796          US     51697602   R1DVLTZFXXOX9  B00005OTZQ       554527960   \n59797          US     50891675  R1GHKKZMHAHQC1  B00005OTZQ       554527960   \n59798          US     38528439  R227G6T5B26DVC  B00005OTZQ       554527960   \n59799          US     47099634   R44WS2RSQQ0HR  B00005OTZQ       554527960   \n\n                                           product_title    product_category  \\\n0                                   BlackVue DR600GW-PMP  Mobile_Electronics   \n1      GENSSI GSM / GPS Two Way Smart Phone Car Alarm...  Mobile_Electronics   \n2                        iXCC Multi pack Lightning cable  Mobile_Electronics   \n3      abcGoodefg® FBI Covert Acoustic Tube Earpiece ...  Mobile_Electronics   \n4      Aweek® Air Acoustic Earpiece Headset for Baofe...  Mobile_Electronics   \n...                                                  ...                 ...   \n59795               Royal SE 2800 Hand-Held Spot Cleaner  Mobile_Electronics   \n59796               Royal SE 2800 Hand-Held Spot Cleaner  Mobile_Electronics   \n59797               Royal SE 2800 Hand-Held Spot Cleaner  Mobile_Electronics   \n59798               Royal SE 2800 Hand-Held Spot Cleaner  Mobile_Electronics   \n59799               Royal SE 2800 Hand-Held Spot Cleaner  Mobile_Electronics   \n\n      star_rating  helpful_votes  total_votes  ... Pro_Count  Pre_Count  \\\n0               5            0.0          0.0  ...       1.0        4.0   \n1               5            0.0          1.0  ...       1.0        0.0   \n2               5            0.0          0.0  ...       1.0        1.0   \n3               4            0.0          0.0  ...       0.0        0.0   \n4               3            0.0          1.0  ...       2.0        2.0   \n...           ...            ...          ...  ...       ...        ...   \n59795           5           23.0         27.0  ...       0.0        0.0   \n59796           5           10.0         11.0  ...       0.0        0.0   \n59797           5           13.0         13.0  ...       0.0        0.0   \n59798           5           58.0         61.0  ...       0.0        0.0   \n59799           4           37.0         38.0  ...       0.0        0.0   \n\n      Con_Count Art_Count Nega_Count  Aux_Count Authenticity    AT  Genuinity  \\\n0           0.0       2.0        0.0        1.0     0.928571  32.0   0.499943   \n1           0.0       0.0        0.0        1.0     1.333333  28.0   0.499936   \n2           1.0       1.0        0.0        0.0     1.083333  30.0   0.499877   \n3           0.0       0.0        0.0        0.0     1.000000  28.0   0.742184   \n4           2.0       0.0        0.0        3.0     0.958333  24.0   0.675685   \n...         ...       ...        ...        ...          ...   ...        ...   \n59795       0.0       0.0        0.0        0.0     0.521401  30.0   0.499941   \n59796       0.0       0.0        0.0        0.0     0.732558  30.0   0.499705   \n59797       0.0       0.0        0.0        0.0     0.676190  30.0   0.499595   \n59798       0.0       0.0        0.0        0.0     0.479109  30.0   0.499938   \n59799       0.0       0.0        0.0        0.0     0.503356  30.0   0.499939   \n\n                    label  \n0      Moderately Genuine  \n1      Moderately Genuine  \n2      Moderately Genuine  \n3      Moderately Genuine  \n4      Moderately Genuine  \n...                   ...  \n59795  Moderately Genuine  \n59796  Moderately Genuine  \n59797  Moderately Genuine  \n59798  Moderately Genuine  \n59799  Moderately Genuine  \n\n[59800 rows x 36 columns]"
     },
     "execution_count": 7,
     "metadata": {},
     "output_type": "execute_result"
    }
   ]
  },
  {
   "cell_type": "code",
   "metadata": {
    "deepnote_to_be_reexecuted": false,
    "execution_millis": 0,
    "execution_start": 1652894618454,
    "source_hash": "86f5fd8c",
    "tags": [],
    "cell_id": "00006-5593323a-5458-4137-acbb-d79d2c8e3b85",
    "deepnote_cell_type": "code",
    "deepnote_cell_height": 674.953125
   },
   "source": "# Latent symantic analysis\n# it will analyse all reviews and determine all reviews belong to the same concept\ndef LSA(text):\n    #text is list of reviews of same product\n    \n    \n    # Created TF-IDF Model\n    vectorizer = TfidfVectorizer()\n    X = vectorizer.fit_transform(text)\n    \n    # Created SVD(Singular Value Decomposition)\n    lsa = TruncatedSVD(n_components = 1,n_iter = 100)\n    lsa.fit(X)\n    \n    terms = vectorizer.get_feature_names()\n    concept_words={}\n\n    for j,comp in enumerate(lsa.components_):\n        componentTerms = zip(terms,comp)\n        sortedTerms = sorted(componentTerms,key=lambda x:x[1],reverse=True)\n        sortedTerms = sortedTerms[:10]\n        concept_words[str(j)] = sortedTerms\n     \n    sentence_scores = []\n    for key in concept_words.keys():\n        for sentence in text:\n            words = nltk.word_tokenize(sentence)\n            scores = 0\n            for word in words:\n                for word_with_scores in concept_words[key]:\n                    if word == word_with_scores[0]:\n                        scores += word_with_scores[1]\n            sentence_scores.append(scores)\n    return sentence_scores",
   "execution_count": null,
   "outputs": []
  },
  {
   "cell_type": "code",
   "metadata": {
    "deepnote_to_be_reexecuted": false,
    "execution_millis": 302,
    "execution_start": 1652894618464,
    "source_hash": "ef9fac04",
    "tags": [],
    "cell_id": "00007-70ff312f-25bf-4ee3-b5b4-b2d4c72eefa6",
    "deepnote_cell_type": "code",
    "deepnote_cell_height": 617.875
   },
   "source": "data\n",
   "execution_count": null,
   "outputs": [
    {
     "data": {
      "application/vnd.deepnote.dataframe.v3+json": {
       "column_count": 36,
       "columns": [
        {
         "dtype": "object",
         "name": "marketplace",
         "stats": {
          "categories": [
           {
            "count": 59800,
            "name": "US"
           }
          ],
          "nan_count": 0,
          "unique_count": 1
         }
        },
        {
         "dtype": "int64",
         "name": "customer_id"
        },
        {
         "dtype": "object",
         "name": "review_id"
        },
        {
         "dtype": "object",
         "name": "product_id"
        },
        {
         "dtype": "int64",
         "name": "product_parent"
        },
        {
         "dtype": "object",
         "name": "product_title"
        },
        {
         "dtype": "object",
         "name": "product_category"
        },
        {
         "dtype": "object",
         "name": "star_rating"
        },
        {
         "dtype": "float64",
         "name": "helpful_votes"
        },
        {
         "dtype": "float64",
         "name": "total_votes"
        },
        {
         "dtype": "object",
         "name": "vine"
        },
        {
         "dtype": "int64",
         "name": "verified_purchase"
        },
        {
         "dtype": "object",
         "name": "review_headline"
        },
        {
         "dtype": "object",
         "name": "review_body"
        },
        {
         "dtype": "object",
         "name": "review_date"
        },
        {
         "dtype": "float64",
         "name": "timestamp"
        },
        {
         "dtype": "object",
         "name": "IP Address"
        },
        {
         "dtype": "float64",
         "name": "Sentiment"
        },
        {
         "dtype": "float64",
         "name": "Subjectivity"
        },
        {
         "dtype": "int64",
         "name": "Neg_Count"
        },
        {
         "dtype": "int64",
         "name": "Word_Count"
        },
        {
         "dtype": "int64",
         "name": "Unique_words"
        },
        {
         "dtype": "float64",
         "name": "Noun_Count"
        },
        {
         "dtype": "float64",
         "name": "Adj_Count"
        },
        {
         "dtype": "float64",
         "name": "Verb_Count"
        },
        {
         "dtype": "float64",
         "name": "Adv_Count"
        },
        {
         "dtype": "float64",
         "name": "Pro_Count"
        },
        {
         "dtype": "float64",
         "name": "Pre_Count"
        },
        {
         "dtype": "float64",
         "name": "Con_Count"
        },
        {
         "dtype": "float64",
         "name": "Art_Count"
        },
        {
         "dtype": "float64",
         "name": "Nega_Count"
        },
        {
         "dtype": "float64",
         "name": "Aux_Count"
        },
        {
         "dtype": "float64",
         "name": "Authenticity"
        },
        {
         "dtype": "float64",
         "name": "AT"
        },
        {
         "dtype": "float64",
         "name": "Genuinity"
        },
        {
         "dtype": "object",
         "name": "label"
        },
        {
         "dtype": "int64",
         "name": "_deepnote_index_column"
        }
       ],
       "row_count": 59800,
       "rows": [
        {
         "AT": 32,
         "Adj_Count": 3,
         "Adv_Count": 2,
         "Art_Count": 2,
         "Authenticity": 0.9285714285714286,
         "Aux_Count": 1,
         "Con_Count": 0,
         "Genuinity": 0.4999428074765137,
         "IP Address": "193.93.167.87",
         "Neg_Count": 0,
         "Nega_Count": 0,
         "Noun_Count": 7,
         "Pre_Count": 4,
         "Pro_Count": 1,
         "Sentiment": 1,
         "Subjectivity": 1,
         "Unique_words": 25,
         "Verb_Count": 4,
         "Word_Count": 28,
         "_deepnote_index_column": 0,
         "customer_id": 20422322,
         "helpful_votes": 0,
         "label": "Moderately Genuine",
         "marketplace": "US",
         "product_category": "Mobile_Electronics",
         "product_id": "B00MC4CED8",
         "product_parent": 82850235,
         "product_title": "BlackVue DR600GW-PMP",
         "review_body": "as advertised  everything works perfectly  i am very happy with the camera  as a matter of fact i am going to buy another one for my  nd car ",
         "review_date": "2015-08-31",
         "review_headline": "very happy ",
         "review_id": "R8MEA6IGAHO0B",
         "star_rating": "5",
         "timestamp": 1440987567,
         "total_votes": 0,
         "verified_purchase": 1,
         "vine": "N"
        },
        {
         "AT": 28,
         "Adj_Count": 1,
         "Adv_Count": 0,
         "Art_Count": 0,
         "Authenticity": 1.3333333333333333,
         "Aux_Count": 1,
         "Con_Count": 0,
         "Genuinity": 0.4999355421493637,
         "IP Address": "193.93.167.87",
         "Neg_Count": 0,
         "Nega_Count": 0,
         "Noun_Count": 0,
         "Pre_Count": 0,
         "Pro_Count": 1,
         "Sentiment": 0.8,
         "Subjectivity": 0.75,
         "Unique_words": 3,
         "Verb_Count": 1,
         "Word_Count": 3,
         "_deepnote_index_column": 1,
         "customer_id": 40835037,
         "helpful_votes": 0,
         "label": "Moderately Genuine",
         "marketplace": "US",
         "product_category": "Mobile_Electronics",
         "product_id": "B00OQMFG1Q",
         "product_parent": 82850235,
         "product_title": "GENSSI GSM / GPS Two Way Smart Phone Car Alarm System for iPhone Android Security",
         "review_body": "it is great",
         "review_date": "2015-08-31",
         "review_headline": "five star",
         "review_id": "R31LOQ8JGLPRLK",
         "star_rating": "5",
         "timestamp": 1441001998,
         "total_votes": 1,
         "verified_purchase": 1,
         "vine": "N"
        },
        {
         "AT": 30,
         "Adj_Count": 2,
         "Adv_Count": 0,
         "Art_Count": 1,
         "Authenticity": 1.0833333333333333,
         "Aux_Count": 0,
         "Con_Count": 1,
         "Genuinity": 0.4998767818228214,
         "IP Address": "193.93.167.87",
         "Neg_Count": 0,
         "Nega_Count": 0,
         "Noun_Count": 5,
         "Pre_Count": 1,
         "Pro_Count": 1,
         "Sentiment": 0.6000000000000001,
         "Subjectivity": 0.575,
         "Unique_words": 12,
         "Verb_Count": 0,
         "Word_Count": 12,
         "_deepnote_index_column": 2,
         "customer_id": 51469641,
         "helpful_votes": 0,
         "label": "Moderately Genuine",
         "marketplace": "US",
         "product_category": "Mobile_Electronics",
         "product_id": "B00QERR5CY",
         "product_parent": 82850235,
         "product_title": "iXCC Multi pack Lightning cable",
         "review_body": "these work great and fit my life proof case for the iphone  ",
         "review_date": "2015-08-31",
         "review_headline": "great cables",
         "review_id": "R2Y0MM9YE6OP3P",
         "star_rating": "5",
         "timestamp": 1440959483,
         "total_votes": 0,
         "verified_purchase": 1,
         "vine": "N"
        },
        {
         "AT": 28,
         "Adj_Count": 0,
         "Adv_Count": 2,
         "Art_Count": 0,
         "Authenticity": 1,
         "Aux_Count": 0,
         "Con_Count": 0,
         "Genuinity": 0.742184489121376,
         "IP Address": "193.93.167.87",
         "Neg_Count": 0,
         "Nega_Count": 0,
         "Noun_Count": 1,
         "Pre_Count": 0,
         "Pro_Count": 0,
         "Sentiment": 0.2,
         "Subjectivity": 0.3,
         "Unique_words": 3,
         "Verb_Count": 0,
         "Word_Count": 3,
         "_deepnote_index_column": 3,
         "customer_id": 4332923,
         "helpful_votes": 0,
         "label": "Moderately Genuine",
         "marketplace": "US",
         "product_category": "Mobile_Electronics",
         "product_id": "B00QUFTPV4",
         "product_parent": 82850235,
         "product_title": "abcGoodefg® FBI Covert Acoustic Tube Earpiece Headset PTT Mic for Motorola Two Way Radio Device Walkie Talkie GP88 300 2000 CT150 P040 PRO1150 SP10 XTN500 2pin",
         "review_body": "work very well ",
         "review_date": "2015-08-31",
         "review_headline": "work very well",
         "review_id": "RRB9C05HDOD4O",
         "star_rating": "4",
         "timestamp": 1441015251,
         "total_votes": 0,
         "verified_purchase": 1,
         "vine": "N"
        },
        {
         "AT": 24,
         "Adj_Count": 4,
         "Adv_Count": 1,
         "Art_Count": 0,
         "Authenticity": 0.9583333333333334,
         "Aux_Count": 3,
         "Con_Count": 2,
         "Genuinity": 0.6756851108222771,
         "IP Address": "205.10.168.66",
         "Neg_Count": 1,
         "Nega_Count": 0,
         "Noun_Count": 3,
         "Pre_Count": 2,
         "Pro_Count": 2,
         "Sentiment": 0.2875,
         "Subjectivity": 0.4875,
         "Unique_words": 22,
         "Verb_Count": 6,
         "Word_Count": 24,
         "_deepnote_index_column": 4,
         "customer_id": 7846966,
         "helpful_votes": 0,
         "label": "Moderately Genuine",
         "marketplace": "US",
         "product_category": "Mobile_Electronics",
         "product_id": "B00KA6CCVY",
         "product_parent": 563475445,
         "product_title": "Aweek® Air Acoustic Earpiece Headset for Baofeng Two Way Radios UV-5R UV-B6 BF-888S UV-B6 UV-B5 Walkie Talkies 2-Pin Jack",
         "review_body": "it appears to be good  but i am still waiting for my other items radio batteries charger  before i can go to   or   stars",
         "review_date": "2015-08-31",
         "review_headline": "it appears to be good  but i m still waiting for my other items    ",
         "review_id": "RY8DDL22YG4R5",
         "star_rating": "3",
         "timestamp": 1440977588,
         "total_votes": 1,
         "verified_purchase": 1,
         "vine": "N"
        },
        {
         "AT": 32,
         "Adj_Count": 3,
         "Adv_Count": 2,
         "Art_Count": 2,
         "Authenticity": 0.9285714285714286,
         "Aux_Count": 1,
         "Con_Count": 0,
         "Genuinity": 0.4999428074765137,
         "IP Address": "205.10.168.66",
         "Neg_Count": 0,
         "Nega_Count": 0,
         "Noun_Count": 7,
         "Pre_Count": 4,
         "Pro_Count": 1,
         "Sentiment": 1,
         "Subjectivity": 1,
         "Unique_words": 25,
         "Verb_Count": 4,
         "Word_Count": 28,
         "_deepnote_index_column": 5,
         "customer_id": 20422322,
         "helpful_votes": 0,
         "label": "Moderately Genuine",
         "marketplace": "US",
         "product_category": "Mobile_Electronics",
         "product_id": "B00MC4CED8",
         "product_parent": 563475445,
         "product_title": "BlackVue DR600GW-PMP",
         "review_body": "as advertised  everything works perfectly  i am very happy with the camera  as a matter of fact i am going to buy another one for my  nd car ",
         "review_date": "2015-08-31",
         "review_headline": "very happy ",
         "review_id": "R8MEA6IGAHO0B",
         "star_rating": "5",
         "timestamp": 1441012613,
         "total_votes": 0,
         "verified_purchase": 1,
         "vine": "N"
        },
        {
         "AT": 32,
         "Adj_Count": 3,
         "Adv_Count": 2,
         "Art_Count": 2,
         "Authenticity": 0.9285714285714286,
         "Aux_Count": 1,
         "Con_Count": 0,
         "Genuinity": 0.4999428074765137,
         "IP Address": "206.33.134.174",
         "Neg_Count": 0,
         "Nega_Count": 0,
         "Noun_Count": 7,
         "Pre_Count": 4,
         "Pro_Count": 1,
         "Sentiment": 1,
         "Subjectivity": 1,
         "Unique_words": 25,
         "Verb_Count": 4,
         "Word_Count": 28,
         "_deepnote_index_column": 6,
         "customer_id": 20422322,
         "helpful_votes": 0,
         "label": "Moderately Genuine",
         "marketplace": "US",
         "product_category": "Mobile_Electronics",
         "product_id": "B00MC4CED8",
         "product_parent": 217304173,
         "product_title": "BlackVue DR600GW-PMP",
         "review_body": "as advertised  everything works perfectly  i am very happy with the camera  as a matter of fact i am going to buy another one for my  nd car ",
         "review_date": "2015-08-31",
         "review_headline": "very happy ",
         "review_id": "R8MEA6IGAHO0B",
         "star_rating": "5",
         "timestamp": 1440987567,
         "total_votes": 0,
         "verified_purchase": 1,
         "vine": "N"
        },
        {
         "AT": 28,
         "Adj_Count": 1,
         "Adv_Count": 0,
         "Art_Count": 0,
         "Authenticity": 1.3333333333333333,
         "Aux_Count": 1,
         "Con_Count": 0,
         "Genuinity": 0.4999355421493637,
         "IP Address": "219.3.75.180",
         "Neg_Count": 0,
         "Nega_Count": 0,
         "Noun_Count": 0,
         "Pre_Count": 0,
         "Pro_Count": 1,
         "Sentiment": 0.8,
         "Subjectivity": 0.75,
         "Unique_words": 3,
         "Verb_Count": 1,
         "Word_Count": 3,
         "_deepnote_index_column": 7,
         "customer_id": 40835037,
         "helpful_votes": 0,
         "label": "Moderately Genuine",
         "marketplace": "US",
         "product_category": "Mobile_Electronics",
         "product_id": "B00OQMFG1Q",
         "product_parent": 137313254,
         "product_title": "GENSSI GSM / GPS Two Way Smart Phone Car Alarm System for iPhone Android Security",
         "review_body": "it is great",
         "review_date": "2015-08-31",
         "review_headline": "five star",
         "review_id": "R31LOQ8JGLPRLK",
         "star_rating": "5",
         "timestamp": 1441001998,
         "total_votes": 1,
         "verified_purchase": 1,
         "vine": "N"
        },
        {
         "AT": 30,
         "Adj_Count": 2,
         "Adv_Count": 0,
         "Art_Count": 1,
         "Authenticity": 1.0833333333333333,
         "Aux_Count": 0,
         "Con_Count": 1,
         "Genuinity": 0.4998767818228214,
         "IP Address": "194.12.14.67",
         "Neg_Count": 0,
         "Nega_Count": 0,
         "Noun_Count": 5,
         "Pre_Count": 1,
         "Pro_Count": 1,
         "Sentiment": 0.6000000000000001,
         "Subjectivity": 0.575,
         "Unique_words": 12,
         "Verb_Count": 0,
         "Word_Count": 12,
         "_deepnote_index_column": 8,
         "customer_id": 51469641,
         "helpful_votes": 0,
         "label": "Moderately Genuine",
         "marketplace": "US",
         "product_category": "Mobile_Electronics",
         "product_id": "B00QERR5CY",
         "product_parent": 82850235,
         "product_title": "iXCC Multi pack Lightning cable",
         "review_body": "these work great and fit my life proof case for the iphone  ",
         "review_date": "2015-08-31",
         "review_headline": "great cables",
         "review_id": "R2Y0MM9YE6OP3P",
         "star_rating": "5",
         "timestamp": 1440959483,
         "total_votes": 0,
         "verified_purchase": 1,
         "vine": "N"
        },
        {
         "AT": 26,
         "Adj_Count": 0,
         "Adv_Count": 3,
         "Art_Count": 1,
         "Authenticity": 1,
         "Aux_Count": 2,
         "Con_Count": 1,
         "Genuinity": 0.742184489121376,
         "IP Address": "213.136.76.172",
         "Neg_Count": 0,
         "Nega_Count": 1,
         "Noun_Count": 3,
         "Pre_Count": 3,
         "Pro_Count": 1,
         "Sentiment": 0.2,
         "Subjectivity": 0.3,
         "Unique_words": 20,
         "Verb_Count": 6,
         "Word_Count": 21,
         "_deepnote_index_column": 9,
         "customer_id": 4332923,
         "helpful_votes": 0,
         "label": "Moderately Genuine",
         "marketplace": "US",
         "product_category": "Mobile_Electronics",
         "product_id": "B00QUFTPV4",
         "product_parent": 221169481,
         "product_title": "abcGoodefg® FBI Covert Acoustic Tube Earpiece Headset PTT Mic for Motorola Two Way Radio Device Walkie Talkie GP88 300 2000 CT150 P040 PRO1150 SP10 XTN500 2pin",
         "review_body": "work very well but could not get used to not hearing anything out of the ear they v were plugged into ",
         "review_date": "2015-08-31",
         "review_headline": "work very well but couldn t get used to not hearing    ",
         "review_id": "RRB9C05HDOD4O",
         "star_rating": "4",
         "timestamp": 1441015251,
         "total_votes": 0,
         "verified_purchase": 1,
         "vine": "N"
        }
       ]
      },
      "text/html": "<div>\n<style scoped>\n    .dataframe tbody tr th:only-of-type {\n        vertical-align: middle;\n    }\n\n    .dataframe tbody tr th {\n        vertical-align: top;\n    }\n\n    .dataframe thead th {\n        text-align: right;\n    }\n</style>\n<table border=\"1\" class=\"dataframe\">\n  <thead>\n    <tr style=\"text-align: right;\">\n      <th></th>\n      <th>marketplace</th>\n      <th>customer_id</th>\n      <th>review_id</th>\n      <th>product_id</th>\n      <th>product_parent</th>\n      <th>product_title</th>\n      <th>product_category</th>\n      <th>star_rating</th>\n      <th>helpful_votes</th>\n      <th>total_votes</th>\n      <th>...</th>\n      <th>Pro_Count</th>\n      <th>Pre_Count</th>\n      <th>Con_Count</th>\n      <th>Art_Count</th>\n      <th>Nega_Count</th>\n      <th>Aux_Count</th>\n      <th>Authenticity</th>\n      <th>AT</th>\n      <th>Genuinity</th>\n      <th>label</th>\n    </tr>\n  </thead>\n  <tbody>\n    <tr>\n      <th>0</th>\n      <td>US</td>\n      <td>20422322</td>\n      <td>R8MEA6IGAHO0B</td>\n      <td>B00MC4CED8</td>\n      <td>82850235</td>\n      <td>BlackVue DR600GW-PMP</td>\n      <td>Mobile_Electronics</td>\n      <td>5</td>\n      <td>0.0</td>\n      <td>0.0</td>\n      <td>...</td>\n      <td>1.0</td>\n      <td>4.0</td>\n      <td>0.0</td>\n      <td>2.0</td>\n      <td>0.0</td>\n      <td>1.0</td>\n      <td>0.928571</td>\n      <td>32.0</td>\n      <td>0.499943</td>\n      <td>Moderately Genuine</td>\n    </tr>\n    <tr>\n      <th>1</th>\n      <td>US</td>\n      <td>40835037</td>\n      <td>R31LOQ8JGLPRLK</td>\n      <td>B00OQMFG1Q</td>\n      <td>82850235</td>\n      <td>GENSSI GSM / GPS Two Way Smart Phone Car Alarm...</td>\n      <td>Mobile_Electronics</td>\n      <td>5</td>\n      <td>0.0</td>\n      <td>1.0</td>\n      <td>...</td>\n      <td>1.0</td>\n      <td>0.0</td>\n      <td>0.0</td>\n      <td>0.0</td>\n      <td>0.0</td>\n      <td>1.0</td>\n      <td>1.333333</td>\n      <td>28.0</td>\n      <td>0.499936</td>\n      <td>Moderately Genuine</td>\n    </tr>\n    <tr>\n      <th>2</th>\n      <td>US</td>\n      <td>51469641</td>\n      <td>R2Y0MM9YE6OP3P</td>\n      <td>B00QERR5CY</td>\n      <td>82850235</td>\n      <td>iXCC Multi pack Lightning cable</td>\n      <td>Mobile_Electronics</td>\n      <td>5</td>\n      <td>0.0</td>\n      <td>0.0</td>\n      <td>...</td>\n      <td>1.0</td>\n      <td>1.0</td>\n      <td>1.0</td>\n      <td>1.0</td>\n      <td>0.0</td>\n      <td>0.0</td>\n      <td>1.083333</td>\n      <td>30.0</td>\n      <td>0.499877</td>\n      <td>Moderately Genuine</td>\n    </tr>\n    <tr>\n      <th>3</th>\n      <td>US</td>\n      <td>4332923</td>\n      <td>RRB9C05HDOD4O</td>\n      <td>B00QUFTPV4</td>\n      <td>82850235</td>\n      <td>abcGoodefg® FBI Covert Acoustic Tube Earpiece ...</td>\n      <td>Mobile_Electronics</td>\n      <td>4</td>\n      <td>0.0</td>\n      <td>0.0</td>\n      <td>...</td>\n      <td>0.0</td>\n      <td>0.0</td>\n      <td>0.0</td>\n      <td>0.0</td>\n      <td>0.0</td>\n      <td>0.0</td>\n      <td>1.000000</td>\n      <td>28.0</td>\n      <td>0.742184</td>\n      <td>Moderately Genuine</td>\n    </tr>\n    <tr>\n      <th>4</th>\n      <td>US</td>\n      <td>7846966</td>\n      <td>RY8DDL22YG4R5</td>\n      <td>B00KA6CCVY</td>\n      <td>563475445</td>\n      <td>Aweek® Air Acoustic Earpiece Headset for Baofe...</td>\n      <td>Mobile_Electronics</td>\n      <td>3</td>\n      <td>0.0</td>\n      <td>1.0</td>\n      <td>...</td>\n      <td>2.0</td>\n      <td>2.0</td>\n      <td>2.0</td>\n      <td>0.0</td>\n      <td>0.0</td>\n      <td>3.0</td>\n      <td>0.958333</td>\n      <td>24.0</td>\n      <td>0.675685</td>\n      <td>Moderately Genuine</td>\n    </tr>\n    <tr>\n      <th>...</th>\n      <td>...</td>\n      <td>...</td>\n      <td>...</td>\n      <td>...</td>\n      <td>...</td>\n      <td>...</td>\n      <td>...</td>\n      <td>...</td>\n      <td>...</td>\n      <td>...</td>\n      <td>...</td>\n      <td>...</td>\n      <td>...</td>\n      <td>...</td>\n      <td>...</td>\n      <td>...</td>\n      <td>...</td>\n      <td>...</td>\n      <td>...</td>\n      <td>...</td>\n      <td>...</td>\n    </tr>\n    <tr>\n      <th>59795</th>\n      <td>US</td>\n      <td>38978459</td>\n      <td>R2CDRVDUKB5Z9P</td>\n      <td>B00005OTZQ</td>\n      <td>554527960</td>\n      <td>Royal SE 2800 Hand-Held Spot Cleaner</td>\n      <td>Mobile_Electronics</td>\n      <td>5</td>\n      <td>23.0</td>\n      <td>27.0</td>\n      <td>...</td>\n      <td>0.0</td>\n      <td>0.0</td>\n      <td>0.0</td>\n      <td>0.0</td>\n      <td>0.0</td>\n      <td>0.0</td>\n      <td>0.521401</td>\n      <td>30.0</td>\n      <td>0.499941</td>\n      <td>Moderately Genuine</td>\n    </tr>\n    <tr>\n      <th>59796</th>\n      <td>US</td>\n      <td>51697602</td>\n      <td>R1DVLTZFXXOX9</td>\n      <td>B00005OTZQ</td>\n      <td>554527960</td>\n      <td>Royal SE 2800 Hand-Held Spot Cleaner</td>\n      <td>Mobile_Electronics</td>\n      <td>5</td>\n      <td>10.0</td>\n      <td>11.0</td>\n      <td>...</td>\n      <td>0.0</td>\n      <td>0.0</td>\n      <td>0.0</td>\n      <td>0.0</td>\n      <td>0.0</td>\n      <td>0.0</td>\n      <td>0.732558</td>\n      <td>30.0</td>\n      <td>0.499705</td>\n      <td>Moderately Genuine</td>\n    </tr>\n    <tr>\n      <th>59797</th>\n      <td>US</td>\n      <td>50891675</td>\n      <td>R1GHKKZMHAHQC1</td>\n      <td>B00005OTZQ</td>\n      <td>554527960</td>\n      <td>Royal SE 2800 Hand-Held Spot Cleaner</td>\n      <td>Mobile_Electronics</td>\n      <td>5</td>\n      <td>13.0</td>\n      <td>13.0</td>\n      <td>...</td>\n      <td>0.0</td>\n      <td>0.0</td>\n      <td>0.0</td>\n      <td>0.0</td>\n      <td>0.0</td>\n      <td>0.0</td>\n      <td>0.676190</td>\n      <td>30.0</td>\n      <td>0.499595</td>\n      <td>Moderately Genuine</td>\n    </tr>\n    <tr>\n      <th>59798</th>\n      <td>US</td>\n      <td>38528439</td>\n      <td>R227G6T5B26DVC</td>\n      <td>B00005OTZQ</td>\n      <td>554527960</td>\n      <td>Royal SE 2800 Hand-Held Spot Cleaner</td>\n      <td>Mobile_Electronics</td>\n      <td>5</td>\n      <td>58.0</td>\n      <td>61.0</td>\n      <td>...</td>\n      <td>0.0</td>\n      <td>0.0</td>\n      <td>0.0</td>\n      <td>0.0</td>\n      <td>0.0</td>\n      <td>0.0</td>\n      <td>0.479109</td>\n      <td>30.0</td>\n      <td>0.499938</td>\n      <td>Moderately Genuine</td>\n    </tr>\n    <tr>\n      <th>59799</th>\n      <td>US</td>\n      <td>47099634</td>\n      <td>R44WS2RSQQ0HR</td>\n      <td>B00005OTZQ</td>\n      <td>554527960</td>\n      <td>Royal SE 2800 Hand-Held Spot Cleaner</td>\n      <td>Mobile_Electronics</td>\n      <td>4</td>\n      <td>37.0</td>\n      <td>38.0</td>\n      <td>...</td>\n      <td>0.0</td>\n      <td>0.0</td>\n      <td>0.0</td>\n      <td>0.0</td>\n      <td>0.0</td>\n      <td>0.0</td>\n      <td>0.503356</td>\n      <td>30.0</td>\n      <td>0.499939</td>\n      <td>Moderately Genuine</td>\n    </tr>\n  </tbody>\n</table>\n<p>59800 rows × 36 columns</p>\n</div>",
      "text/plain": "      marketplace  customer_id       review_id  product_id  product_parent  \\\n0              US     20422322   R8MEA6IGAHO0B  B00MC4CED8        82850235   \n1              US     40835037  R31LOQ8JGLPRLK  B00OQMFG1Q        82850235   \n2              US     51469641  R2Y0MM9YE6OP3P  B00QERR5CY        82850235   \n3              US      4332923   RRB9C05HDOD4O  B00QUFTPV4        82850235   \n4              US      7846966   RY8DDL22YG4R5  B00KA6CCVY       563475445   \n...           ...          ...             ...         ...             ...   \n59795          US     38978459  R2CDRVDUKB5Z9P  B00005OTZQ       554527960   \n59796          US     51697602   R1DVLTZFXXOX9  B00005OTZQ       554527960   \n59797          US     50891675  R1GHKKZMHAHQC1  B00005OTZQ       554527960   \n59798          US     38528439  R227G6T5B26DVC  B00005OTZQ       554527960   \n59799          US     47099634   R44WS2RSQQ0HR  B00005OTZQ       554527960   \n\n                                           product_title    product_category  \\\n0                                   BlackVue DR600GW-PMP  Mobile_Electronics   \n1      GENSSI GSM / GPS Two Way Smart Phone Car Alarm...  Mobile_Electronics   \n2                        iXCC Multi pack Lightning cable  Mobile_Electronics   \n3      abcGoodefg® FBI Covert Acoustic Tube Earpiece ...  Mobile_Electronics   \n4      Aweek® Air Acoustic Earpiece Headset for Baofe...  Mobile_Electronics   \n...                                                  ...                 ...   \n59795               Royal SE 2800 Hand-Held Spot Cleaner  Mobile_Electronics   \n59796               Royal SE 2800 Hand-Held Spot Cleaner  Mobile_Electronics   \n59797               Royal SE 2800 Hand-Held Spot Cleaner  Mobile_Electronics   \n59798               Royal SE 2800 Hand-Held Spot Cleaner  Mobile_Electronics   \n59799               Royal SE 2800 Hand-Held Spot Cleaner  Mobile_Electronics   \n\n      star_rating  helpful_votes  total_votes  ... Pro_Count  Pre_Count  \\\n0               5            0.0          0.0  ...       1.0        4.0   \n1               5            0.0          1.0  ...       1.0        0.0   \n2               5            0.0          0.0  ...       1.0        1.0   \n3               4            0.0          0.0  ...       0.0        0.0   \n4               3            0.0          1.0  ...       2.0        2.0   \n...           ...            ...          ...  ...       ...        ...   \n59795           5           23.0         27.0  ...       0.0        0.0   \n59796           5           10.0         11.0  ...       0.0        0.0   \n59797           5           13.0         13.0  ...       0.0        0.0   \n59798           5           58.0         61.0  ...       0.0        0.0   \n59799           4           37.0         38.0  ...       0.0        0.0   \n\n      Con_Count Art_Count Nega_Count  Aux_Count Authenticity    AT  Genuinity  \\\n0           0.0       2.0        0.0        1.0     0.928571  32.0   0.499943   \n1           0.0       0.0        0.0        1.0     1.333333  28.0   0.499936   \n2           1.0       1.0        0.0        0.0     1.083333  30.0   0.499877   \n3           0.0       0.0        0.0        0.0     1.000000  28.0   0.742184   \n4           2.0       0.0        0.0        3.0     0.958333  24.0   0.675685   \n...         ...       ...        ...        ...          ...   ...        ...   \n59795       0.0       0.0        0.0        0.0     0.521401  30.0   0.499941   \n59796       0.0       0.0        0.0        0.0     0.732558  30.0   0.499705   \n59797       0.0       0.0        0.0        0.0     0.676190  30.0   0.499595   \n59798       0.0       0.0        0.0        0.0     0.479109  30.0   0.499938   \n59799       0.0       0.0        0.0        0.0     0.503356  30.0   0.499939   \n\n                    label  \n0      Moderately Genuine  \n1      Moderately Genuine  \n2      Moderately Genuine  \n3      Moderately Genuine  \n4      Moderately Genuine  \n...                   ...  \n59795  Moderately Genuine  \n59796  Moderately Genuine  \n59797  Moderately Genuine  \n59798  Moderately Genuine  \n59799  Moderately Genuine  \n\n[59800 rows x 36 columns]"
     },
     "execution_count": 5,
     "metadata": {},
     "output_type": "execute_result"
    }
   ]
  },
  {
   "cell_type": "code",
   "metadata": {
    "deepnote_to_be_reexecuted": false,
    "execution_millis": 42,
    "execution_start": 1652894618769,
    "source_hash": "cca6a619",
    "tags": [],
    "cell_id": "00008-b311b909-3400-4080-87e0-e02e40b6d9e4",
    "deepnote_cell_type": "code",
    "deepnote_cell_height": 707.953125,
    "deepnote_output_heights": [
     611
    ]
   },
   "source": "list(data.columns)",
   "execution_count": null,
   "outputs": [
    {
     "data": {
      "text/plain": "['marketplace',\n 'customer_id',\n 'review_id',\n 'product_id',\n 'product_parent',\n 'product_title',\n 'product_category',\n 'star_rating',\n 'helpful_votes',\n 'total_votes',\n 'vine',\n 'verified_purchase',\n 'review_headline',\n 'review_body',\n 'review_date',\n 'timestamp',\n 'IP Address',\n 'Sentiment',\n 'Subjectivity',\n 'Neg_Count',\n 'Word_Count',\n 'Unique_words',\n 'Noun_Count',\n 'Adj_Count',\n 'Verb_Count',\n 'Adv_Count',\n 'Pro_Count',\n 'Pre_Count',\n 'Con_Count',\n 'Art_Count',\n 'Nega_Count',\n 'Aux_Count',\n 'Authenticity',\n 'AT',\n 'Genuinity',\n 'label']"
     },
     "execution_count": 6,
     "metadata": {},
     "output_type": "execute_result"
    }
   ]
  },
  {
   "cell_type": "code",
   "metadata": {
    "deepnote_to_be_reexecuted": false,
    "execution_millis": 40,
    "execution_start": 1652894618771,
    "source_hash": "ae3db336",
    "tags": [],
    "cell_id": "00009-b89d492a-e59c-48f4-a3cb-6becdd4f54be",
    "deepnote_cell_type": "code",
    "deepnote_cell_height": 707.953125,
    "deepnote_output_heights": [
     611
    ]
   },
   "source": "data.dtypes",
   "execution_count": null,
   "outputs": [
    {
     "data": {
      "text/plain": "marketplace           object\ncustomer_id            int64\nreview_id             object\nproduct_id            object\nproduct_parent         int64\nproduct_title         object\nproduct_category      object\nstar_rating           object\nhelpful_votes        float64\ntotal_votes          float64\nvine                  object\nverified_purchase      int64\nreview_headline       object\nreview_body           object\nreview_date           object\ntimestamp            float64\nIP Address            object\nSentiment            float64\nSubjectivity         float64\nNeg_Count              int64\nWord_Count             int64\nUnique_words           int64\nNoun_Count           float64\nAdj_Count            float64\nVerb_Count           float64\nAdv_Count            float64\nPro_Count            float64\nPre_Count            float64\nCon_Count            float64\nArt_Count            float64\nNega_Count           float64\nAux_Count            float64\nAuthenticity         float64\nAT                   float64\nGenuinity            float64\nlabel                 object\ndtype: object"
     },
     "execution_count": 7,
     "metadata": {},
     "output_type": "execute_result"
    }
   ]
  },
  {
   "cell_type": "markdown",
   "source": "### FEATURE SELECTION",
   "metadata": {
    "formattedRanges": [],
    "is_collapsed": false,
    "tags": [],
    "cell_id": "00010-b121cc3f-6437-4df0-b35c-f03db393004b",
    "deepnote_cell_type": "text-cell-h3"
   }
  },
  {
   "cell_type": "code",
   "metadata": {
    "deepnote_to_be_reexecuted": false,
    "execution_millis": 54,
    "execution_start": 1652894618772,
    "source_hash": "ae3db336",
    "tags": [],
    "cell_id": "00011-a0ff938a-43ce-4b7f-bfe7-7a5745bfff78",
    "deepnote_cell_type": "code",
    "deepnote_cell_height": 707.953125,
    "deepnote_output_heights": [
     611
    ]
   },
   "source": "data.dtypes",
   "execution_count": null,
   "outputs": [
    {
     "data": {
      "text/plain": "marketplace           object\ncustomer_id            int64\nreview_id             object\nproduct_id            object\nproduct_parent         int64\nproduct_title         object\nproduct_category      object\nstar_rating           object\nhelpful_votes        float64\ntotal_votes          float64\nvine                  object\nverified_purchase      int64\nreview_headline       object\nreview_body           object\nreview_date           object\ntimestamp            float64\nIP Address            object\nSentiment            float64\nSubjectivity         float64\nNeg_Count              int64\nWord_Count             int64\nUnique_words           int64\nNoun_Count           float64\nAdj_Count            float64\nVerb_Count           float64\nAdv_Count            float64\nPro_Count            float64\nPre_Count            float64\nCon_Count            float64\nArt_Count            float64\nNega_Count           float64\nAux_Count            float64\nAuthenticity         float64\nAT                   float64\nGenuinity            float64\nlabel                 object\ndtype: object"
     },
     "execution_count": 8,
     "metadata": {},
     "output_type": "execute_result"
    }
   ]
  },
  {
   "cell_type": "code",
   "metadata": {
    "deepnote_to_be_reexecuted": false,
    "execution_millis": 12,
    "execution_start": 1652894618814,
    "source_hash": "f72cee6",
    "tags": [],
    "cell_id": "00012-ca7a8522-58bc-40c7-8540-24f68d93d1d8",
    "deepnote_cell_type": "code",
    "deepnote_cell_height": 700.9375
   },
   "source": "print(data.isnull().sum())",
   "execution_count": null,
   "outputs": [
    {
     "name": "stdout",
     "output_type": "stream",
     "text": "marketplace           0\ncustomer_id           0\nreview_id             0\nproduct_id            0\nproduct_parent        0\nproduct_title         0\nproduct_category      0\nstar_rating           5\nhelpful_votes        13\ntotal_votes          13\nvine                 13\nverified_purchase     0\nreview_headline      15\nreview_body          16\nreview_date          14\ntimestamp            15\nIP Address            0\nSentiment             0\nSubjectivity          0\nNeg_Count             0\nWord_Count            0\nUnique_words          0\nNoun_Count            0\nAdj_Count             0\nVerb_Count            0\nAdv_Count             0\nPro_Count             0\nPre_Count             0\nCon_Count             0\nArt_Count             0\nNega_Count            0\nAux_Count             0\nAuthenticity          1\nAT                    0\nGenuinity             0\nlabel                 0\ndtype: int64\n"
    }
   ]
  },
  {
   "cell_type": "markdown",
   "source": "### APPLY USER-DEFINED RULES",
   "metadata": {
    "formattedRanges": [],
    "is_collapsed": false,
    "tags": [],
    "cell_id": "00013-ac820a29-0c60-4c98-86a1-6f598d467ff8",
    "deepnote_cell_type": "text-cell-h3"
   }
  },
  {
   "cell_type": "markdown",
   "source": "### 1. Remove reviews with Meaningless Texts using LSA",
   "metadata": {
    "formattedRanges": [],
    "is_collapsed": false,
    "tags": [],
    "cell_id": "00014-e15bf997-7933-478d-bab0-f491154513c5",
    "deepnote_cell_type": "text-cell-h3"
   }
  },
  {
   "cell_type": "code",
   "metadata": {
    "deepnote_to_be_reexecuted": false,
    "execution_millis": 0,
    "execution_start": 1652894618815,
    "source_hash": "49499989",
    "tags": [],
    "cell_id": "00015-9c122a73-ea40-4dd0-a3eb-8990ca2496e3",
    "deepnote_cell_type": "code",
    "deepnote_cell_height": 188.953125
   },
   "source": "from sklearn.feature_extraction.text import TfidfVectorizer\nfrom sklearn.decomposition import TruncatedSVD\nimport nltk\nimport re\nfrom nltk.corpus import stopwords \nimport collections\nfrom nltk.corpus import wordnet",
   "execution_count": null,
   "outputs": []
  },
  {
   "cell_type": "code",
   "metadata": {
    "deepnote_to_be_reexecuted": false,
    "execution_millis": 933,
    "execution_start": 1652894618816,
    "source_hash": "ec4620d7",
    "tags": [],
    "cell_id": "00016-53bb10b9-fd8b-409c-9edd-1bb4141d60e0",
    "deepnote_cell_type": "code",
    "deepnote_cell_height": 687.71875
   },
   "source": "df1 = pd.read_csv(\"Moderately_Genuine.csv\")\ndf1",
   "execution_count": null,
   "outputs": [
    {
     "name": "stderr",
     "output_type": "stream",
     "text": "/shared-libs/python3.7/py-core/lib/python3.7/site-packages/IPython/core/interactiveshell.py:3257: DtypeWarning: Columns (7) have mixed types.Specify dtype option on import or set low_memory=False.\n  interactivity=interactivity, compiler=compiler, result=result)\n"
    },
    {
     "data": {
      "application/vnd.deepnote.dataframe.v3+json": {
       "column_count": 36,
       "columns": [
        {
         "dtype": "object",
         "name": "marketplace",
         "stats": {
          "categories": [
           {
            "count": 59800,
            "name": "US"
           }
          ],
          "nan_count": 0,
          "unique_count": 1
         }
        },
        {
         "dtype": "int64",
         "name": "customer_id"
        },
        {
         "dtype": "object",
         "name": "review_id"
        },
        {
         "dtype": "object",
         "name": "product_id"
        },
        {
         "dtype": "int64",
         "name": "product_parent"
        },
        {
         "dtype": "object",
         "name": "product_title"
        },
        {
         "dtype": "object",
         "name": "product_category"
        },
        {
         "dtype": "object",
         "name": "star_rating"
        },
        {
         "dtype": "float64",
         "name": "helpful_votes"
        },
        {
         "dtype": "float64",
         "name": "total_votes"
        },
        {
         "dtype": "object",
         "name": "vine"
        },
        {
         "dtype": "int64",
         "name": "verified_purchase"
        },
        {
         "dtype": "object",
         "name": "review_headline"
        },
        {
         "dtype": "object",
         "name": "review_body"
        },
        {
         "dtype": "object",
         "name": "review_date"
        },
        {
         "dtype": "float64",
         "name": "timestamp"
        },
        {
         "dtype": "object",
         "name": "IP Address"
        },
        {
         "dtype": "float64",
         "name": "Sentiment"
        },
        {
         "dtype": "float64",
         "name": "Subjectivity"
        },
        {
         "dtype": "int64",
         "name": "Neg_Count"
        },
        {
         "dtype": "int64",
         "name": "Word_Count"
        },
        {
         "dtype": "int64",
         "name": "Unique_words"
        },
        {
         "dtype": "float64",
         "name": "Noun_Count"
        },
        {
         "dtype": "float64",
         "name": "Adj_Count"
        },
        {
         "dtype": "float64",
         "name": "Verb_Count"
        },
        {
         "dtype": "float64",
         "name": "Adv_Count"
        },
        {
         "dtype": "float64",
         "name": "Pro_Count"
        },
        {
         "dtype": "float64",
         "name": "Pre_Count"
        },
        {
         "dtype": "float64",
         "name": "Con_Count"
        },
        {
         "dtype": "float64",
         "name": "Art_Count"
        },
        {
         "dtype": "float64",
         "name": "Nega_Count"
        },
        {
         "dtype": "float64",
         "name": "Aux_Count"
        },
        {
         "dtype": "float64",
         "name": "Authenticity"
        },
        {
         "dtype": "float64",
         "name": "AT"
        },
        {
         "dtype": "float64",
         "name": "Genuinity"
        },
        {
         "dtype": "object",
         "name": "label"
        },
        {
         "dtype": "int64",
         "name": "_deepnote_index_column"
        }
       ],
       "row_count": 59800,
       "rows": [
        {
         "AT": 32,
         "Adj_Count": 3,
         "Adv_Count": 2,
         "Art_Count": 2,
         "Authenticity": 0.9285714285714286,
         "Aux_Count": 1,
         "Con_Count": 0,
         "Genuinity": 0.4999428074765137,
         "IP Address": "193.93.167.87",
         "Neg_Count": 0,
         "Nega_Count": 0,
         "Noun_Count": 7,
         "Pre_Count": 4,
         "Pro_Count": 1,
         "Sentiment": 1,
         "Subjectivity": 1,
         "Unique_words": 25,
         "Verb_Count": 4,
         "Word_Count": 28,
         "_deepnote_index_column": 0,
         "customer_id": 20422322,
         "helpful_votes": 0,
         "label": "Moderately Genuine",
         "marketplace": "US",
         "product_category": "Mobile_Electronics",
         "product_id": "B00MC4CED8",
         "product_parent": 82850235,
         "product_title": "BlackVue DR600GW-PMP",
         "review_body": "as advertised  everything works perfectly  i am very happy with the camera  as a matter of fact i am going to buy another one for my  nd car ",
         "review_date": "2015-08-31",
         "review_headline": "very happy ",
         "review_id": "R8MEA6IGAHO0B",
         "star_rating": "5",
         "timestamp": 1440987567,
         "total_votes": 0,
         "verified_purchase": 1,
         "vine": "N"
        },
        {
         "AT": 28,
         "Adj_Count": 1,
         "Adv_Count": 0,
         "Art_Count": 0,
         "Authenticity": 1.3333333333333333,
         "Aux_Count": 1,
         "Con_Count": 0,
         "Genuinity": 0.4999355421493637,
         "IP Address": "193.93.167.87",
         "Neg_Count": 0,
         "Nega_Count": 0,
         "Noun_Count": 0,
         "Pre_Count": 0,
         "Pro_Count": 1,
         "Sentiment": 0.8,
         "Subjectivity": 0.75,
         "Unique_words": 3,
         "Verb_Count": 1,
         "Word_Count": 3,
         "_deepnote_index_column": 1,
         "customer_id": 40835037,
         "helpful_votes": 0,
         "label": "Moderately Genuine",
         "marketplace": "US",
         "product_category": "Mobile_Electronics",
         "product_id": "B00OQMFG1Q",
         "product_parent": 82850235,
         "product_title": "GENSSI GSM / GPS Two Way Smart Phone Car Alarm System for iPhone Android Security",
         "review_body": "it is great",
         "review_date": "2015-08-31",
         "review_headline": "five star",
         "review_id": "R31LOQ8JGLPRLK",
         "star_rating": "5",
         "timestamp": 1441001998,
         "total_votes": 1,
         "verified_purchase": 1,
         "vine": "N"
        },
        {
         "AT": 30,
         "Adj_Count": 2,
         "Adv_Count": 0,
         "Art_Count": 1,
         "Authenticity": 1.0833333333333333,
         "Aux_Count": 0,
         "Con_Count": 1,
         "Genuinity": 0.4998767818228214,
         "IP Address": "193.93.167.87",
         "Neg_Count": 0,
         "Nega_Count": 0,
         "Noun_Count": 5,
         "Pre_Count": 1,
         "Pro_Count": 1,
         "Sentiment": 0.6000000000000001,
         "Subjectivity": 0.575,
         "Unique_words": 12,
         "Verb_Count": 0,
         "Word_Count": 12,
         "_deepnote_index_column": 2,
         "customer_id": 51469641,
         "helpful_votes": 0,
         "label": "Moderately Genuine",
         "marketplace": "US",
         "product_category": "Mobile_Electronics",
         "product_id": "B00QERR5CY",
         "product_parent": 82850235,
         "product_title": "iXCC Multi pack Lightning cable",
         "review_body": "these work great and fit my life proof case for the iphone  ",
         "review_date": "2015-08-31",
         "review_headline": "great cables",
         "review_id": "R2Y0MM9YE6OP3P",
         "star_rating": "5",
         "timestamp": 1440959483,
         "total_votes": 0,
         "verified_purchase": 1,
         "vine": "N"
        },
        {
         "AT": 28,
         "Adj_Count": 0,
         "Adv_Count": 2,
         "Art_Count": 0,
         "Authenticity": 1,
         "Aux_Count": 0,
         "Con_Count": 0,
         "Genuinity": 0.742184489121376,
         "IP Address": "193.93.167.87",
         "Neg_Count": 0,
         "Nega_Count": 0,
         "Noun_Count": 1,
         "Pre_Count": 0,
         "Pro_Count": 0,
         "Sentiment": 0.2,
         "Subjectivity": 0.3,
         "Unique_words": 3,
         "Verb_Count": 0,
         "Word_Count": 3,
         "_deepnote_index_column": 3,
         "customer_id": 4332923,
         "helpful_votes": 0,
         "label": "Moderately Genuine",
         "marketplace": "US",
         "product_category": "Mobile_Electronics",
         "product_id": "B00QUFTPV4",
         "product_parent": 82850235,
         "product_title": "abcGoodefg® FBI Covert Acoustic Tube Earpiece Headset PTT Mic for Motorola Two Way Radio Device Walkie Talkie GP88 300 2000 CT150 P040 PRO1150 SP10 XTN500 2pin",
         "review_body": "work very well ",
         "review_date": "2015-08-31",
         "review_headline": "work very well",
         "review_id": "RRB9C05HDOD4O",
         "star_rating": "4",
         "timestamp": 1441015251,
         "total_votes": 0,
         "verified_purchase": 1,
         "vine": "N"
        },
        {
         "AT": 24,
         "Adj_Count": 4,
         "Adv_Count": 1,
         "Art_Count": 0,
         "Authenticity": 0.9583333333333334,
         "Aux_Count": 3,
         "Con_Count": 2,
         "Genuinity": 0.6756851108222771,
         "IP Address": "205.10.168.66",
         "Neg_Count": 1,
         "Nega_Count": 0,
         "Noun_Count": 3,
         "Pre_Count": 2,
         "Pro_Count": 2,
         "Sentiment": 0.2875,
         "Subjectivity": 0.4875,
         "Unique_words": 22,
         "Verb_Count": 6,
         "Word_Count": 24,
         "_deepnote_index_column": 4,
         "customer_id": 7846966,
         "helpful_votes": 0,
         "label": "Moderately Genuine",
         "marketplace": "US",
         "product_category": "Mobile_Electronics",
         "product_id": "B00KA6CCVY",
         "product_parent": 563475445,
         "product_title": "Aweek® Air Acoustic Earpiece Headset for Baofeng Two Way Radios UV-5R UV-B6 BF-888S UV-B6 UV-B5 Walkie Talkies 2-Pin Jack",
         "review_body": "it appears to be good  but i am still waiting for my other items radio batteries charger  before i can go to   or   stars",
         "review_date": "2015-08-31",
         "review_headline": "it appears to be good  but i m still waiting for my other items    ",
         "review_id": "RY8DDL22YG4R5",
         "star_rating": "3",
         "timestamp": 1440977588,
         "total_votes": 1,
         "verified_purchase": 1,
         "vine": "N"
        },
        {
         "AT": 32,
         "Adj_Count": 3,
         "Adv_Count": 2,
         "Art_Count": 2,
         "Authenticity": 0.9285714285714286,
         "Aux_Count": 1,
         "Con_Count": 0,
         "Genuinity": 0.4999428074765137,
         "IP Address": "205.10.168.66",
         "Neg_Count": 0,
         "Nega_Count": 0,
         "Noun_Count": 7,
         "Pre_Count": 4,
         "Pro_Count": 1,
         "Sentiment": 1,
         "Subjectivity": 1,
         "Unique_words": 25,
         "Verb_Count": 4,
         "Word_Count": 28,
         "_deepnote_index_column": 5,
         "customer_id": 20422322,
         "helpful_votes": 0,
         "label": "Moderately Genuine",
         "marketplace": "US",
         "product_category": "Mobile_Electronics",
         "product_id": "B00MC4CED8",
         "product_parent": 563475445,
         "product_title": "BlackVue DR600GW-PMP",
         "review_body": "as advertised  everything works perfectly  i am very happy with the camera  as a matter of fact i am going to buy another one for my  nd car ",
         "review_date": "2015-08-31",
         "review_headline": "very happy ",
         "review_id": "R8MEA6IGAHO0B",
         "star_rating": "5",
         "timestamp": 1441012613,
         "total_votes": 0,
         "verified_purchase": 1,
         "vine": "N"
        },
        {
         "AT": 32,
         "Adj_Count": 3,
         "Adv_Count": 2,
         "Art_Count": 2,
         "Authenticity": 0.9285714285714286,
         "Aux_Count": 1,
         "Con_Count": 0,
         "Genuinity": 0.4999428074765137,
         "IP Address": "206.33.134.174",
         "Neg_Count": 0,
         "Nega_Count": 0,
         "Noun_Count": 7,
         "Pre_Count": 4,
         "Pro_Count": 1,
         "Sentiment": 1,
         "Subjectivity": 1,
         "Unique_words": 25,
         "Verb_Count": 4,
         "Word_Count": 28,
         "_deepnote_index_column": 6,
         "customer_id": 20422322,
         "helpful_votes": 0,
         "label": "Moderately Genuine",
         "marketplace": "US",
         "product_category": "Mobile_Electronics",
         "product_id": "B00MC4CED8",
         "product_parent": 217304173,
         "product_title": "BlackVue DR600GW-PMP",
         "review_body": "as advertised  everything works perfectly  i am very happy with the camera  as a matter of fact i am going to buy another one for my  nd car ",
         "review_date": "2015-08-31",
         "review_headline": "very happy ",
         "review_id": "R8MEA6IGAHO0B",
         "star_rating": "5",
         "timestamp": 1440987567,
         "total_votes": 0,
         "verified_purchase": 1,
         "vine": "N"
        },
        {
         "AT": 28,
         "Adj_Count": 1,
         "Adv_Count": 0,
         "Art_Count": 0,
         "Authenticity": 1.3333333333333333,
         "Aux_Count": 1,
         "Con_Count": 0,
         "Genuinity": 0.4999355421493637,
         "IP Address": "219.3.75.180",
         "Neg_Count": 0,
         "Nega_Count": 0,
         "Noun_Count": 0,
         "Pre_Count": 0,
         "Pro_Count": 1,
         "Sentiment": 0.8,
         "Subjectivity": 0.75,
         "Unique_words": 3,
         "Verb_Count": 1,
         "Word_Count": 3,
         "_deepnote_index_column": 7,
         "customer_id": 40835037,
         "helpful_votes": 0,
         "label": "Moderately Genuine",
         "marketplace": "US",
         "product_category": "Mobile_Electronics",
         "product_id": "B00OQMFG1Q",
         "product_parent": 137313254,
         "product_title": "GENSSI GSM / GPS Two Way Smart Phone Car Alarm System for iPhone Android Security",
         "review_body": "it is great",
         "review_date": "2015-08-31",
         "review_headline": "five star",
         "review_id": "R31LOQ8JGLPRLK",
         "star_rating": "5",
         "timestamp": 1441001998,
         "total_votes": 1,
         "verified_purchase": 1,
         "vine": "N"
        },
        {
         "AT": 30,
         "Adj_Count": 2,
         "Adv_Count": 0,
         "Art_Count": 1,
         "Authenticity": 1.0833333333333333,
         "Aux_Count": 0,
         "Con_Count": 1,
         "Genuinity": 0.4998767818228214,
         "IP Address": "194.12.14.67",
         "Neg_Count": 0,
         "Nega_Count": 0,
         "Noun_Count": 5,
         "Pre_Count": 1,
         "Pro_Count": 1,
         "Sentiment": 0.6000000000000001,
         "Subjectivity": 0.575,
         "Unique_words": 12,
         "Verb_Count": 0,
         "Word_Count": 12,
         "_deepnote_index_column": 8,
         "customer_id": 51469641,
         "helpful_votes": 0,
         "label": "Moderately Genuine",
         "marketplace": "US",
         "product_category": "Mobile_Electronics",
         "product_id": "B00QERR5CY",
         "product_parent": 82850235,
         "product_title": "iXCC Multi pack Lightning cable",
         "review_body": "these work great and fit my life proof case for the iphone  ",
         "review_date": "2015-08-31",
         "review_headline": "great cables",
         "review_id": "R2Y0MM9YE6OP3P",
         "star_rating": "5",
         "timestamp": 1440959483,
         "total_votes": 0,
         "verified_purchase": 1,
         "vine": "N"
        },
        {
         "AT": 26,
         "Adj_Count": 0,
         "Adv_Count": 3,
         "Art_Count": 1,
         "Authenticity": 1,
         "Aux_Count": 2,
         "Con_Count": 1,
         "Genuinity": 0.742184489121376,
         "IP Address": "213.136.76.172",
         "Neg_Count": 0,
         "Nega_Count": 1,
         "Noun_Count": 3,
         "Pre_Count": 3,
         "Pro_Count": 1,
         "Sentiment": 0.2,
         "Subjectivity": 0.3,
         "Unique_words": 20,
         "Verb_Count": 6,
         "Word_Count": 21,
         "_deepnote_index_column": 9,
         "customer_id": 4332923,
         "helpful_votes": 0,
         "label": "Moderately Genuine",
         "marketplace": "US",
         "product_category": "Mobile_Electronics",
         "product_id": "B00QUFTPV4",
         "product_parent": 221169481,
         "product_title": "abcGoodefg® FBI Covert Acoustic Tube Earpiece Headset PTT Mic for Motorola Two Way Radio Device Walkie Talkie GP88 300 2000 CT150 P040 PRO1150 SP10 XTN500 2pin",
         "review_body": "work very well but could not get used to not hearing anything out of the ear they v were plugged into ",
         "review_date": "2015-08-31",
         "review_headline": "work very well but couldn t get used to not hearing    ",
         "review_id": "RRB9C05HDOD4O",
         "star_rating": "4",
         "timestamp": 1441015251,
         "total_votes": 0,
         "verified_purchase": 1,
         "vine": "N"
        }
       ]
      },
      "text/html": "<div>\n<style scoped>\n    .dataframe tbody tr th:only-of-type {\n        vertical-align: middle;\n    }\n\n    .dataframe tbody tr th {\n        vertical-align: top;\n    }\n\n    .dataframe thead th {\n        text-align: right;\n    }\n</style>\n<table border=\"1\" class=\"dataframe\">\n  <thead>\n    <tr style=\"text-align: right;\">\n      <th></th>\n      <th>marketplace</th>\n      <th>customer_id</th>\n      <th>review_id</th>\n      <th>product_id</th>\n      <th>product_parent</th>\n      <th>product_title</th>\n      <th>product_category</th>\n      <th>star_rating</th>\n      <th>helpful_votes</th>\n      <th>total_votes</th>\n      <th>...</th>\n      <th>Pro_Count</th>\n      <th>Pre_Count</th>\n      <th>Con_Count</th>\n      <th>Art_Count</th>\n      <th>Nega_Count</th>\n      <th>Aux_Count</th>\n      <th>Authenticity</th>\n      <th>AT</th>\n      <th>Genuinity</th>\n      <th>label</th>\n    </tr>\n  </thead>\n  <tbody>\n    <tr>\n      <th>0</th>\n      <td>US</td>\n      <td>20422322</td>\n      <td>R8MEA6IGAHO0B</td>\n      <td>B00MC4CED8</td>\n      <td>82850235</td>\n      <td>BlackVue DR600GW-PMP</td>\n      <td>Mobile_Electronics</td>\n      <td>5</td>\n      <td>0.0</td>\n      <td>0.0</td>\n      <td>...</td>\n      <td>1.0</td>\n      <td>4.0</td>\n      <td>0.0</td>\n      <td>2.0</td>\n      <td>0.0</td>\n      <td>1.0</td>\n      <td>0.928571</td>\n      <td>32.0</td>\n      <td>0.499943</td>\n      <td>Moderately Genuine</td>\n    </tr>\n    <tr>\n      <th>1</th>\n      <td>US</td>\n      <td>40835037</td>\n      <td>R31LOQ8JGLPRLK</td>\n      <td>B00OQMFG1Q</td>\n      <td>82850235</td>\n      <td>GENSSI GSM / GPS Two Way Smart Phone Car Alarm...</td>\n      <td>Mobile_Electronics</td>\n      <td>5</td>\n      <td>0.0</td>\n      <td>1.0</td>\n      <td>...</td>\n      <td>1.0</td>\n      <td>0.0</td>\n      <td>0.0</td>\n      <td>0.0</td>\n      <td>0.0</td>\n      <td>1.0</td>\n      <td>1.333333</td>\n      <td>28.0</td>\n      <td>0.499936</td>\n      <td>Moderately Genuine</td>\n    </tr>\n    <tr>\n      <th>2</th>\n      <td>US</td>\n      <td>51469641</td>\n      <td>R2Y0MM9YE6OP3P</td>\n      <td>B00QERR5CY</td>\n      <td>82850235</td>\n      <td>iXCC Multi pack Lightning cable</td>\n      <td>Mobile_Electronics</td>\n      <td>5</td>\n      <td>0.0</td>\n      <td>0.0</td>\n      <td>...</td>\n      <td>1.0</td>\n      <td>1.0</td>\n      <td>1.0</td>\n      <td>1.0</td>\n      <td>0.0</td>\n      <td>0.0</td>\n      <td>1.083333</td>\n      <td>30.0</td>\n      <td>0.499877</td>\n      <td>Moderately Genuine</td>\n    </tr>\n    <tr>\n      <th>3</th>\n      <td>US</td>\n      <td>4332923</td>\n      <td>RRB9C05HDOD4O</td>\n      <td>B00QUFTPV4</td>\n      <td>82850235</td>\n      <td>abcGoodefg® FBI Covert Acoustic Tube Earpiece ...</td>\n      <td>Mobile_Electronics</td>\n      <td>4</td>\n      <td>0.0</td>\n      <td>0.0</td>\n      <td>...</td>\n      <td>0.0</td>\n      <td>0.0</td>\n      <td>0.0</td>\n      <td>0.0</td>\n      <td>0.0</td>\n      <td>0.0</td>\n      <td>1.000000</td>\n      <td>28.0</td>\n      <td>0.742184</td>\n      <td>Moderately Genuine</td>\n    </tr>\n    <tr>\n      <th>4</th>\n      <td>US</td>\n      <td>7846966</td>\n      <td>RY8DDL22YG4R5</td>\n      <td>B00KA6CCVY</td>\n      <td>563475445</td>\n      <td>Aweek® Air Acoustic Earpiece Headset for Baofe...</td>\n      <td>Mobile_Electronics</td>\n      <td>3</td>\n      <td>0.0</td>\n      <td>1.0</td>\n      <td>...</td>\n      <td>2.0</td>\n      <td>2.0</td>\n      <td>2.0</td>\n      <td>0.0</td>\n      <td>0.0</td>\n      <td>3.0</td>\n      <td>0.958333</td>\n      <td>24.0</td>\n      <td>0.675685</td>\n      <td>Moderately Genuine</td>\n    </tr>\n    <tr>\n      <th>...</th>\n      <td>...</td>\n      <td>...</td>\n      <td>...</td>\n      <td>...</td>\n      <td>...</td>\n      <td>...</td>\n      <td>...</td>\n      <td>...</td>\n      <td>...</td>\n      <td>...</td>\n      <td>...</td>\n      <td>...</td>\n      <td>...</td>\n      <td>...</td>\n      <td>...</td>\n      <td>...</td>\n      <td>...</td>\n      <td>...</td>\n      <td>...</td>\n      <td>...</td>\n      <td>...</td>\n    </tr>\n    <tr>\n      <th>59795</th>\n      <td>US</td>\n      <td>38978459</td>\n      <td>R2CDRVDUKB5Z9P</td>\n      <td>B00005OTZQ</td>\n      <td>554527960</td>\n      <td>Royal SE 2800 Hand-Held Spot Cleaner</td>\n      <td>Mobile_Electronics</td>\n      <td>5</td>\n      <td>23.0</td>\n      <td>27.0</td>\n      <td>...</td>\n      <td>0.0</td>\n      <td>0.0</td>\n      <td>0.0</td>\n      <td>0.0</td>\n      <td>0.0</td>\n      <td>0.0</td>\n      <td>0.521401</td>\n      <td>30.0</td>\n      <td>0.499941</td>\n      <td>Moderately Genuine</td>\n    </tr>\n    <tr>\n      <th>59796</th>\n      <td>US</td>\n      <td>51697602</td>\n      <td>R1DVLTZFXXOX9</td>\n      <td>B00005OTZQ</td>\n      <td>554527960</td>\n      <td>Royal SE 2800 Hand-Held Spot Cleaner</td>\n      <td>Mobile_Electronics</td>\n      <td>5</td>\n      <td>10.0</td>\n      <td>11.0</td>\n      <td>...</td>\n      <td>0.0</td>\n      <td>0.0</td>\n      <td>0.0</td>\n      <td>0.0</td>\n      <td>0.0</td>\n      <td>0.0</td>\n      <td>0.732558</td>\n      <td>30.0</td>\n      <td>0.499705</td>\n      <td>Moderately Genuine</td>\n    </tr>\n    <tr>\n      <th>59797</th>\n      <td>US</td>\n      <td>50891675</td>\n      <td>R1GHKKZMHAHQC1</td>\n      <td>B00005OTZQ</td>\n      <td>554527960</td>\n      <td>Royal SE 2800 Hand-Held Spot Cleaner</td>\n      <td>Mobile_Electronics</td>\n      <td>5</td>\n      <td>13.0</td>\n      <td>13.0</td>\n      <td>...</td>\n      <td>0.0</td>\n      <td>0.0</td>\n      <td>0.0</td>\n      <td>0.0</td>\n      <td>0.0</td>\n      <td>0.0</td>\n      <td>0.676190</td>\n      <td>30.0</td>\n      <td>0.499595</td>\n      <td>Moderately Genuine</td>\n    </tr>\n    <tr>\n      <th>59798</th>\n      <td>US</td>\n      <td>38528439</td>\n      <td>R227G6T5B26DVC</td>\n      <td>B00005OTZQ</td>\n      <td>554527960</td>\n      <td>Royal SE 2800 Hand-Held Spot Cleaner</td>\n      <td>Mobile_Electronics</td>\n      <td>5</td>\n      <td>58.0</td>\n      <td>61.0</td>\n      <td>...</td>\n      <td>0.0</td>\n      <td>0.0</td>\n      <td>0.0</td>\n      <td>0.0</td>\n      <td>0.0</td>\n      <td>0.0</td>\n      <td>0.479109</td>\n      <td>30.0</td>\n      <td>0.499938</td>\n      <td>Moderately Genuine</td>\n    </tr>\n    <tr>\n      <th>59799</th>\n      <td>US</td>\n      <td>47099634</td>\n      <td>R44WS2RSQQ0HR</td>\n      <td>B00005OTZQ</td>\n      <td>554527960</td>\n      <td>Royal SE 2800 Hand-Held Spot Cleaner</td>\n      <td>Mobile_Electronics</td>\n      <td>4</td>\n      <td>37.0</td>\n      <td>38.0</td>\n      <td>...</td>\n      <td>0.0</td>\n      <td>0.0</td>\n      <td>0.0</td>\n      <td>0.0</td>\n      <td>0.0</td>\n      <td>0.0</td>\n      <td>0.503356</td>\n      <td>30.0</td>\n      <td>0.499939</td>\n      <td>Moderately Genuine</td>\n    </tr>\n  </tbody>\n</table>\n<p>59800 rows × 36 columns</p>\n</div>",
      "text/plain": "      marketplace  customer_id       review_id  product_id  product_parent  \\\n0              US     20422322   R8MEA6IGAHO0B  B00MC4CED8        82850235   \n1              US     40835037  R31LOQ8JGLPRLK  B00OQMFG1Q        82850235   \n2              US     51469641  R2Y0MM9YE6OP3P  B00QERR5CY        82850235   \n3              US      4332923   RRB9C05HDOD4O  B00QUFTPV4        82850235   \n4              US      7846966   RY8DDL22YG4R5  B00KA6CCVY       563475445   \n...           ...          ...             ...         ...             ...   \n59795          US     38978459  R2CDRVDUKB5Z9P  B00005OTZQ       554527960   \n59796          US     51697602   R1DVLTZFXXOX9  B00005OTZQ       554527960   \n59797          US     50891675  R1GHKKZMHAHQC1  B00005OTZQ       554527960   \n59798          US     38528439  R227G6T5B26DVC  B00005OTZQ       554527960   \n59799          US     47099634   R44WS2RSQQ0HR  B00005OTZQ       554527960   \n\n                                           product_title    product_category  \\\n0                                   BlackVue DR600GW-PMP  Mobile_Electronics   \n1      GENSSI GSM / GPS Two Way Smart Phone Car Alarm...  Mobile_Electronics   \n2                        iXCC Multi pack Lightning cable  Mobile_Electronics   \n3      abcGoodefg® FBI Covert Acoustic Tube Earpiece ...  Mobile_Electronics   \n4      Aweek® Air Acoustic Earpiece Headset for Baofe...  Mobile_Electronics   \n...                                                  ...                 ...   \n59795               Royal SE 2800 Hand-Held Spot Cleaner  Mobile_Electronics   \n59796               Royal SE 2800 Hand-Held Spot Cleaner  Mobile_Electronics   \n59797               Royal SE 2800 Hand-Held Spot Cleaner  Mobile_Electronics   \n59798               Royal SE 2800 Hand-Held Spot Cleaner  Mobile_Electronics   \n59799               Royal SE 2800 Hand-Held Spot Cleaner  Mobile_Electronics   \n\n      star_rating  helpful_votes  total_votes  ... Pro_Count  Pre_Count  \\\n0               5            0.0          0.0  ...       1.0        4.0   \n1               5            0.0          1.0  ...       1.0        0.0   \n2               5            0.0          0.0  ...       1.0        1.0   \n3               4            0.0          0.0  ...       0.0        0.0   \n4               3            0.0          1.0  ...       2.0        2.0   \n...           ...            ...          ...  ...       ...        ...   \n59795           5           23.0         27.0  ...       0.0        0.0   \n59796           5           10.0         11.0  ...       0.0        0.0   \n59797           5           13.0         13.0  ...       0.0        0.0   \n59798           5           58.0         61.0  ...       0.0        0.0   \n59799           4           37.0         38.0  ...       0.0        0.0   \n\n      Con_Count Art_Count Nega_Count  Aux_Count Authenticity    AT  Genuinity  \\\n0           0.0       2.0        0.0        1.0     0.928571  32.0   0.499943   \n1           0.0       0.0        0.0        1.0     1.333333  28.0   0.499936   \n2           1.0       1.0        0.0        0.0     1.083333  30.0   0.499877   \n3           0.0       0.0        0.0        0.0     1.000000  28.0   0.742184   \n4           2.0       0.0        0.0        3.0     0.958333  24.0   0.675685   \n...         ...       ...        ...        ...          ...   ...        ...   \n59795       0.0       0.0        0.0        0.0     0.521401  30.0   0.499941   \n59796       0.0       0.0        0.0        0.0     0.732558  30.0   0.499705   \n59797       0.0       0.0        0.0        0.0     0.676190  30.0   0.499595   \n59798       0.0       0.0        0.0        0.0     0.479109  30.0   0.499938   \n59799       0.0       0.0        0.0        0.0     0.503356  30.0   0.499939   \n\n                    label  \n0      Moderately Genuine  \n1      Moderately Genuine  \n2      Moderately Genuine  \n3      Moderately Genuine  \n4      Moderately Genuine  \n...                   ...  \n59795  Moderately Genuine  \n59796  Moderately Genuine  \n59797  Moderately Genuine  \n59798  Moderately Genuine  \n59799  Moderately Genuine  \n\n[59800 rows x 36 columns]"
     },
     "execution_count": 11,
     "metadata": {},
     "output_type": "execute_result"
    }
   ]
  },
  {
   "cell_type": "code",
   "metadata": {
    "deepnote_to_be_reexecuted": false,
    "execution_millis": 6103167,
    "execution_start": 1652894619753,
    "source_hash": "e29a453b",
    "tags": [],
    "cell_id": "00017-c35038c1-bfa7-414b-b55b-e1bfaaf4c753",
    "deepnote_cell_type": "code",
    "deepnote_cell_height": 80.953125
   },
   "source": "df1.set_index(\"review_id\",inplace=True)",
   "execution_count": null,
   "outputs": []
  },
  {
   "cell_type": "code",
   "metadata": {
    "deepnote_to_be_reexecuted": false,
    "execution_millis": 1,
    "execution_start": 1652894619803,
    "source_hash": "86f5fd8c",
    "tags": [],
    "cell_id": "00018-555803c3-9677-45b6-b8d7-e47973f6b5ee",
    "deepnote_cell_type": "code",
    "deepnote_cell_height": 674.953125
   },
   "source": "# Latent symantic analysis\n# it will analyse all reviews and determine all reviews belong to the same concept\ndef LSA(text):\n    #text is list of reviews of same product\n    \n    \n    # Created TF-IDF Model\n    vectorizer = TfidfVectorizer()\n    X = vectorizer.fit_transform(text)\n    \n    # Created SVD(Singular Value Decomposition)\n    lsa = TruncatedSVD(n_components = 1,n_iter = 100)\n    lsa.fit(X)\n    \n    terms = vectorizer.get_feature_names()\n    concept_words={}\n\n    for j,comp in enumerate(lsa.components_):\n        componentTerms = zip(terms,comp)\n        sortedTerms = sorted(componentTerms,key=lambda x:x[1],reverse=True)\n        sortedTerms = sortedTerms[:10]\n        concept_words[str(j)] = sortedTerms\n     \n    sentence_scores = []\n    for key in concept_words.keys():\n        for sentence in text:\n            words = nltk.word_tokenize(sentence)\n            scores = 0\n            for word in words:\n                for word_with_scores in concept_words[key]:\n                    if word == word_with_scores[0]:\n                        scores += word_with_scores[1]\n            sentence_scores.append(scores)\n    return sentence_scores",
   "execution_count": null,
   "outputs": []
  },
  {
   "cell_type": "code",
   "metadata": {
    "deepnote_to_be_reexecuted": false,
    "execution_millis": 971166,
    "execution_start": 1652894619804,
    "source_hash": "641d3a9d",
    "tags": [],
    "cell_id": "00019-2ce92914-b440-437c-ab6f-771ee9fc09ab",
    "deepnote_cell_type": "code",
    "deepnote_cell_height": 2277.8125
   },
   "source": "product_df = df1.groupby(\"product_id\")\n#grouping dataset by product_id\n\nunique_products = df1[\"product_id\"].unique()\n#stores list of all product id\n\nno_products = len(unique_products.tolist())\n#no. of products\n\nremove_reviews = []\n#store review_id that are fake \n    \nfor i in range(no_products):\n    #iterate through all product reviews \n    \n    df1 = product_df.get_group(unique_products[i])\n    #dataframe of a single product\n    \n    unique_reviews = df1.index.tolist()\n    #list of review_id of reviews of same product\n    \n    no_reviews = len(unique_reviews)   \n    #no. of reviews of same product\n    \n    count = no_reviews \n    #count is no. of reviews that can be analysed\n    \n    reviews = []\n    #list of review texts\n    \n    review_id = []\n    #list of review texts\n    \n    for j in range(no_reviews):\n        #iterate through all reviews\n        \n        text = str(df1.loc[unique_reviews[j]][\"review_body\"])\n        # text of a review \n        \n        #cleaning the text\n        text = re.sub(r\"\\W\",\" \",text)             \n        text = re.sub(r\"\\d\",\" \",text)             \n        text = re.sub(r\"\\s+[a-z]\\s+\",\" \",text)    \n        text = re.sub(r\"^[a-z]\\s+\",\" \",text)    \n        text = re.sub(r\"\\s+[a-z]$\",\" \",text)    \n        text = re.sub(r\"\\s+\",\" \",text)\n        \n        words = nltk.word_tokenize(text)\n        #text into word list\n        \n        if(len(words)==1):\n        #if only one word in text review\n            \n            if(len(text) <=1 or not wordnet.synsets(text) ):\n            #if word is having only one character or invalid english word\n                \n                remove_reviews.append(unique_reviews[j])\n                #append this review as fake\n                \n                count-=1\n                #review left to be analysed will be decrease by 1\n                \n                continue\n                #check for next review\n                '''\n            elif(len(words[0])<=1):\n                remove_reviews.append(unique_reviews[j])\n                count-=1\n                continue\n                '''\n        elif(len(words)==0):\n        #if no words\n            \n            remove_reviews.append(unique_reviews[j])\n            #append this review as fake\n            \n            count-=1\n            #review left to be analysed will be decrease by 1\n            \n            continue\n            #check for next review\n        \n        review_id.append(unique_reviews[j])\n        #valid: append review_id to review_id list for analysis\n        \n        reviews.append(text)\n        #valid: append review_body to reviews list for analysis\n        \n    ###########################################################################################\n    if(count<=0):\n        #if no reviews left to analyse \n\n        continue\n        #check for next\n        \n    if(count==1): \n        #if only one review is left to analyse\n        \n        #check concept between product title and the review\n        \n        text = [text,str(df1.loc[review_id[0]][\"product_title\"])] \n        #add product_title and review to the list \n        \n        sentence_scores = LSA(text) \n        #call LSA method to get the score\n        \n        if(sentence_scores[0]==0): \n        #if review score is 0, then it's fake\n            remove_reviews.append(review_id[0])\n        continue\n    \n    #list of scores of reviews of same product\n    sentence_scores = LSA(reviews)\n            \n    for j in range(len(sentence_scores)):\n        #iterating through all the scores\n        \n        if(sentence_scores[j]==0.00):\n            # if score is 0, it's fake\n            remove_reviews.append(review_id[j])",
   "execution_count": null,
   "outputs": [
    {
     "name": "stderr",
     "output_type": "stream",
     "text": "/root/venv/lib/python3.7/site-packages/sklearn/decomposition/_truncated_svd.py:194: RuntimeWarning: invalid value encountered in true_divide\n  self.explained_variance_ratio_ = exp_var / full_var\n"
    }
   ]
  },
  {
   "cell_type": "code",
   "metadata": {
    "deepnote_to_be_reexecuted": false,
    "execution_millis": 24,
    "execution_start": 1652895590970,
    "source_hash": "82024ecb",
    "tags": [],
    "cell_id": "00020-25a759ae-945e-48ae-b312-b821d5170604",
    "deepnote_cell_type": "code",
    "deepnote_cell_height": 707.953125,
    "deepnote_output_heights": [
     611
    ]
   },
   "source": "remove_reviews",
   "execution_count": null,
   "outputs": [
    {
     "data": {
      "text/plain": "['R2XP7IT7WBPZZ4',\n 'R1N799NZ4DA5I9',\n 'R2IJJ3700Y0FAV',\n 'R2K2WK38XR5FKZ',\n 'R8P7Q3NE3Y83S',\n 'RH5S9U2O986EO',\n 'R2J6S9QEIBXZ12',\n 'R37R7W7NP0W2HR',\n 'R2Q49CHI4FQE7W',\n 'R20HZYSZNZCTXI',\n 'R1FYQ6XBZ7DROH',\n 'R16AB1BB711MQ',\n 'R2H4ZPCDG6J499',\n 'R1I45HX1F3CEEN',\n 'R33B5EJNQUDJFQ',\n 'R263HF7Y019EXN',\n 'R2HY5SZEWWV85X',\n 'R3MVJI5VIUD1X5',\n 'RORI55TTADI1D',\n 'R3QGSRYM0O677I',\n 'R7GX7JKCBQEBJ',\n 'R3IWX7KI9ME00Z',\n 'R3H3Q9C71TJ245',\n 'R2OXHXPHP6QFDH',\n 'R2M2DJYNGDYKQV',\n 'R3OCDJBYBH58H4',\n 'RHDVMBV6IE7XH',\n 'R1DC4EYQQFBQ5N',\n 'R3DWI4IGHITTSB',\n 'RVL6X6XTAV2OC',\n 'R2XB3EGZKSEKT6',\n 'REVNCXLCI2693',\n 'R351AEVJKC896B',\n 'R37BYYM3LNJ04',\n 'R2QNV1CY6IR8YZ',\n 'R34EZZ68VYPHO0',\n 'RDO57PI4KV5IA',\n 'R8XZVIW6UHPGF',\n 'R18FQT7C4UFCBD',\n 'R3898FYOA3LAYV',\n 'R1XB7Z542G0I97',\n 'R2K6X4LC2NHV0R',\n 'R20HND185O0FLE',\n 'R1XYU41VP0ZXLA',\n 'RO6UAHSJNV9E6',\n 'R104MY31OKNGXH',\n 'RWT1OTTEV12NZ',\n 'R2H7T7QDBOLJXW',\n 'R1MJCQGOKPWSO6',\n 'R3LJGWW0TUM2DE',\n 'RJLIBGUCDLEZ7',\n 'RS3QHIU5EDJCF',\n 'R1YTBAG6HD48JI',\n 'R3DQHDU2WIHCUI',\n 'R2MQ87WXOD18HO',\n 'R23OQU3QDDMRK4',\n 'R3VIDUEMIF1CZT',\n 'RV76BD4BBGI0U',\n 'R3PTD2BL5F2P3S',\n 'R3Q046U8FZ4X3K',\n 'RC92IT9ENY4TA',\n 'R261EV88NBGM5D',\n 'R25IL7DCFKGMXZ',\n 'R3VHRN80D3K0B6',\n 'RMXIO4CAYR8O1',\n 'R36A0KHN48CHBP',\n 'R1HHV19GIRFA9P',\n 'R1G2I0A7LPF41G',\n 'RK4YNJ84Q71BY',\n 'R3C7OODQINRA8M',\n 'RUC0IUI8OP9EG',\n 'R1TNGCEFQ24HE8',\n 'R14BLNL7DBHVRW',\n 'R1VG4MT1VPY055',\n 'R2BUM5VFB2ACUT',\n 'R2B61C7TYQR2EO',\n 'RKLX3GP4P744D',\n 'R1SBEV4UVK5BYN',\n 'RYRQJX8TGIUHW',\n 'R1I1SAO01OYTA3',\n 'R3ELSRXDF1FBGJ',\n 'R3HTXIER9XSC1N',\n 'R380AYUQRK3B8P',\n 'RAZU0M0FWK9K8',\n 'R3QPRXEHA9RCWB',\n 'R1467K4KRTM0FJ',\n 'RSBMCE0787I8Z',\n 'R2XSY1J9113E6X',\n 'R2MV8R7D6XRR1A',\n 'R2Q5F9JF12ED44',\n 'R3VLPA0R3FIOFG',\n 'RP2OWBBQT173L',\n 'R3EWOEPIJIP6LW',\n 'RT8RCRDMGP59I',\n 'RKXMH6MQ7MB8Y',\n 'R2AFK148WXYLW5',\n 'RP08GVY9EU6NM',\n 'R60JQN9PDDK90',\n 'R2ROIXNRML4GU2',\n 'R51ZAJN340R0A',\n 'RJNAH6K2JMLSL',\n 'RK2SMU85QSJQ3',\n 'R2HPDPI0FLASE4',\n 'R1MTOG8C9Z45BX',\n 'RS2A32D19I2H9',\n 'R3H2QTTV16RT63',\n 'RE5HMKRUQV18P',\n 'RWY13SSOFJ974',\n 'REAUNK6LWRIKU',\n 'R3CZ23MR6BC22M',\n 'R18TG2USOSVOC3',\n 'R2J68T8Y2ZWUSP',\n 'R3V7GO2GYDJA9M',\n 'R2YMGR8WYB3SWP',\n 'RGZ4MVKOULIXR',\n 'R802NI63NKL9V',\n 'RBKUGHHNXVYG0',\n 'RHK9SLC4KVI7E',\n 'R2F9QJVPFJ62XJ',\n 'R32EGNIY2XBFLP',\n 'R2O0LZSPMME6US',\n 'R367YN06PHF3SL',\n 'R1ZYAN34E54Z6C',\n 'R1KJT0YZ6Q7F5D',\n 'R1DV5KDMWH08N4',\n 'R174E63UVEWXYD',\n 'R1URGQG52JBIKA',\n 'R13H2YPLZ5F4FG',\n 'R2XTTZR64HR5WT',\n 'R2THF4WA4YMT19',\n 'RELTC0HO9YG6A',\n 'RPEZ0SYDUTVHR',\n 'R2CWQM816OMY34',\n 'R30KMQ9A0L3HC8',\n 'RJ71UJWKMUMOL',\n 'R3QJGA8GWDCTJ3',\n 'RYAQ8YK6M374L',\n 'R2L6R25DJDWD4V',\n 'R1OGYLKGK2USEE',\n 'R1BLPUJB0DX2Z9',\n 'R3L5K8V5YCDLV6',\n 'R100K74OXW3KD0',\n 'R1ED9U68DFV8V4',\n 'R18XUEGLSQVMM3',\n 'R2WX33ATCXHCSF',\n 'RLXTLD5VTX858',\n 'R17RT9YAHGPLML',\n 'R3DL9NU0CIPKH',\n 'RWRD4W8EG76J1',\n 'R3JQAX7NP49PRY',\n 'R1HSO0UL9THT4U',\n 'R1XAZHH5MF0BBH',\n 'RXDCJEIWJFA9D',\n 'R2M2L440U6AAJJ',\n 'R3SEJVRLKX4E6I',\n 'R3KXIG37RIZAFI',\n 'R1VPWWEGR3ZY7E',\n 'R1NK0GJ5WX9J9E',\n 'R2ZI0TIB561C42',\n 'RYW1YT2Q4MQ62',\n 'R1J42HVIEBY10C',\n 'RK5JZCSRIZDUO',\n 'R3CFI4C2T44OH0',\n 'R1S14AETK9NVFH',\n 'R2CODJGIMQUY8D',\n 'R2NNIXJ11H0GSF',\n 'R3RRYY23ANJD99',\n 'R113MFNEZ9VFZS',\n 'R66I3Q6674C4B',\n 'RLXIQMKQNBSDH',\n 'R2TN5287YB5O5A',\n 'R194U8HWRYMJJT',\n 'R2PDW9629J8S3H',\n 'R260JCLMPQXGKO',\n 'R1832OFON36L2C',\n 'R2ET3M4CG36QVA',\n 'R30MY95GPQDGSB',\n 'RX1EMI92N1WXC',\n 'R3TA9GIZU6R9ZM',\n 'RB8HA4I455ELA',\n 'R3KQB8T3RUP1HK',\n 'R1CWQRGCBEJYY0',\n 'R12BI7OVVMHZ6A',\n 'R1JB2FIQVAC46Z',\n 'R31OEU3B5FDI8A',\n 'R1GZIUKMHTY1UB',\n 'RU1BAQVSZ77KX',\n 'R119V02ILAYFRR',\n 'R1P0F00UCM7HBQ',\n 'R3HOYAAIKSA7VB',\n 'R2W5YZQG2KTNSO',\n 'R98B5MW7K7DFA',\n 'R37L5U3773P9TL',\n 'R1X4QGRNO5Z7EL',\n 'R2XDUGJDPUM0L4',\n 'R1PG3C1XFYDCY8',\n 'R17Z4ASK4JF861',\n 'RE9DAU670BX1L',\n 'R28KK80NQ1OWX7',\n 'R22AAC9RY7XMWF',\n 'R3DK2D6EHJDM02',\n 'R1A0NIYJ19ZQ7G',\n 'R253Y0OESD1QS2',\n 'R3QKY0QOZ38JU5',\n 'RAR3XSHE1X3FL',\n 'RIPOKQX5CN9FX',\n 'RYXL5DV0LHU8K',\n 'R3IYS1G4QUWCKX',\n 'RMT3UEK9R3LEH',\n 'R268Y5KZIIP3XI',\n 'R32RLPFB3BUF8N',\n 'R98LQPZZZ66UV',\n 'R2HLQ63CQPZV5E',\n 'R3GMA9Q92KINWM',\n 'R2XCPDB2B44NDW',\n 'RULQV4941HMZ5',\n 'R3LXCX4MCDYQEK',\n 'R8IL7462X27YZ',\n 'R1DA7Q9CEDRI23',\n 'R25BHMLRWFWPN1',\n 'R3UVB6C8U7L2ZY',\n 'R2YH2439HLA5J4',\n 'RQJISYEXZ6OHY',\n 'R1PLK4QEMAWNXC',\n 'R1NR8MPRSMM0PG',\n 'R321L5O20GCTH4',\n 'R1ZHZPKT1A524N',\n 'R26CHAEA0NJEPT',\n 'R22BYECUU3HYGX',\n 'RMDEIDN485JIP',\n 'RPXDCQ1AW8I6U',\n 'R1DZUZWRAJVXVO',\n 'R2D0C49KSVCB5F',\n 'R3BUPK4VY7GJXX',\n 'R2E2YPQ480T843',\n 'R1FF9JBJVFRE5Q',\n 'R38VUNFHQ829WQ',\n 'R3LRWIBWD0EM3Q',\n 'R18XEH3CTI17PJ',\n 'R2B8R3L0CZG4DD',\n 'R3G5H8HACXVU6E',\n 'RUAXZ2T4XBWE0',\n 'R3JRYOG8D8KO4E',\n 'R2LU79GWSRJZ7A',\n 'R1ASDFLWYKZZO5',\n 'R1ON4IXZB3O2ZX',\n 'R309CG6X5YVGRC',\n 'RNT8WMQCE6ZNK',\n 'R7B1XKSUBVVYH',\n 'R2KW2DFY5P0P3A',\n 'R3890V1Y3355HT',\n 'R1I80QK5MC617N',\n 'R1GZPU0SVM8SA3',\n 'R2J1IO3U7KQ57M',\n 'R288DG661IHEJ9',\n 'R2ZE84TWFDUUK2',\n 'R3KU91065W0MEB',\n 'R2D96W31IAEA9O',\n 'RW1LT8UJVXHCB',\n 'R1C3X241TZ13XK',\n 'RT9U9W1PE7XB7',\n 'R2JIX19YD3WHT4',\n 'R8J54IMM2TCLD',\n 'R7RZBWRFUIZNR',\n 'R25BP64Y7OBXNB',\n 'R2SWNBFX931XP7',\n 'RW5R5U981902D',\n 'R28SBTYIL5OCGD',\n 'R2N8N3JHHPRYFZ',\n 'R1313WXHZD7MGX',\n 'R5XFR314DAER4',\n 'R20S4H861YEQB3',\n 'R1TU6ZFT4TEQ3P',\n 'R1KM113Y02PGT0',\n 'R2G0LI870J1H5J',\n 'RNDH75JE9I8EY',\n 'R1TMI1XE916HSI',\n 'R26YZWQ2VXVP8N',\n 'R38P1QQGMIA3UV',\n 'R27LD0IX48PSH0',\n 'R1FA101J72Q5N6',\n 'R1X3GCQPAYCJ0B',\n 'R3DUOUV902K6MD',\n 'R19DX7I2DE6YE3',\n 'R1X5Z3HJS57LIN',\n 'R2NWNV371VKOM3',\n 'RPQX72L1WMCOQ',\n 'RCHI2UL5CRGTQ',\n 'R286FBMJM6KBVL',\n 'R3BJI8TS2B2UYS',\n 'R2KLHK70AHOITV',\n 'R2LJH9HLON5K23',\n 'RS3WNPNGUZQMR',\n 'RQ6JB8KGZEAQC',\n 'R3S1GI85510357',\n 'R1N7UEZRGFON2P',\n 'R24SL0283VNCPK',\n 'R3AGXFZP9U1GBM',\n 'R7OINDI1RJASC',\n 'ROMBUJ1PQBND0',\n 'R1RVGOH3ERNHWA',\n 'R2UIOLTCBWMGUQ',\n 'R1NP6TGG5T9WKM',\n 'R2VH1PAPN673AZ',\n 'R48AWFNSQC5UZ',\n 'R1NRRN3A7MLZH4',\n 'RKDWYW5074B52',\n 'R15UUYYAPVGFXB',\n 'R2RPO88S6EIB9T',\n 'RZP1YLW4FB0ZJ',\n 'R1Q73EVHPZ3RVV',\n 'R2TRE6LQYCVEYW',\n 'R1YG6X03URYI8T',\n 'R3FGTI4HR5WBLF',\n 'R1D0GFI8WYGV0Q',\n 'R2BPT7LMMPWISV',\n 'R30X4V0NO2GOAW',\n 'R3ISGPEW3GWCVT',\n 'R3KJ4MLARLB8YI',\n 'R1VZZKZ6Q9X5RW',\n 'RU0GH45JOJFTF',\n 'R93V3P2RTUXUW',\n 'R2CM5NACQ8OCWI',\n 'RZ9X3UVPYHZY5',\n 'R1RNP94U4ZBQ5A',\n 'R3BBXYMBOGFDOL',\n 'R2AEPF80E49X5I',\n 'R11T0Q1H6Y3TUB',\n 'R1OFI0QQPTOMW6',\n 'RI1TYLKHWTR7Q',\n 'R2M5F3I1UG7PO0',\n 'R16PNF5FYHUDMK',\n 'R34YPA0LFHJRAX',\n 'R1661GJ1ODJ4GA',\n 'R2R42P2AX1XX6E',\n 'R15FDVJE0SN3JA',\n 'R3KGQNCV5UPSY7',\n 'R4EHAURULNFJ7',\n 'R1HKNRLT4P8P76',\n 'R1PTM1Z4JS2NDQ',\n 'R33LT6M364OAOP',\n 'R1KH75PBOSUH0M',\n 'R3VJRLU3J9DYFW',\n 'R10OFCY1NG9XT1',\n 'R37FE90F4D66VZ',\n 'R7L22LEG2BUVA',\n 'RRLR0UYQ5HEBQ',\n 'RGH01F1K99CJN',\n 'R1AEL8XMKRT511',\n 'RWJJ2SRY529K9',\n 'RJ7HN0Z79KGYE',\n 'RCNWU1OYGPYUH',\n 'R2RMALH8GX2JMD',\n 'RYV0E9CUARKQO',\n 'R3VDE5CDIQ9UZ2',\n 'R3N3LAMZQWFPL9',\n 'R12Q28IWO88AR1',\n 'R1L6TZGMJY7CZZ',\n 'R2XVNWIAEXUI3D',\n 'RHGPWX9D0FZX2',\n 'R16UR7RL82709S',\n 'RFJR8H9C7K26V',\n 'R3PTK06S3KGU9T',\n 'R6FHRJMJ9A1E4',\n 'R1GLGXKT3BUUIP',\n 'R1A99SA3TDUBMD',\n 'R20FLFR451WNTA',\n 'R2CS554WNID2HV',\n 'R2PK1727JDCXN1',\n 'R3A4D1FKEKZ7AV',\n 'R3FNWBRE92H42D',\n 'R2IYXDDETMVUHG',\n 'R1JC0Q26DBCWX1',\n 'R2F8SQLK019RNH',\n 'R1S36WXAYUH09A',\n 'R3FO23QPKRFCJ8',\n 'R2V0HCFSE40EII',\n 'R3BLDISO273PIQ',\n 'RWQJH7GNF5XSF',\n 'R2B4LTH3T69U1',\n 'R1UJ4EQ7BIF5GK',\n 'R30YHBJQ6E4E2G',\n 'RDSJQSAZIQBSU',\n 'RBI83XASU7ZSP',\n 'R3U668T3TDBR0',\n 'ROXHLY7K9173Q',\n 'R2DWUN855LF6U6',\n 'R3K82I2ONT7KFD',\n 'R2FINNQ82O1LZD',\n 'RISO3IGNUMK2D',\n 'R3J4M6IHNIVUF6',\n 'RCZLBE2OL3X0B',\n 'R2MYVZPYZAEZZN',\n 'R1GKAQ35KHAM6A',\n 'R2TID4JJCEDWVA',\n 'RDCB7XKJ1CCY8',\n 'RCJYMSYZLMEVZ',\n 'R3078R9IW0YEPV',\n 'RM1P5CBRCW1J0',\n 'R1Y0S4R84X9XPY',\n 'R1E8YDQ6S8VBC0',\n 'R3O7Y3J8B7CFXV',\n 'R2N29SWNVQZ0TW',\n 'R357GBBFGOZ2H4',\n 'RBDB1DUI1356A',\n 'R31IHYHGMK0BNQ',\n 'RURBZHU2CUEAD',\n 'R1N7DDCXX6N10Q',\n 'R2W7OP16NSAUG7',\n 'R38IJ43J8M50FB',\n 'R1DJB46J0JLU3B',\n 'R1P8C7YF1SNJIH',\n 'R1NQOZT7ZUFARN',\n 'RBYNRZS3470MS',\n 'RIJ8SKEPFZ0FQ',\n 'R3P1JMQCOTRY6Y',\n 'R2AVJRD3KDRZ3X',\n 'R3PS4GS8GXXQ3T',\n 'R2SGRFTM7FR78S',\n 'R317D4TU9VXQK3',\n 'R27IOP4VTSL5LK',\n 'R2ZRSKAP7CM9S1',\n 'R2GS3ESH6EJAYF',\n 'R3CQSJK6MKFPR5',\n 'R2DPCF02NONCP0',\n 'RHKT1XC6W1SS8',\n 'R3FAV28GYZDFNS',\n 'R1C9QMEFG018AM',\n 'R2ZXJ310QAGYX1',\n 'R3FZ77RBE33768',\n 'R2QN1591ZEUSLX',\n 'RX3REE8YK33X3',\n 'R2FJQN4ZAHEZ1A',\n 'R1F10B7HWK27F2',\n 'R2BIKLVNOC429M',\n 'R3G23YM4XJNG7W',\n 'R1TVJ2DDR5KT3T',\n 'R2DVMSVCOHC7N7',\n 'R3Q38EEXCSQF8L',\n 'R3LLGZJYS7FUAX',\n 'R3A99XDTB3S67I',\n 'R1OPBBMDBI2IAX',\n 'R275CM6AGNIQI6',\n 'R1B6CGW84VW44V',\n 'RXANA0EYBYRNH',\n 'REETTS40B29IF',\n 'R3N5LSOGGA8S69',\n 'R2Y6X5SUOKYSJV',\n 'R2U0HQO5BXB36P',\n 'R2ATAT4C75CXU8',\n 'R2RB1B6F5G0IYU',\n 'R3NTCO3S4CNVQW',\n 'RUNEK2OWQ8F0W',\n 'RV3V6QPQXMVOT',\n 'RXMNO81J81UU3',\n 'R2XCUAU9HCUI7D',\n 'REU2U17D97R6',\n 'R100SPJKAQ6TI4',\n 'R1JKG1CTOKUP2A',\n 'R1SUGXTFMA2FHT',\n 'R3NWE6CRNYXUPQ',\n 'R1E34H3E32BXPN',\n 'R2M5RJQZADC703',\n 'RI9278XWCTZHL',\n 'R1Z08HKLKPM4RU',\n 'R3RF3NG411BFV3',\n 'R9E611A4NNL5Z',\n 'R3FZGZILX17K5G',\n 'R11BWKWMNU3ZO',\n 'R3VSHMUMY8JCFF',\n 'R2KAMZU9S2V18G',\n 'R25N7M4MC64V2W',\n 'R32WG8UHF10A4S',\n 'R3TV3ZQIHQUWWE',\n 'RSDSFVACVVA8N',\n 'RYRGGQ4NIK3VB',\n 'R3D5OD28O8OTTW',\n 'R1AMY55WWN1960',\n 'R12RBG6S5X2Y9F',\n 'R1NGK8W2YGF4KG',\n 'R3MEQJMOMES8MB',\n 'R34HMDA3YHIGGL',\n 'R3LXAYZTREV9SE',\n 'RRZBTUEZYIHN5',\n 'RM4KYAPHTWYVA',\n 'R2F6G90WAIWKZR',\n 'R2WLR40KGIUB2',\n 'RIKPN32YCLIYY',\n 'RCB13K8O7OS0F',\n 'R1K37JTJ03K0U',\n 'R1G14A2O5G0V6D',\n 'R3CTWSX8YAH90D',\n 'R159JVK92BBDTJ',\n 'ROF9PU3X9BM6W',\n 'R2UWMGEYJ6UG50',\n 'R3M1TR0OKERQS0',\n 'R3TZED4EWF7LKW',\n 'RRINTQFVGT209',\n 'R39H8KKTZIEMJX',\n 'R1XR716C9XS64',\n 'R5Y7WWDVKEUKS',\n 'R3LSO2FL2ZTNJS',\n 'R1UW5CE1SRWXEG',\n 'R22E44OMW53A3O',\n 'R1FQ6ZJ3YM5TPW',\n 'R2B1J0DV4Q90C',\n 'R2HM425RPVB5OV',\n 'R3H115TI9HG1A8',\n 'RNN38RFJVIE5G',\n 'R1Z65S58AEJJMJ',\n 'R3MWLDA9M77DJ5',\n 'R1L12BFD6RYXJU',\n 'RMCTDSYKO0HVQ',\n 'RN0PSP8IDMKM8',\n 'R1D3KIOQDNUYDK',\n 'R2JLPX7U1LFZ0L',\n 'R16NN4MG954D7X',\n 'R1RD8OXEHP0Z4G',\n 'R30HKZ1L9IKISC',\n 'R1MSF5J0BLX5JB',\n 'R1Y9FEZ28WXX61',\n 'R117VG9JJAMOHN',\n 'R3VGAMF3UYOOE0',\n 'R3MDZZU56GPUWZ',\n 'RGJV7OZJMNRHZ',\n 'R31V22ANXPYTZJ',\n 'R27L9Y7UUX8OAX',\n 'R3T0N9A2SDWVQ7',\n 'R25VI660K2KW0N',\n 'R3CC80M8AB3TMG',\n 'R2QCDSEHN4EA7F',\n 'R1BKGIT2OA81ON',\n 'R17QFJMP8PG2OO',\n 'R2Y13OG5FQZBB7',\n 'R3S81IXDGZZ1WG',\n 'R1D29E4YCB0GP',\n 'R6D3FBJR6UPMI',\n 'R75G1CZ1K3M4U',\n 'RZNCOKLFTRV02',\n 'R1AEWMPKRHO009',\n 'R1I27BR63GST2W',\n 'R2SU3LIZTQC9OB',\n 'R2539JBKKEZO1X',\n 'R1G3ESSSJY9MQF',\n 'R1AQIU3Q6IADCT',\n 'R10U8GPNK1IE29',\n 'R1SNYO90CMI8GT',\n 'R2JJDHU9EF7DQK',\n 'R2HNLGP5UOLB7M',\n 'RZIZI6MXHT08E',\n 'R1D47VCUIO7GCM',\n 'R1P2B34QF4ADMT',\n 'R3501Q2ZK47XY2',\n 'R1TWYT7MYM9XYN',\n 'R3F58I5XVJXYNT',\n 'R2Q4UKTHJKPV19',\n 'R2WHPTQLEU2PA0',\n 'RZBQ4L1TMVPAL',\n 'R3EKKR3F5QHW2Y',\n 'R1NL1E36NXA99Y',\n 'R1XYE4DPHURH1K',\n 'RIQHHU5KJHUT7',\n 'RVK6X6VDKTHXF',\n 'R2ZB7KSVT3LE0',\n 'R1W0JR6H5CRNS7',\n 'R7N3WLI7C64OJ',\n 'R1FFMV2OGGGBXI',\n 'R3K2UZ5AYQQ52I',\n 'R3H8RKYPOZJX13',\n 'R3SOEEKKKHB5LE',\n 'R32YH2BV6X8WOU',\n 'R326IMA66X8KXB',\n 'R2URVOL4YQ1PCV',\n 'R1F94O5UMCQKHD',\n 'R3GGM9WFD9OQSB',\n 'R2MXPNP5TAWXQ8',\n 'RLP39CVUG7LC5',\n 'RA6OHYP373VWR',\n 'R2SL70XBCIUL1A',\n 'RSPXX9CVKM3NR',\n 'RMXAZRWDS47OS',\n 'R1G1E7FGIQSOHM',\n 'RNF4MZ8RK6ICV',\n 'R359JI8PHR92ZN',\n 'R3L9SXX2MIDF6M',\n 'R1RX7FQYWOYV2E',\n 'R1NXJOD32GM0XE',\n 'R16CEWB8BKZ06H',\n 'RYBSSMO5D6CXA',\n 'R169P7TXQAB7GF',\n 'R2ZWZ1SLYTJK8B',\n 'R13QBRSTDYMFI7',\n 'R5VSM0VPKN96Q',\n 'R1UATTYXELKRLJ',\n 'RVLVQ9O1YXC25',\n 'RRJEXG5B2QJ5A',\n 'R2GL6CVNJCREMJ',\n 'R2KF9QCDP7I1N6',\n 'R1ZUF3P9CDOAU7',\n 'R1468J8UWG1Q0B',\n 'R347ADGY5T3A8H',\n 'R1UUB87DTEE81V',\n 'R2LEIM8T2ETXLB',\n 'R2B7YH8HJ68NRC',\n 'ROFX1MA98MFHL',\n 'RXA0F4RDG0FYB',\n 'R267LS88Z8MWYS',\n 'R10JXFXKBOR2K9',\n 'R35Z3EQEEDOW65',\n 'R3OTMVWJ4AJ20K',\n 'R224TA9DM6VLTV',\n 'R29H6W92OYTBFB',\n 'RRZVCG1YWODD6',\n 'RC2AS67VRLHVD',\n 'R22ECRS37Z8987',\n 'R1ZE2X5ZXKVEK',\n 'RI05ZDB3QG4TU',\n 'RO50JI09W9OP2',\n 'R2L7G1ABEOWWTU',\n 'RBGI18RS1F1Y6',\n 'R10I1IV8JB3DEV',\n 'ROEOHMDBOKLME',\n 'R3QLAW3AH606B9',\n 'R2KT25S8Z3CZVS',\n 'R3UK0NUIZVO930',\n 'R20GM06XT3OBO',\n 'R1YHTMR4BLXGY9',\n 'R39D9QPUXDSMPS',\n 'R14F227PVYHZBJ',\n 'R3CS01BX8HDVLA',\n 'R1RZOM00Q9FU9C',\n 'R3ORC3LXC1XJI3',\n 'RUFSYWR4JEM9X',\n 'R1YHSD6U1YEYKY',\n 'R15VHXOPX7I9TE',\n 'RDMYWLNDOMOZN',\n 'R22PIN0TNDTD70',\n 'R2A08CI9IIR98G',\n 'R1JONCK3MF02LG',\n 'RLYQ8B240YTFK',\n 'RSIBE5QASCAV',\n 'R29278VPRLYN0O',\n 'R2PRMLMBICKP0O',\n 'R3GFDXA6CGWTZO',\n 'R1AUT4J66FINEI',\n 'R3BFZFFX5TILG2',\n 'R3QAX1B6TZSJVM',\n 'R2EVI34A4HT1S8',\n 'RCG2JRICY1W3T',\n 'R1ZS5H26SIQ3QQ',\n 'R1IUTHTII43960',\n 'R1I9AMDUXPJMRG',\n 'R16JGW7Z6QGSZT',\n 'R3QV1FM0BBISOI',\n 'R39Y79LGVUIWAA',\n 'R18CQUTV42D0R2',\n 'R3KGGETPQ1JR3H',\n 'R9H7RM5Y3312Q',\n 'RZR8DOQ6AZOGP',\n 'RWFK9OM6YEG8N',\n 'RK6UI7TPX3RYS',\n 'RIABE5S60ZUN',\n 'R1QP7GN1T8D8OM',\n 'R2HIVGUJU36W87',\n 'R21HEAB3O1Z9O2',\n 'RYGB8JJ7QS6OD',\n 'R2FQ72XWPL1NLO',\n 'R3CU67FFUPCHZE',\n 'R3AQL1RDREB5MA',\n 'R2ZKM3L39Q74V6',\n 'R24ZXB1XH9ALM0',\n 'R3ISAXLQKJEE53',\n 'R1L7AUETBKS36D',\n 'R3NQG520MIBX2F',\n 'R34SB0X2ASV8YZ',\n 'RQNRHMQVDSX59',\n 'R1Y3W0LSNMJLMA',\n 'R2BMYZ537RJ9SA',\n 'R10POSNOTU3AFW',\n 'R28P2TYLKF1898',\n 'RQZ5DGUWN3U1A',\n 'R1AZMEHZCA1E31',\n 'R2IN0AI5WF40W9',\n 'R175PSCS49AUEC',\n 'R3FUHKCRHX6VF3',\n 'ROCH6OVGVL4IG',\n 'R3HMN3PFWMRJF5',\n 'RDM2R57IACDV8',\n 'R3O6N7I4Z5I8VD',\n 'R2ZW9US8X3RL52',\n 'R1MQNQWQL4KSJA',\n 'R354A8MGI6MLAY',\n 'R1Q2R2A7RA21KT',\n 'RMNORSGY7DPSN',\n 'R3I7JG7CSBOX9T',\n 'RKOFMUI4TMSZK',\n 'R7SMHP1OHEY9M',\n 'R21TJPUAQBXAXI',\n 'R1U7WH0485U672',\n 'R36TIZQP9W8PM4',\n 'R110H8261M3AVK',\n 'RM35UV4RRYK6T',\n 'R3O6PM2AD6J46T',\n 'R2QZ1QNHU33E5N',\n 'R2I01MAQS5S9LS',\n 'R3KVHPFK1XAL43',\n 'R1LRKPM9IN9TL8',\n 'R2K05HKEOOILBC',\n 'R1W75TSXGZSHXG',\n 'R1IG0HF4S7ETGY',\n 'RW2X2U50TUD3P',\n 'R1U8Z8CP7ELYC1',\n 'R20SN8LLY9C17K',\n 'RMED3GZ4S0GQD',\n 'R2U7CLN1LLGLF',\n 'RJ24RFFGP88HJ',\n 'R254E03MTTUOA3',\n 'R33JQ7EYABOOHR',\n 'R22GUFMSXKR8QB',\n 'R1GL25PLS5KLBE',\n 'R2IK1LEQ215GI4',\n 'RF3MDIDFS7YBJ',\n 'R17FQYCQVIGA2',\n 'RVWIW04V32YKG',\n 'RSC9CAHNVO8C0',\n 'R2RQA22KHWV66L',\n 'R8MYVHH7NJ5V0',\n 'R2OEC48EY680S2',\n 'R3DJPGUTJDNOVY',\n 'R25EU5FULK7PVR',\n 'RBYA6QX1TQ0TB',\n 'R3M1FLIM1PIFQ1',\n 'R1J669ERM0VHEV',\n 'R3Q2KS8U6RIBNY',\n 'R1Z8ELAMMZEWII',\n 'R1V5AJ8K22MZ19',\n 'R3UBKJT7PR32G',\n 'R3TN2BFQV8DXB2',\n 'R1X3UHSQR7JKYC',\n 'R64XNM27MA5PU',\n 'R18PVSPBA3QI77',\n 'R1VYEGLL1P6FOA',\n 'R12A2D870GBHXN',\n 'R3RSU3JQW7SROB',\n 'R3MQL55U3IR64E',\n 'RY9MD66FPDJ9Z',\n 'R1LUVPO2BZMLN4',\n 'RHEN2II0ZX4DR',\n 'R1WQL2YNMU1TT0',\n 'R2AJW9RVUJHNUE',\n 'R36F3M892NRQ7B',\n 'RQG462ZZ7L9XX',\n 'RBFDMOMDSA90V',\n 'RCM0TWFZXRIIJ',\n 'R2XTJ33NK5KZIW',\n 'R44QPCOPXS8UL',\n 'R39C6ZRBFVZ311',\n 'R1PKNGXMR1NMW5',\n 'R72IZEVQLKXZJ',\n 'R28RWP73OOG2J9',\n 'RT29T9YQT87VZ',\n 'RGIVGY4GB97LR',\n 'R22ABCRELN8PCJ',\n 'R5OLRLRZIP1KQ',\n 'R15TH4F9CAESDH',\n 'R6Z8T30QYAWC9',\n 'R38S2F95EZ9C36',\n 'R34RTFX2DIA4B4',\n 'R4GNUK4WTNOC8',\n 'R3PEZY5AXQWXHL',\n 'R1S3G6SV5TJK36',\n 'R2ZJLPYVNQN9K0',\n 'RM9577DE125WQ',\n 'R16E88TB7DHIVL',\n 'R31OLYFFY4JCSO',\n 'R2028O8DXRPY3S',\n 'R1PWMG92XH79FP',\n 'REJN0IL314MFU',\n 'R3E1CFG6YHWZYO',\n 'R1ZDEZ356E3HIG',\n 'R327ZC8RXRPT28',\n 'R2NOIL2SFW0FP6',\n 'R1MXCUDXATX9IT',\n 'R2Z5733QTJ529C',\n 'R58XU4C0FGSXU',\n 'R1TN4UZ7MRKEHX',\n 'R1P9AWPRSZ394O',\n 'R35MN9S1W3NDPJ',\n 'RFHVI889UF7SU',\n 'R3LS2RYLW340R9',\n 'R3GUFVMUDMMVSP',\n 'R3I27BHLG2LR6U',\n 'R2FWRI7GJXFS85',\n 'R2A6K0U911J54L',\n 'R3QCIFGSI3N5MB',\n 'R207W7C85GB4UQ',\n 'R1UWBAJR1CDPR3',\n 'R2PZFBE0T89OWA',\n 'R1B7GOBJ2U2FAW',\n 'R36NE9ICTDM831',\n 'R37CJD0A1TGVW0',\n 'R371YHAZL5G8B3',\n 'RPP6ZV102RX4A',\n 'R1VPKKJPN72LAZ',\n 'R2M2ABIAL652AJ',\n 'R1GE424M0G9NJL',\n 'R3MPG6MDDG2BED',\n 'RECS6W0R1LDFW',\n 'R1S29K471Y94GG',\n 'R2P8B0ZDBEG7SI',\n 'R1MQ2NI5K96ZVH',\n 'R16AIDWILEKLGO',\n 'R25NNF0HJSYTXK',\n 'R2TBLPWIZUDBEB',\n 'RWCL4YE4CJU3C',\n 'R17VHL0S2OUGIH',\n 'RODPOX535NVF3',\n 'R2KTUHQNVIRW7X',\n 'R157B7QP58DE5K',\n 'R33JDOH2VOHWEQ',\n 'R1FF3RH752WQTZ',\n 'R3EK8Q0IZRG262',\n 'RQ08F5E0CWSU3',\n 'R22VWU27KJOJCI',\n 'R3A0KIJB1Y3KWG',\n 'R33CSYJYX4U8QS',\n 'R2G59BJIRKJBL2',\n 'RKGHU58LUZD9S',\n 'ROI9HQP6RWV4B',\n 'R2XED8A4Q8WB12',\n 'R37OO82E127Z7B',\n 'R20BETYJ1G1WQ1',\n 'R2WBI9RONJJDE7',\n 'R23ISDP59W1GSI',\n 'RBSEY1Q697DUE',\n 'R1F3AZ26V2BAQH',\n 'R1QL5P78WZZIZO',\n 'R1SLPW92ZI89OH',\n 'R36RDMLKL2V9Z0',\n 'R37HN5NJAVV0B2',\n 'R1TM20JO4SGV71',\n 'RAM9PGMJX3QHC',\n 'R216TXLQ5O9CTH',\n 'R36Z3U3SV46ZQ3',\n 'R290RP0AZ135R2',\n 'R254HGUYZQPDWT',\n 'R2ZR0PAZJX0EJD',\n 'R2OYTETNVEGRZA',\n 'R17GM1L29R9I4V',\n 'RL180JEVI17T4',\n 'R22GOBDFIPJ2YY',\n 'R1U0HBBZLH6UK0',\n 'R2A55A5LW1XWJ0',\n 'R1P5QMI8DH8SSB',\n 'R34CKNMF0QI09N',\n 'RCEGKOGPL56PE',\n 'R3O4V0XKBK6Q2V',\n 'R1ROIM2VIPQGBT',\n 'RDTQXLN9FY8L7',\n 'RBFP226VEKJAD',\n 'R1RWA1XBUQMY4G',\n 'R2NUPIM7JGP45V',\n 'R3ILY1KFCFGJF1',\n 'R1FCNBPQFYIYFO',\n 'R25TAKG8KTXFQC',\n 'R2V298F12A5I3N',\n 'R2J6XZ61SFCX0F',\n 'R3RW1MKXBSBW9X',\n 'R1ELK5WM6OA9AC',\n 'R3CG1HC2J6Z3QE',\n 'R3V9LHCIKESJMH',\n 'RZBAS2W7FL3R',\n 'R2IEPRNON80FEP',\n 'R3PPZLJFJGDI88',\n 'R2L9SAIYU4V6D3',\n 'R1KT2HSNG2Q0SN',\n 'R1POQ9EU104U1J',\n 'R2R9H5SFFZ9H6D',\n 'R1DBK981XVZKXJ',\n 'R3H5G15AMIEJ76',\n 'R1M1BDVOJ5TGW8',\n 'R2P1OHBU6M5YRL',\n 'R2XTNZE0JPE1Q4',\n 'R3LHI2P1UCJ6PV',\n 'R2TTAFTUU2XOLZ',\n 'R1KNQLQHBQH980',\n 'R10PYJVOV9LT16',\n 'R1TAMACBG6SJBM',\n 'R37FS14AB5IEEM',\n 'R3NCOZJ0HH6401',\n 'R4N21TTMUDLLS',\n 'R1TOIX6JN8H0W',\n 'RV6G19N9CYWKI',\n 'R3OGMQ33DY81I7',\n 'R12IJDMUMF6RI',\n 'RNNAKA8P16V6',\n 'R11F2LWDXF1TKS',\n 'R3VX0C56MD20JZ',\n 'R1061O9WGWRZAH',\n 'R1FRDGNO7BDGYI',\n 'R27MBJSK489HL2',\n 'R25LLD2MSPSF3Z',\n 'R32PRISWSLRAXN',\n 'RDRVIXMR2P70L',\n 'R1MT21GT8EG1IW',\n 'RF4ZIK9N4H7KO',\n 'R2XX3TY6JTRM3X',\n 'R1QIUHHK90O68O',\n 'R3JUJBD2YPMT75',\n 'R1YWJ0S9988MRG',\n 'R3R0ERMOW4LXQ4',\n 'R2JZ4RX9U3ZPS9',\n 'R5BIFCX7NRH9M',\n 'R2HI48090MT3CA',\n 'R3605DOO3K3YOC',\n 'R314HSTX8E1EJ',\n 'RJQJBY3R7OCCR',\n 'R3LCG43SFWHM7D',\n 'R3HOEH8ULVNGKM',\n 'R2R3GO8SMV8CB9',\n 'R213WYHQ57VVJ1',\n 'RKWE3AJVNN4CZ',\n 'R3OXM7B60SXAQ4',\n 'R1R7RWJVKS6W77',\n 'R13JIFKD3BBKKO',\n 'RPABUA3JUJIID',\n 'R7GZSQ1ELBOXN',\n 'R32V8MSKMMLUN5',\n 'R3CYDMDKIJNHLM',\n 'R15ERWEPSCM30G',\n 'R3T4IVDIQUHILL',\n 'R2HKRF31IBGH5M',\n 'R3O24627P3N6M',\n 'R35OVONEQC10PW',\n 'R3AQHHHF87NUIO',\n 'RSX36KORGW6RC',\n 'R3UM4M4W8W4N97',\n 'R3L2H5OHSXV4DH',\n 'R3K8JMD1KCKVHN',\n 'R1HN5RVV81YR2P',\n 'R3J5ERV2RUKS3X',\n 'R3EN8W9BGA980E',\n 'R39B501LJEOLCT',\n 'R1YIJMWVU2BWOG',\n 'R3H3BM0A1GEUYR',\n 'R16VNHJV3F11W5',\n 'R1H69S8SE9B441',\n 'R2YAUQ1BDGINOT',\n 'R333Q8SFW39DYP',\n 'R3MOLBX2BNOUA8',\n 'RN32V71UU03E',\n 'R1HORR3JAMK5JS',\n 'RXWNM3B6QRGFQ',\n 'R1ZWHG6BREG4TI',\n 'R3N7D78YCBRQ7A',\n 'R1X3Y9K7KYYID5',\n 'R2RHG2T5A8SY33',\n 'R1ANL13715AHI8',\n 'R37DEFX9R9Z1UR',\n 'R3K90KOWO9BRG5',\n 'RGBPF94U1Q3AP',\n 'R4G8R9464NNV0',\n 'R3IKRKIYQNUJ5O',\n 'R1U3976PUGJB1H',\n 'R2ZEB4AV7WUKD9',\n 'R3F7PVHCWZ7825',\n 'R20EWQB9EO49O4',\n 'R1F6HBZXG8AIM9',\n 'R1O2NRFYZGAPYG',\n 'R12JY1548G34N7',\n 'R36UV1D5B7BAIM',\n 'R2IKWW5ROQ6HRK',\n 'R2FO5NVC8EC3UX',\n 'R7PR3OAO4B70Z',\n 'R39JSNG56CF1BJ',\n 'R2DAQ4QVH1U0YA',\n 'R3RBMB7VMRMM6W',\n 'R3NN1U54U9D111',\n 'R2KAX03CSMEFFL',\n 'R2YP6W7W2J521W',\n 'R1UK7OI8D2OBLM',\n 'R2B5HYI1WBCK1E',\n 'R2RH1KQZZSZJ7P',\n 'R123JGKAP9S28X',\n 'R33WWG9IHMRTG',\n 'RGUL36MON6S1L',\n 'R3ICUOGOJHAKOQ',\n 'R3SE53A78DOR0Q',\n 'R2C4SJA5N02XDX',\n 'R23XB413Q63DKV',\n 'RBKQ4CWQPGYKS',\n 'R3763CDO1X742J',\n 'R8KTNB0IC7JH3',\n 'R3PRC7CMBEMZ1V',\n 'R2IGTAHJ997503',\n 'RCWB1YJQ56E8S',\n 'R1OND9PD0EC863',\n 'R34BO0ZKA1I5JG',\n 'R1T8DW8FPG67EK',\n 'R2MS532WRB51I1',\n ...]"
     },
     "execution_count": 15,
     "metadata": {},
     "output_type": "execute_result"
    }
   ]
  },
  {
   "cell_type": "code",
   "metadata": {
    "deepnote_to_be_reexecuted": false,
    "execution_millis": 3,
    "execution_start": 1652895591002,
    "source_hash": "438269da",
    "tags": [],
    "cell_id": "00021-0cb84e30-18ff-4d27-ad82-a417b0ef099e",
    "deepnote_cell_type": "code",
    "deepnote_cell_height": 134.953125
   },
   "source": "with open(r'remove_reviews.txt', 'w') as fp:\n    for item in remove_reviews:\n        # write each item on a new line\n        fp.write(\"%s\\n\" % item)",
   "execution_count": null,
   "outputs": []
  },
  {
   "cell_type": "markdown",
   "source": "### 2. Similar reviews posted in the same time interval",
   "metadata": {
    "formattedRanges": [],
    "is_collapsed": false,
    "tags": [],
    "cell_id": "00022-7baf6c63-ca53-485d-8ada-9fab84863a83",
    "deepnote_cell_type": "text-cell-h3"
   }
  },
  {
   "cell_type": "code",
   "metadata": {
    "deepnote_to_be_reexecuted": false,
    "execution_millis": 6,
    "execution_start": 1652895591010,
    "source_hash": "ff0e68a8",
    "tags": [],
    "cell_id": "00023-59ea74bd-031e-489f-8205-d7d576748e50",
    "deepnote_cell_type": "code",
    "deepnote_cell_height": 98.953125
   },
   "source": "from sklearn.feature_extraction.text import TfidfVectorizer\nfrom sklearn.metrics.pairwise import cosine_similarity",
   "execution_count": null,
   "outputs": []
  },
  {
   "cell_type": "code",
   "metadata": {
    "deepnote_to_be_reexecuted": false,
    "execution_millis": 7,
    "execution_start": 1652895591017,
    "source_hash": "724cedd5",
    "tags": [],
    "cell_id": "00024-8d58d73b-f070-4a77-b882-0e168da42785",
    "deepnote_cell_type": "code",
    "deepnote_cell_height": 98.953125
   },
   "source": "\ntfidf_vectorizer = TfidfVectorizer()",
   "execution_count": null,
   "outputs": []
  },
  {
   "cell_type": "code",
   "metadata": {
    "deepnote_to_be_reexecuted": false,
    "execution_millis": 906,
    "execution_start": 1652895591032,
    "source_hash": "83afae56",
    "tags": [],
    "cell_id": "00025-28878e5f-a42e-4e81-a7d8-44543b4f0581",
    "deepnote_cell_type": "code",
    "deepnote_cell_height": 687.71875
   },
   "source": "df2 = pd.read_csv(\"Moderately_Genuine.csv\")\ndf2",
   "execution_count": null,
   "outputs": [
    {
     "name": "stderr",
     "output_type": "stream",
     "text": "/shared-libs/python3.7/py-core/lib/python3.7/site-packages/IPython/core/interactiveshell.py:3257: DtypeWarning: Columns (7) have mixed types.Specify dtype option on import or set low_memory=False.\n  interactivity=interactivity, compiler=compiler, result=result)\n"
    },
    {
     "data": {
      "application/vnd.deepnote.dataframe.v3+json": {
       "column_count": 36,
       "columns": [
        {
         "dtype": "object",
         "name": "marketplace",
         "stats": {
          "categories": [
           {
            "count": 59800,
            "name": "US"
           }
          ],
          "nan_count": 0,
          "unique_count": 1
         }
        },
        {
         "dtype": "int64",
         "name": "customer_id"
        },
        {
         "dtype": "object",
         "name": "review_id"
        },
        {
         "dtype": "object",
         "name": "product_id"
        },
        {
         "dtype": "int64",
         "name": "product_parent"
        },
        {
         "dtype": "object",
         "name": "product_title"
        },
        {
         "dtype": "object",
         "name": "product_category"
        },
        {
         "dtype": "object",
         "name": "star_rating"
        },
        {
         "dtype": "float64",
         "name": "helpful_votes"
        },
        {
         "dtype": "float64",
         "name": "total_votes"
        },
        {
         "dtype": "object",
         "name": "vine"
        },
        {
         "dtype": "int64",
         "name": "verified_purchase"
        },
        {
         "dtype": "object",
         "name": "review_headline"
        },
        {
         "dtype": "object",
         "name": "review_body"
        },
        {
         "dtype": "object",
         "name": "review_date"
        },
        {
         "dtype": "float64",
         "name": "timestamp"
        },
        {
         "dtype": "object",
         "name": "IP Address"
        },
        {
         "dtype": "float64",
         "name": "Sentiment"
        },
        {
         "dtype": "float64",
         "name": "Subjectivity"
        },
        {
         "dtype": "int64",
         "name": "Neg_Count"
        },
        {
         "dtype": "int64",
         "name": "Word_Count"
        },
        {
         "dtype": "int64",
         "name": "Unique_words"
        },
        {
         "dtype": "float64",
         "name": "Noun_Count"
        },
        {
         "dtype": "float64",
         "name": "Adj_Count"
        },
        {
         "dtype": "float64",
         "name": "Verb_Count"
        },
        {
         "dtype": "float64",
         "name": "Adv_Count"
        },
        {
         "dtype": "float64",
         "name": "Pro_Count"
        },
        {
         "dtype": "float64",
         "name": "Pre_Count"
        },
        {
         "dtype": "float64",
         "name": "Con_Count"
        },
        {
         "dtype": "float64",
         "name": "Art_Count"
        },
        {
         "dtype": "float64",
         "name": "Nega_Count"
        },
        {
         "dtype": "float64",
         "name": "Aux_Count"
        },
        {
         "dtype": "float64",
         "name": "Authenticity"
        },
        {
         "dtype": "float64",
         "name": "AT"
        },
        {
         "dtype": "float64",
         "name": "Genuinity"
        },
        {
         "dtype": "object",
         "name": "label"
        },
        {
         "dtype": "int64",
         "name": "_deepnote_index_column"
        }
       ],
       "row_count": 59800,
       "rows": [
        {
         "AT": 32,
         "Adj_Count": 3,
         "Adv_Count": 2,
         "Art_Count": 2,
         "Authenticity": 0.9285714285714286,
         "Aux_Count": 1,
         "Con_Count": 0,
         "Genuinity": 0.4999428074765137,
         "IP Address": "193.93.167.87",
         "Neg_Count": 0,
         "Nega_Count": 0,
         "Noun_Count": 7,
         "Pre_Count": 4,
         "Pro_Count": 1,
         "Sentiment": 1,
         "Subjectivity": 1,
         "Unique_words": 25,
         "Verb_Count": 4,
         "Word_Count": 28,
         "_deepnote_index_column": 0,
         "customer_id": 20422322,
         "helpful_votes": 0,
         "label": "Moderately Genuine",
         "marketplace": "US",
         "product_category": "Mobile_Electronics",
         "product_id": "B00MC4CED8",
         "product_parent": 82850235,
         "product_title": "BlackVue DR600GW-PMP",
         "review_body": "as advertised  everything works perfectly  i am very happy with the camera  as a matter of fact i am going to buy another one for my  nd car ",
         "review_date": "2015-08-31",
         "review_headline": "very happy ",
         "review_id": "R8MEA6IGAHO0B",
         "star_rating": "5",
         "timestamp": 1440987567,
         "total_votes": 0,
         "verified_purchase": 1,
         "vine": "N"
        },
        {
         "AT": 28,
         "Adj_Count": 1,
         "Adv_Count": 0,
         "Art_Count": 0,
         "Authenticity": 1.3333333333333333,
         "Aux_Count": 1,
         "Con_Count": 0,
         "Genuinity": 0.4999355421493637,
         "IP Address": "193.93.167.87",
         "Neg_Count": 0,
         "Nega_Count": 0,
         "Noun_Count": 0,
         "Pre_Count": 0,
         "Pro_Count": 1,
         "Sentiment": 0.8,
         "Subjectivity": 0.75,
         "Unique_words": 3,
         "Verb_Count": 1,
         "Word_Count": 3,
         "_deepnote_index_column": 1,
         "customer_id": 40835037,
         "helpful_votes": 0,
         "label": "Moderately Genuine",
         "marketplace": "US",
         "product_category": "Mobile_Electronics",
         "product_id": "B00OQMFG1Q",
         "product_parent": 82850235,
         "product_title": "GENSSI GSM / GPS Two Way Smart Phone Car Alarm System for iPhone Android Security",
         "review_body": "it is great",
         "review_date": "2015-08-31",
         "review_headline": "five star",
         "review_id": "R31LOQ8JGLPRLK",
         "star_rating": "5",
         "timestamp": 1441001998,
         "total_votes": 1,
         "verified_purchase": 1,
         "vine": "N"
        },
        {
         "AT": 30,
         "Adj_Count": 2,
         "Adv_Count": 0,
         "Art_Count": 1,
         "Authenticity": 1.0833333333333333,
         "Aux_Count": 0,
         "Con_Count": 1,
         "Genuinity": 0.4998767818228214,
         "IP Address": "193.93.167.87",
         "Neg_Count": 0,
         "Nega_Count": 0,
         "Noun_Count": 5,
         "Pre_Count": 1,
         "Pro_Count": 1,
         "Sentiment": 0.6000000000000001,
         "Subjectivity": 0.575,
         "Unique_words": 12,
         "Verb_Count": 0,
         "Word_Count": 12,
         "_deepnote_index_column": 2,
         "customer_id": 51469641,
         "helpful_votes": 0,
         "label": "Moderately Genuine",
         "marketplace": "US",
         "product_category": "Mobile_Electronics",
         "product_id": "B00QERR5CY",
         "product_parent": 82850235,
         "product_title": "iXCC Multi pack Lightning cable",
         "review_body": "these work great and fit my life proof case for the iphone  ",
         "review_date": "2015-08-31",
         "review_headline": "great cables",
         "review_id": "R2Y0MM9YE6OP3P",
         "star_rating": "5",
         "timestamp": 1440959483,
         "total_votes": 0,
         "verified_purchase": 1,
         "vine": "N"
        },
        {
         "AT": 28,
         "Adj_Count": 0,
         "Adv_Count": 2,
         "Art_Count": 0,
         "Authenticity": 1,
         "Aux_Count": 0,
         "Con_Count": 0,
         "Genuinity": 0.742184489121376,
         "IP Address": "193.93.167.87",
         "Neg_Count": 0,
         "Nega_Count": 0,
         "Noun_Count": 1,
         "Pre_Count": 0,
         "Pro_Count": 0,
         "Sentiment": 0.2,
         "Subjectivity": 0.3,
         "Unique_words": 3,
         "Verb_Count": 0,
         "Word_Count": 3,
         "_deepnote_index_column": 3,
         "customer_id": 4332923,
         "helpful_votes": 0,
         "label": "Moderately Genuine",
         "marketplace": "US",
         "product_category": "Mobile_Electronics",
         "product_id": "B00QUFTPV4",
         "product_parent": 82850235,
         "product_title": "abcGoodefg® FBI Covert Acoustic Tube Earpiece Headset PTT Mic for Motorola Two Way Radio Device Walkie Talkie GP88 300 2000 CT150 P040 PRO1150 SP10 XTN500 2pin",
         "review_body": "work very well ",
         "review_date": "2015-08-31",
         "review_headline": "work very well",
         "review_id": "RRB9C05HDOD4O",
         "star_rating": "4",
         "timestamp": 1441015251,
         "total_votes": 0,
         "verified_purchase": 1,
         "vine": "N"
        },
        {
         "AT": 24,
         "Adj_Count": 4,
         "Adv_Count": 1,
         "Art_Count": 0,
         "Authenticity": 0.9583333333333334,
         "Aux_Count": 3,
         "Con_Count": 2,
         "Genuinity": 0.6756851108222771,
         "IP Address": "205.10.168.66",
         "Neg_Count": 1,
         "Nega_Count": 0,
         "Noun_Count": 3,
         "Pre_Count": 2,
         "Pro_Count": 2,
         "Sentiment": 0.2875,
         "Subjectivity": 0.4875,
         "Unique_words": 22,
         "Verb_Count": 6,
         "Word_Count": 24,
         "_deepnote_index_column": 4,
         "customer_id": 7846966,
         "helpful_votes": 0,
         "label": "Moderately Genuine",
         "marketplace": "US",
         "product_category": "Mobile_Electronics",
         "product_id": "B00KA6CCVY",
         "product_parent": 563475445,
         "product_title": "Aweek® Air Acoustic Earpiece Headset for Baofeng Two Way Radios UV-5R UV-B6 BF-888S UV-B6 UV-B5 Walkie Talkies 2-Pin Jack",
         "review_body": "it appears to be good  but i am still waiting for my other items radio batteries charger  before i can go to   or   stars",
         "review_date": "2015-08-31",
         "review_headline": "it appears to be good  but i m still waiting for my other items    ",
         "review_id": "RY8DDL22YG4R5",
         "star_rating": "3",
         "timestamp": 1440977588,
         "total_votes": 1,
         "verified_purchase": 1,
         "vine": "N"
        },
        {
         "AT": 32,
         "Adj_Count": 3,
         "Adv_Count": 2,
         "Art_Count": 2,
         "Authenticity": 0.9285714285714286,
         "Aux_Count": 1,
         "Con_Count": 0,
         "Genuinity": 0.4999428074765137,
         "IP Address": "205.10.168.66",
         "Neg_Count": 0,
         "Nega_Count": 0,
         "Noun_Count": 7,
         "Pre_Count": 4,
         "Pro_Count": 1,
         "Sentiment": 1,
         "Subjectivity": 1,
         "Unique_words": 25,
         "Verb_Count": 4,
         "Word_Count": 28,
         "_deepnote_index_column": 5,
         "customer_id": 20422322,
         "helpful_votes": 0,
         "label": "Moderately Genuine",
         "marketplace": "US",
         "product_category": "Mobile_Electronics",
         "product_id": "B00MC4CED8",
         "product_parent": 563475445,
         "product_title": "BlackVue DR600GW-PMP",
         "review_body": "as advertised  everything works perfectly  i am very happy with the camera  as a matter of fact i am going to buy another one for my  nd car ",
         "review_date": "2015-08-31",
         "review_headline": "very happy ",
         "review_id": "R8MEA6IGAHO0B",
         "star_rating": "5",
         "timestamp": 1441012613,
         "total_votes": 0,
         "verified_purchase": 1,
         "vine": "N"
        },
        {
         "AT": 32,
         "Adj_Count": 3,
         "Adv_Count": 2,
         "Art_Count": 2,
         "Authenticity": 0.9285714285714286,
         "Aux_Count": 1,
         "Con_Count": 0,
         "Genuinity": 0.4999428074765137,
         "IP Address": "206.33.134.174",
         "Neg_Count": 0,
         "Nega_Count": 0,
         "Noun_Count": 7,
         "Pre_Count": 4,
         "Pro_Count": 1,
         "Sentiment": 1,
         "Subjectivity": 1,
         "Unique_words": 25,
         "Verb_Count": 4,
         "Word_Count": 28,
         "_deepnote_index_column": 6,
         "customer_id": 20422322,
         "helpful_votes": 0,
         "label": "Moderately Genuine",
         "marketplace": "US",
         "product_category": "Mobile_Electronics",
         "product_id": "B00MC4CED8",
         "product_parent": 217304173,
         "product_title": "BlackVue DR600GW-PMP",
         "review_body": "as advertised  everything works perfectly  i am very happy with the camera  as a matter of fact i am going to buy another one for my  nd car ",
         "review_date": "2015-08-31",
         "review_headline": "very happy ",
         "review_id": "R8MEA6IGAHO0B",
         "star_rating": "5",
         "timestamp": 1440987567,
         "total_votes": 0,
         "verified_purchase": 1,
         "vine": "N"
        },
        {
         "AT": 28,
         "Adj_Count": 1,
         "Adv_Count": 0,
         "Art_Count": 0,
         "Authenticity": 1.3333333333333333,
         "Aux_Count": 1,
         "Con_Count": 0,
         "Genuinity": 0.4999355421493637,
         "IP Address": "219.3.75.180",
         "Neg_Count": 0,
         "Nega_Count": 0,
         "Noun_Count": 0,
         "Pre_Count": 0,
         "Pro_Count": 1,
         "Sentiment": 0.8,
         "Subjectivity": 0.75,
         "Unique_words": 3,
         "Verb_Count": 1,
         "Word_Count": 3,
         "_deepnote_index_column": 7,
         "customer_id": 40835037,
         "helpful_votes": 0,
         "label": "Moderately Genuine",
         "marketplace": "US",
         "product_category": "Mobile_Electronics",
         "product_id": "B00OQMFG1Q",
         "product_parent": 137313254,
         "product_title": "GENSSI GSM / GPS Two Way Smart Phone Car Alarm System for iPhone Android Security",
         "review_body": "it is great",
         "review_date": "2015-08-31",
         "review_headline": "five star",
         "review_id": "R31LOQ8JGLPRLK",
         "star_rating": "5",
         "timestamp": 1441001998,
         "total_votes": 1,
         "verified_purchase": 1,
         "vine": "N"
        },
        {
         "AT": 30,
         "Adj_Count": 2,
         "Adv_Count": 0,
         "Art_Count": 1,
         "Authenticity": 1.0833333333333333,
         "Aux_Count": 0,
         "Con_Count": 1,
         "Genuinity": 0.4998767818228214,
         "IP Address": "194.12.14.67",
         "Neg_Count": 0,
         "Nega_Count": 0,
         "Noun_Count": 5,
         "Pre_Count": 1,
         "Pro_Count": 1,
         "Sentiment": 0.6000000000000001,
         "Subjectivity": 0.575,
         "Unique_words": 12,
         "Verb_Count": 0,
         "Word_Count": 12,
         "_deepnote_index_column": 8,
         "customer_id": 51469641,
         "helpful_votes": 0,
         "label": "Moderately Genuine",
         "marketplace": "US",
         "product_category": "Mobile_Electronics",
         "product_id": "B00QERR5CY",
         "product_parent": 82850235,
         "product_title": "iXCC Multi pack Lightning cable",
         "review_body": "these work great and fit my life proof case for the iphone  ",
         "review_date": "2015-08-31",
         "review_headline": "great cables",
         "review_id": "R2Y0MM9YE6OP3P",
         "star_rating": "5",
         "timestamp": 1440959483,
         "total_votes": 0,
         "verified_purchase": 1,
         "vine": "N"
        },
        {
         "AT": 26,
         "Adj_Count": 0,
         "Adv_Count": 3,
         "Art_Count": 1,
         "Authenticity": 1,
         "Aux_Count": 2,
         "Con_Count": 1,
         "Genuinity": 0.742184489121376,
         "IP Address": "213.136.76.172",
         "Neg_Count": 0,
         "Nega_Count": 1,
         "Noun_Count": 3,
         "Pre_Count": 3,
         "Pro_Count": 1,
         "Sentiment": 0.2,
         "Subjectivity": 0.3,
         "Unique_words": 20,
         "Verb_Count": 6,
         "Word_Count": 21,
         "_deepnote_index_column": 9,
         "customer_id": 4332923,
         "helpful_votes": 0,
         "label": "Moderately Genuine",
         "marketplace": "US",
         "product_category": "Mobile_Electronics",
         "product_id": "B00QUFTPV4",
         "product_parent": 221169481,
         "product_title": "abcGoodefg® FBI Covert Acoustic Tube Earpiece Headset PTT Mic for Motorola Two Way Radio Device Walkie Talkie GP88 300 2000 CT150 P040 PRO1150 SP10 XTN500 2pin",
         "review_body": "work very well but could not get used to not hearing anything out of the ear they v were plugged into ",
         "review_date": "2015-08-31",
         "review_headline": "work very well but couldn t get used to not hearing    ",
         "review_id": "RRB9C05HDOD4O",
         "star_rating": "4",
         "timestamp": 1441015251,
         "total_votes": 0,
         "verified_purchase": 1,
         "vine": "N"
        }
       ]
      },
      "text/html": "<div>\n<style scoped>\n    .dataframe tbody tr th:only-of-type {\n        vertical-align: middle;\n    }\n\n    .dataframe tbody tr th {\n        vertical-align: top;\n    }\n\n    .dataframe thead th {\n        text-align: right;\n    }\n</style>\n<table border=\"1\" class=\"dataframe\">\n  <thead>\n    <tr style=\"text-align: right;\">\n      <th></th>\n      <th>marketplace</th>\n      <th>customer_id</th>\n      <th>review_id</th>\n      <th>product_id</th>\n      <th>product_parent</th>\n      <th>product_title</th>\n      <th>product_category</th>\n      <th>star_rating</th>\n      <th>helpful_votes</th>\n      <th>total_votes</th>\n      <th>...</th>\n      <th>Pro_Count</th>\n      <th>Pre_Count</th>\n      <th>Con_Count</th>\n      <th>Art_Count</th>\n      <th>Nega_Count</th>\n      <th>Aux_Count</th>\n      <th>Authenticity</th>\n      <th>AT</th>\n      <th>Genuinity</th>\n      <th>label</th>\n    </tr>\n  </thead>\n  <tbody>\n    <tr>\n      <th>0</th>\n      <td>US</td>\n      <td>20422322</td>\n      <td>R8MEA6IGAHO0B</td>\n      <td>B00MC4CED8</td>\n      <td>82850235</td>\n      <td>BlackVue DR600GW-PMP</td>\n      <td>Mobile_Electronics</td>\n      <td>5</td>\n      <td>0.0</td>\n      <td>0.0</td>\n      <td>...</td>\n      <td>1.0</td>\n      <td>4.0</td>\n      <td>0.0</td>\n      <td>2.0</td>\n      <td>0.0</td>\n      <td>1.0</td>\n      <td>0.928571</td>\n      <td>32.0</td>\n      <td>0.499943</td>\n      <td>Moderately Genuine</td>\n    </tr>\n    <tr>\n      <th>1</th>\n      <td>US</td>\n      <td>40835037</td>\n      <td>R31LOQ8JGLPRLK</td>\n      <td>B00OQMFG1Q</td>\n      <td>82850235</td>\n      <td>GENSSI GSM / GPS Two Way Smart Phone Car Alarm...</td>\n      <td>Mobile_Electronics</td>\n      <td>5</td>\n      <td>0.0</td>\n      <td>1.0</td>\n      <td>...</td>\n      <td>1.0</td>\n      <td>0.0</td>\n      <td>0.0</td>\n      <td>0.0</td>\n      <td>0.0</td>\n      <td>1.0</td>\n      <td>1.333333</td>\n      <td>28.0</td>\n      <td>0.499936</td>\n      <td>Moderately Genuine</td>\n    </tr>\n    <tr>\n      <th>2</th>\n      <td>US</td>\n      <td>51469641</td>\n      <td>R2Y0MM9YE6OP3P</td>\n      <td>B00QERR5CY</td>\n      <td>82850235</td>\n      <td>iXCC Multi pack Lightning cable</td>\n      <td>Mobile_Electronics</td>\n      <td>5</td>\n      <td>0.0</td>\n      <td>0.0</td>\n      <td>...</td>\n      <td>1.0</td>\n      <td>1.0</td>\n      <td>1.0</td>\n      <td>1.0</td>\n      <td>0.0</td>\n      <td>0.0</td>\n      <td>1.083333</td>\n      <td>30.0</td>\n      <td>0.499877</td>\n      <td>Moderately Genuine</td>\n    </tr>\n    <tr>\n      <th>3</th>\n      <td>US</td>\n      <td>4332923</td>\n      <td>RRB9C05HDOD4O</td>\n      <td>B00QUFTPV4</td>\n      <td>82850235</td>\n      <td>abcGoodefg® FBI Covert Acoustic Tube Earpiece ...</td>\n      <td>Mobile_Electronics</td>\n      <td>4</td>\n      <td>0.0</td>\n      <td>0.0</td>\n      <td>...</td>\n      <td>0.0</td>\n      <td>0.0</td>\n      <td>0.0</td>\n      <td>0.0</td>\n      <td>0.0</td>\n      <td>0.0</td>\n      <td>1.000000</td>\n      <td>28.0</td>\n      <td>0.742184</td>\n      <td>Moderately Genuine</td>\n    </tr>\n    <tr>\n      <th>4</th>\n      <td>US</td>\n      <td>7846966</td>\n      <td>RY8DDL22YG4R5</td>\n      <td>B00KA6CCVY</td>\n      <td>563475445</td>\n      <td>Aweek® Air Acoustic Earpiece Headset for Baofe...</td>\n      <td>Mobile_Electronics</td>\n      <td>3</td>\n      <td>0.0</td>\n      <td>1.0</td>\n      <td>...</td>\n      <td>2.0</td>\n      <td>2.0</td>\n      <td>2.0</td>\n      <td>0.0</td>\n      <td>0.0</td>\n      <td>3.0</td>\n      <td>0.958333</td>\n      <td>24.0</td>\n      <td>0.675685</td>\n      <td>Moderately Genuine</td>\n    </tr>\n    <tr>\n      <th>...</th>\n      <td>...</td>\n      <td>...</td>\n      <td>...</td>\n      <td>...</td>\n      <td>...</td>\n      <td>...</td>\n      <td>...</td>\n      <td>...</td>\n      <td>...</td>\n      <td>...</td>\n      <td>...</td>\n      <td>...</td>\n      <td>...</td>\n      <td>...</td>\n      <td>...</td>\n      <td>...</td>\n      <td>...</td>\n      <td>...</td>\n      <td>...</td>\n      <td>...</td>\n      <td>...</td>\n    </tr>\n    <tr>\n      <th>59795</th>\n      <td>US</td>\n      <td>38978459</td>\n      <td>R2CDRVDUKB5Z9P</td>\n      <td>B00005OTZQ</td>\n      <td>554527960</td>\n      <td>Royal SE 2800 Hand-Held Spot Cleaner</td>\n      <td>Mobile_Electronics</td>\n      <td>5</td>\n      <td>23.0</td>\n      <td>27.0</td>\n      <td>...</td>\n      <td>0.0</td>\n      <td>0.0</td>\n      <td>0.0</td>\n      <td>0.0</td>\n      <td>0.0</td>\n      <td>0.0</td>\n      <td>0.521401</td>\n      <td>30.0</td>\n      <td>0.499941</td>\n      <td>Moderately Genuine</td>\n    </tr>\n    <tr>\n      <th>59796</th>\n      <td>US</td>\n      <td>51697602</td>\n      <td>R1DVLTZFXXOX9</td>\n      <td>B00005OTZQ</td>\n      <td>554527960</td>\n      <td>Royal SE 2800 Hand-Held Spot Cleaner</td>\n      <td>Mobile_Electronics</td>\n      <td>5</td>\n      <td>10.0</td>\n      <td>11.0</td>\n      <td>...</td>\n      <td>0.0</td>\n      <td>0.0</td>\n      <td>0.0</td>\n      <td>0.0</td>\n      <td>0.0</td>\n      <td>0.0</td>\n      <td>0.732558</td>\n      <td>30.0</td>\n      <td>0.499705</td>\n      <td>Moderately Genuine</td>\n    </tr>\n    <tr>\n      <th>59797</th>\n      <td>US</td>\n      <td>50891675</td>\n      <td>R1GHKKZMHAHQC1</td>\n      <td>B00005OTZQ</td>\n      <td>554527960</td>\n      <td>Royal SE 2800 Hand-Held Spot Cleaner</td>\n      <td>Mobile_Electronics</td>\n      <td>5</td>\n      <td>13.0</td>\n      <td>13.0</td>\n      <td>...</td>\n      <td>0.0</td>\n      <td>0.0</td>\n      <td>0.0</td>\n      <td>0.0</td>\n      <td>0.0</td>\n      <td>0.0</td>\n      <td>0.676190</td>\n      <td>30.0</td>\n      <td>0.499595</td>\n      <td>Moderately Genuine</td>\n    </tr>\n    <tr>\n      <th>59798</th>\n      <td>US</td>\n      <td>38528439</td>\n      <td>R227G6T5B26DVC</td>\n      <td>B00005OTZQ</td>\n      <td>554527960</td>\n      <td>Royal SE 2800 Hand-Held Spot Cleaner</td>\n      <td>Mobile_Electronics</td>\n      <td>5</td>\n      <td>58.0</td>\n      <td>61.0</td>\n      <td>...</td>\n      <td>0.0</td>\n      <td>0.0</td>\n      <td>0.0</td>\n      <td>0.0</td>\n      <td>0.0</td>\n      <td>0.0</td>\n      <td>0.479109</td>\n      <td>30.0</td>\n      <td>0.499938</td>\n      <td>Moderately Genuine</td>\n    </tr>\n    <tr>\n      <th>59799</th>\n      <td>US</td>\n      <td>47099634</td>\n      <td>R44WS2RSQQ0HR</td>\n      <td>B00005OTZQ</td>\n      <td>554527960</td>\n      <td>Royal SE 2800 Hand-Held Spot Cleaner</td>\n      <td>Mobile_Electronics</td>\n      <td>4</td>\n      <td>37.0</td>\n      <td>38.0</td>\n      <td>...</td>\n      <td>0.0</td>\n      <td>0.0</td>\n      <td>0.0</td>\n      <td>0.0</td>\n      <td>0.0</td>\n      <td>0.0</td>\n      <td>0.503356</td>\n      <td>30.0</td>\n      <td>0.499939</td>\n      <td>Moderately Genuine</td>\n    </tr>\n  </tbody>\n</table>\n<p>59800 rows × 36 columns</p>\n</div>",
      "text/plain": "      marketplace  customer_id       review_id  product_id  product_parent  \\\n0              US     20422322   R8MEA6IGAHO0B  B00MC4CED8        82850235   \n1              US     40835037  R31LOQ8JGLPRLK  B00OQMFG1Q        82850235   \n2              US     51469641  R2Y0MM9YE6OP3P  B00QERR5CY        82850235   \n3              US      4332923   RRB9C05HDOD4O  B00QUFTPV4        82850235   \n4              US      7846966   RY8DDL22YG4R5  B00KA6CCVY       563475445   \n...           ...          ...             ...         ...             ...   \n59795          US     38978459  R2CDRVDUKB5Z9P  B00005OTZQ       554527960   \n59796          US     51697602   R1DVLTZFXXOX9  B00005OTZQ       554527960   \n59797          US     50891675  R1GHKKZMHAHQC1  B00005OTZQ       554527960   \n59798          US     38528439  R227G6T5B26DVC  B00005OTZQ       554527960   \n59799          US     47099634   R44WS2RSQQ0HR  B00005OTZQ       554527960   \n\n                                           product_title    product_category  \\\n0                                   BlackVue DR600GW-PMP  Mobile_Electronics   \n1      GENSSI GSM / GPS Two Way Smart Phone Car Alarm...  Mobile_Electronics   \n2                        iXCC Multi pack Lightning cable  Mobile_Electronics   \n3      abcGoodefg® FBI Covert Acoustic Tube Earpiece ...  Mobile_Electronics   \n4      Aweek® Air Acoustic Earpiece Headset for Baofe...  Mobile_Electronics   \n...                                                  ...                 ...   \n59795               Royal SE 2800 Hand-Held Spot Cleaner  Mobile_Electronics   \n59796               Royal SE 2800 Hand-Held Spot Cleaner  Mobile_Electronics   \n59797               Royal SE 2800 Hand-Held Spot Cleaner  Mobile_Electronics   \n59798               Royal SE 2800 Hand-Held Spot Cleaner  Mobile_Electronics   \n59799               Royal SE 2800 Hand-Held Spot Cleaner  Mobile_Electronics   \n\n      star_rating  helpful_votes  total_votes  ... Pro_Count  Pre_Count  \\\n0               5            0.0          0.0  ...       1.0        4.0   \n1               5            0.0          1.0  ...       1.0        0.0   \n2               5            0.0          0.0  ...       1.0        1.0   \n3               4            0.0          0.0  ...       0.0        0.0   \n4               3            0.0          1.0  ...       2.0        2.0   \n...           ...            ...          ...  ...       ...        ...   \n59795           5           23.0         27.0  ...       0.0        0.0   \n59796           5           10.0         11.0  ...       0.0        0.0   \n59797           5           13.0         13.0  ...       0.0        0.0   \n59798           5           58.0         61.0  ...       0.0        0.0   \n59799           4           37.0         38.0  ...       0.0        0.0   \n\n      Con_Count Art_Count Nega_Count  Aux_Count Authenticity    AT  Genuinity  \\\n0           0.0       2.0        0.0        1.0     0.928571  32.0   0.499943   \n1           0.0       0.0        0.0        1.0     1.333333  28.0   0.499936   \n2           1.0       1.0        0.0        0.0     1.083333  30.0   0.499877   \n3           0.0       0.0        0.0        0.0     1.000000  28.0   0.742184   \n4           2.0       0.0        0.0        3.0     0.958333  24.0   0.675685   \n...         ...       ...        ...        ...          ...   ...        ...   \n59795       0.0       0.0        0.0        0.0     0.521401  30.0   0.499941   \n59796       0.0       0.0        0.0        0.0     0.732558  30.0   0.499705   \n59797       0.0       0.0        0.0        0.0     0.676190  30.0   0.499595   \n59798       0.0       0.0        0.0        0.0     0.479109  30.0   0.499938   \n59799       0.0       0.0        0.0        0.0     0.503356  30.0   0.499939   \n\n                    label  \n0      Moderately Genuine  \n1      Moderately Genuine  \n2      Moderately Genuine  \n3      Moderately Genuine  \n4      Moderately Genuine  \n...                   ...  \n59795  Moderately Genuine  \n59796  Moderately Genuine  \n59797  Moderately Genuine  \n59798  Moderately Genuine  \n59799  Moderately Genuine  \n\n[59800 rows x 36 columns]"
     },
     "execution_count": 19,
     "metadata": {},
     "output_type": "execute_result"
    }
   ]
  },
  {
   "cell_type": "code",
   "metadata": {
    "deepnote_to_be_reexecuted": false,
    "execution_millis": 231,
    "execution_start": 1652895591943,
    "source_hash": "955ddf2c",
    "tags": [],
    "cell_id": "00026-05ef0631-a0c7-4d11-bfa5-511d9dac24f2",
    "deepnote_cell_type": "code",
    "deepnote_cell_height": 635.875
   },
   "source": "\ndf2.reset_index()\ndf2.set_index(\"review_id\")",
   "execution_count": null,
   "outputs": [
    {
     "data": {
      "application/vnd.deepnote.dataframe.v3+json": {
       "column_count": 35,
       "columns": [
        {
         "dtype": "object",
         "name": "marketplace",
         "stats": {
          "categories": [
           {
            "count": 59800,
            "name": "US"
           }
          ],
          "nan_count": 0,
          "unique_count": 1
         }
        },
        {
         "dtype": "int64",
         "name": "customer_id"
        },
        {
         "dtype": "object",
         "name": "product_id"
        },
        {
         "dtype": "int64",
         "name": "product_parent"
        },
        {
         "dtype": "object",
         "name": "product_title"
        },
        {
         "dtype": "object",
         "name": "product_category"
        },
        {
         "dtype": "object",
         "name": "star_rating"
        },
        {
         "dtype": "float64",
         "name": "helpful_votes"
        },
        {
         "dtype": "float64",
         "name": "total_votes"
        },
        {
         "dtype": "object",
         "name": "vine"
        },
        {
         "dtype": "int64",
         "name": "verified_purchase"
        },
        {
         "dtype": "object",
         "name": "review_headline"
        },
        {
         "dtype": "object",
         "name": "review_body"
        },
        {
         "dtype": "object",
         "name": "review_date"
        },
        {
         "dtype": "float64",
         "name": "timestamp"
        },
        {
         "dtype": "object",
         "name": "IP Address"
        },
        {
         "dtype": "float64",
         "name": "Sentiment"
        },
        {
         "dtype": "float64",
         "name": "Subjectivity"
        },
        {
         "dtype": "int64",
         "name": "Neg_Count"
        },
        {
         "dtype": "int64",
         "name": "Word_Count"
        },
        {
         "dtype": "int64",
         "name": "Unique_words"
        },
        {
         "dtype": "float64",
         "name": "Noun_Count"
        },
        {
         "dtype": "float64",
         "name": "Adj_Count"
        },
        {
         "dtype": "float64",
         "name": "Verb_Count"
        },
        {
         "dtype": "float64",
         "name": "Adv_Count"
        },
        {
         "dtype": "float64",
         "name": "Pro_Count"
        },
        {
         "dtype": "float64",
         "name": "Pre_Count"
        },
        {
         "dtype": "float64",
         "name": "Con_Count"
        },
        {
         "dtype": "float64",
         "name": "Art_Count"
        },
        {
         "dtype": "float64",
         "name": "Nega_Count"
        },
        {
         "dtype": "float64",
         "name": "Aux_Count"
        },
        {
         "dtype": "float64",
         "name": "Authenticity"
        },
        {
         "dtype": "float64",
         "name": "AT"
        },
        {
         "dtype": "float64",
         "name": "Genuinity"
        },
        {
         "dtype": "object",
         "name": "label"
        },
        {
         "dtype": "object",
         "name": "_deepnote_index_column"
        }
       ],
       "row_count": 59800,
       "rows": [
        {
         "AT": 32,
         "Adj_Count": 3,
         "Adv_Count": 2,
         "Art_Count": 2,
         "Authenticity": 0.9285714285714286,
         "Aux_Count": 1,
         "Con_Count": 0,
         "Genuinity": 0.4999428074765137,
         "IP Address": "193.93.167.87",
         "Neg_Count": 0,
         "Nega_Count": 0,
         "Noun_Count": 7,
         "Pre_Count": 4,
         "Pro_Count": 1,
         "Sentiment": 1,
         "Subjectivity": 1,
         "Unique_words": 25,
         "Verb_Count": 4,
         "Word_Count": 28,
         "_deepnote_index_column": "R8MEA6IGAHO0B",
         "customer_id": 20422322,
         "helpful_votes": 0,
         "label": "Moderately Genuine",
         "marketplace": "US",
         "product_category": "Mobile_Electronics",
         "product_id": "B00MC4CED8",
         "product_parent": 82850235,
         "product_title": "BlackVue DR600GW-PMP",
         "review_body": "as advertised  everything works perfectly  i am very happy with the camera  as a matter of fact i am going to buy another one for my  nd car ",
         "review_date": "2015-08-31",
         "review_headline": "very happy ",
         "star_rating": "5",
         "timestamp": 1440987567,
         "total_votes": 0,
         "verified_purchase": 1,
         "vine": "N"
        },
        {
         "AT": 28,
         "Adj_Count": 1,
         "Adv_Count": 0,
         "Art_Count": 0,
         "Authenticity": 1.3333333333333333,
         "Aux_Count": 1,
         "Con_Count": 0,
         "Genuinity": 0.4999355421493637,
         "IP Address": "193.93.167.87",
         "Neg_Count": 0,
         "Nega_Count": 0,
         "Noun_Count": 0,
         "Pre_Count": 0,
         "Pro_Count": 1,
         "Sentiment": 0.8,
         "Subjectivity": 0.75,
         "Unique_words": 3,
         "Verb_Count": 1,
         "Word_Count": 3,
         "_deepnote_index_column": "R31LOQ8JGLPRLK",
         "customer_id": 40835037,
         "helpful_votes": 0,
         "label": "Moderately Genuine",
         "marketplace": "US",
         "product_category": "Mobile_Electronics",
         "product_id": "B00OQMFG1Q",
         "product_parent": 82850235,
         "product_title": "GENSSI GSM / GPS Two Way Smart Phone Car Alarm System for iPhone Android Security",
         "review_body": "it is great",
         "review_date": "2015-08-31",
         "review_headline": "five star",
         "star_rating": "5",
         "timestamp": 1441001998,
         "total_votes": 1,
         "verified_purchase": 1,
         "vine": "N"
        },
        {
         "AT": 30,
         "Adj_Count": 2,
         "Adv_Count": 0,
         "Art_Count": 1,
         "Authenticity": 1.0833333333333333,
         "Aux_Count": 0,
         "Con_Count": 1,
         "Genuinity": 0.4998767818228214,
         "IP Address": "193.93.167.87",
         "Neg_Count": 0,
         "Nega_Count": 0,
         "Noun_Count": 5,
         "Pre_Count": 1,
         "Pro_Count": 1,
         "Sentiment": 0.6000000000000001,
         "Subjectivity": 0.575,
         "Unique_words": 12,
         "Verb_Count": 0,
         "Word_Count": 12,
         "_deepnote_index_column": "R2Y0MM9YE6OP3P",
         "customer_id": 51469641,
         "helpful_votes": 0,
         "label": "Moderately Genuine",
         "marketplace": "US",
         "product_category": "Mobile_Electronics",
         "product_id": "B00QERR5CY",
         "product_parent": 82850235,
         "product_title": "iXCC Multi pack Lightning cable",
         "review_body": "these work great and fit my life proof case for the iphone  ",
         "review_date": "2015-08-31",
         "review_headline": "great cables",
         "star_rating": "5",
         "timestamp": 1440959483,
         "total_votes": 0,
         "verified_purchase": 1,
         "vine": "N"
        },
        {
         "AT": 28,
         "Adj_Count": 0,
         "Adv_Count": 2,
         "Art_Count": 0,
         "Authenticity": 1,
         "Aux_Count": 0,
         "Con_Count": 0,
         "Genuinity": 0.742184489121376,
         "IP Address": "193.93.167.87",
         "Neg_Count": 0,
         "Nega_Count": 0,
         "Noun_Count": 1,
         "Pre_Count": 0,
         "Pro_Count": 0,
         "Sentiment": 0.2,
         "Subjectivity": 0.3,
         "Unique_words": 3,
         "Verb_Count": 0,
         "Word_Count": 3,
         "_deepnote_index_column": "RRB9C05HDOD4O",
         "customer_id": 4332923,
         "helpful_votes": 0,
         "label": "Moderately Genuine",
         "marketplace": "US",
         "product_category": "Mobile_Electronics",
         "product_id": "B00QUFTPV4",
         "product_parent": 82850235,
         "product_title": "abcGoodefg® FBI Covert Acoustic Tube Earpiece Headset PTT Mic for Motorola Two Way Radio Device Walkie Talkie GP88 300 2000 CT150 P040 PRO1150 SP10 XTN500 2pin",
         "review_body": "work very well ",
         "review_date": "2015-08-31",
         "review_headline": "work very well",
         "star_rating": "4",
         "timestamp": 1441015251,
         "total_votes": 0,
         "verified_purchase": 1,
         "vine": "N"
        },
        {
         "AT": 24,
         "Adj_Count": 4,
         "Adv_Count": 1,
         "Art_Count": 0,
         "Authenticity": 0.9583333333333334,
         "Aux_Count": 3,
         "Con_Count": 2,
         "Genuinity": 0.6756851108222771,
         "IP Address": "205.10.168.66",
         "Neg_Count": 1,
         "Nega_Count": 0,
         "Noun_Count": 3,
         "Pre_Count": 2,
         "Pro_Count": 2,
         "Sentiment": 0.2875,
         "Subjectivity": 0.4875,
         "Unique_words": 22,
         "Verb_Count": 6,
         "Word_Count": 24,
         "_deepnote_index_column": "RY8DDL22YG4R5",
         "customer_id": 7846966,
         "helpful_votes": 0,
         "label": "Moderately Genuine",
         "marketplace": "US",
         "product_category": "Mobile_Electronics",
         "product_id": "B00KA6CCVY",
         "product_parent": 563475445,
         "product_title": "Aweek® Air Acoustic Earpiece Headset for Baofeng Two Way Radios UV-5R UV-B6 BF-888S UV-B6 UV-B5 Walkie Talkies 2-Pin Jack",
         "review_body": "it appears to be good  but i am still waiting for my other items radio batteries charger  before i can go to   or   stars",
         "review_date": "2015-08-31",
         "review_headline": "it appears to be good  but i m still waiting for my other items    ",
         "star_rating": "3",
         "timestamp": 1440977588,
         "total_votes": 1,
         "verified_purchase": 1,
         "vine": "N"
        },
        {
         "AT": 32,
         "Adj_Count": 3,
         "Adv_Count": 2,
         "Art_Count": 2,
         "Authenticity": 0.9285714285714286,
         "Aux_Count": 1,
         "Con_Count": 0,
         "Genuinity": 0.4999428074765137,
         "IP Address": "205.10.168.66",
         "Neg_Count": 0,
         "Nega_Count": 0,
         "Noun_Count": 7,
         "Pre_Count": 4,
         "Pro_Count": 1,
         "Sentiment": 1,
         "Subjectivity": 1,
         "Unique_words": 25,
         "Verb_Count": 4,
         "Word_Count": 28,
         "_deepnote_index_column": "R8MEA6IGAHO0B",
         "customer_id": 20422322,
         "helpful_votes": 0,
         "label": "Moderately Genuine",
         "marketplace": "US",
         "product_category": "Mobile_Electronics",
         "product_id": "B00MC4CED8",
         "product_parent": 563475445,
         "product_title": "BlackVue DR600GW-PMP",
         "review_body": "as advertised  everything works perfectly  i am very happy with the camera  as a matter of fact i am going to buy another one for my  nd car ",
         "review_date": "2015-08-31",
         "review_headline": "very happy ",
         "star_rating": "5",
         "timestamp": 1441012613,
         "total_votes": 0,
         "verified_purchase": 1,
         "vine": "N"
        },
        {
         "AT": 32,
         "Adj_Count": 3,
         "Adv_Count": 2,
         "Art_Count": 2,
         "Authenticity": 0.9285714285714286,
         "Aux_Count": 1,
         "Con_Count": 0,
         "Genuinity": 0.4999428074765137,
         "IP Address": "206.33.134.174",
         "Neg_Count": 0,
         "Nega_Count": 0,
         "Noun_Count": 7,
         "Pre_Count": 4,
         "Pro_Count": 1,
         "Sentiment": 1,
         "Subjectivity": 1,
         "Unique_words": 25,
         "Verb_Count": 4,
         "Word_Count": 28,
         "_deepnote_index_column": "R8MEA6IGAHO0B",
         "customer_id": 20422322,
         "helpful_votes": 0,
         "label": "Moderately Genuine",
         "marketplace": "US",
         "product_category": "Mobile_Electronics",
         "product_id": "B00MC4CED8",
         "product_parent": 217304173,
         "product_title": "BlackVue DR600GW-PMP",
         "review_body": "as advertised  everything works perfectly  i am very happy with the camera  as a matter of fact i am going to buy another one for my  nd car ",
         "review_date": "2015-08-31",
         "review_headline": "very happy ",
         "star_rating": "5",
         "timestamp": 1440987567,
         "total_votes": 0,
         "verified_purchase": 1,
         "vine": "N"
        },
        {
         "AT": 28,
         "Adj_Count": 1,
         "Adv_Count": 0,
         "Art_Count": 0,
         "Authenticity": 1.3333333333333333,
         "Aux_Count": 1,
         "Con_Count": 0,
         "Genuinity": 0.4999355421493637,
         "IP Address": "219.3.75.180",
         "Neg_Count": 0,
         "Nega_Count": 0,
         "Noun_Count": 0,
         "Pre_Count": 0,
         "Pro_Count": 1,
         "Sentiment": 0.8,
         "Subjectivity": 0.75,
         "Unique_words": 3,
         "Verb_Count": 1,
         "Word_Count": 3,
         "_deepnote_index_column": "R31LOQ8JGLPRLK",
         "customer_id": 40835037,
         "helpful_votes": 0,
         "label": "Moderately Genuine",
         "marketplace": "US",
         "product_category": "Mobile_Electronics",
         "product_id": "B00OQMFG1Q",
         "product_parent": 137313254,
         "product_title": "GENSSI GSM / GPS Two Way Smart Phone Car Alarm System for iPhone Android Security",
         "review_body": "it is great",
         "review_date": "2015-08-31",
         "review_headline": "five star",
         "star_rating": "5",
         "timestamp": 1441001998,
         "total_votes": 1,
         "verified_purchase": 1,
         "vine": "N"
        },
        {
         "AT": 30,
         "Adj_Count": 2,
         "Adv_Count": 0,
         "Art_Count": 1,
         "Authenticity": 1.0833333333333333,
         "Aux_Count": 0,
         "Con_Count": 1,
         "Genuinity": 0.4998767818228214,
         "IP Address": "194.12.14.67",
         "Neg_Count": 0,
         "Nega_Count": 0,
         "Noun_Count": 5,
         "Pre_Count": 1,
         "Pro_Count": 1,
         "Sentiment": 0.6000000000000001,
         "Subjectivity": 0.575,
         "Unique_words": 12,
         "Verb_Count": 0,
         "Word_Count": 12,
         "_deepnote_index_column": "R2Y0MM9YE6OP3P",
         "customer_id": 51469641,
         "helpful_votes": 0,
         "label": "Moderately Genuine",
         "marketplace": "US",
         "product_category": "Mobile_Electronics",
         "product_id": "B00QERR5CY",
         "product_parent": 82850235,
         "product_title": "iXCC Multi pack Lightning cable",
         "review_body": "these work great and fit my life proof case for the iphone  ",
         "review_date": "2015-08-31",
         "review_headline": "great cables",
         "star_rating": "5",
         "timestamp": 1440959483,
         "total_votes": 0,
         "verified_purchase": 1,
         "vine": "N"
        },
        {
         "AT": 26,
         "Adj_Count": 0,
         "Adv_Count": 3,
         "Art_Count": 1,
         "Authenticity": 1,
         "Aux_Count": 2,
         "Con_Count": 1,
         "Genuinity": 0.742184489121376,
         "IP Address": "213.136.76.172",
         "Neg_Count": 0,
         "Nega_Count": 1,
         "Noun_Count": 3,
         "Pre_Count": 3,
         "Pro_Count": 1,
         "Sentiment": 0.2,
         "Subjectivity": 0.3,
         "Unique_words": 20,
         "Verb_Count": 6,
         "Word_Count": 21,
         "_deepnote_index_column": "RRB9C05HDOD4O",
         "customer_id": 4332923,
         "helpful_votes": 0,
         "label": "Moderately Genuine",
         "marketplace": "US",
         "product_category": "Mobile_Electronics",
         "product_id": "B00QUFTPV4",
         "product_parent": 221169481,
         "product_title": "abcGoodefg® FBI Covert Acoustic Tube Earpiece Headset PTT Mic for Motorola Two Way Radio Device Walkie Talkie GP88 300 2000 CT150 P040 PRO1150 SP10 XTN500 2pin",
         "review_body": "work very well but could not get used to not hearing anything out of the ear they v were plugged into ",
         "review_date": "2015-08-31",
         "review_headline": "work very well but couldn t get used to not hearing    ",
         "star_rating": "4",
         "timestamp": 1441015251,
         "total_votes": 0,
         "verified_purchase": 1,
         "vine": "N"
        }
       ]
      },
      "text/html": "<div>\n<style scoped>\n    .dataframe tbody tr th:only-of-type {\n        vertical-align: middle;\n    }\n\n    .dataframe tbody tr th {\n        vertical-align: top;\n    }\n\n    .dataframe thead th {\n        text-align: right;\n    }\n</style>\n<table border=\"1\" class=\"dataframe\">\n  <thead>\n    <tr style=\"text-align: right;\">\n      <th></th>\n      <th>marketplace</th>\n      <th>customer_id</th>\n      <th>product_id</th>\n      <th>product_parent</th>\n      <th>product_title</th>\n      <th>product_category</th>\n      <th>star_rating</th>\n      <th>helpful_votes</th>\n      <th>total_votes</th>\n      <th>vine</th>\n      <th>...</th>\n      <th>Pro_Count</th>\n      <th>Pre_Count</th>\n      <th>Con_Count</th>\n      <th>Art_Count</th>\n      <th>Nega_Count</th>\n      <th>Aux_Count</th>\n      <th>Authenticity</th>\n      <th>AT</th>\n      <th>Genuinity</th>\n      <th>label</th>\n    </tr>\n    <tr>\n      <th>review_id</th>\n      <th></th>\n      <th></th>\n      <th></th>\n      <th></th>\n      <th></th>\n      <th></th>\n      <th></th>\n      <th></th>\n      <th></th>\n      <th></th>\n      <th></th>\n      <th></th>\n      <th></th>\n      <th></th>\n      <th></th>\n      <th></th>\n      <th></th>\n      <th></th>\n      <th></th>\n      <th></th>\n      <th></th>\n    </tr>\n  </thead>\n  <tbody>\n    <tr>\n      <th>R8MEA6IGAHO0B</th>\n      <td>US</td>\n      <td>20422322</td>\n      <td>B00MC4CED8</td>\n      <td>82850235</td>\n      <td>BlackVue DR600GW-PMP</td>\n      <td>Mobile_Electronics</td>\n      <td>5</td>\n      <td>0.0</td>\n      <td>0.0</td>\n      <td>N</td>\n      <td>...</td>\n      <td>1.0</td>\n      <td>4.0</td>\n      <td>0.0</td>\n      <td>2.0</td>\n      <td>0.0</td>\n      <td>1.0</td>\n      <td>0.928571</td>\n      <td>32.0</td>\n      <td>0.499943</td>\n      <td>Moderately Genuine</td>\n    </tr>\n    <tr>\n      <th>R31LOQ8JGLPRLK</th>\n      <td>US</td>\n      <td>40835037</td>\n      <td>B00OQMFG1Q</td>\n      <td>82850235</td>\n      <td>GENSSI GSM / GPS Two Way Smart Phone Car Alarm...</td>\n      <td>Mobile_Electronics</td>\n      <td>5</td>\n      <td>0.0</td>\n      <td>1.0</td>\n      <td>N</td>\n      <td>...</td>\n      <td>1.0</td>\n      <td>0.0</td>\n      <td>0.0</td>\n      <td>0.0</td>\n      <td>0.0</td>\n      <td>1.0</td>\n      <td>1.333333</td>\n      <td>28.0</td>\n      <td>0.499936</td>\n      <td>Moderately Genuine</td>\n    </tr>\n    <tr>\n      <th>R2Y0MM9YE6OP3P</th>\n      <td>US</td>\n      <td>51469641</td>\n      <td>B00QERR5CY</td>\n      <td>82850235</td>\n      <td>iXCC Multi pack Lightning cable</td>\n      <td>Mobile_Electronics</td>\n      <td>5</td>\n      <td>0.0</td>\n      <td>0.0</td>\n      <td>N</td>\n      <td>...</td>\n      <td>1.0</td>\n      <td>1.0</td>\n      <td>1.0</td>\n      <td>1.0</td>\n      <td>0.0</td>\n      <td>0.0</td>\n      <td>1.083333</td>\n      <td>30.0</td>\n      <td>0.499877</td>\n      <td>Moderately Genuine</td>\n    </tr>\n    <tr>\n      <th>RRB9C05HDOD4O</th>\n      <td>US</td>\n      <td>4332923</td>\n      <td>B00QUFTPV4</td>\n      <td>82850235</td>\n      <td>abcGoodefg® FBI Covert Acoustic Tube Earpiece ...</td>\n      <td>Mobile_Electronics</td>\n      <td>4</td>\n      <td>0.0</td>\n      <td>0.0</td>\n      <td>N</td>\n      <td>...</td>\n      <td>0.0</td>\n      <td>0.0</td>\n      <td>0.0</td>\n      <td>0.0</td>\n      <td>0.0</td>\n      <td>0.0</td>\n      <td>1.000000</td>\n      <td>28.0</td>\n      <td>0.742184</td>\n      <td>Moderately Genuine</td>\n    </tr>\n    <tr>\n      <th>RY8DDL22YG4R5</th>\n      <td>US</td>\n      <td>7846966</td>\n      <td>B00KA6CCVY</td>\n      <td>563475445</td>\n      <td>Aweek® Air Acoustic Earpiece Headset for Baofe...</td>\n      <td>Mobile_Electronics</td>\n      <td>3</td>\n      <td>0.0</td>\n      <td>1.0</td>\n      <td>N</td>\n      <td>...</td>\n      <td>2.0</td>\n      <td>2.0</td>\n      <td>2.0</td>\n      <td>0.0</td>\n      <td>0.0</td>\n      <td>3.0</td>\n      <td>0.958333</td>\n      <td>24.0</td>\n      <td>0.675685</td>\n      <td>Moderately Genuine</td>\n    </tr>\n    <tr>\n      <th>...</th>\n      <td>...</td>\n      <td>...</td>\n      <td>...</td>\n      <td>...</td>\n      <td>...</td>\n      <td>...</td>\n      <td>...</td>\n      <td>...</td>\n      <td>...</td>\n      <td>...</td>\n      <td>...</td>\n      <td>...</td>\n      <td>...</td>\n      <td>...</td>\n      <td>...</td>\n      <td>...</td>\n      <td>...</td>\n      <td>...</td>\n      <td>...</td>\n      <td>...</td>\n      <td>...</td>\n    </tr>\n    <tr>\n      <th>R2CDRVDUKB5Z9P</th>\n      <td>US</td>\n      <td>38978459</td>\n      <td>B00005OTZQ</td>\n      <td>554527960</td>\n      <td>Royal SE 2800 Hand-Held Spot Cleaner</td>\n      <td>Mobile_Electronics</td>\n      <td>5</td>\n      <td>23.0</td>\n      <td>27.0</td>\n      <td>N</td>\n      <td>...</td>\n      <td>0.0</td>\n      <td>0.0</td>\n      <td>0.0</td>\n      <td>0.0</td>\n      <td>0.0</td>\n      <td>0.0</td>\n      <td>0.521401</td>\n      <td>30.0</td>\n      <td>0.499941</td>\n      <td>Moderately Genuine</td>\n    </tr>\n    <tr>\n      <th>R1DVLTZFXXOX9</th>\n      <td>US</td>\n      <td>51697602</td>\n      <td>B00005OTZQ</td>\n      <td>554527960</td>\n      <td>Royal SE 2800 Hand-Held Spot Cleaner</td>\n      <td>Mobile_Electronics</td>\n      <td>5</td>\n      <td>10.0</td>\n      <td>11.0</td>\n      <td>N</td>\n      <td>...</td>\n      <td>0.0</td>\n      <td>0.0</td>\n      <td>0.0</td>\n      <td>0.0</td>\n      <td>0.0</td>\n      <td>0.0</td>\n      <td>0.732558</td>\n      <td>30.0</td>\n      <td>0.499705</td>\n      <td>Moderately Genuine</td>\n    </tr>\n    <tr>\n      <th>R1GHKKZMHAHQC1</th>\n      <td>US</td>\n      <td>50891675</td>\n      <td>B00005OTZQ</td>\n      <td>554527960</td>\n      <td>Royal SE 2800 Hand-Held Spot Cleaner</td>\n      <td>Mobile_Electronics</td>\n      <td>5</td>\n      <td>13.0</td>\n      <td>13.0</td>\n      <td>N</td>\n      <td>...</td>\n      <td>0.0</td>\n      <td>0.0</td>\n      <td>0.0</td>\n      <td>0.0</td>\n      <td>0.0</td>\n      <td>0.0</td>\n      <td>0.676190</td>\n      <td>30.0</td>\n      <td>0.499595</td>\n      <td>Moderately Genuine</td>\n    </tr>\n    <tr>\n      <th>R227G6T5B26DVC</th>\n      <td>US</td>\n      <td>38528439</td>\n      <td>B00005OTZQ</td>\n      <td>554527960</td>\n      <td>Royal SE 2800 Hand-Held Spot Cleaner</td>\n      <td>Mobile_Electronics</td>\n      <td>5</td>\n      <td>58.0</td>\n      <td>61.0</td>\n      <td>N</td>\n      <td>...</td>\n      <td>0.0</td>\n      <td>0.0</td>\n      <td>0.0</td>\n      <td>0.0</td>\n      <td>0.0</td>\n      <td>0.0</td>\n      <td>0.479109</td>\n      <td>30.0</td>\n      <td>0.499938</td>\n      <td>Moderately Genuine</td>\n    </tr>\n    <tr>\n      <th>R44WS2RSQQ0HR</th>\n      <td>US</td>\n      <td>47099634</td>\n      <td>B00005OTZQ</td>\n      <td>554527960</td>\n      <td>Royal SE 2800 Hand-Held Spot Cleaner</td>\n      <td>Mobile_Electronics</td>\n      <td>4</td>\n      <td>37.0</td>\n      <td>38.0</td>\n      <td>N</td>\n      <td>...</td>\n      <td>0.0</td>\n      <td>0.0</td>\n      <td>0.0</td>\n      <td>0.0</td>\n      <td>0.0</td>\n      <td>0.0</td>\n      <td>0.503356</td>\n      <td>30.0</td>\n      <td>0.499939</td>\n      <td>Moderately Genuine</td>\n    </tr>\n  </tbody>\n</table>\n<p>59800 rows × 35 columns</p>\n</div>",
      "text/plain": "               marketplace  customer_id  product_id  product_parent  \\\nreview_id                                                             \nR8MEA6IGAHO0B           US     20422322  B00MC4CED8        82850235   \nR31LOQ8JGLPRLK          US     40835037  B00OQMFG1Q        82850235   \nR2Y0MM9YE6OP3P          US     51469641  B00QERR5CY        82850235   \nRRB9C05HDOD4O           US      4332923  B00QUFTPV4        82850235   \nRY8DDL22YG4R5           US      7846966  B00KA6CCVY       563475445   \n...                    ...          ...         ...             ...   \nR2CDRVDUKB5Z9P          US     38978459  B00005OTZQ       554527960   \nR1DVLTZFXXOX9           US     51697602  B00005OTZQ       554527960   \nR1GHKKZMHAHQC1          US     50891675  B00005OTZQ       554527960   \nR227G6T5B26DVC          US     38528439  B00005OTZQ       554527960   \nR44WS2RSQQ0HR           US     47099634  B00005OTZQ       554527960   \n\n                                                    product_title  \\\nreview_id                                                           \nR8MEA6IGAHO0B                                BlackVue DR600GW-PMP   \nR31LOQ8JGLPRLK  GENSSI GSM / GPS Two Way Smart Phone Car Alarm...   \nR2Y0MM9YE6OP3P                    iXCC Multi pack Lightning cable   \nRRB9C05HDOD4O   abcGoodefg® FBI Covert Acoustic Tube Earpiece ...   \nRY8DDL22YG4R5   Aweek® Air Acoustic Earpiece Headset for Baofe...   \n...                                                           ...   \nR2CDRVDUKB5Z9P               Royal SE 2800 Hand-Held Spot Cleaner   \nR1DVLTZFXXOX9                Royal SE 2800 Hand-Held Spot Cleaner   \nR1GHKKZMHAHQC1               Royal SE 2800 Hand-Held Spot Cleaner   \nR227G6T5B26DVC               Royal SE 2800 Hand-Held Spot Cleaner   \nR44WS2RSQQ0HR                Royal SE 2800 Hand-Held Spot Cleaner   \n\n                  product_category star_rating  helpful_votes  total_votes  \\\nreview_id                                                                    \nR8MEA6IGAHO0B   Mobile_Electronics           5            0.0          0.0   \nR31LOQ8JGLPRLK  Mobile_Electronics           5            0.0          1.0   \nR2Y0MM9YE6OP3P  Mobile_Electronics           5            0.0          0.0   \nRRB9C05HDOD4O   Mobile_Electronics           4            0.0          0.0   \nRY8DDL22YG4R5   Mobile_Electronics           3            0.0          1.0   \n...                            ...         ...            ...          ...   \nR2CDRVDUKB5Z9P  Mobile_Electronics           5           23.0         27.0   \nR1DVLTZFXXOX9   Mobile_Electronics           5           10.0         11.0   \nR1GHKKZMHAHQC1  Mobile_Electronics           5           13.0         13.0   \nR227G6T5B26DVC  Mobile_Electronics           5           58.0         61.0   \nR44WS2RSQQ0HR   Mobile_Electronics           4           37.0         38.0   \n\n               vine  ...  Pro_Count Pre_Count Con_Count Art_Count  Nega_Count  \\\nreview_id            ...                                                        \nR8MEA6IGAHO0B     N  ...        1.0       4.0       0.0       2.0         0.0   \nR31LOQ8JGLPRLK    N  ...        1.0       0.0       0.0       0.0         0.0   \nR2Y0MM9YE6OP3P    N  ...        1.0       1.0       1.0       1.0         0.0   \nRRB9C05HDOD4O     N  ...        0.0       0.0       0.0       0.0         0.0   \nRY8DDL22YG4R5     N  ...        2.0       2.0       2.0       0.0         0.0   \n...             ...  ...        ...       ...       ...       ...         ...   \nR2CDRVDUKB5Z9P    N  ...        0.0       0.0       0.0       0.0         0.0   \nR1DVLTZFXXOX9     N  ...        0.0       0.0       0.0       0.0         0.0   \nR1GHKKZMHAHQC1    N  ...        0.0       0.0       0.0       0.0         0.0   \nR227G6T5B26DVC    N  ...        0.0       0.0       0.0       0.0         0.0   \nR44WS2RSQQ0HR     N  ...        0.0       0.0       0.0       0.0         0.0   \n\n               Aux_Count  Authenticity    AT  Genuinity               label  \nreview_id                                                                    \nR8MEA6IGAHO0B        1.0      0.928571  32.0   0.499943  Moderately Genuine  \nR31LOQ8JGLPRLK       1.0      1.333333  28.0   0.499936  Moderately Genuine  \nR2Y0MM9YE6OP3P       0.0      1.083333  30.0   0.499877  Moderately Genuine  \nRRB9C05HDOD4O        0.0      1.000000  28.0   0.742184  Moderately Genuine  \nRY8DDL22YG4R5        3.0      0.958333  24.0   0.675685  Moderately Genuine  \n...                  ...           ...   ...        ...                 ...  \nR2CDRVDUKB5Z9P       0.0      0.521401  30.0   0.499941  Moderately Genuine  \nR1DVLTZFXXOX9        0.0      0.732558  30.0   0.499705  Moderately Genuine  \nR1GHKKZMHAHQC1       0.0      0.676190  30.0   0.499595  Moderately Genuine  \nR227G6T5B26DVC       0.0      0.479109  30.0   0.499938  Moderately Genuine  \nR44WS2RSQQ0HR        0.0      0.503356  30.0   0.499939  Moderately Genuine  \n\n[59800 rows x 35 columns]"
     },
     "execution_count": 20,
     "metadata": {},
     "output_type": "execute_result"
    }
   ]
  },
  {
   "cell_type": "code",
   "metadata": {
    "deepnote_to_be_reexecuted": false,
    "execution_millis": 23,
    "execution_start": 1652895592176,
    "source_hash": "604a06d2",
    "tags": [],
    "cell_id": "00027-bcaa17e6-c74a-4695-8c2e-af912ec46a32",
    "deepnote_cell_type": "code",
    "deepnote_cell_height": 80.953125
   },
   "source": "df2.sort_values(\"timestamp\",inplace=True)",
   "execution_count": null,
   "outputs": []
  },
  {
   "cell_type": "code",
   "metadata": {
    "deepnote_to_be_reexecuted": false,
    "execution_millis": 34300614,
    "execution_start": 1652895592251,
    "source_hash": "599c013b",
    "tags": [],
    "cell_id": "00028-01efb3b3-24ed-4aa8-b0dd-992777006cc6",
    "deepnote_cell_type": "code",
    "deepnote_cell_height": 170.953125
   },
   "source": "def OnlyStopwords(str):\n    words = nltk.word_tokenize(str)\n    words = [word for word in words if word not in stopwords.words(\"english\")]\n    if(len(words)==0):\n        return True\n    return False",
   "execution_count": null,
   "outputs": []
  },
  {
   "cell_type": "code",
   "metadata": {
    "deepnote_to_be_reexecuted": false,
    "execution_millis": 34300595,
    "execution_start": 1652895592251,
    "source_hash": "a0229a01",
    "tags": [],
    "cell_id": "00029-425b14da-0712-423b-a835-8783d6b0dcd8",
    "deepnote_cell_type": "code",
    "deepnote_cell_height": 118.140625,
    "deepnote_output_heights": [
     21.1875
    ]
   },
   "source": "OnlyStopwords(\"to\")",
   "execution_count": null,
   "outputs": [
    {
     "data": {
      "text/plain": "True"
     },
     "execution_count": 23,
     "metadata": {},
     "output_type": "execute_result"
    }
   ]
  },
  {
   "cell_type": "code",
   "metadata": {
    "deepnote_to_be_reexecuted": false,
    "execution_millis": 6359699,
    "execution_start": 1652895592252,
    "source_hash": "c2f675f8",
    "tags": [],
    "cell_id": "00030-1d05b3c7-0856-49b4-a28c-46be80605fd7",
    "deepnote_cell_type": "code",
    "deepnote_cell_height": 962.96875
   },
   "source": "from nltk.corpus import wordnet\n\nremove_reviews2 = []\nindices = []\nfor i in range(len(df2)):\n    \n    reviews = [str(df2[\"review_body\"][i])]\n    \n    try:\n        tfidf_vectorizer.fit_transform(reviews)\n    except:\n        # reviews with one word and with no dictionary meaning will be invalid\n        # e.g- [\"c\",\"O.K.\"]\n        remove_reviews2.append(df2[\"review_id\"][i]) \n        continue\n        \n    Time = df2[\"timestamp\"][i]\n    # timestamp of the review that will be compared\n    \n    for j in range(i+1,len(df2)):\n            \n        indices.append(df2[\"review_id\"][j])\n        \n        if(df2[\"timestamp\"][j]-Time <= 1800):\n            # reviews written in 30 min of intervals will be checked for same pattern\n            reviews.append(str(df2[\"review_body\"][j]))\n        else:\n            break\n    \n    tfidf_matrix = tfidf_vectorizer.fit_transform(reviews)\n    \n    #creates TF-IDF Model\n    tfidf_list = cosine_similarity(tfidf_matrix[0:1], tfidf_matrix).tolist()\n    # Creates matrix based on document similarity\n         \n    # To check similarity b/w 2 reviews\n    i_appended = False\n    for k in range(1,len(tfidf_list[0])):\n        #print(tfidf_list[0][k],i+k)\n        \n        if(tfidf_list[0][k]>0.6):\n            # 0.6 is defind for the simmilarity level\n            \n            remove_reviews2.append(df2[\"review_id\"][i+k])\n            # i+k is to get the review id of the review\n            \n            if(not i_appended):\n                remove_reviews2.append(df2[\"review_id\"][i]) \n                i_appended = True\n ",
   "execution_count": null,
   "outputs": []
  },
  {
   "cell_type": "code",
   "metadata": {
    "deepnote_to_be_reexecuted": false,
    "execution_millis": 47,
    "execution_start": 1652901951990,
    "source_hash": "c6873a26",
    "tags": [],
    "cell_id": "00031-15727d83-0cd0-4e66-807a-3871cd5a793a",
    "deepnote_cell_type": "code",
    "deepnote_cell_height": 707.953125,
    "deepnote_output_heights": [
     611
    ]
   },
   "source": "remove_reviews2",
   "execution_count": null,
   "outputs": [
    {
     "data": {
      "text/plain": "['R8MEA6IGAHO0B',\n 'R8MEA6IGAHO0B',\n 'R2V3BZMI3YQXX8',\n 'R2J68T8Y2ZWUSP',\n 'R3KMVTYXYDOU1O',\n 'RAM9PGMJX3QHC',\n 'R32V8MSKMMLUN5',\n 'RHD4B4FI8ZOX0',\n 'R2O0LZSPMME6US',\n 'R5F0MONILUKRP',\n 'R3T4FXBLX36ZVL',\n 'R286FBMJM6KBVL',\n 'R3222TQXKRY5SC',\n 'R1MQJWZVLX625B',\n 'R3KD1E9HEX42AL',\n 'R1OOWBOVU8QDZJ',\n 'R12Q4C7XNW665',\n 'R1PTHDWKRTF5DT',\n 'RNN38RFJVIE5G',\n 'R3EFBMPPEHZOZV',\n 'RA6OHYP373VWR',\n 'R1KU1LI5H6WEYP',\n 'RNP0IW2BEJTYF',\n 'R1Y0D9EH8E7AXA',\n 'RUAXZ2T4XBWE0',\n 'RZR8DOQ6AZOGP',\n 'R2H7T7QDBOLJXW',\n 'R1KXHOYWM8CDWY',\n 'R1L7AUETBKS36D',\n 'R37LNCQB511I58',\n 'RQZ5DGUWN3U1A',\n 'RDM2R57IACDV8',\n 'R2FA42Y6WH9T7X',\n 'RMW17CI6V8FQS',\n 'R1PXJJ1V25YK0F',\n 'R30Q1TM5KNBGYJ',\n 'R3GUFVMUDMMVSP',\n 'R1UXNK73S0RE7D',\n 'R1VVDY2OPRXUFO',\n 'R10QSCIA3H9VUB',\n 'R3C7OODQINRA8M',\n 'R8J978HOHN8OI',\n 'R140KV2YTBW809',\n 'R2T628MWOORD5L',\n 'RNAFMG7E8AV98',\n 'R22C1N6ZTRCH9X',\n 'R3AXWUF0IRZGWA',\n 'R3L1RQZC3MVSNT',\n 'R3ISGPEW3GWCVT',\n 'R3LD5J71OUGAUV',\n 'R3IB0T9HT1U7TT',\n 'R2SU3LIZTQC9OB',\n 'R2H0G6P50Y109L',\n 'R2SI18DGI79KO',\n 'R1VEGAA8V11R7T',\n 'RIFLXGMTWCAFY',\n 'R3IKNGEAWKUG42',\n 'R9FE33GCTBKS7',\n 'R35KWA1R1N0I9',\n 'R2DEJ3YRG1NSVV',\n 'R13O4UWV9CX2OF',\n 'R2OSY4OKR6FEG5',\n 'R3H3Q9C71TJ245',\n 'R22GUFMSXKR8QB',\n 'R309CG6X5YVGRC',\n 'RQJISYEXZ6OHY',\n 'R2MP3DVMEZVDXA',\n 'RYV0E9CUARKQO',\n 'R3U668T3TDBR0',\n 'R1ZCMRE0LNBW48',\n 'R2DPCF02NONCP0',\n 'R1GHVQJXP6SIJU',\n 'RLP39CVUG7LC5',\n 'R3TV3ZQIHQUWWE',\n 'R2BFEQRH94CYYC',\n 'R9H7RM5Y3312Q',\n 'R3T6BP9SXKZA4H',\n 'R3SLB91L6HIMNO',\n 'R3645FDRSVI686',\n 'R2XX3TY6JTRM3X',\n 'R2CAESEQG63JI1',\n 'R3KU91065W0MEB',\n 'RYAQ8YK6M374L',\n 'R2OEC48EY680S2',\n 'R3DJPGUTJDNOVY',\n 'R2W5YZQG2KTNSO',\n 'R3MGZ75QFPTB0S',\n 'R1MQJWZVLX625B',\n 'R3KD1E9HEX42AL',\n 'R1OOWBOVU8QDZJ',\n 'R12Q4C7XNW665',\n 'R1PTHDWKRTF5DT',\n 'REETTS40B29IF',\n 'R30MKRUWLRMT7Z',\n 'RNN38RFJVIE5G',\n 'R2US0P7MU1S4T0',\n 'R3EFBMPPEHZOZV',\n 'RA6OHYP373VWR',\n 'R1KU1LI5H6WEYP',\n 'R10JXFXKBOR2K9',\n 'RUFSYWR4JEM9X',\n 'RNP0IW2BEJTYF',\n 'R1Y0D9EH8E7AXA',\n 'R3LGEZDESESTXZ',\n 'RUAXZ2T4XBWE0',\n 'RZR8DOQ6AZOGP',\n 'R2H7T7QDBOLJXW',\n 'R3CU67FFUPCHZE',\n 'R1KXHOYWM8CDWY',\n 'R1SWZ6MX0GYYBE',\n 'R1L7AUETBKS36D',\n 'R37LNCQB511I58',\n 'RQZ5DGUWN3U1A',\n 'RDM2R57IACDV8',\n 'R2FA42Y6WH9T7X',\n 'RMW17CI6V8FQS',\n 'R1PXJJ1V25YK0F',\n 'R30Q1TM5KNBGYJ',\n 'R2KW2DFY5P0P3A',\n 'R3GUFVMUDMMVSP',\n 'R1UXNK73S0RE7D',\n 'R3KSV96VGXZ5BC',\n 'R2F22IN30ZCUCH',\n 'R11IMOE7DB7MOF',\n 'R1VVDY2OPRXUFO',\n 'R10QSCIA3H9VUB',\n 'R2I0B00DQRJMYW',\n 'R13O4UWV9CX2OF',\n 'R3C7OODQINRA8M',\n 'R2XTNZE0JPE1Q4',\n 'R8J978HOHN8OI',\n 'RBRV9W7I9YNUX',\n 'R140KV2YTBW809',\n 'R22GUFMSXKR8QB',\n 'R2NCE0RP7HYTJT',\n 'R1AEL8XMKRT511',\n 'R7L22LEG2BUVA',\n 'R3U668T3TDBR0',\n 'RYV0E9CUARKQO',\n 'R1ZCMRE0LNBW48',\n 'R3PDEEDY5UNSZV',\n 'R2DPCF02NONCP0',\n 'R1GHVQJXP6SIJU',\n 'R1AEWMPKRHO009',\n 'R2KC8M0ZHOEC09',\n 'R1RNP94U4ZBQ5A',\n 'RDJQ9RE010GL8',\n 'RLP39CVUG7LC5',\n 'R3TV3ZQIHQUWWE',\n 'R12EPOI9OGT824',\n 'R2BFEQRH94CYYC',\n 'R9H7RM5Y3312Q',\n 'R3O3028KP1P51R',\n 'R1E9L0CEM8EDX3',\n 'R3HYXJ6YHXDUEP',\n 'R3T6BP9SXKZA4H',\n 'R3SLB91L6HIMNO',\n 'R1XVKQNCX89IH3',\n 'R1F4XLVFMCG4N6',\n 'R2X5H4YGLQ608B',\n 'R17ACCE4CQJ05',\n 'R3645FDRSVI686',\n 'R3ED5ONGT0UZGF',\n 'R2XX3TY6JTRM3X',\n 'R3QM702AN4C6H6',\n 'R1Z660NATT8Q0I',\n 'R1OOWBOVU8QDZJ',\n 'R3KD1E9HEX42AL',\n 'R2XKSGAW5T4UZI',\n 'R12Q4C7XNW665',\n 'R1PTHDWKRTF5DT',\n 'R3A99XDTB3S67I',\n 'RNN38RFJVIE5G',\n 'R3EFBMPPEHZOZV',\n 'RA6OHYP373VWR',\n 'R1KU1LI5H6WEYP',\n 'RNP0IW2BEJTYF',\n 'R1Y0D9EH8E7AXA',\n 'R1L6L41DHPYILX',\n 'RUAXZ2T4XBWE0',\n 'RZR8DOQ6AZOGP',\n 'R2H7T7QDBOLJXW',\n 'R1KXHOYWM8CDWY',\n 'R1L7AUETBKS36D',\n 'R37LNCQB511I58',\n 'RQZ5DGUWN3U1A',\n 'RDM2R57IACDV8',\n 'R2FA42Y6WH9T7X',\n 'RMW17CI6V8FQS',\n 'R1PXJJ1V25YK0F',\n 'R30Q1TM5KNBGYJ',\n 'R3GUFVMUDMMVSP',\n 'R1UXNK73S0RE7D',\n 'RWNDOOU365L94',\n 'R3KSU35G0H2O2E',\n 'R1VVDY2OPRXUFO',\n 'R10QSCIA3H9VUB',\n 'R216TXLQ5O9CTH',\n 'R3C7OODQINRA8M',\n 'R8J978HOHN8OI',\n 'R140KV2YTBW809',\n 'R3LD5J71OUGAUV',\n 'R3ISGPEW3GWCVT',\n 'R3IB0T9HT1U7TT',\n 'R2SU3LIZTQC9OB',\n 'R2H0G6P50Y109L',\n 'R2SI18DGI79KO',\n 'R1VEGAA8V11R7T',\n 'RIFLXGMTWCAFY',\n 'R3IKNGEAWKUG42',\n 'R9FE33GCTBKS7',\n 'R35KWA1R1N0I9',\n 'R2DEJ3YRG1NSVV',\n 'R13O4UWV9CX2OF',\n 'R2OSY4OKR6FEG5',\n 'R3H3Q9C71TJ245',\n 'R22GUFMSXKR8QB',\n 'R2R9H5SFFZ9H6D',\n 'R2FCJ99ULRAHLX',\n 'R37L5U3773P9TL',\n 'R3L3C81PIPFK1G',\n 'RNN38RFJVIE5G',\n 'R30MKRUWLRMT7Z',\n 'R3EFBMPPEHZOZV',\n 'RA6OHYP373VWR',\n 'RGC5CRZWYWD8X',\n 'RNP0IW2BEJTYF',\n 'R1Y0D9EH8E7AXA',\n 'R1L6L41DHPYILX',\n 'RZR8DOQ6AZOGP',\n 'R2H7T7QDBOLJXW',\n 'R1KXHOYWM8CDWY',\n 'RQZ5DGUWN3U1A',\n 'RDM2R57IACDV8',\n 'R2FA42Y6WH9T7X',\n 'R3DWK9YAOK7O6A',\n 'RMW17CI6V8FQS',\n 'R1PXJJ1V25YK0F',\n 'R30Q1TM5KNBGYJ',\n 'R1UXNK73S0RE7D',\n 'R1VVDY2OPRXUFO',\n 'R10QSCIA3H9VUB',\n 'R3C7OODQINRA8M',\n 'R140KV2YTBW809',\n 'R2NCE0RP7HYTJT',\n 'R34C2S3GJBJDGG',\n 'R1I0DHJ0CRDA8W',\n 'R2URVOL4YQ1PCV',\n 'R1PMDBR8R2XY60',\n 'R16NN4MG954D7X',\n 'R677V1YQ2R3R0',\n 'R2CRYYNC7YED3A',\n 'R2E1OAVJYUE28V',\n 'R2URVOL4YQ1PCV',\n 'R34C2S3GJBJDGG',\n 'R1PMDBR8R2XY60',\n 'R16NN4MG954D7X',\n 'R677V1YQ2R3R0',\n 'R2CRYYNC7YED3A',\n 'R2E1OAVJYUE28V',\n 'R3R4DFAVIKNB9B',\n 'RZIZI6MXHT08E',\n 'RDRWJAOF475O9',\n 'R3UBKJT7PR32G',\n 'R12N9I3OIAYXQQ',\n 'R3IEEYRFCVFNHB',\n 'R3FRVMHM0KY77B',\n 'R10JXFXKBOR2K9',\n 'RDJQ9RE010GL8',\n 'RUFSYWR4JEM9X',\n 'R3LGEZDESESTXZ',\n 'R3O3028KP1P51R',\n 'R1SWZ6MX0GYYBE',\n 'R3HYXJ6YHXDUEP',\n 'R1XVKQNCX89IH3',\n 'RN8XGYNF6PY84',\n 'R1F4XLVFMCG4N6',\n 'R2X5H4YGLQ608B',\n 'R17ACCE4CQJ05',\n 'R2KW2DFY5P0P3A',\n 'R3ED5ONGT0UZGF',\n 'R3KSV96VGXZ5BC',\n 'R11IMOE7DB7MOF',\n 'R2I0B00DQRJMYW',\n 'RBRV9W7I9YNUX',\n 'R3QM702AN4C6H6',\n 'R3R7ZFNGQGKAEI',\n 'R3OZ640ZLSU2GH',\n 'R2XC72Z1MC8ULS',\n 'R197S4GN8UZNHT',\n 'R2HXDQ10CW6QJW',\n 'RNH5NUO4LKH2R',\n 'R2KAMZU9S2V18G',\n 'R9H7RM5Y3312Q',\n 'R2BFEQRH94CYYC',\n 'R3T6BP9SXKZA4H',\n 'R3SLB91L6HIMNO',\n 'R3645FDRSVI686',\n 'R2XX3TY6JTRM3X',\n 'R1Y0D9EH8E7AXA',\n 'RNP0IW2BEJTYF',\n 'R3LGEZDESESTXZ',\n 'R3LGEZDESESTXZ',\n 'R1Y0D9EH8E7AXA',\n 'R1Z660NATT8Q0I',\n 'R1E9L0CEM8EDX3',\n 'R254HGUYZQPDWT',\n 'R3CC80M8AB3TMG',\n 'R3FUHKCRHX6VF3',\n 'RG8NWZRZWBNOF',\n 'RDM2R57IACDV8',\n 'RQZ5DGUWN3U1A',\n 'R2FA42Y6WH9T7X',\n 'RMW17CI6V8FQS',\n 'R1PXJJ1V25YK0F',\n 'R30Q1TM5KNBGYJ',\n 'R2KW2DFY5P0P3A',\n 'R3GUFVMUDMMVSP',\n 'R1UXNK73S0RE7D',\n 'R20FLFR451WNTA',\n 'R3KSV96VGXZ5BC',\n 'R2F22IN30ZCUCH',\n 'R11IMOE7DB7MOF',\n 'R1VVDY2OPRXUFO',\n 'R10QSCIA3H9VUB',\n 'R254HGUYZQPDWT',\n 'R2I0B00DQRJMYW',\n 'R13O4UWV9CX2OF',\n 'R3C7OODQINRA8M',\n 'R2XTNZE0JPE1Q4',\n 'R8J978HOHN8OI',\n 'RBRV9W7I9YNUX',\n 'R140KV2YTBW809',\n 'R22GUFMSXKR8QB',\n 'R2NCE0RP7HYTJT',\n 'R4GNUK4WTNOC8',\n 'RE3FEKSBKFV1Z',\n 'R3DJPGUTJDNOVY',\n 'R2OEC48EY680S2',\n 'R15ERWEPSCM30G',\n 'R31LE2WPO28K59',\n 'R3645FDRSVI686',\n 'R2DEJ3YRG1NSVV',\n 'R13O4UWV9CX2OF',\n 'R2OSY4OKR6FEG5',\n 'R2XX3TY6JTRM3X',\n 'R3H3Q9C71TJ245',\n 'R22GUFMSXKR8QB',\n 'R1F4XLVFMCG4N6',\n 'RN8XGYNF6PY84',\n 'R2X5H4YGLQ608B',\n 'R17ACCE4CQJ05',\n 'R3ED5ONGT0UZGF',\n 'R2U6LX2BY3HDAE',\n 'R11F2LWDXF1TKS',\n 'R3QM702AN4C6H6',\n 'R1B7GOBJ2U2FAW',\n 'R3FUHKCRHX6VF3',\n 'R2GAQZTCH0NQ4R',\n 'R3ED5ONGT0UZGF',\n 'R3645FDRSVI686',\n 'R3EK8Q0IZRG262',\n 'RWCL4YE4CJU3C',\n 'R1VVDY2OPRXUFO',\n 'R2F22IN30ZCUCH',\n 'R10QSCIA3H9VUB',\n 'R3C7OODQINRA8M',\n 'R140KV2YTBW809',\n 'R10QSCIA3H9VUB',\n 'R1VVDY2OPRXUFO',\n 'R254HGUYZQPDWT',\n 'R2I0B00DQRJMYW',\n 'R13O4UWV9CX2OF',\n 'R366M0TLG6GINT',\n 'R3C7OODQINRA8M',\n 'R2XTNZE0JPE1Q4',\n 'R8J978HOHN8OI',\n 'RBRV9W7I9YNUX',\n 'R140KV2YTBW809',\n 'R22GUFMSXKR8QB',\n 'R2NCE0RP7HYTJT',\n 'R20VU97OOKPNXL',\n 'R37HN5NJAVV0B2',\n 'R1X2QCA7OU19YD',\n 'R32V8MSKMMLUN5',\n 'RAM9PGMJX3QHC',\n 'R8J978HOHN8OI',\n 'R3DV9D8TUPW6QN',\n 'RTKGLTG8VS17K',\n 'R2VZDS9QAWIBQS',\n 'RJQJBY3R7OCCR',\n 'RBOVRTGUC8B0K',\n 'R317L39S1Y16U',\n 'R3H3Q9C71TJ245',\n 'R2OSY4OKR6FEG5',\n 'R22GUFMSXKR8QB',\n 'R140KV2YTBW809',\n 'R2XTNZE0JPE1Q4',\n 'R17BYVND6OROJ5',\n 'R2EPU0ZFQZUHMG',\n 'RSZY5EK2532T6',\n 'R2LHIFBBRSR2BF',\n 'RZ4KUNO4533LS',\n 'R2V40544IXFZJR',\n 'R1O3QILWG8A1CM',\n 'R2YLJM82IDHJO5',\n 'R1E1ASO1KPBFBA',\n 'R3Q3GS4VNYLPWI',\n 'R2WS8GPYR60Q8H',\n 'RYJ6ZGRURF1P2',\n 'R7RZBWRFUIZNR',\n 'R1658IQJRB7EV7',\n 'R2NEXMLVKJ7MEX',\n 'R1H3F79VRX78DE',\n 'RN8X4W8GREJIB',\n 'R1K6H53XL0961W',\n 'R2O7AAE95MES1L',\n 'R9TJJULHKT6KE',\n 'R1ZWHG6BREG4TI',\n 'R3ITAYI48AKE36',\n 'R3OLEQKYY7MMIL',\n 'RX96CW8MD1GOE',\n 'R2RHG2T5A8SY33',\n 'R3VV70CUJEPVF9',\n 'R1VRY6LTMHUKJM',\n 'R3Q1X93V6YAE6P',\n 'R33Q7O0B7XT4BP',\n 'R17BC43JP6H1C2',\n 'R18JEFSZ08AUSG',\n 'R1ZSTWCNNWDA01',\n 'R23OBUKEVRAE0O',\n 'R342J7RFS1TTDQ',\n 'R3RBB09HIVJSMG',\n 'R3SYQRLPA6ZKWB',\n 'R1Q09QEXHAT839',\n 'R15L4ZP6C4OIRF',\n 'R3JQQ0ISENE0TU',\n 'R1I6PMCKLQ7T05',\n 'R2544KLMAS8TON',\n 'R39JSNG56CF1BJ',\n 'R3PYYAXYVZYYLM',\n 'R1INZFNM426ET8',\n 'RSJQXFXMZ7I3B',\n 'RFV5AGC80ISNK',\n 'R3JZ8ESNB3BLS0',\n 'R1HNZCQK2RRHCQ',\n 'R380EMA90KZ7NN',\n 'R1X64BJVC552KY',\n 'R3I8WPGEEO087D',\n 'R1FOKL6G4HHKK0',\n 'R1RTLJPOEO33IK',\n 'R15S20AN3U7DPM',\n 'R13STUU20EUPKK',\n 'R35N132NOHSMCS',\n 'R39XKK7OPNM9C9',\n 'RAJMWQOXY8V1V',\n 'R3V55TD4G7F243',\n 'R21F4HI2047C4B',\n 'R1VVOMQYK9GAW1',\n 'R3E6VY6IMX9BXT',\n 'R3NNWM1OY00J6Q',\n 'R3OIXMFR5QS0EC',\n 'R2WLFHYHEN83SI',\n 'R2ZUZJXU3K76N8',\n 'R35YY6AYVK9ZUI',\n 'R2108L6FVY6P4L',\n 'R397XCGREULJU0',\n 'R3DOYBYEFJY0H7',\n 'R317F1BHD4KWX2',\n 'RFLPVSEG9SL8M',\n 'RVHXGZJJAM637',\n 'R28K11YJCLH22A',\n 'R1XBRKV9MYP8ZW',\n 'RP208K0XIKG17',\n 'R2G24L10L9UJA3',\n 'R2QTC8P8C4DA60',\n 'RNDK8IX1CEFM3',\n 'R26W3NUQPXUD63',\n 'RDIRURJIEO9H6',\n 'R1IQQJK62K41WS',\n 'R2J8QPBWO7RPLI',\n 'R33JDOH2VOHWEQ',\n 'R3MUXMCRVEGETH',\n 'R274Z8A1BNX1IZ',\n 'RKRY071G7LFFD',\n 'R1TJN3XJ1UTZJ4',\n 'R1MFT4IDBPPLZ2',\n 'R1O8TTH2SNXSOF',\n 'R2ID261LCI5XYW',\n 'RU3Y6GKWOAMAB',\n 'R3QQOLRX2EZWER',\n 'RZQAWDZ8V0RM9',\n 'R2U65I24LEM5XV',\n 'R17NAZA120U77F',\n 'R1EL1U7SDKO7ZB',\n 'R1E34H3E32BXPN',\n 'R1ZFL10ZRI9GF6',\n 'R41F9YBGCAES9',\n 'RW5R5U981902D',\n 'R2VFMGGE7OSUY4',\n 'R3RIMOQ7OGJS65',\n 'R2JKJRQ9IYHDEC',\n 'R3FDKKPQLXQ2PF',\n 'R377OFFIEV0VEK',\n 'R17QFJMP8PG2OO',\n 'RWSGS6O7X7NY5',\n 'R3PYYAXYVZYYLM',\n 'R39JSNG56CF1BJ',\n 'R1INZFNM426ET8',\n 'RSJQXFXMZ7I3B',\n 'R1MYNBJ0B6A33K',\n 'RFV5AGC80ISNK',\n 'R3JZ8ESNB3BLS0',\n 'R1HNZCQK2RRHCQ',\n 'R380EMA90KZ7NN',\n 'R1X64BJVC552KY',\n 'R3I8WPGEEO087D',\n 'RU1K8RUQZJN0X',\n 'R1FOKL6G4HHKK0',\n 'R1RTLJPOEO33IK',\n 'R15S20AN3U7DPM',\n 'R13STUU20EUPKK',\n 'R35N132NOHSMCS',\n 'R39XKK7OPNM9C9',\n 'RAJMWQOXY8V1V',\n 'R3V55TD4G7F243',\n 'R21F4HI2047C4B',\n 'R1VVOMQYK9GAW1',\n 'R3E6VY6IMX9BXT',\n 'R3NNWM1OY00J6Q',\n 'R3OIXMFR5QS0EC',\n 'R2ZUZJXU3K76N8',\n 'R28J0DXJJMHJ94',\n 'RUXC4UF0W1IP7',\n 'R35YY6AYVK9ZUI',\n 'R2108L6FVY6P4L',\n 'R269IPYQ1VJJO6',\n 'R1VG3EKHUTEHRW',\n 'R397XCGREULJU0',\n 'R3J41FTBSLGXXG',\n 'RYNLRE1JSCKYA',\n 'R220R7X93F468R',\n 'R317F1BHD4KWX2',\n 'RFLPVSEG9SL8M',\n 'R28K11YJCLH22A',\n 'R1XBRKV9MYP8ZW',\n 'RP208K0XIKG17',\n 'R2G24L10L9UJA3',\n 'RFUCBVJFRF7GJ',\n 'R1RV870562XJQ8',\n 'R2QTC8P8C4DA60',\n 'RNDK8IX1CEFM3',\n 'R24K1D1APZGQW0',\n 'R1SD8ISLPAIH30',\n 'R26W3NUQPXUD63',\n 'R32IJ46D0TIWN6',\n 'RDIRURJIEO9H6',\n 'R3MKG6RFV26S6V',\n 'R1IQQJK62K41WS',\n 'R2J8QPBWO7RPLI',\n 'R33JDOH2VOHWEQ',\n 'R1CBTJ0G9GISEI',\n 'R3MUXMCRVEGETH',\n 'R274Z8A1BNX1IZ',\n 'RKRY071G7LFFD',\n 'R1TJN3XJ1UTZJ4',\n 'R1MFT4IDBPPLZ2',\n 'R1O8TTH2SNXSOF',\n 'R3CHAHFF0Y9APM',\n 'R2YP6W7W2J521W',\n 'R3J7KEAB6KF6BG',\n 'RSPXX9CVKM3NR',\n 'RXOBAKICSHQ6J',\n 'R3OZ52HQHJFEEA',\n 'R1TTS72Z2GW8CW',\n 'R62AKG4X7PGFK',\n 'R2KKJLN6SADLDW',\n 'R13WNIPJHHC6D9',\n 'R2R7GRR7GI9NEB',\n 'R2Q782AGN3VAH8',\n 'R22ZQ14GV1MRJ5',\n 'R1H4GMLVBZRVX6',\n 'R3KJ4MLARLB8YI',\n 'RKHQNP6XHUAEX',\n 'R282NHBTC19OIA',\n 'R3A4GKDTEQ2R7J',\n 'R100SPJKAQ6TI4',\n 'R2TTLN4BG76H6V',\n 'R220CR3DPSCIP',\n 'R2GM7BJ7INJPVK',\n 'R1E93TYG95JL19',\n 'R2Y13OG5FQZBB7',\n 'R3F50XMLNX48ZX',\n 'RVQQJZFMWFXC7',\n 'RRFZI28J8HGDO',\n 'R2KLEG5RUCWJ24',\n 'R1UD0Q39X8X36N',\n 'R2OXGKR6DS4RLI',\n 'R1ZOLH1DGM62L5',\n 'R2TID4JJCEDWVA',\n 'R3HMN3PFWMRJF5',\n 'R218D7BOTDO6UD',\n 'R77ASJUEM5CD',\n 'R2C6K2EPJTH7AS',\n 'RFJR8H9C7K26V',\n 'R2HPYYUAZLLVNI',\n 'R1YDYO9MTFQLK',\n 'R1SAHJD3R3H9K',\n 'RN6VB7GMYXFQ9',\n 'RRAHQZ2OMZ1Y0',\n 'R1JBP4W782FCLL',\n 'R29WDX0OA6EQC6',\n 'R2IK1LEQ215GI4',\n 'R20XP3Z41UA81I',\n 'R3I48PU7T158XX',\n 'R2YEDOP0C739RI',\n 'RPZ6G8W6ZI7T2',\n 'R3W3CIOJ3RKS12',\n 'R1UWBAJR1CDPR3',\n 'R1MU78OTBES2B9',\n 'R39MRZ1Q7PRPJW',\n 'R3TKMYBVQMZDMV',\n 'RS52FAG7R6J8Y',\n 'R2RWLXTENXCJ0',\n 'R1Q4BE4GTZ5XAU',\n 'R1D3KIOQDNUYDK',\n 'R4ZA0Z6CA5PCT',\n 'R2HVAY1HQC00PE',\n 'R6FHRJMJ9A1E4',\n 'R1UHPIZ3TV1KF6',\n 'R13NGY9UDC1202',\n 'R3M0JJNR34Z15T',\n 'R20FI07P3TWRWY',\n 'R7BBOYE6XBC14',\n 'R1SEB2G9OWT6OR',\n 'RW0VP44H2U27V',\n 'R1CDG4GNTOKNSM',\n 'RD14J7PQLV2T',\n 'RGH01F1K99CJN',\n 'RUDVXNNQFC6LU',\n 'R2C86WJLLYR53H',\n 'R3PK9VWRXU9HPU',\n 'RB710B288R0A1',\n 'R19YUZXBAKORZV',\n 'R28BSOV9OEE75W',\n 'R2LZY0R89D0LHR',\n 'R1SXCG5G4QD8YA',\n 'R3B91EK1GAT3B6',\n 'R3UMP7R93XJONI',\n 'RR2DWWNPAU1XL',\n 'R2ZV67ZPGXRB08',\n 'R11D0BPJWQX0CO',\n 'R3NQG520MIBX2F',\n 'R2S204VP1N1QZA',\n 'R3LBFECT0Z0W2V',\n 'R2E43FU0VBGJ1F',\n 'RMZYL7KRT6LV5',\n 'R2RAB1GCKQIKPM',\n 'R1UO5XSSMU54DN',\n 'R1FLGRMLQGWBTD',\n 'R3VJZQGK8VV7JJ',\n 'RS3WNPNGUZQMR',\n 'R1GKAQ35KHAM6A',\n 'RO50JI09W9OP2',\n 'R2BY6RZP6SWR7C',\n 'R33JIGQ56YWXCL',\n 'R1VYEGLL1P6FOA',\n 'R31AD6IGEEUQY6',\n 'R8E3J5ZFKZOOH',\n 'R2V00K2DU7K0G4',\n 'R1UP5S395PSIKA',\n 'R1B79V4PU8IYK0',\n 'R2E0HFHFEA148E',\n 'R2LE0K64O49XLF',\n 'R1GGPBRGQWY2D7',\n 'R2M2RP3FAU4WGA',\n 'RMZMWAK4IZXMI',\n 'R2AF1QFG2XRT3Y',\n 'R1C7VRN35FBM7N',\n 'R1ELCQ8D4OYRS6',\n 'R3PMCK85OCT0BX',\n 'R9Q0853KIQLZB',\n 'R1P0F00UCM7HBQ',\n 'R1467K4KRTM0FJ',\n 'R2K35H41FE13OX',\n 'R1ZWRAY0MJAJTE',\n 'RDYDI9WTCNQPE',\n 'R3R9PETQA7RV9B',\n 'R1QL5P78WZZIZO',\n 'R1XJVH2Y92TKH4',\n 'R21BHJ63TWCXX5',\n 'R746TOEVJEUDR',\n 'RPQOBZJK94TKK',\n 'R19M9SYJ9C02S0',\n 'R2NVBX1RDT4TYF',\n 'RLA2HNRAQ6E2C',\n 'RJPR4CEQEEVCU',\n 'R2PZMGEMKP9VG',\n 'R13I4LIBB12KIB',\n 'R17FQYCQVIGA2',\n 'R1KZ7Q1L52DRG4',\n 'R3NIOHHQDMNITL',\n 'ROT42VHKCYY02',\n 'R29VZWEYQ9TU4Q',\n 'R1DZQ1N31EKPIZ',\n 'R2ACCIS92KPA26',\n 'R2KV17DA0EQTKG',\n 'R1WM6E06N10L20',\n 'RV4OI874XAPLX',\n 'R23WBIQG6799JA',\n 'R20Y42DH14NKWG',\n 'R255C088MA069H',\n 'R2I675K6I3FB76',\n 'R1H93W6NC5EAMR',\n 'R3U1TEZITCJSN1',\n 'R1HJ33DXIDWY0N',\n 'RCATW7VKXF833',\n 'RU42ZP0WAB8R9',\n 'R158Q5579W29SP',\n 'R14JH7XQGMK0CP',\n 'R3F5RNR1X8K1JQ',\n 'R3OD9NJHZN7GZH',\n 'RYXL5DV0LHU8K',\n 'R1WJNM9U7Y30C6',\n 'R3OI5NB40H826W',\n 'R1AO6GGASWPGN2',\n 'R1BGU5Q2G5X8Y2',\n 'R3QVV62I44KSEG',\n 'R2GY610JCABC67',\n 'R39V65IFTV7I1F',\n 'R3K82I2ONT7KFD',\n 'R3DVA96NZR0A3P',\n 'R2VL11AVG8Y2PS',\n 'R3QHGHQURA21TT',\n 'R3F58I5XVJXYNT',\n 'RX3REE8YK33X3',\n 'R3OMFE891AHRQZ',\n 'R1RNF1HJGMMCY6',\n 'R2UN9GBL9L5EIC',\n 'R17TLFS5NDG23E',\n 'R2WK8TFBX43XL',\n 'R2ZE0ZSWP6M71R',\n 'R2595MZWOUJ10S',\n 'R2INH6I3B85TYK',\n 'R1BIJ4GG01I012',\n 'R2W6EGNQ0M6DUF',\n 'R1554E5BFOIJM9',\n 'R1DAYZ1XRDBOXE',\n 'R27OLYDMGWMPXF',\n 'R1WM5BOSZS08KI',\n 'R3LZ8MN69C9OKT',\n 'R1EE8FB63UCON5',\n 'R18BITB5WXGQPG',\n 'R2G1P3TO30A8GF',\n 'R3DPIQD15H0W8X',\n 'R2XBHC41DBNXEG',\n 'R2X4EVXMTU2S8I',\n 'R2A4VLYG50LE26',\n 'R2M46U1XE9ABCJ',\n 'R2UYMPGL9X1W5J',\n 'R1EUQVG8VB6K5J',\n 'RN8NX7ZSCFYW1',\n 'R24ENLM8I7RX78',\n 'R29WPYM5L3IFXS',\n 'R3MO6KO2EPKGG5',\n 'R15MK4ISRAQ9YP',\n 'RPKFX013VC5E',\n 'R2YNXGKZG4DVR9',\n 'R3FVKN7FL5OE68',\n 'R3H7B0YRNSHSXK',\n 'R1KUCH38XZ405Y',\n 'RT14YUSYBEH6Y',\n 'RTYHMN0U81TEC',\n 'RD56F8TAEXEFO',\n 'R2ZP21PC4L9WLX',\n 'R35IRJF6F9QRN',\n 'R3LT2SRAIY6Y53',\n 'R12PULXFAQ75JC',\n 'R3W316N90JAIL6',\n 'R1T4JWWC1GALWU',\n 'RD3TO6VQK05UD',\n 'R2NT70C0D0Y4G0',\n 'R1YIOUX2SW12HG',\n 'R1Q5506P5GR4HK',\n 'R2ZJ8HU03CHXEB',\n 'R3RP6TJHC3OFY8',\n 'R3RZRSZXDPR7U7',\n 'R27GRVC47P28TB',\n 'R18JEFSZ08AUSG',\n 'R1KNQLQHBQH980',\n 'RUD9YRLI19AP5',\n 'R3OZV77CC6ISG8',\n 'R26IQ5945DASQ9',\n 'R1ITQQJFRE3YEB',\n 'R2USH6O0AUS2EB',\n 'R3JH7XBMB15LQB',\n 'R1D71DHGY9HH3K',\n 'R2YN2OV9M2UFS8',\n 'R2XTNGJC9028DE',\n 'R2H2Q31TLM0APU',\n 'R2MQTYOZKD0KZ6',\n 'R3FJSLR44FMEDK',\n 'R3FT9OCYEPX97F',\n 'R3NJ2IJP93BNU6',\n 'R2OENWCVOV119W',\n 'R2Q7B6AAOMG0B8',\n 'R20NUIKLKQ19PC',\n 'R2MXPNP5TAWXQ8',\n 'R1DUUQNY1NLRQT',\n 'R2SZ9GQSZ2WMIM',\n 'R2QZ1QNHU33E5N',\n 'R1CHGSWGEU3LBE',\n 'R20DHMWDPZGGR4',\n 'R2RU3M1IXT3W38',\n 'R2L49L6BW9X7HR',\n 'RGCTTBA6IA8MR',\n 'R2VSHPAGDFT6ZF',\n 'R1QWCC66RG5TE7',\n 'R37I1Y662A9EMW',\n 'R1LXGIJU9LFRPY',\n 'R33FM6HKWZ4G5N',\n 'R2ZN4CE1K5MR2G',\n 'R2CVXPTQ8ZNLJD',\n 'RACC1WOXMXIWX',\n 'RMX3L5PNR064F',\n 'R3UDOI1XT423ZU',\n 'R1RDZR9C14L3BL',\n 'RC3567LUJPWW2',\n 'R225O69F7I18ZD',\n 'R144REPJYOLDQ3',\n 'R1V0KR10JZAJNX',\n 'REIIKKX9AUH3E',\n 'RSRUFV9N0LYBN',\n 'R2N8N3JHHPRYFZ',\n 'R3JMI87MJGYBKV',\n 'R110GFWVWW41JV',\n 'R2RSHNMHAAB0G3',\n 'R1P7IYXCVMJUTC',\n 'R131Z0DA7C1BVS',\n 'R31OLYFFY4JCSO',\n 'R2LGFQJI65QYJC',\n 'RUERUT4LDRAWI',\n 'RO1UE1MH8DD43',\n 'RDPCW2G70793X',\n 'R26TBX2D3WCKKF',\n 'R2F937MHSBBL3M',\n 'R2TUQ58F3COZ4E',\n 'R1A02IW40KB35',\n 'R26TXXSA92AGBK',\n 'R1PVV2908W1N0Z',\n 'R12H7YE1RE3UP5',\n 'R26YNZU80I0HAS',\n 'R1TTVCVJIYUA6M',\n 'R7XBQ4E3TBB8N',\n 'R261NA01GXNCR4',\n 'R1AE7JHOAORBEO',\n 'R1PSQYF2IGD8EN',\n 'R37DEFX9R9Z1UR',\n 'RF0VHDOAJAWEV',\n 'R1X3GCQPAYCJ0B',\n 'R38AN5M4SB9UR6',\n 'R8KGNODMKK3NY',\n 'R1M19XR6UD905O',\n 'R2JFPNPN4YM5TF',\n 'R369EEPXQ7HD4P',\n 'RNNAKA8P16V6',\n 'R27G3UT12QL5EP',\n 'RIXBWQA7HRZMD',\n 'R3RHALWG5HX5LF',\n 'R6YAE59C9V4P4',\n 'R2J6ZH7V1DM87O',\n 'R3GNBQCETKHGOA',\n 'R3QA66HVO1VBDN',\n 'R227IGT3SGQTTW',\n 'R2RO0O0UVIWYJC',\n 'R3QCGMHD0FQVXN',\n 'R1IMVAVBIL5CA6',\n 'R3NT8POEFMT595',\n 'R107488O26FH0Z',\n 'R2OLH6H14LS233',\n 'RA566I7RO71K',\n 'R24OUWVUZW3QPU',\n 'R38VJA6ICZBPQS',\n 'R26WT52I13G2KW',\n 'R29K05DM13D0FO',\n 'R1FTFOA9MEWF86',\n 'R13IZ8TNYAJ0NV',\n 'R2GYZ45YAY7DL9',\n 'R3V09OZ94FAQBU',\n 'R3I1JTZ4MTP4GW',\n 'R2WUW7ECNR4250',\n 'R14RUHI9DX2GFQ',\n 'R2EESEHHHIMWNK',\n 'R18DRTN1O7DYBH',\n 'RI7FCQFP1LEY9',\n 'R1BPO8QFVAFKJZ',\n 'R1HQETKXLCISUJ',\n 'R24NVCB7YUCS9A',\n 'R2TH7F5LPB83E1',\n 'R2P5FXAO4JG0DH',\n 'R2GEU2LEGZ4P5D',\n 'R2HNLGP5UOLB7M',\n 'R1VJ4L8VC8KETE',\n 'R1SLVXMJBE1A18',\n 'R3364MYT34NLF9',\n 'R2AUKD7LFGO1V6',\n 'R1NVLS69U306XU',\n 'R1IU0GVOCW9ETU',\n 'R7ZVFRE4NTKDV',\n 'R2ZSXLS2J13PMA',\n 'R16UMAOY181HYD',\n 'R3EF8492THLSFQ',\n 'RVLVQ9O1YXC25',\n 'R2LZ994Y443EC5',\n 'R3SGY6Q33HQ110',\n 'RSRQWH46UG17C',\n 'R3A8HD3XGGKMDN',\n 'R3KYWKTIH8GWG7',\n 'R246EVR90CQDHK',\n 'R3Q3N48L6ZJ0SZ',\n 'R6LLZUX462RIK',\n 'RHRPT84LERZKQ',\n 'R2S5PC0KL7G8W6',\n 'R1DBEHCEX02EPZ',\n 'RH9H23H5H876M',\n 'RS5D6HXJQW4MU',\n 'R23QDVQR92BC77',\n 'RAG9AMC7MFQ2Q',\n 'RIIMQ3NIERGF5',\n 'R3QVFPJY78YVVZ',\n 'RTORVJ6UMKZQ4',\n 'R2C2GX7VDUZRAB',\n 'R2B0KKRCE50RLJ',\n 'R3JX7JEWZZ3NQG',\n 'R3J5CVUUR1NOB6',\n 'R2XL8IPZZDNXO1',\n 'R17VHL0S2OUGIH',\n 'R23QEES7UG3JY2',\n 'R1RD8OXEHP0Z4G',\n 'R5NP8O99U3VXM',\n 'RLMZ73R3FA1T5',\n 'R22BYECUU3HYGX',\n 'R3RPGWU0207M1M',\n 'R6QN1CPUTBN35',\n 'R1ASDFLWYKZZO5',\n 'R1P2B34QF4ADMT',\n 'RZSXH41O29G6B',\n 'R1R1DXGH1JVFJU',\n 'RE9DAU670BX1L',\n 'R132FMSAAYPCKG',\n 'R9E611A4NNL5Z',\n 'R3OU0J5QDWVKGD',\n 'R1X6HHRXVLE4OA',\n 'R1O35L6JFIF23B',\n 'RM4KYAPHTWYVA',\n 'RVIKHTE9U69RC',\n 'R39A8VI0XE8N81',\n 'R1OM7D024BGUF4',\n 'RY9LM1VHQ6M8O',\n 'R2O4FVHZYWM9GO',\n 'R150AEUVICUSE4',\n 'R246WH4HE45K4P',\n 'R10L1E03XYHE55',\n 'R1I4DM8UFIQBLI',\n 'R254KHTT5O4JQY',\n 'R3OOTPZXAMSX06',\n 'R3L5C1JEUBRSTV',\n 'R2JNK8FQKE6P5A',\n 'R46YKWFWXAI45',\n 'R2IJJ3700Y0FAV',\n 'R3JTDTD47MQKMO',\n 'R1ON4IXZB3O2ZX',\n 'RW2X2U50TUD3P',\n 'R25TAKG8KTXFQC',\n 'R3O8PJH2ETM84W',\n 'R1137PSDE2JW0W',\n 'R3P00MTCGCCJ6C',\n 'R1Y56UT7BN9ZSB',\n 'R60JQN9PDDK90',\n 'R209CFX738N1QP',\n 'R3E6G35K5F19TF',\n 'R2J9K2IE6NJ6CX',\n 'R27VUY8YN6ESKZ',\n 'R38Z17N583G2YZ',\n 'R2L1H98ST7ZCOU',\n 'RHDBE5EPQQ6K4',\n 'R417RB1GDRAXF',\n 'RO80HA612J0BK',\n 'R1ZQ66OTA4AQXU',\n 'R1LCIYAJYZ1AR6',\n 'RTE8WCXNX4SZM',\n 'R2ZE84TWFDUUK2',\n 'R2ZQ3OO4304X4J',\n 'R7OVFXDYFTIIZ',\n 'R1RSJKLAPQC6RE',\n 'R2IN0AI5WF40W9',\n 'RU1BAQVSZ77KX',\n 'R3CRXJ6B3VYU2G',\n 'R1QP7GN1T8D8OM',\n 'R13HMGYVBG3PQK',\n ...]"
     },
     "execution_count": 25,
     "metadata": {},
     "output_type": "execute_result"
    }
   ]
  },
  {
   "cell_type": "code",
   "metadata": {
    "deepnote_to_be_reexecuted": false,
    "execution_millis": 0,
    "execution_start": 1652901952035,
    "source_hash": "14f42bfa",
    "tags": [],
    "cell_id": "00032-134afedb-e0e8-437c-bcbb-90d7d5bd3850",
    "deepnote_cell_type": "code",
    "deepnote_cell_height": 134.953125
   },
   "source": "with open(r'remove_reviews2.txt', 'w') as fp:\n    for item in remove_reviews2:\n        # write each item on a new line\n        fp.write(\"%s\\n\" % item)",
   "execution_count": null,
   "outputs": []
  },
  {
   "cell_type": "markdown",
   "source": "### 3.different sentiment in review headline and review body",
   "metadata": {
    "formattedRanges": [],
    "is_collapsed": false,
    "tags": [],
    "cell_id": "00033-5c2c55e9-9a19-4da2-9321-b48149ae771a",
    "deepnote_cell_type": "text-cell-h3"
   }
  },
  {
   "cell_type": "markdown",
   "source": "Using dataset df3 and remove_review3 for the next few steps",
   "metadata": {
    "formattedRanges": [],
    "is_collapsed": false,
    "tags": [],
    "cell_id": "00034-5650ef86-5da5-47ee-9bb8-0846765c74f5",
    "deepnote_cell_type": "text-cell-p"
   }
  },
  {
   "cell_type": "code",
   "metadata": {
    "deepnote_to_be_reexecuted": false,
    "execution_millis": 1703,
    "execution_start": 1654018234690,
    "source_hash": "de813235",
    "tags": [],
    "cell_id": "00035-aef104f2-e01d-4e8c-b8d5-454dd1998b91",
    "deepnote_cell_type": "code",
    "deepnote_cell_height": 687.71875
   },
   "source": "df3=pd.read_csv(\"Moderately_Genuine.csv\")\ndf3",
   "execution_count": null,
   "outputs": [
    {
     "name": "stderr",
     "output_type": "stream",
     "text": "/shared-libs/python3.7/py-core/lib/python3.7/site-packages/IPython/core/interactiveshell.py:3257: DtypeWarning: Columns (7) have mixed types.Specify dtype option on import or set low_memory=False.\n  interactivity=interactivity, compiler=compiler, result=result)\n"
    },
    {
     "data": {
      "application/vnd.deepnote.dataframe.v3+json": {
       "column_count": 36,
       "columns": [
        {
         "dtype": "object",
         "name": "marketplace",
         "stats": {
          "categories": [
           {
            "count": 59800,
            "name": "US"
           }
          ],
          "nan_count": 0,
          "unique_count": 1
         }
        },
        {
         "dtype": "int64",
         "name": "customer_id"
        },
        {
         "dtype": "object",
         "name": "review_id"
        },
        {
         "dtype": "object",
         "name": "product_id"
        },
        {
         "dtype": "int64",
         "name": "product_parent"
        },
        {
         "dtype": "object",
         "name": "product_title"
        },
        {
         "dtype": "object",
         "name": "product_category"
        },
        {
         "dtype": "object",
         "name": "star_rating"
        },
        {
         "dtype": "float64",
         "name": "helpful_votes"
        },
        {
         "dtype": "float64",
         "name": "total_votes"
        },
        {
         "dtype": "object",
         "name": "vine"
        },
        {
         "dtype": "int64",
         "name": "verified_purchase"
        },
        {
         "dtype": "object",
         "name": "review_headline"
        },
        {
         "dtype": "object",
         "name": "review_body"
        },
        {
         "dtype": "object",
         "name": "review_date"
        },
        {
         "dtype": "float64",
         "name": "timestamp"
        },
        {
         "dtype": "object",
         "name": "IP Address"
        },
        {
         "dtype": "float64",
         "name": "Sentiment"
        },
        {
         "dtype": "float64",
         "name": "Subjectivity"
        },
        {
         "dtype": "int64",
         "name": "Neg_Count"
        },
        {
         "dtype": "int64",
         "name": "Word_Count"
        },
        {
         "dtype": "int64",
         "name": "Unique_words"
        },
        {
         "dtype": "float64",
         "name": "Noun_Count"
        },
        {
         "dtype": "float64",
         "name": "Adj_Count"
        },
        {
         "dtype": "float64",
         "name": "Verb_Count"
        },
        {
         "dtype": "float64",
         "name": "Adv_Count"
        },
        {
         "dtype": "float64",
         "name": "Pro_Count"
        },
        {
         "dtype": "float64",
         "name": "Pre_Count"
        },
        {
         "dtype": "float64",
         "name": "Con_Count"
        },
        {
         "dtype": "float64",
         "name": "Art_Count"
        },
        {
         "dtype": "float64",
         "name": "Nega_Count"
        },
        {
         "dtype": "float64",
         "name": "Aux_Count"
        },
        {
         "dtype": "float64",
         "name": "Authenticity"
        },
        {
         "dtype": "float64",
         "name": "AT"
        },
        {
         "dtype": "float64",
         "name": "Genuinity"
        },
        {
         "dtype": "object",
         "name": "label"
        },
        {
         "dtype": "int64",
         "name": "_deepnote_index_column"
        }
       ],
       "row_count": 59800,
       "rows": [
        {
         "AT": 32,
         "Adj_Count": 3,
         "Adv_Count": 2,
         "Art_Count": 2,
         "Authenticity": 0.9285714285714286,
         "Aux_Count": 1,
         "Con_Count": 0,
         "Genuinity": 0.4999428074765137,
         "IP Address": "193.93.167.87",
         "Neg_Count": 0,
         "Nega_Count": 0,
         "Noun_Count": 7,
         "Pre_Count": 4,
         "Pro_Count": 1,
         "Sentiment": 1,
         "Subjectivity": 1,
         "Unique_words": 25,
         "Verb_Count": 4,
         "Word_Count": 28,
         "_deepnote_index_column": 0,
         "customer_id": 20422322,
         "helpful_votes": 0,
         "label": "Moderately Genuine",
         "marketplace": "US",
         "product_category": "Mobile_Electronics",
         "product_id": "B00MC4CED8",
         "product_parent": 82850235,
         "product_title": "BlackVue DR600GW-PMP",
         "review_body": "as advertised  everything works perfectly  i am very happy with the camera  as a matter of fact i am going to buy another one for my  nd car ",
         "review_date": "2015-08-31",
         "review_headline": "very happy ",
         "review_id": "R8MEA6IGAHO0B",
         "star_rating": "5",
         "timestamp": 1440987567,
         "total_votes": 0,
         "verified_purchase": 1,
         "vine": "N"
        },
        {
         "AT": 28,
         "Adj_Count": 1,
         "Adv_Count": 0,
         "Art_Count": 0,
         "Authenticity": 1.3333333333333333,
         "Aux_Count": 1,
         "Con_Count": 0,
         "Genuinity": 0.4999355421493637,
         "IP Address": "193.93.167.87",
         "Neg_Count": 0,
         "Nega_Count": 0,
         "Noun_Count": 0,
         "Pre_Count": 0,
         "Pro_Count": 1,
         "Sentiment": 0.8,
         "Subjectivity": 0.75,
         "Unique_words": 3,
         "Verb_Count": 1,
         "Word_Count": 3,
         "_deepnote_index_column": 1,
         "customer_id": 40835037,
         "helpful_votes": 0,
         "label": "Moderately Genuine",
         "marketplace": "US",
         "product_category": "Mobile_Electronics",
         "product_id": "B00OQMFG1Q",
         "product_parent": 82850235,
         "product_title": "GENSSI GSM / GPS Two Way Smart Phone Car Alarm System for iPhone Android Security",
         "review_body": "it is great",
         "review_date": "2015-08-31",
         "review_headline": "five star",
         "review_id": "R31LOQ8JGLPRLK",
         "star_rating": "5",
         "timestamp": 1441001998,
         "total_votes": 1,
         "verified_purchase": 1,
         "vine": "N"
        },
        {
         "AT": 30,
         "Adj_Count": 2,
         "Adv_Count": 0,
         "Art_Count": 1,
         "Authenticity": 1.0833333333333333,
         "Aux_Count": 0,
         "Con_Count": 1,
         "Genuinity": 0.4998767818228214,
         "IP Address": "193.93.167.87",
         "Neg_Count": 0,
         "Nega_Count": 0,
         "Noun_Count": 5,
         "Pre_Count": 1,
         "Pro_Count": 1,
         "Sentiment": 0.6000000000000001,
         "Subjectivity": 0.575,
         "Unique_words": 12,
         "Verb_Count": 0,
         "Word_Count": 12,
         "_deepnote_index_column": 2,
         "customer_id": 51469641,
         "helpful_votes": 0,
         "label": "Moderately Genuine",
         "marketplace": "US",
         "product_category": "Mobile_Electronics",
         "product_id": "B00QERR5CY",
         "product_parent": 82850235,
         "product_title": "iXCC Multi pack Lightning cable",
         "review_body": "these work great and fit my life proof case for the iphone  ",
         "review_date": "2015-08-31",
         "review_headline": "great cables",
         "review_id": "R2Y0MM9YE6OP3P",
         "star_rating": "5",
         "timestamp": 1440959483,
         "total_votes": 0,
         "verified_purchase": 1,
         "vine": "N"
        },
        {
         "AT": 28,
         "Adj_Count": 0,
         "Adv_Count": 2,
         "Art_Count": 0,
         "Authenticity": 1,
         "Aux_Count": 0,
         "Con_Count": 0,
         "Genuinity": 0.742184489121376,
         "IP Address": "193.93.167.87",
         "Neg_Count": 0,
         "Nega_Count": 0,
         "Noun_Count": 1,
         "Pre_Count": 0,
         "Pro_Count": 0,
         "Sentiment": 0.2,
         "Subjectivity": 0.3,
         "Unique_words": 3,
         "Verb_Count": 0,
         "Word_Count": 3,
         "_deepnote_index_column": 3,
         "customer_id": 4332923,
         "helpful_votes": 0,
         "label": "Moderately Genuine",
         "marketplace": "US",
         "product_category": "Mobile_Electronics",
         "product_id": "B00QUFTPV4",
         "product_parent": 82850235,
         "product_title": "abcGoodefg® FBI Covert Acoustic Tube Earpiece Headset PTT Mic for Motorola Two Way Radio Device Walkie Talkie GP88 300 2000 CT150 P040 PRO1150 SP10 XTN500 2pin",
         "review_body": "work very well ",
         "review_date": "2015-08-31",
         "review_headline": "work very well",
         "review_id": "RRB9C05HDOD4O",
         "star_rating": "4",
         "timestamp": 1441015251,
         "total_votes": 0,
         "verified_purchase": 1,
         "vine": "N"
        },
        {
         "AT": 24,
         "Adj_Count": 4,
         "Adv_Count": 1,
         "Art_Count": 0,
         "Authenticity": 0.9583333333333334,
         "Aux_Count": 3,
         "Con_Count": 2,
         "Genuinity": 0.6756851108222771,
         "IP Address": "205.10.168.66",
         "Neg_Count": 1,
         "Nega_Count": 0,
         "Noun_Count": 3,
         "Pre_Count": 2,
         "Pro_Count": 2,
         "Sentiment": 0.2875,
         "Subjectivity": 0.4875,
         "Unique_words": 22,
         "Verb_Count": 6,
         "Word_Count": 24,
         "_deepnote_index_column": 4,
         "customer_id": 7846966,
         "helpful_votes": 0,
         "label": "Moderately Genuine",
         "marketplace": "US",
         "product_category": "Mobile_Electronics",
         "product_id": "B00KA6CCVY",
         "product_parent": 563475445,
         "product_title": "Aweek® Air Acoustic Earpiece Headset for Baofeng Two Way Radios UV-5R UV-B6 BF-888S UV-B6 UV-B5 Walkie Talkies 2-Pin Jack",
         "review_body": "it appears to be good  but i am still waiting for my other items radio batteries charger  before i can go to   or   stars",
         "review_date": "2015-08-31",
         "review_headline": "it appears to be good  but i m still waiting for my other items    ",
         "review_id": "RY8DDL22YG4R5",
         "star_rating": "3",
         "timestamp": 1440977588,
         "total_votes": 1,
         "verified_purchase": 1,
         "vine": "N"
        },
        {
         "AT": 32,
         "Adj_Count": 3,
         "Adv_Count": 2,
         "Art_Count": 2,
         "Authenticity": 0.9285714285714286,
         "Aux_Count": 1,
         "Con_Count": 0,
         "Genuinity": 0.4999428074765137,
         "IP Address": "205.10.168.66",
         "Neg_Count": 0,
         "Nega_Count": 0,
         "Noun_Count": 7,
         "Pre_Count": 4,
         "Pro_Count": 1,
         "Sentiment": 1,
         "Subjectivity": 1,
         "Unique_words": 25,
         "Verb_Count": 4,
         "Word_Count": 28,
         "_deepnote_index_column": 5,
         "customer_id": 20422322,
         "helpful_votes": 0,
         "label": "Moderately Genuine",
         "marketplace": "US",
         "product_category": "Mobile_Electronics",
         "product_id": "B00MC4CED8",
         "product_parent": 563475445,
         "product_title": "BlackVue DR600GW-PMP",
         "review_body": "as advertised  everything works perfectly  i am very happy with the camera  as a matter of fact i am going to buy another one for my  nd car ",
         "review_date": "2015-08-31",
         "review_headline": "very happy ",
         "review_id": "R8MEA6IGAHO0B",
         "star_rating": "5",
         "timestamp": 1441012613,
         "total_votes": 0,
         "verified_purchase": 1,
         "vine": "N"
        },
        {
         "AT": 32,
         "Adj_Count": 3,
         "Adv_Count": 2,
         "Art_Count": 2,
         "Authenticity": 0.9285714285714286,
         "Aux_Count": 1,
         "Con_Count": 0,
         "Genuinity": 0.4999428074765137,
         "IP Address": "206.33.134.174",
         "Neg_Count": 0,
         "Nega_Count": 0,
         "Noun_Count": 7,
         "Pre_Count": 4,
         "Pro_Count": 1,
         "Sentiment": 1,
         "Subjectivity": 1,
         "Unique_words": 25,
         "Verb_Count": 4,
         "Word_Count": 28,
         "_deepnote_index_column": 6,
         "customer_id": 20422322,
         "helpful_votes": 0,
         "label": "Moderately Genuine",
         "marketplace": "US",
         "product_category": "Mobile_Electronics",
         "product_id": "B00MC4CED8",
         "product_parent": 217304173,
         "product_title": "BlackVue DR600GW-PMP",
         "review_body": "as advertised  everything works perfectly  i am very happy with the camera  as a matter of fact i am going to buy another one for my  nd car ",
         "review_date": "2015-08-31",
         "review_headline": "very happy ",
         "review_id": "R8MEA6IGAHO0B",
         "star_rating": "5",
         "timestamp": 1440987567,
         "total_votes": 0,
         "verified_purchase": 1,
         "vine": "N"
        },
        {
         "AT": 28,
         "Adj_Count": 1,
         "Adv_Count": 0,
         "Art_Count": 0,
         "Authenticity": 1.3333333333333333,
         "Aux_Count": 1,
         "Con_Count": 0,
         "Genuinity": 0.4999355421493637,
         "IP Address": "219.3.75.180",
         "Neg_Count": 0,
         "Nega_Count": 0,
         "Noun_Count": 0,
         "Pre_Count": 0,
         "Pro_Count": 1,
         "Sentiment": 0.8,
         "Subjectivity": 0.75,
         "Unique_words": 3,
         "Verb_Count": 1,
         "Word_Count": 3,
         "_deepnote_index_column": 7,
         "customer_id": 40835037,
         "helpful_votes": 0,
         "label": "Moderately Genuine",
         "marketplace": "US",
         "product_category": "Mobile_Electronics",
         "product_id": "B00OQMFG1Q",
         "product_parent": 137313254,
         "product_title": "GENSSI GSM / GPS Two Way Smart Phone Car Alarm System for iPhone Android Security",
         "review_body": "it is great",
         "review_date": "2015-08-31",
         "review_headline": "five star",
         "review_id": "R31LOQ8JGLPRLK",
         "star_rating": "5",
         "timestamp": 1441001998,
         "total_votes": 1,
         "verified_purchase": 1,
         "vine": "N"
        },
        {
         "AT": 30,
         "Adj_Count": 2,
         "Adv_Count": 0,
         "Art_Count": 1,
         "Authenticity": 1.0833333333333333,
         "Aux_Count": 0,
         "Con_Count": 1,
         "Genuinity": 0.4998767818228214,
         "IP Address": "194.12.14.67",
         "Neg_Count": 0,
         "Nega_Count": 0,
         "Noun_Count": 5,
         "Pre_Count": 1,
         "Pro_Count": 1,
         "Sentiment": 0.6000000000000001,
         "Subjectivity": 0.575,
         "Unique_words": 12,
         "Verb_Count": 0,
         "Word_Count": 12,
         "_deepnote_index_column": 8,
         "customer_id": 51469641,
         "helpful_votes": 0,
         "label": "Moderately Genuine",
         "marketplace": "US",
         "product_category": "Mobile_Electronics",
         "product_id": "B00QERR5CY",
         "product_parent": 82850235,
         "product_title": "iXCC Multi pack Lightning cable",
         "review_body": "these work great and fit my life proof case for the iphone  ",
         "review_date": "2015-08-31",
         "review_headline": "great cables",
         "review_id": "R2Y0MM9YE6OP3P",
         "star_rating": "5",
         "timestamp": 1440959483,
         "total_votes": 0,
         "verified_purchase": 1,
         "vine": "N"
        },
        {
         "AT": 26,
         "Adj_Count": 0,
         "Adv_Count": 3,
         "Art_Count": 1,
         "Authenticity": 1,
         "Aux_Count": 2,
         "Con_Count": 1,
         "Genuinity": 0.742184489121376,
         "IP Address": "213.136.76.172",
         "Neg_Count": 0,
         "Nega_Count": 1,
         "Noun_Count": 3,
         "Pre_Count": 3,
         "Pro_Count": 1,
         "Sentiment": 0.2,
         "Subjectivity": 0.3,
         "Unique_words": 20,
         "Verb_Count": 6,
         "Word_Count": 21,
         "_deepnote_index_column": 9,
         "customer_id": 4332923,
         "helpful_votes": 0,
         "label": "Moderately Genuine",
         "marketplace": "US",
         "product_category": "Mobile_Electronics",
         "product_id": "B00QUFTPV4",
         "product_parent": 221169481,
         "product_title": "abcGoodefg® FBI Covert Acoustic Tube Earpiece Headset PTT Mic for Motorola Two Way Radio Device Walkie Talkie GP88 300 2000 CT150 P040 PRO1150 SP10 XTN500 2pin",
         "review_body": "work very well but could not get used to not hearing anything out of the ear they v were plugged into ",
         "review_date": "2015-08-31",
         "review_headline": "work very well but couldn t get used to not hearing    ",
         "review_id": "RRB9C05HDOD4O",
         "star_rating": "4",
         "timestamp": 1441015251,
         "total_votes": 0,
         "verified_purchase": 1,
         "vine": "N"
        }
       ]
      },
      "text/html": "<div>\n<style scoped>\n    .dataframe tbody tr th:only-of-type {\n        vertical-align: middle;\n    }\n\n    .dataframe tbody tr th {\n        vertical-align: top;\n    }\n\n    .dataframe thead th {\n        text-align: right;\n    }\n</style>\n<table border=\"1\" class=\"dataframe\">\n  <thead>\n    <tr style=\"text-align: right;\">\n      <th></th>\n      <th>marketplace</th>\n      <th>customer_id</th>\n      <th>review_id</th>\n      <th>product_id</th>\n      <th>product_parent</th>\n      <th>product_title</th>\n      <th>product_category</th>\n      <th>star_rating</th>\n      <th>helpful_votes</th>\n      <th>total_votes</th>\n      <th>...</th>\n      <th>Pro_Count</th>\n      <th>Pre_Count</th>\n      <th>Con_Count</th>\n      <th>Art_Count</th>\n      <th>Nega_Count</th>\n      <th>Aux_Count</th>\n      <th>Authenticity</th>\n      <th>AT</th>\n      <th>Genuinity</th>\n      <th>label</th>\n    </tr>\n  </thead>\n  <tbody>\n    <tr>\n      <th>0</th>\n      <td>US</td>\n      <td>20422322</td>\n      <td>R8MEA6IGAHO0B</td>\n      <td>B00MC4CED8</td>\n      <td>82850235</td>\n      <td>BlackVue DR600GW-PMP</td>\n      <td>Mobile_Electronics</td>\n      <td>5</td>\n      <td>0.0</td>\n      <td>0.0</td>\n      <td>...</td>\n      <td>1.0</td>\n      <td>4.0</td>\n      <td>0.0</td>\n      <td>2.0</td>\n      <td>0.0</td>\n      <td>1.0</td>\n      <td>0.928571</td>\n      <td>32.0</td>\n      <td>0.499943</td>\n      <td>Moderately Genuine</td>\n    </tr>\n    <tr>\n      <th>1</th>\n      <td>US</td>\n      <td>40835037</td>\n      <td>R31LOQ8JGLPRLK</td>\n      <td>B00OQMFG1Q</td>\n      <td>82850235</td>\n      <td>GENSSI GSM / GPS Two Way Smart Phone Car Alarm...</td>\n      <td>Mobile_Electronics</td>\n      <td>5</td>\n      <td>0.0</td>\n      <td>1.0</td>\n      <td>...</td>\n      <td>1.0</td>\n      <td>0.0</td>\n      <td>0.0</td>\n      <td>0.0</td>\n      <td>0.0</td>\n      <td>1.0</td>\n      <td>1.333333</td>\n      <td>28.0</td>\n      <td>0.499936</td>\n      <td>Moderately Genuine</td>\n    </tr>\n    <tr>\n      <th>2</th>\n      <td>US</td>\n      <td>51469641</td>\n      <td>R2Y0MM9YE6OP3P</td>\n      <td>B00QERR5CY</td>\n      <td>82850235</td>\n      <td>iXCC Multi pack Lightning cable</td>\n      <td>Mobile_Electronics</td>\n      <td>5</td>\n      <td>0.0</td>\n      <td>0.0</td>\n      <td>...</td>\n      <td>1.0</td>\n      <td>1.0</td>\n      <td>1.0</td>\n      <td>1.0</td>\n      <td>0.0</td>\n      <td>0.0</td>\n      <td>1.083333</td>\n      <td>30.0</td>\n      <td>0.499877</td>\n      <td>Moderately Genuine</td>\n    </tr>\n    <tr>\n      <th>3</th>\n      <td>US</td>\n      <td>4332923</td>\n      <td>RRB9C05HDOD4O</td>\n      <td>B00QUFTPV4</td>\n      <td>82850235</td>\n      <td>abcGoodefg® FBI Covert Acoustic Tube Earpiece ...</td>\n      <td>Mobile_Electronics</td>\n      <td>4</td>\n      <td>0.0</td>\n      <td>0.0</td>\n      <td>...</td>\n      <td>0.0</td>\n      <td>0.0</td>\n      <td>0.0</td>\n      <td>0.0</td>\n      <td>0.0</td>\n      <td>0.0</td>\n      <td>1.000000</td>\n      <td>28.0</td>\n      <td>0.742184</td>\n      <td>Moderately Genuine</td>\n    </tr>\n    <tr>\n      <th>4</th>\n      <td>US</td>\n      <td>7846966</td>\n      <td>RY8DDL22YG4R5</td>\n      <td>B00KA6CCVY</td>\n      <td>563475445</td>\n      <td>Aweek® Air Acoustic Earpiece Headset for Baofe...</td>\n      <td>Mobile_Electronics</td>\n      <td>3</td>\n      <td>0.0</td>\n      <td>1.0</td>\n      <td>...</td>\n      <td>2.0</td>\n      <td>2.0</td>\n      <td>2.0</td>\n      <td>0.0</td>\n      <td>0.0</td>\n      <td>3.0</td>\n      <td>0.958333</td>\n      <td>24.0</td>\n      <td>0.675685</td>\n      <td>Moderately Genuine</td>\n    </tr>\n    <tr>\n      <th>...</th>\n      <td>...</td>\n      <td>...</td>\n      <td>...</td>\n      <td>...</td>\n      <td>...</td>\n      <td>...</td>\n      <td>...</td>\n      <td>...</td>\n      <td>...</td>\n      <td>...</td>\n      <td>...</td>\n      <td>...</td>\n      <td>...</td>\n      <td>...</td>\n      <td>...</td>\n      <td>...</td>\n      <td>...</td>\n      <td>...</td>\n      <td>...</td>\n      <td>...</td>\n      <td>...</td>\n    </tr>\n    <tr>\n      <th>59795</th>\n      <td>US</td>\n      <td>38978459</td>\n      <td>R2CDRVDUKB5Z9P</td>\n      <td>B00005OTZQ</td>\n      <td>554527960</td>\n      <td>Royal SE 2800 Hand-Held Spot Cleaner</td>\n      <td>Mobile_Electronics</td>\n      <td>5</td>\n      <td>23.0</td>\n      <td>27.0</td>\n      <td>...</td>\n      <td>0.0</td>\n      <td>0.0</td>\n      <td>0.0</td>\n      <td>0.0</td>\n      <td>0.0</td>\n      <td>0.0</td>\n      <td>0.521401</td>\n      <td>30.0</td>\n      <td>0.499941</td>\n      <td>Moderately Genuine</td>\n    </tr>\n    <tr>\n      <th>59796</th>\n      <td>US</td>\n      <td>51697602</td>\n      <td>R1DVLTZFXXOX9</td>\n      <td>B00005OTZQ</td>\n      <td>554527960</td>\n      <td>Royal SE 2800 Hand-Held Spot Cleaner</td>\n      <td>Mobile_Electronics</td>\n      <td>5</td>\n      <td>10.0</td>\n      <td>11.0</td>\n      <td>...</td>\n      <td>0.0</td>\n      <td>0.0</td>\n      <td>0.0</td>\n      <td>0.0</td>\n      <td>0.0</td>\n      <td>0.0</td>\n      <td>0.732558</td>\n      <td>30.0</td>\n      <td>0.499705</td>\n      <td>Moderately Genuine</td>\n    </tr>\n    <tr>\n      <th>59797</th>\n      <td>US</td>\n      <td>50891675</td>\n      <td>R1GHKKZMHAHQC1</td>\n      <td>B00005OTZQ</td>\n      <td>554527960</td>\n      <td>Royal SE 2800 Hand-Held Spot Cleaner</td>\n      <td>Mobile_Electronics</td>\n      <td>5</td>\n      <td>13.0</td>\n      <td>13.0</td>\n      <td>...</td>\n      <td>0.0</td>\n      <td>0.0</td>\n      <td>0.0</td>\n      <td>0.0</td>\n      <td>0.0</td>\n      <td>0.0</td>\n      <td>0.676190</td>\n      <td>30.0</td>\n      <td>0.499595</td>\n      <td>Moderately Genuine</td>\n    </tr>\n    <tr>\n      <th>59798</th>\n      <td>US</td>\n      <td>38528439</td>\n      <td>R227G6T5B26DVC</td>\n      <td>B00005OTZQ</td>\n      <td>554527960</td>\n      <td>Royal SE 2800 Hand-Held Spot Cleaner</td>\n      <td>Mobile_Electronics</td>\n      <td>5</td>\n      <td>58.0</td>\n      <td>61.0</td>\n      <td>...</td>\n      <td>0.0</td>\n      <td>0.0</td>\n      <td>0.0</td>\n      <td>0.0</td>\n      <td>0.0</td>\n      <td>0.0</td>\n      <td>0.479109</td>\n      <td>30.0</td>\n      <td>0.499938</td>\n      <td>Moderately Genuine</td>\n    </tr>\n    <tr>\n      <th>59799</th>\n      <td>US</td>\n      <td>47099634</td>\n      <td>R44WS2RSQQ0HR</td>\n      <td>B00005OTZQ</td>\n      <td>554527960</td>\n      <td>Royal SE 2800 Hand-Held Spot Cleaner</td>\n      <td>Mobile_Electronics</td>\n      <td>4</td>\n      <td>37.0</td>\n      <td>38.0</td>\n      <td>...</td>\n      <td>0.0</td>\n      <td>0.0</td>\n      <td>0.0</td>\n      <td>0.0</td>\n      <td>0.0</td>\n      <td>0.0</td>\n      <td>0.503356</td>\n      <td>30.0</td>\n      <td>0.499939</td>\n      <td>Moderately Genuine</td>\n    </tr>\n  </tbody>\n</table>\n<p>59800 rows × 36 columns</p>\n</div>",
      "text/plain": "      marketplace  customer_id       review_id  product_id  product_parent  \\\n0              US     20422322   R8MEA6IGAHO0B  B00MC4CED8        82850235   \n1              US     40835037  R31LOQ8JGLPRLK  B00OQMFG1Q        82850235   \n2              US     51469641  R2Y0MM9YE6OP3P  B00QERR5CY        82850235   \n3              US      4332923   RRB9C05HDOD4O  B00QUFTPV4        82850235   \n4              US      7846966   RY8DDL22YG4R5  B00KA6CCVY       563475445   \n...           ...          ...             ...         ...             ...   \n59795          US     38978459  R2CDRVDUKB5Z9P  B00005OTZQ       554527960   \n59796          US     51697602   R1DVLTZFXXOX9  B00005OTZQ       554527960   \n59797          US     50891675  R1GHKKZMHAHQC1  B00005OTZQ       554527960   \n59798          US     38528439  R227G6T5B26DVC  B00005OTZQ       554527960   \n59799          US     47099634   R44WS2RSQQ0HR  B00005OTZQ       554527960   \n\n                                           product_title    product_category  \\\n0                                   BlackVue DR600GW-PMP  Mobile_Electronics   \n1      GENSSI GSM / GPS Two Way Smart Phone Car Alarm...  Mobile_Electronics   \n2                        iXCC Multi pack Lightning cable  Mobile_Electronics   \n3      abcGoodefg® FBI Covert Acoustic Tube Earpiece ...  Mobile_Electronics   \n4      Aweek® Air Acoustic Earpiece Headset for Baofe...  Mobile_Electronics   \n...                                                  ...                 ...   \n59795               Royal SE 2800 Hand-Held Spot Cleaner  Mobile_Electronics   \n59796               Royal SE 2800 Hand-Held Spot Cleaner  Mobile_Electronics   \n59797               Royal SE 2800 Hand-Held Spot Cleaner  Mobile_Electronics   \n59798               Royal SE 2800 Hand-Held Spot Cleaner  Mobile_Electronics   \n59799               Royal SE 2800 Hand-Held Spot Cleaner  Mobile_Electronics   \n\n      star_rating  helpful_votes  total_votes  ... Pro_Count  Pre_Count  \\\n0               5            0.0          0.0  ...       1.0        4.0   \n1               5            0.0          1.0  ...       1.0        0.0   \n2               5            0.0          0.0  ...       1.0        1.0   \n3               4            0.0          0.0  ...       0.0        0.0   \n4               3            0.0          1.0  ...       2.0        2.0   \n...           ...            ...          ...  ...       ...        ...   \n59795           5           23.0         27.0  ...       0.0        0.0   \n59796           5           10.0         11.0  ...       0.0        0.0   \n59797           5           13.0         13.0  ...       0.0        0.0   \n59798           5           58.0         61.0  ...       0.0        0.0   \n59799           4           37.0         38.0  ...       0.0        0.0   \n\n      Con_Count Art_Count Nega_Count  Aux_Count Authenticity    AT  Genuinity  \\\n0           0.0       2.0        0.0        1.0     0.928571  32.0   0.499943   \n1           0.0       0.0        0.0        1.0     1.333333  28.0   0.499936   \n2           1.0       1.0        0.0        0.0     1.083333  30.0   0.499877   \n3           0.0       0.0        0.0        0.0     1.000000  28.0   0.742184   \n4           2.0       0.0        0.0        3.0     0.958333  24.0   0.675685   \n...         ...       ...        ...        ...          ...   ...        ...   \n59795       0.0       0.0        0.0        0.0     0.521401  30.0   0.499941   \n59796       0.0       0.0        0.0        0.0     0.732558  30.0   0.499705   \n59797       0.0       0.0        0.0        0.0     0.676190  30.0   0.499595   \n59798       0.0       0.0        0.0        0.0     0.479109  30.0   0.499938   \n59799       0.0       0.0        0.0        0.0     0.503356  30.0   0.499939   \n\n                    label  \n0      Moderately Genuine  \n1      Moderately Genuine  \n2      Moderately Genuine  \n3      Moderately Genuine  \n4      Moderately Genuine  \n...                   ...  \n59795  Moderately Genuine  \n59796  Moderately Genuine  \n59797  Moderately Genuine  \n59798  Moderately Genuine  \n59799  Moderately Genuine  \n\n[59800 rows x 36 columns]"
     },
     "execution_count": 4,
     "metadata": {},
     "output_type": "execute_result"
    }
   ]
  },
  {
   "cell_type": "code",
   "metadata": {
    "deepnote_to_be_reexecuted": false,
    "execution_millis": 1,
    "execution_start": 1652901953022,
    "source_hash": "a39ecf5d",
    "tags": [],
    "cell_id": "00036-98fd899e-1205-46a1-8b00-33858b892587",
    "deepnote_cell_type": "code",
    "deepnote_cell_height": 80.953125
   },
   "source": "##1. different sentiment in review headline and review body\\n",
   "execution_count": null,
   "outputs": []
  },
  {
   "cell_type": "code",
   "metadata": {
    "deepnote_to_be_reexecuted": false,
    "execution_millis": 8855,
    "execution_start": 1654018241104,
    "source_hash": "d01aeb2c",
    "tags": [],
    "cell_id": "00037-09aceee4-4f06-4790-ba9a-fb7bc986faa1",
    "deepnote_cell_type": "code",
    "deepnote_cell_height": 416.6875
   },
   "source": "!pip install \"scikit_learn==0.22.2.post1\"",
   "execution_count": null,
   "outputs": [
    {
     "name": "stdout",
     "output_type": "stream",
     "text": "Collecting scikit_learn==0.22.2.post1\n  Downloading scikit_learn-0.22.2.post1-cp37-cp37m-manylinux1_x86_64.whl (7.1 MB)\n\u001b[K     |████████████████████████████████| 7.1 MB 20.5 MB/s \n\u001b[?25hRequirement already satisfied: numpy>=1.11.0 in /shared-libs/python3.7/py/lib/python3.7/site-packages (from scikit_learn==0.22.2.post1) (1.21.6)\nRequirement already satisfied: scipy>=0.17.0 in /shared-libs/python3.7/py/lib/python3.7/site-packages (from scikit_learn==0.22.2.post1) (1.7.3)\nRequirement already satisfied: joblib>=0.11 in /shared-libs/python3.7/py/lib/python3.7/site-packages (from scikit_learn==0.22.2.post1) (1.1.0)\nInstalling collected packages: scikit-learn\n  Attempting uninstall: scikit-learn\n    Found existing installation: scikit-learn 1.0.2\n    Not uninstalling scikit-learn at /shared-libs/python3.7/py/lib/python3.7/site-packages, outside environment /root/venv\n    Can't uninstall 'scikit-learn'. No files were found to uninstall.\nSuccessfully installed scikit-learn-0.22.2.post1\n\u001b[33mWARNING: You are using pip version 20.1.1; however, version 22.1.2 is available.\nYou should consider upgrading via the '/root/venv/bin/python -m pip install --upgrade pip' command.\u001b[0m\n"
    }
   ]
  },
  {
   "cell_type": "code",
   "metadata": {
    "deepnote_to_be_reexecuted": false,
    "execution_millis": 7042,
    "execution_start": 1654018249970,
    "source_hash": "9ab55e6b",
    "tags": [],
    "cell_id": "00038-2ff7d499-a9cf-4ebe-bec7-d8ec3e2f04e3",
    "deepnote_cell_type": "code",
    "deepnote_cell_height": 329.078125
   },
   "source": "\n!pip install scikit-learn\n!pip install sklearn.linear_model.logistic",
   "execution_count": null,
   "outputs": [
    {
     "name": "stdout",
     "output_type": "stream",
     "text": "Requirement already satisfied: scikit-learn in /root/venv/lib/python3.7/site-packages (0.22.2.post1)\nRequirement already satisfied: numpy>=1.11.0 in /shared-libs/python3.7/py/lib/python3.7/site-packages (from scikit-learn) (1.21.6)\nRequirement already satisfied: joblib>=0.11 in /shared-libs/python3.7/py/lib/python3.7/site-packages (from scikit-learn) (1.1.0)\nRequirement already satisfied: scipy>=0.17.0 in /shared-libs/python3.7/py/lib/python3.7/site-packages (from scikit-learn) (1.7.3)\n\u001b[33mWARNING: You are using pip version 20.1.1; however, version 22.1.2 is available.\nYou should consider upgrading via the '/root/venv/bin/python -m pip install --upgrade pip' command.\u001b[0m\n\u001b[31mERROR: Could not find a version that satisfies the requirement sklearn.linear_model.logistic (from versions: none)\u001b[0m\n\u001b[31mERROR: No matching distribution found for sklearn.linear_model.logistic\u001b[0m\n\u001b[33mWARNING: You are using pip version 20.1.1; however, version 22.1.2 is available.\nYou should consider upgrading via the '/root/venv/bin/python -m pip install --upgrade pip' command.\u001b[0m\n"
    }
   ]
  },
  {
   "cell_type": "code",
   "metadata": {
    "deepnote_to_be_reexecuted": false,
    "execution_millis": 55,
    "execution_start": 1654018315951,
    "source_hash": "1811141d",
    "tags": [],
    "cell_id": "00039-d89a7c61-7bb8-4f42-8a88-f8b577483d78",
    "deepnote_cell_type": "code",
    "deepnote_cell_height": 358.4375
   },
   "source": "### WORKING ON YELP DATA FOR SENTIMENTAL ANALYSIS\n\n#You can download these pickle files from https://github.com/anubhavs11/Sentimental-Analysis-using-Logistic-Regression\nwith open(\"SentimentClassifier.pickle\",\"rb\") as f:\n    clf = pickle.load(f)\n\nwith open(\"Sentiment_cv.pickle\",\"rb\") as f:\n    tfidf = pickle.load(f)\n",
   "execution_count": null,
   "outputs": [
    {
     "name": "stderr",
     "output_type": "stream",
     "text": "/shared-libs/python3.7/py/lib/python3.7/site-packages/sklearn/base.py:338: UserWarning: Trying to unpickle estimator LogisticRegression from version 0.23.2 when using version 1.0.2. This might lead to breaking code or invalid results. Use at your own risk. For more info please refer to:\nhttps://scikit-learn.org/stable/modules/model_persistence.html#security-maintainability-limitations\n  UserWarning,\n/shared-libs/python3.7/py/lib/python3.7/site-packages/sklearn/base.py:338: UserWarning: Trying to unpickle estimator CountVectorizer from version 0.23.2 when using version 1.0.2. This might lead to breaking code or invalid results. Use at your own risk. For more info please refer to:\nhttps://scikit-learn.org/stable/modules/model_persistence.html#security-maintainability-limitations\n  UserWarning,\n"
    }
   ]
  },
  {
   "cell_type": "code",
   "metadata": {
    "deepnote_to_be_reexecuted": false,
    "execution_millis": 4,
    "execution_start": 1654018319907,
    "source_hash": "810bcd9e",
    "tags": [],
    "cell_id": "00040-b5523a7c-d300-44b3-9651-bd39e355ead9",
    "deepnote_cell_type": "code",
    "deepnote_cell_height": 692.96875
   },
   "source": "def getSentiment(text):\n\n # PREPROCESSING THE DATASET\\n\",\n    text = str(text)\n    text = text.lower()\n    text = re.sub(r\"that's\",\"that is\",text)\n    text = re.sub(r\"there's\",\"there is\",text)\n    text = re.sub(r\"what's\",\"what is\",text)\n    text = re.sub(r\"where's\",\"where is\",text)\n    text = re.sub(r\"it's\",\"it is\",text)\n    text = re.sub(r\"who's\",\"who is\",text)\n    text = re.sub(r\"i'm\",\"i am\",text)\n    text = re.sub(r\"she's\",\"she is\",text)\n    text = re.sub(r\"he's\",\"he is\",text)\n    text = re.sub(r\"they're\",\"they are\",text)\n    text = re.sub(r\"who're\",\"who are\",text)\n    text = re.sub(r\"ain't\",\"am not\",text)\n    text = re.sub(r\"wouldn't\",\"would not\",text)\n    text = re.sub(r\"shouldn't\",\"should not\",text)\n    text = re.sub(r\"can't\",\"can not\",text)\n    text = re.sub(r\"couldn't\",\"could not\",text)\n    text = re.sub(r\"won't\",\"will not\",text)\n\n    text = re.sub(r\"\\W\",\" \",text)\n    text = re.sub(r\"\\d\",\" \",text)\n    text = re.sub(r\"\\s+[a-z]\\s+\",\" \",text)\n    text = re.sub(r\"^[a-z]\\s+\",\" \",text)\n    text = re.sub(r\"\\s+[a-z]$\",\" \",text)\n    text = re.sub(r\"\\s+\",\" \",text)\n\n    \n    #testimonial = TextBlob(text)\n    #sent=testimonial.sentiment.polarity\n    sent=clf.predict(tfidf.transform([text]).toarray())\n    return sent[0]",
   "execution_count": null,
   "outputs": []
  },
  {
   "cell_type": "code",
   "metadata": {
    "deepnote_to_be_reexecuted": false,
    "execution_millis": 291202,
    "execution_start": 1654018532842,
    "source_hash": "573d43cb",
    "tags": [],
    "cell_id": "00041-e3c083a7-b35a-4189-90e2-f7a82724b677",
    "deepnote_cell_type": "code",
    "deepnote_cell_height": 242.96875
   },
   "source": "remove_reviews3 = []\n    # stores the list of review_id of fake reviews\n\nfor i in range(len(df3)):\n#iterate through the whole dataset\\n\"\n    if( getSentiment(df3[\"review_headline\"][i]) != getSentiment(df3[\"review_body\"][i])):\n       # checking if the sentiment of the body and the headline are not same\\n\",\n        remove_reviews3.append(df3[\"review_id\"][i])\n        # append review_id to the list of fake reviews.\n",
   "execution_count": null,
   "outputs": []
  },
  {
   "cell_type": "markdown",
   "source": "### 4. Users which are posting either all positive or negative reviews on different products of same brand",
   "metadata": {
    "formattedRanges": [],
    "is_collapsed": false,
    "tags": [],
    "cell_id": "00042-d9f4a760-5dbb-4c7e-9de6-402bf89f2d89",
    "deepnote_cell_type": "text-cell-h3"
   }
  },
  {
   "cell_type": "code",
   "metadata": {
    "deepnote_to_be_reexecuted": false,
    "execution_millis": 67704,
    "execution_start": 1654018824087,
    "source_hash": "5ccb164f",
    "tags": [],
    "cell_id": "00043-b2b3181d-09b0-41ed-af8f-8160c08cbc92",
    "deepnote_cell_type": "code",
    "deepnote_cell_height": 1304.953125
   },
   "source": "\n#2. Users which are posting either all positive or negative reviews on different products of same brand\\n\",\n\ncustomers = df3.groupby(\"customer_id\")\n# groups dataset by customers\n\ncustomer_list = df3[\"customer_id\"].unique()\n#list of unique customers,\n\nsize = len(customer_list.tolist())\n#size of total unique customers\\n\",\n\nfor i in range(size):\n# iterate through all the customers\\\n\n    brand_df = customers.get_group(customer_list[i])   \n    # Dataframe for each customers\\n\",\n\n    brands = brand_df.groupby(\"product_parent\")\n    #groups reviews of each customers by brand\\\n\n    brands_list = brand_df[\"product_parent\"].unique()\n    # unique list of brands for each customers reviews\\n\",\n\n    no_of_brands = len(brands_list.tolist())\n    # no. of brands for which reviews had been written by the customer\\n\",\n\n    for j in range(no_of_brands):\n    # iterate through all the brands\n\n        product_df = brands.get_group(brands_list[j])\n        # Dataframe of products for a brand for which a customer had written reviews\\n\",\n\n        no_of_products = len(product_df[\"product_id\"])\n        # no of products\\n\",\n\n        if no_of_products<=2:\n        # it will filter the products which are less than 2 for a brand\\n\",\n            continue\n        indices = product_df.index.values.tolist()\n            # index of the dataframe of the products of each brand for each customers\\n\"\n        sentiment = getSentiment(product_df[\"review_body\"][indices[0]])\n        # sentiment of the review of the first product\n\n        isSameSentiment = True\n\n        #discarding those cases in which we have only less than 3 reviews on same brand\\n\",\n        if(no_of_products<4):\n            continue\n\n        for k in range(1,no_of_products):\n        # iterate through all the products\n\n            text = str(product_df[\"review_body\"][indices[k]])\n            # review of each product\\n\",\n\n            if getSentiment(text)!=sentiment:\n            # if sentiment is different than discard it\n                isSameSentiment = False\n                break;\n\n        if(isSameSentiment):\n        # if sentiments of all the products of same brand by a customer is same, \\n\",\n        #append customer_id to blocked users list\\n\",\n\n            remove_reviews3.append(customer_list[i])\n            break\n\n",
   "execution_count": null,
   "outputs": []
  },
  {
   "cell_type": "markdown",
   "source": "### 5.Reviews in which person from same IP Address promoting or demoting a particular brand",
   "metadata": {
    "formattedRanges": [],
    "is_collapsed": false,
    "tags": [],
    "cell_id": "00044-be8733ad-1ee4-4f68-aa3b-111578720be1",
    "deepnote_cell_type": "text-cell-h3"
   }
  },
  {
   "cell_type": "code",
   "metadata": {
    "deepnote_to_be_reexecuted": false,
    "execution_millis": 67414,
    "execution_start": 1654018891803,
    "source_hash": "22f419d2",
    "tags": [],
    "cell_id": "00045-9936a8b9-adcd-42e1-8287-9971929dd806",
    "deepnote_cell_type": "code",
    "deepnote_cell_height": 1304.953125
   },
   "source": "## 3. Reviews in which person from same IP Address promoting or demoting a particular brand\"\"\n#3.Reviews from same IP either all positive or negative reviews on different products of same brand\n\nip = df3.groupby(\"IP Address\")\n#grouping the dataset by ip address\n\nip_list = df3[\"IP Address\"].unique()\n#stores the list pf unique ip addresses\n\nremove_ip = []\n#stores the list of ip address from where reviews have been written.\n\nsize = len(ip_list.tolist())\n#stores the size of the total unique ip addresses\n\nfor i in range(size):\n    # iterate through all the ip addresses\n    \n    brand_df = ip.get_group(ip_list[i])\n    # Dataframe of brands for which reviews have been written from the same ip address\n    \n    brands = brand_df.groupby(\"product_parent\")\n    # grouping the products of the same brands for each ip addresses\n    \n    brands_list = brand_df[\"product_parent\"].unique()\n    #list of unique brands for each ip addresses\n    \n    no_of_brands = len(brands_list.tolist())\n    # total no. of brands\n    \n    for j in range(no_of_brands):\n        # iterate through all the brands\n        \n        product_df = brands.get_group(brands_list[j])\n        # Dataframe of the products of each brand of each products\n        \n        no_of_products = len(product_df[\"product_id\"])\n        # no of products of each brand for each ip addresses\n        \n        if no_of_products<=2:\n            # filter the reviews of the brandswith less than 3 reviews\n            break\n        \n        indices = product_df.index.tolist()\n        # indices of dataframe of products of each brand for each customers\n        \n        sentiment = getSentiment(product_df[\"review_body\"][ indices[0] ])\n        # sentiment of review of first product of each brand\n                \n        isSameSentiment = True\n        \n        for k in range(1,no_of_products):\n            # iterate through all the reviews\n            \n            text = str(product_df[\"review_body\"][indices[k]])\n            # reviews of each product\n            \n            if getSentiment(text)!=sentiment :\n                # if sentiment of 2 products of same brand are not same \n                # then check the next brand\n                isSameSentiment = False\n                break;\n                \n        if(isSameSentiment):\n            # if all the sentiments are same , append ip to blocked list\n            remove_ip.append(ip_list[i])\n\n\n",
   "execution_count": null,
   "outputs": []
  },
  {
   "cell_type": "markdown",
   "source": "### 6. User posting (&gt;3) reviews on the same day with all the reviews are either positive or negative.",
   "metadata": {
    "formattedRanges": [],
    "is_collapsed": false,
    "tags": [],
    "cell_id": "00046-4f4a9af6-e2f2-4f3f-8837-bf6c69d3690b",
    "deepnote_cell_type": "text-cell-h3"
   }
  },
  {
   "cell_type": "code",
   "metadata": {
    "deepnote_to_be_reexecuted": false,
    "execution_millis": 180,
    "execution_start": 1654018959218,
    "source_hash": "1d202d19",
    "tags": [],
    "cell_id": "00047-20cb6d7c-0647-4270-b056-5bd044c198f2",
    "deepnote_cell_type": "code",
    "deepnote_cell_height": 617.875
   },
   "source": "df6=df3.dropna()\ndf6",
   "execution_count": null,
   "outputs": [
    {
     "data": {
      "application/vnd.deepnote.dataframe.v3+json": {
       "column_count": 36,
       "columns": [
        {
         "dtype": "object",
         "name": "marketplace",
         "stats": {
          "categories": [
           {
            "count": 59779,
            "name": "US"
           }
          ],
          "nan_count": 0,
          "unique_count": 1
         }
        },
        {
         "dtype": "int64",
         "name": "customer_id"
        },
        {
         "dtype": "object",
         "name": "review_id"
        },
        {
         "dtype": "object",
         "name": "product_id"
        },
        {
         "dtype": "int64",
         "name": "product_parent"
        },
        {
         "dtype": "object",
         "name": "product_title"
        },
        {
         "dtype": "object",
         "name": "product_category"
        },
        {
         "dtype": "object",
         "name": "star_rating"
        },
        {
         "dtype": "float64",
         "name": "helpful_votes"
        },
        {
         "dtype": "float64",
         "name": "total_votes"
        },
        {
         "dtype": "object",
         "name": "vine"
        },
        {
         "dtype": "int64",
         "name": "verified_purchase"
        },
        {
         "dtype": "object",
         "name": "review_headline"
        },
        {
         "dtype": "object",
         "name": "review_body"
        },
        {
         "dtype": "object",
         "name": "review_date"
        },
        {
         "dtype": "float64",
         "name": "timestamp"
        },
        {
         "dtype": "object",
         "name": "IP Address"
        },
        {
         "dtype": "float64",
         "name": "Sentiment"
        },
        {
         "dtype": "float64",
         "name": "Subjectivity"
        },
        {
         "dtype": "int64",
         "name": "Neg_Count"
        },
        {
         "dtype": "int64",
         "name": "Word_Count"
        },
        {
         "dtype": "int64",
         "name": "Unique_words"
        },
        {
         "dtype": "float64",
         "name": "Noun_Count"
        },
        {
         "dtype": "float64",
         "name": "Adj_Count"
        },
        {
         "dtype": "float64",
         "name": "Verb_Count"
        },
        {
         "dtype": "float64",
         "name": "Adv_Count"
        },
        {
         "dtype": "float64",
         "name": "Pro_Count"
        },
        {
         "dtype": "float64",
         "name": "Pre_Count"
        },
        {
         "dtype": "float64",
         "name": "Con_Count"
        },
        {
         "dtype": "float64",
         "name": "Art_Count"
        },
        {
         "dtype": "float64",
         "name": "Nega_Count"
        },
        {
         "dtype": "float64",
         "name": "Aux_Count"
        },
        {
         "dtype": "float64",
         "name": "Authenticity"
        },
        {
         "dtype": "float64",
         "name": "AT"
        },
        {
         "dtype": "float64",
         "name": "Genuinity"
        },
        {
         "dtype": "object",
         "name": "label"
        },
        {
         "dtype": "int64",
         "name": "_deepnote_index_column"
        }
       ],
       "row_count": 59779,
       "rows": [
        {
         "AT": 32,
         "Adj_Count": 3,
         "Adv_Count": 2,
         "Art_Count": 2,
         "Authenticity": 0.9285714285714286,
         "Aux_Count": 1,
         "Con_Count": 0,
         "Genuinity": 0.4999428074765137,
         "IP Address": "193.93.167.87",
         "Neg_Count": 0,
         "Nega_Count": 0,
         "Noun_Count": 7,
         "Pre_Count": 4,
         "Pro_Count": 1,
         "Sentiment": 1,
         "Subjectivity": 1,
         "Unique_words": 25,
         "Verb_Count": 4,
         "Word_Count": 28,
         "_deepnote_index_column": 0,
         "customer_id": 20422322,
         "helpful_votes": 0,
         "label": "Moderately Genuine",
         "marketplace": "US",
         "product_category": "Mobile_Electronics",
         "product_id": "B00MC4CED8",
         "product_parent": 82850235,
         "product_title": "BlackVue DR600GW-PMP",
         "review_body": "as advertised  everything works perfectly  i am very happy with the camera  as a matter of fact i am going to buy another one for my  nd car ",
         "review_date": "2015-08-31",
         "review_headline": "very happy ",
         "review_id": "R8MEA6IGAHO0B",
         "star_rating": "5",
         "timestamp": 1440987567,
         "total_votes": 0,
         "verified_purchase": 1,
         "vine": "N"
        },
        {
         "AT": 28,
         "Adj_Count": 1,
         "Adv_Count": 0,
         "Art_Count": 0,
         "Authenticity": 1.3333333333333333,
         "Aux_Count": 1,
         "Con_Count": 0,
         "Genuinity": 0.4999355421493637,
         "IP Address": "193.93.167.87",
         "Neg_Count": 0,
         "Nega_Count": 0,
         "Noun_Count": 0,
         "Pre_Count": 0,
         "Pro_Count": 1,
         "Sentiment": 0.8,
         "Subjectivity": 0.75,
         "Unique_words": 3,
         "Verb_Count": 1,
         "Word_Count": 3,
         "_deepnote_index_column": 1,
         "customer_id": 40835037,
         "helpful_votes": 0,
         "label": "Moderately Genuine",
         "marketplace": "US",
         "product_category": "Mobile_Electronics",
         "product_id": "B00OQMFG1Q",
         "product_parent": 82850235,
         "product_title": "GENSSI GSM / GPS Two Way Smart Phone Car Alarm System for iPhone Android Security",
         "review_body": "it is great",
         "review_date": "2015-08-31",
         "review_headline": "five star",
         "review_id": "R31LOQ8JGLPRLK",
         "star_rating": "5",
         "timestamp": 1441001998,
         "total_votes": 1,
         "verified_purchase": 1,
         "vine": "N"
        },
        {
         "AT": 30,
         "Adj_Count": 2,
         "Adv_Count": 0,
         "Art_Count": 1,
         "Authenticity": 1.0833333333333333,
         "Aux_Count": 0,
         "Con_Count": 1,
         "Genuinity": 0.4998767818228214,
         "IP Address": "193.93.167.87",
         "Neg_Count": 0,
         "Nega_Count": 0,
         "Noun_Count": 5,
         "Pre_Count": 1,
         "Pro_Count": 1,
         "Sentiment": 0.6000000000000001,
         "Subjectivity": 0.575,
         "Unique_words": 12,
         "Verb_Count": 0,
         "Word_Count": 12,
         "_deepnote_index_column": 2,
         "customer_id": 51469641,
         "helpful_votes": 0,
         "label": "Moderately Genuine",
         "marketplace": "US",
         "product_category": "Mobile_Electronics",
         "product_id": "B00QERR5CY",
         "product_parent": 82850235,
         "product_title": "iXCC Multi pack Lightning cable",
         "review_body": "these work great and fit my life proof case for the iphone  ",
         "review_date": "2015-08-31",
         "review_headline": "great cables",
         "review_id": "R2Y0MM9YE6OP3P",
         "star_rating": "5",
         "timestamp": 1440959483,
         "total_votes": 0,
         "verified_purchase": 1,
         "vine": "N"
        },
        {
         "AT": 28,
         "Adj_Count": 0,
         "Adv_Count": 2,
         "Art_Count": 0,
         "Authenticity": 1,
         "Aux_Count": 0,
         "Con_Count": 0,
         "Genuinity": 0.742184489121376,
         "IP Address": "193.93.167.87",
         "Neg_Count": 0,
         "Nega_Count": 0,
         "Noun_Count": 1,
         "Pre_Count": 0,
         "Pro_Count": 0,
         "Sentiment": 0.2,
         "Subjectivity": 0.3,
         "Unique_words": 3,
         "Verb_Count": 0,
         "Word_Count": 3,
         "_deepnote_index_column": 3,
         "customer_id": 4332923,
         "helpful_votes": 0,
         "label": "Moderately Genuine",
         "marketplace": "US",
         "product_category": "Mobile_Electronics",
         "product_id": "B00QUFTPV4",
         "product_parent": 82850235,
         "product_title": "abcGoodefg® FBI Covert Acoustic Tube Earpiece Headset PTT Mic for Motorola Two Way Radio Device Walkie Talkie GP88 300 2000 CT150 P040 PRO1150 SP10 XTN500 2pin",
         "review_body": "work very well ",
         "review_date": "2015-08-31",
         "review_headline": "work very well",
         "review_id": "RRB9C05HDOD4O",
         "star_rating": "4",
         "timestamp": 1441015251,
         "total_votes": 0,
         "verified_purchase": 1,
         "vine": "N"
        },
        {
         "AT": 24,
         "Adj_Count": 4,
         "Adv_Count": 1,
         "Art_Count": 0,
         "Authenticity": 0.9583333333333334,
         "Aux_Count": 3,
         "Con_Count": 2,
         "Genuinity": 0.6756851108222771,
         "IP Address": "205.10.168.66",
         "Neg_Count": 1,
         "Nega_Count": 0,
         "Noun_Count": 3,
         "Pre_Count": 2,
         "Pro_Count": 2,
         "Sentiment": 0.2875,
         "Subjectivity": 0.4875,
         "Unique_words": 22,
         "Verb_Count": 6,
         "Word_Count": 24,
         "_deepnote_index_column": 4,
         "customer_id": 7846966,
         "helpful_votes": 0,
         "label": "Moderately Genuine",
         "marketplace": "US",
         "product_category": "Mobile_Electronics",
         "product_id": "B00KA6CCVY",
         "product_parent": 563475445,
         "product_title": "Aweek® Air Acoustic Earpiece Headset for Baofeng Two Way Radios UV-5R UV-B6 BF-888S UV-B6 UV-B5 Walkie Talkies 2-Pin Jack",
         "review_body": "it appears to be good  but i am still waiting for my other items radio batteries charger  before i can go to   or   stars",
         "review_date": "2015-08-31",
         "review_headline": "it appears to be good  but i m still waiting for my other items    ",
         "review_id": "RY8DDL22YG4R5",
         "star_rating": "3",
         "timestamp": 1440977588,
         "total_votes": 1,
         "verified_purchase": 1,
         "vine": "N"
        },
        {
         "AT": 32,
         "Adj_Count": 3,
         "Adv_Count": 2,
         "Art_Count": 2,
         "Authenticity": 0.9285714285714286,
         "Aux_Count": 1,
         "Con_Count": 0,
         "Genuinity": 0.4999428074765137,
         "IP Address": "205.10.168.66",
         "Neg_Count": 0,
         "Nega_Count": 0,
         "Noun_Count": 7,
         "Pre_Count": 4,
         "Pro_Count": 1,
         "Sentiment": 1,
         "Subjectivity": 1,
         "Unique_words": 25,
         "Verb_Count": 4,
         "Word_Count": 28,
         "_deepnote_index_column": 5,
         "customer_id": 20422322,
         "helpful_votes": 0,
         "label": "Moderately Genuine",
         "marketplace": "US",
         "product_category": "Mobile_Electronics",
         "product_id": "B00MC4CED8",
         "product_parent": 563475445,
         "product_title": "BlackVue DR600GW-PMP",
         "review_body": "as advertised  everything works perfectly  i am very happy with the camera  as a matter of fact i am going to buy another one for my  nd car ",
         "review_date": "2015-08-31",
         "review_headline": "very happy ",
         "review_id": "R8MEA6IGAHO0B",
         "star_rating": "5",
         "timestamp": 1441012613,
         "total_votes": 0,
         "verified_purchase": 1,
         "vine": "N"
        },
        {
         "AT": 32,
         "Adj_Count": 3,
         "Adv_Count": 2,
         "Art_Count": 2,
         "Authenticity": 0.9285714285714286,
         "Aux_Count": 1,
         "Con_Count": 0,
         "Genuinity": 0.4999428074765137,
         "IP Address": "206.33.134.174",
         "Neg_Count": 0,
         "Nega_Count": 0,
         "Noun_Count": 7,
         "Pre_Count": 4,
         "Pro_Count": 1,
         "Sentiment": 1,
         "Subjectivity": 1,
         "Unique_words": 25,
         "Verb_Count": 4,
         "Word_Count": 28,
         "_deepnote_index_column": 6,
         "customer_id": 20422322,
         "helpful_votes": 0,
         "label": "Moderately Genuine",
         "marketplace": "US",
         "product_category": "Mobile_Electronics",
         "product_id": "B00MC4CED8",
         "product_parent": 217304173,
         "product_title": "BlackVue DR600GW-PMP",
         "review_body": "as advertised  everything works perfectly  i am very happy with the camera  as a matter of fact i am going to buy another one for my  nd car ",
         "review_date": "2015-08-31",
         "review_headline": "very happy ",
         "review_id": "R8MEA6IGAHO0B",
         "star_rating": "5",
         "timestamp": 1440987567,
         "total_votes": 0,
         "verified_purchase": 1,
         "vine": "N"
        },
        {
         "AT": 28,
         "Adj_Count": 1,
         "Adv_Count": 0,
         "Art_Count": 0,
         "Authenticity": 1.3333333333333333,
         "Aux_Count": 1,
         "Con_Count": 0,
         "Genuinity": 0.4999355421493637,
         "IP Address": "219.3.75.180",
         "Neg_Count": 0,
         "Nega_Count": 0,
         "Noun_Count": 0,
         "Pre_Count": 0,
         "Pro_Count": 1,
         "Sentiment": 0.8,
         "Subjectivity": 0.75,
         "Unique_words": 3,
         "Verb_Count": 1,
         "Word_Count": 3,
         "_deepnote_index_column": 7,
         "customer_id": 40835037,
         "helpful_votes": 0,
         "label": "Moderately Genuine",
         "marketplace": "US",
         "product_category": "Mobile_Electronics",
         "product_id": "B00OQMFG1Q",
         "product_parent": 137313254,
         "product_title": "GENSSI GSM / GPS Two Way Smart Phone Car Alarm System for iPhone Android Security",
         "review_body": "it is great",
         "review_date": "2015-08-31",
         "review_headline": "five star",
         "review_id": "R31LOQ8JGLPRLK",
         "star_rating": "5",
         "timestamp": 1441001998,
         "total_votes": 1,
         "verified_purchase": 1,
         "vine": "N"
        },
        {
         "AT": 30,
         "Adj_Count": 2,
         "Adv_Count": 0,
         "Art_Count": 1,
         "Authenticity": 1.0833333333333333,
         "Aux_Count": 0,
         "Con_Count": 1,
         "Genuinity": 0.4998767818228214,
         "IP Address": "194.12.14.67",
         "Neg_Count": 0,
         "Nega_Count": 0,
         "Noun_Count": 5,
         "Pre_Count": 1,
         "Pro_Count": 1,
         "Sentiment": 0.6000000000000001,
         "Subjectivity": 0.575,
         "Unique_words": 12,
         "Verb_Count": 0,
         "Word_Count": 12,
         "_deepnote_index_column": 8,
         "customer_id": 51469641,
         "helpful_votes": 0,
         "label": "Moderately Genuine",
         "marketplace": "US",
         "product_category": "Mobile_Electronics",
         "product_id": "B00QERR5CY",
         "product_parent": 82850235,
         "product_title": "iXCC Multi pack Lightning cable",
         "review_body": "these work great and fit my life proof case for the iphone  ",
         "review_date": "2015-08-31",
         "review_headline": "great cables",
         "review_id": "R2Y0MM9YE6OP3P",
         "star_rating": "5",
         "timestamp": 1440959483,
         "total_votes": 0,
         "verified_purchase": 1,
         "vine": "N"
        },
        {
         "AT": 26,
         "Adj_Count": 0,
         "Adv_Count": 3,
         "Art_Count": 1,
         "Authenticity": 1,
         "Aux_Count": 2,
         "Con_Count": 1,
         "Genuinity": 0.742184489121376,
         "IP Address": "213.136.76.172",
         "Neg_Count": 0,
         "Nega_Count": 1,
         "Noun_Count": 3,
         "Pre_Count": 3,
         "Pro_Count": 1,
         "Sentiment": 0.2,
         "Subjectivity": 0.3,
         "Unique_words": 20,
         "Verb_Count": 6,
         "Word_Count": 21,
         "_deepnote_index_column": 9,
         "customer_id": 4332923,
         "helpful_votes": 0,
         "label": "Moderately Genuine",
         "marketplace": "US",
         "product_category": "Mobile_Electronics",
         "product_id": "B00QUFTPV4",
         "product_parent": 221169481,
         "product_title": "abcGoodefg® FBI Covert Acoustic Tube Earpiece Headset PTT Mic for Motorola Two Way Radio Device Walkie Talkie GP88 300 2000 CT150 P040 PRO1150 SP10 XTN500 2pin",
         "review_body": "work very well but could not get used to not hearing anything out of the ear they v were plugged into ",
         "review_date": "2015-08-31",
         "review_headline": "work very well but couldn t get used to not hearing    ",
         "review_id": "RRB9C05HDOD4O",
         "star_rating": "4",
         "timestamp": 1441015251,
         "total_votes": 0,
         "verified_purchase": 1,
         "vine": "N"
        }
       ]
      },
      "text/html": "<div>\n<style scoped>\n    .dataframe tbody tr th:only-of-type {\n        vertical-align: middle;\n    }\n\n    .dataframe tbody tr th {\n        vertical-align: top;\n    }\n\n    .dataframe thead th {\n        text-align: right;\n    }\n</style>\n<table border=\"1\" class=\"dataframe\">\n  <thead>\n    <tr style=\"text-align: right;\">\n      <th></th>\n      <th>marketplace</th>\n      <th>customer_id</th>\n      <th>review_id</th>\n      <th>product_id</th>\n      <th>product_parent</th>\n      <th>product_title</th>\n      <th>product_category</th>\n      <th>star_rating</th>\n      <th>helpful_votes</th>\n      <th>total_votes</th>\n      <th>...</th>\n      <th>Pro_Count</th>\n      <th>Pre_Count</th>\n      <th>Con_Count</th>\n      <th>Art_Count</th>\n      <th>Nega_Count</th>\n      <th>Aux_Count</th>\n      <th>Authenticity</th>\n      <th>AT</th>\n      <th>Genuinity</th>\n      <th>label</th>\n    </tr>\n  </thead>\n  <tbody>\n    <tr>\n      <th>0</th>\n      <td>US</td>\n      <td>20422322</td>\n      <td>R8MEA6IGAHO0B</td>\n      <td>B00MC4CED8</td>\n      <td>82850235</td>\n      <td>BlackVue DR600GW-PMP</td>\n      <td>Mobile_Electronics</td>\n      <td>5</td>\n      <td>0.0</td>\n      <td>0.0</td>\n      <td>...</td>\n      <td>1.0</td>\n      <td>4.0</td>\n      <td>0.0</td>\n      <td>2.0</td>\n      <td>0.0</td>\n      <td>1.0</td>\n      <td>0.928571</td>\n      <td>32.0</td>\n      <td>0.499943</td>\n      <td>Moderately Genuine</td>\n    </tr>\n    <tr>\n      <th>1</th>\n      <td>US</td>\n      <td>40835037</td>\n      <td>R31LOQ8JGLPRLK</td>\n      <td>B00OQMFG1Q</td>\n      <td>82850235</td>\n      <td>GENSSI GSM / GPS Two Way Smart Phone Car Alarm...</td>\n      <td>Mobile_Electronics</td>\n      <td>5</td>\n      <td>0.0</td>\n      <td>1.0</td>\n      <td>...</td>\n      <td>1.0</td>\n      <td>0.0</td>\n      <td>0.0</td>\n      <td>0.0</td>\n      <td>0.0</td>\n      <td>1.0</td>\n      <td>1.333333</td>\n      <td>28.0</td>\n      <td>0.499936</td>\n      <td>Moderately Genuine</td>\n    </tr>\n    <tr>\n      <th>2</th>\n      <td>US</td>\n      <td>51469641</td>\n      <td>R2Y0MM9YE6OP3P</td>\n      <td>B00QERR5CY</td>\n      <td>82850235</td>\n      <td>iXCC Multi pack Lightning cable</td>\n      <td>Mobile_Electronics</td>\n      <td>5</td>\n      <td>0.0</td>\n      <td>0.0</td>\n      <td>...</td>\n      <td>1.0</td>\n      <td>1.0</td>\n      <td>1.0</td>\n      <td>1.0</td>\n      <td>0.0</td>\n      <td>0.0</td>\n      <td>1.083333</td>\n      <td>30.0</td>\n      <td>0.499877</td>\n      <td>Moderately Genuine</td>\n    </tr>\n    <tr>\n      <th>3</th>\n      <td>US</td>\n      <td>4332923</td>\n      <td>RRB9C05HDOD4O</td>\n      <td>B00QUFTPV4</td>\n      <td>82850235</td>\n      <td>abcGoodefg® FBI Covert Acoustic Tube Earpiece ...</td>\n      <td>Mobile_Electronics</td>\n      <td>4</td>\n      <td>0.0</td>\n      <td>0.0</td>\n      <td>...</td>\n      <td>0.0</td>\n      <td>0.0</td>\n      <td>0.0</td>\n      <td>0.0</td>\n      <td>0.0</td>\n      <td>0.0</td>\n      <td>1.000000</td>\n      <td>28.0</td>\n      <td>0.742184</td>\n      <td>Moderately Genuine</td>\n    </tr>\n    <tr>\n      <th>4</th>\n      <td>US</td>\n      <td>7846966</td>\n      <td>RY8DDL22YG4R5</td>\n      <td>B00KA6CCVY</td>\n      <td>563475445</td>\n      <td>Aweek® Air Acoustic Earpiece Headset for Baofe...</td>\n      <td>Mobile_Electronics</td>\n      <td>3</td>\n      <td>0.0</td>\n      <td>1.0</td>\n      <td>...</td>\n      <td>2.0</td>\n      <td>2.0</td>\n      <td>2.0</td>\n      <td>0.0</td>\n      <td>0.0</td>\n      <td>3.0</td>\n      <td>0.958333</td>\n      <td>24.0</td>\n      <td>0.675685</td>\n      <td>Moderately Genuine</td>\n    </tr>\n    <tr>\n      <th>...</th>\n      <td>...</td>\n      <td>...</td>\n      <td>...</td>\n      <td>...</td>\n      <td>...</td>\n      <td>...</td>\n      <td>...</td>\n      <td>...</td>\n      <td>...</td>\n      <td>...</td>\n      <td>...</td>\n      <td>...</td>\n      <td>...</td>\n      <td>...</td>\n      <td>...</td>\n      <td>...</td>\n      <td>...</td>\n      <td>...</td>\n      <td>...</td>\n      <td>...</td>\n      <td>...</td>\n    </tr>\n    <tr>\n      <th>59795</th>\n      <td>US</td>\n      <td>38978459</td>\n      <td>R2CDRVDUKB5Z9P</td>\n      <td>B00005OTZQ</td>\n      <td>554527960</td>\n      <td>Royal SE 2800 Hand-Held Spot Cleaner</td>\n      <td>Mobile_Electronics</td>\n      <td>5</td>\n      <td>23.0</td>\n      <td>27.0</td>\n      <td>...</td>\n      <td>0.0</td>\n      <td>0.0</td>\n      <td>0.0</td>\n      <td>0.0</td>\n      <td>0.0</td>\n      <td>0.0</td>\n      <td>0.521401</td>\n      <td>30.0</td>\n      <td>0.499941</td>\n      <td>Moderately Genuine</td>\n    </tr>\n    <tr>\n      <th>59796</th>\n      <td>US</td>\n      <td>51697602</td>\n      <td>R1DVLTZFXXOX9</td>\n      <td>B00005OTZQ</td>\n      <td>554527960</td>\n      <td>Royal SE 2800 Hand-Held Spot Cleaner</td>\n      <td>Mobile_Electronics</td>\n      <td>5</td>\n      <td>10.0</td>\n      <td>11.0</td>\n      <td>...</td>\n      <td>0.0</td>\n      <td>0.0</td>\n      <td>0.0</td>\n      <td>0.0</td>\n      <td>0.0</td>\n      <td>0.0</td>\n      <td>0.732558</td>\n      <td>30.0</td>\n      <td>0.499705</td>\n      <td>Moderately Genuine</td>\n    </tr>\n    <tr>\n      <th>59797</th>\n      <td>US</td>\n      <td>50891675</td>\n      <td>R1GHKKZMHAHQC1</td>\n      <td>B00005OTZQ</td>\n      <td>554527960</td>\n      <td>Royal SE 2800 Hand-Held Spot Cleaner</td>\n      <td>Mobile_Electronics</td>\n      <td>5</td>\n      <td>13.0</td>\n      <td>13.0</td>\n      <td>...</td>\n      <td>0.0</td>\n      <td>0.0</td>\n      <td>0.0</td>\n      <td>0.0</td>\n      <td>0.0</td>\n      <td>0.0</td>\n      <td>0.676190</td>\n      <td>30.0</td>\n      <td>0.499595</td>\n      <td>Moderately Genuine</td>\n    </tr>\n    <tr>\n      <th>59798</th>\n      <td>US</td>\n      <td>38528439</td>\n      <td>R227G6T5B26DVC</td>\n      <td>B00005OTZQ</td>\n      <td>554527960</td>\n      <td>Royal SE 2800 Hand-Held Spot Cleaner</td>\n      <td>Mobile_Electronics</td>\n      <td>5</td>\n      <td>58.0</td>\n      <td>61.0</td>\n      <td>...</td>\n      <td>0.0</td>\n      <td>0.0</td>\n      <td>0.0</td>\n      <td>0.0</td>\n      <td>0.0</td>\n      <td>0.0</td>\n      <td>0.479109</td>\n      <td>30.0</td>\n      <td>0.499938</td>\n      <td>Moderately Genuine</td>\n    </tr>\n    <tr>\n      <th>59799</th>\n      <td>US</td>\n      <td>47099634</td>\n      <td>R44WS2RSQQ0HR</td>\n      <td>B00005OTZQ</td>\n      <td>554527960</td>\n      <td>Royal SE 2800 Hand-Held Spot Cleaner</td>\n      <td>Mobile_Electronics</td>\n      <td>4</td>\n      <td>37.0</td>\n      <td>38.0</td>\n      <td>...</td>\n      <td>0.0</td>\n      <td>0.0</td>\n      <td>0.0</td>\n      <td>0.0</td>\n      <td>0.0</td>\n      <td>0.0</td>\n      <td>0.503356</td>\n      <td>30.0</td>\n      <td>0.499939</td>\n      <td>Moderately Genuine</td>\n    </tr>\n  </tbody>\n</table>\n<p>59779 rows × 36 columns</p>\n</div>",
      "text/plain": "      marketplace  customer_id       review_id  product_id  product_parent  \\\n0              US     20422322   R8MEA6IGAHO0B  B00MC4CED8        82850235   \n1              US     40835037  R31LOQ8JGLPRLK  B00OQMFG1Q        82850235   \n2              US     51469641  R2Y0MM9YE6OP3P  B00QERR5CY        82850235   \n3              US      4332923   RRB9C05HDOD4O  B00QUFTPV4        82850235   \n4              US      7846966   RY8DDL22YG4R5  B00KA6CCVY       563475445   \n...           ...          ...             ...         ...             ...   \n59795          US     38978459  R2CDRVDUKB5Z9P  B00005OTZQ       554527960   \n59796          US     51697602   R1DVLTZFXXOX9  B00005OTZQ       554527960   \n59797          US     50891675  R1GHKKZMHAHQC1  B00005OTZQ       554527960   \n59798          US     38528439  R227G6T5B26DVC  B00005OTZQ       554527960   \n59799          US     47099634   R44WS2RSQQ0HR  B00005OTZQ       554527960   \n\n                                           product_title    product_category  \\\n0                                   BlackVue DR600GW-PMP  Mobile_Electronics   \n1      GENSSI GSM / GPS Two Way Smart Phone Car Alarm...  Mobile_Electronics   \n2                        iXCC Multi pack Lightning cable  Mobile_Electronics   \n3      abcGoodefg® FBI Covert Acoustic Tube Earpiece ...  Mobile_Electronics   \n4      Aweek® Air Acoustic Earpiece Headset for Baofe...  Mobile_Electronics   \n...                                                  ...                 ...   \n59795               Royal SE 2800 Hand-Held Spot Cleaner  Mobile_Electronics   \n59796               Royal SE 2800 Hand-Held Spot Cleaner  Mobile_Electronics   \n59797               Royal SE 2800 Hand-Held Spot Cleaner  Mobile_Electronics   \n59798               Royal SE 2800 Hand-Held Spot Cleaner  Mobile_Electronics   \n59799               Royal SE 2800 Hand-Held Spot Cleaner  Mobile_Electronics   \n\n      star_rating  helpful_votes  total_votes  ... Pro_Count  Pre_Count  \\\n0               5            0.0          0.0  ...       1.0        4.0   \n1               5            0.0          1.0  ...       1.0        0.0   \n2               5            0.0          0.0  ...       1.0        1.0   \n3               4            0.0          0.0  ...       0.0        0.0   \n4               3            0.0          1.0  ...       2.0        2.0   \n...           ...            ...          ...  ...       ...        ...   \n59795           5           23.0         27.0  ...       0.0        0.0   \n59796           5           10.0         11.0  ...       0.0        0.0   \n59797           5           13.0         13.0  ...       0.0        0.0   \n59798           5           58.0         61.0  ...       0.0        0.0   \n59799           4           37.0         38.0  ...       0.0        0.0   \n\n      Con_Count Art_Count Nega_Count  Aux_Count Authenticity    AT  Genuinity  \\\n0           0.0       2.0        0.0        1.0     0.928571  32.0   0.499943   \n1           0.0       0.0        0.0        1.0     1.333333  28.0   0.499936   \n2           1.0       1.0        0.0        0.0     1.083333  30.0   0.499877   \n3           0.0       0.0        0.0        0.0     1.000000  28.0   0.742184   \n4           2.0       0.0        0.0        3.0     0.958333  24.0   0.675685   \n...         ...       ...        ...        ...          ...   ...        ...   \n59795       0.0       0.0        0.0        0.0     0.521401  30.0   0.499941   \n59796       0.0       0.0        0.0        0.0     0.732558  30.0   0.499705   \n59797       0.0       0.0        0.0        0.0     0.676190  30.0   0.499595   \n59798       0.0       0.0        0.0        0.0     0.479109  30.0   0.499938   \n59799       0.0       0.0        0.0        0.0     0.503356  30.0   0.499939   \n\n                    label  \n0      Moderately Genuine  \n1      Moderately Genuine  \n2      Moderately Genuine  \n3      Moderately Genuine  \n4      Moderately Genuine  \n...                   ...  \n59795  Moderately Genuine  \n59796  Moderately Genuine  \n59797  Moderately Genuine  \n59798  Moderately Genuine  \n59799  Moderately Genuine  \n\n[59779 rows x 36 columns]"
     },
     "execution_count": 15,
     "metadata": {},
     "output_type": "execute_result"
    }
   ]
  },
  {
   "cell_type": "code",
   "metadata": {
    "deepnote_to_be_reexecuted": false,
    "execution_millis": 534544,
    "execution_start": 1654018959400,
    "source_hash": "aca0c993",
    "tags": [],
    "cell_id": "00048-43ab5f9b-ff76-40b4-91b9-3764dea6c579",
    "deepnote_cell_type": "code",
    "deepnote_cell_height": 1142.96875
   },
   "source": "#4. User posting (>3) reviews on the same day with all the reviews are either positive or negative.\n\ncustomer_group = df6.groupby(\"customer_id\")\n#creates the group of the customers \n\ncustomer_group_list = df6[\"customer_id\"].unique().tolist()\n# list of unique customers\n\nfor i in range(len(customer_group_list)):\n    # iterate through all customers , starts with 1 as column could not be included\n    \n    customer_reviews = customer_group.get_group( customer_group_list[i] )\n    # Dataframe of data of each cutomers\n    \n    dates_list = customer_reviews[\"review_date\"].unique().tolist()\n    # list of dates of reviews written by each customers\n    \n    reviews_by_date = customer_reviews.groupby(\"review_date\");\n    # gouping reviews by date for each cutomers\n    \n    for j in range(len(dates_list)):\n        # iterating through all dates\n        \n        reviews_by_date_for_pos = []\n        reviews_by_date_for_neg = []\n\n        df = reviews_by_date.get_group(dates_list[j])\n        #dataframe storing the details for each details for each customers\n        \n        indices = df.index.tolist()\n        # indices of dataframe of each date\n        \n        for k in range(len(df)):\n            # iterating through dataframe of each day for each customers\n            \n            text = df[\"review_body\"][ indices[k] ]\n            #review on a single day\n            \n            if(getSentiment(text) == 0):\n                \n                #if sentiment is negative, append review_id to list of negative reviews\n                reviews_by_date_for_neg.append(df[\"review_id\"][ indices[k] ])\n                \n            else:\n                \n                #if sentiment is positive, append review_id to list of positive reviews\n                reviews_by_date_for_pos.append(df[\"review_id\"][ indices[k] ])\n                \n        # CONDITION FOR CONSIDERING THE FAKE REVIEW \n        \n        #removing postive reviews that are written by a reviewer that are > 3 on same day\n        if(len(reviews_by_date_for_pos)>3):\n            remove_reviews3.extend(reviews_by_date_for_pos)\n        \n        #removing postive reviews that are written by a reviewer that are > 3 on same day\n        if(len(reviews_by_date_for_neg)>3):\n            remove_reviews3.extend(reviews_by_date_for_neg)\n        \n\n",
   "execution_count": null,
   "outputs": []
  },
  {
   "cell_type": "markdown",
   "source": "### 7. Reviews(&gt;3) from same IP on the same day with all the reviews are either positive or negative.",
   "metadata": {
    "formattedRanges": [],
    "is_collapsed": false,
    "tags": [],
    "cell_id": "00049-792d5d6a-42e4-462a-9990-69532183f266",
    "deepnote_cell_type": "text-cell-h3"
   }
  },
  {
   "cell_type": "code",
   "metadata": {
    "deepnote_to_be_reexecuted": false,
    "execution_millis": 559246,
    "execution_start": 1654019493960,
    "source_hash": "c346f74b",
    "tags": [],
    "cell_id": "00050-5e36f596-a0fd-410c-b67d-50880abe6cac",
    "deepnote_cell_type": "code",
    "deepnote_cell_height": 1196.953125
   },
   "source": "## 5. Reviews which are posted as flood by same person from same IP Address\"\n\n#5. Reviews(>3) from same IP on the same day with all the reviews are either positive or negative.\n\nip_group = df6.groupby(\"IP Address\")\n# grouping the dataset by ip addresses\n\nip_list = df6[\"IP Address\"].unique().tolist()\n# stores the list of unique ip addresses\n\nsize = len(ip_list)\n# total no of unique ip addresses\n\nfor i in range(size):\n    # iterate through all the ip addresses\n    \n    reviews = ip_group.get_group( ip_list[i] )\n    # dataframe of each ip\n    \n    dates_list = reviews[\"review_date\"].unique().tolist()\n    # list of dates of reviews by each ip addresses\n    \n    reviews_by_date = reviews.groupby(\"review_date\");\n    # grouping the dataframe by date\n    \n    for j in range(len(dates_list)):\n        # iterate through all the dates\n        \n        reviews_by_date_for_pos = []\n        reviews_by_date_for_neg = []\n\n        reviews_for_each_day = reviews_by_date.get_group(dates_list[j])\n        #dataframe of reviews for a day by each ip addresses\n        \n        indices = reviews_for_each_day.index.tolist()\n        # list of indices of the dataframe reviews_for_each_day\n       \n        for k in range(len(reviews_for_each_day)):\n            #iterate through all the reviews on a day by each ip addresses\n           \n            text = reviews_for_each_day[\"review_body\"][ indices[k] ]\n            # reviews on a day for an ip addresses\n            \n            if(getSentiment(text) == 0):\n                \n                #if sentiment is negative, append review_id to list of negative reviews\n                reviews_by_date_for_neg.append(reviews_for_each_day[\"review_id\"][ indices[k] ])\n            else:\n                \n                #if sentiment is positive, append review_id to list of positive reviews\n                reviews_by_date_for_pos.append(reviews_for_each_day[\"review_id\"][ indices[k] ])\n                \n        # CONDITION FOR CONSIDERING THE FAKE REVIEW        \n     \n        #removing postive reviews that are written by a reviewer that are > 3 on same day\n        if(len(reviews_by_date_for_pos)>3):\n            remove_reviews3.extend(reviews_by_date_for_pos)\n        \n        #removing postive reviews that are written by a reviewer that are > 3 on same day\n        if(len(reviews_by_date_for_neg)>3):\n            remove_reviews3.extend(reviews_by_date_for_neg)\n\n",
   "execution_count": null,
   "outputs": []
  },
  {
   "cell_type": "markdown",
   "source": "### 8.Removing reviews with no. of verbs &gt; no. of nouns",
   "metadata": {
    "formattedRanges": [],
    "is_collapsed": false,
    "tags": [],
    "cell_id": "00051-fb447481-2de1-47d0-a1b8-f17aa23c2e06",
    "deepnote_cell_type": "text-cell-h3"
   }
  },
  {
   "cell_type": "code",
   "metadata": {
    "deepnote_to_be_reexecuted": false,
    "execution_millis": 164149,
    "execution_start": 1654020053207,
    "source_hash": "e648517c",
    "tags": [],
    "cell_id": "00052-b1e35b4d-4431-4bfb-bcec-44e7495bf049",
    "deepnote_cell_type": "code",
    "deepnote_cell_height": 674.953125
   },
   "source": "## 7. Reviews in which Reviewer using arming tone to by the product (Action)\"\n\n#7. Removing reviews with no. of verbs > no. of nouns\n\nfor i in range(len(df3)):\n    #iterate the whole dataset\n    \n    words = nltk.word_tokenize(str(df3[\"review_body\"][i]))\n    #storing the words from the reviews into the list\n    \n    tagged_words = nltk.pos_tag(words)\n    # returns list of tuples of words along with their parts of speech\n    \n    nouns_count = 0\n    verbs_count = 0\n    \n    for j in range(len(tagged_words)):\n        #iterate through all the words\n\n        if(tagged_words[j][1].startswith(\"NN\")):\n            nouns_count+=1\n            #counts the no. of nouns in the review\n\n        if(tagged_words[j][1].startswith(\"VB\")):\n            verbs_count+=1\n            #counts the no. of verbs in the review\n\n    if(verbs_count>nouns_count):\n        #comparing the no. of verbs and nouns\n        remove_reviews3.append(df3[\"review_id\"][i])\n        #storing the review to be removed \"\n\n\n",
   "execution_count": null,
   "outputs": []
  },
  {
   "cell_type": "markdown",
   "source": "### 9. Removing reviews with includes more first person pronouns",
   "metadata": {
    "formattedRanges": [],
    "is_collapsed": false,
    "tags": [],
    "cell_id": "00053-1d7ca9b6-1509-45c6-acfd-a309bf41c891",
    "deepnote_cell_type": "text-cell-h3"
   }
  },
  {
   "cell_type": "code",
   "metadata": {
    "deepnote_to_be_reexecuted": false,
    "execution_millis": 61773,
    "execution_start": 1654020217407,
    "source_hash": "c3fa4581",
    "tags": [],
    "cell_id": "00054-bd761f93-2513-47ff-9cd1-39aeb77d54d8",
    "deepnote_cell_type": "code",
    "deepnote_cell_height": 716.78125
   },
   "source": "# 8. Removing reviews with includes more first person pronouns.\n\nfor i in range(len(df3)):\n    #iterate through all the reviews\n    \n    df3[\"review_body\"][i] = str(df3[\"review_body\"][i]).lower()\n    # converting each characters to its lower cases\n    \n    words = nltk.word_tokenize(df3[\"review_body\"][i])\n    # storing the list of words for each reviews\n    \n    sentence = nltk.sent_tokenize(df3[\"review_body\"][i])\n    # storing the list of sentences for each reviews\n    \n    count=0\n    if(len(sentence)>4):\n        # Checking only those reviews which have atleast 5 sentences.\n        \n        for j in range(len(words)):\n           #iterating through all the reviews\n            \n            if(words[j]==\"i\" or words[j]==\"we\"):\n                #counting personal pronouns\n                count+=1\n                \n        if(count > len(sentence)/2):\n            #reviews with number of personal pronouns used greater than half the no. of sentences.\n            remove_reviews3.append(dataset[\"review_id\"][i])\n\n",
   "execution_count": null,
   "outputs": [
    {
     "name": "stderr",
     "output_type": "stream",
     "text": "/shared-libs/python3.7/py-core/lib/python3.7/site-packages/ipykernel_launcher.py:6: SettingWithCopyWarning: \nA value is trying to be set on a copy of a slice from a DataFrame\n\nSee the caveats in the documentation: https://pandas.pydata.org/pandas-docs/stable/user_guide/indexing.html#returning-a-view-versus-a-copy\n  \n"
    }
   ]
  },
  {
   "cell_type": "code",
   "metadata": {
    "deepnote_to_be_reexecuted": false,
    "execution_millis": 45,
    "execution_start": 1654020279181,
    "source_hash": "609f2bfe",
    "tags": [],
    "cell_id": "00055-b0bb236f-c1db-4402-b915-24a11137f9ef",
    "deepnote_cell_type": "code",
    "deepnote_cell_height": 134.953125
   },
   "source": "with open(r'remove_reviews3.txt', 'w') as fp:\n    for item in remove_reviews3:\n        # write each item on a new line\n        fp.write(\"%s\\n\" % item)",
   "execution_count": null,
   "outputs": []
  },
  {
   "cell_type": "markdown",
   "source": "### Labelling fake reviews as fake",
   "metadata": {
    "formattedRanges": [],
    "is_collapsed": false,
    "tags": [],
    "cell_id": "00056-fda29fa0-5933-475f-8dea-e37c9efbf79c",
    "deepnote_cell_type": "text-cell-h3"
   }
  },
  {
   "cell_type": "code",
   "metadata": {
    "deepnote_to_be_reexecuted": false,
    "execution_millis": 219,
    "execution_start": 1654070299143,
    "source_hash": "8603c2d4",
    "tags": [],
    "cell_id": "00057-a21565ed-3e15-4d21-b85c-ad4ec338232d",
    "deepnote_cell_type": "code",
    "deepnote_cell_height": 887.953125,
    "deepnote_output_heights": [
     611
    ]
   },
   "source": "# opening the file in read mode\nmy_file = open(\"remove_reviews3.txt\", \"r\")\n  \n# reading the file\ndata_from_txt = my_file.read()\n  \n# replacing end splitting the text \n# when newline ('\\n') is seen.\nremove_reviews3 = data_from_txt.split(\"\\n\")\nmy_file.close()\nremove_reviews3",
   "execution_count": null,
   "outputs": [
    {
     "data": {
      "text/plain": "['R1DT8JJUQHUKUL',\n 'R3PG8VI81UURO5',\n 'RABE0NGQ36XZX',\n 'R18TG2USOSVOC3',\n 'R174E63UVEWXYD',\n 'R1K87KXBZ5FJBE',\n 'R2GKI73OC3N63O',\n 'R1L9T6O2ISEKHI',\n 'R2YH2439HLA5J4',\n 'R1ED9U68DFV8V4',\n 'R34M1NEAF69R87',\n 'R2FUDYX5D13R05',\n 'R1VN2IVVHA7ICW',\n 'R1X5Z3HJS57LIN',\n 'R36E4H31GBXB37',\n 'R3NPNIVOUUZ6V6',\n 'RS6BGYKLQ7ROF',\n 'R2MEKKYG0FQ9Y4',\n 'R3PGIUX1EKQ4SZ',\n 'R1RI39B1D8JA2B',\n 'R3ROTWGAX1TJES',\n 'R15HQ2NJS614NB',\n 'RDASSJPEKCAT1',\n 'RBKZU14AS6JSN',\n 'R1MT6EWYM9A5RS',\n 'R21U0KGQ0BHLUA',\n 'R9M5461GU327E',\n 'R2SIAIYMJL3UP9',\n 'R2G66RIEVYZWN8',\n 'R1F0EMP3M9Q7HP',\n 'R3Q38EEXCSQF8L',\n 'R1SSITYDZJYIRR',\n 'R1GXMS72U8KZO7',\n 'R33DCBYNF04Q2R',\n 'R1VHLYE0VMJEMH',\n 'R150TJWGJZ6UD4',\n 'R3V3G8DFOWLH5H',\n 'R29PJ6UG3NMHOL',\n 'RBXUICKGHL685',\n 'R2N0L69DVCLSOE',\n 'RM1L2OI9L36I3',\n 'R2OHETRELQHI3L',\n 'R1MU62FFMJ4URR',\n 'R23WA4EC8WVMD9',\n 'R1XOP8ERFM4B5E',\n 'R1ZQMYGHOEUHL7',\n 'R170V8N0JGFJLN',\n 'R3OWEV36TGR42F',\n 'R3N3H8TXI3MM54',\n 'R2JXNXR69I47V2',\n 'R25QQO6BL8P3ND',\n 'R29MZPMX79G773',\n 'R13DB031P2JTXL',\n 'R14S84LPBYS3RY',\n 'R2QE37CW3DL6WT',\n 'R2O7XGDG9YOR9D',\n 'R2JA5NDNM5RCON',\n 'R23Q3IU6LLSOWM',\n 'R1C5ORQMLIYFPY',\n 'R1F94O5UMCQKHD',\n 'R22Y8W3596O5M4',\n 'R2OB2BMVVF8OT9',\n 'R2450P4P3UGQ2I',\n 'R2AUXHBJ87H9Q7',\n 'R3HI2T1J6VTH5V',\n 'R10O0BM8UCSV0N',\n 'R3AAME93J8EEGD',\n 'RVOIFHWJOCAD4',\n 'R1SGHCC9HVV5WH',\n 'RLY35C4OOACQR',\n 'R20QPF6FOAIPO2',\n 'R2TXJNZG1L41FM',\n 'R3KX5WKLAVXPTO',\n 'R2BTVCG6CN0Z1B',\n 'RLXTLD5VTX858',\n 'R14TWYGC1CXPFO',\n 'R31WST0V9KMLC8',\n 'RUKKS78Y85FC5',\n 'R1ETMOBS28UQPG',\n 'R3ORXLHEDCGNYU',\n 'R1V22J1BVZ8R2E',\n 'R3NGVNM9Y4B86K',\n 'RZA9T8N9ZI64B',\n 'R4AMFZHHMA71',\n 'R5P9EOKH07NUW',\n 'R3SMG080U6OGCF',\n 'RG8NWZRZWBNOF',\n 'R308TTYH9W7308',\n 'R2QKX9EYY5QK7M',\n 'RDC2R9YO70ILG',\n 'R2VMNVE2YQC2HN',\n 'R1MY167R6RTL83',\n 'R1S0V2B5WXBBAC',\n 'RBLHU8O6WZFIK',\n 'R256GKL8SJTXEZ',\n 'R3TA5B3RUSYL0Y',\n 'RPOJDQLCOPJ0A',\n 'R3RW7L5N5DH1ZO',\n 'R32Y8SUV1E64IQ',\n 'RV72RMZJ321HS',\n 'R2EEKWDY9I8ZR9',\n 'R1RO74HREELCXQ',\n 'R2QRIJ89162AT6',\n 'R1LDZE3AVSJZ22',\n 'RKFPUKJ8QFKSL',\n 'R17KHKQFSV78VW',\n 'R2OP3TTW7L0W8R',\n 'R1OCZF7XER9PYC',\n 'R2VWGUODYVIGN3',\n 'R1SDHF1NGLUXIX',\n 'R23GNIQ92TNP53',\n 'R1H5YDMVYO0QPV',\n 'R3J9SBCBDYO6CG',\n 'RIQQXFUOGODJQ',\n 'R28YWM6JB3N480',\n 'R1FS7R9BQ8DDRD',\n 'R2RJJCOP7NN8TI',\n 'RYDGPCH1Z2BRW',\n 'R3QXJG5KF1G3K3',\n 'R2Y43JGY9E1L43',\n 'R198REK4LIXQ1E',\n 'R2P5PKLBE1CNVX',\n 'R38S2F95EZ9C36',\n 'RA90XVD74YYSE',\n 'R29GUDSXPDET8J',\n 'R3FUHKCRHX6VF3',\n 'R3CAJ9GF0W25XV',\n 'R2HOCLO4B1QL7A',\n 'R2KL3QNPQ8M2OU',\n 'R3JM6HK5WWW723',\n 'R212RPJWI0DZ4T',\n 'R1YLJI3BIHCTYD',\n 'R37PP8YD4DIM94',\n 'R26L4851Y6YS34',\n 'R2N4X1MZ44DW3W',\n 'RBGUGF1WFKJHR',\n 'R1B7GOBJ2U2FAW',\n 'R2EZV5M6JFTBS0',\n 'R1NJ4ED43FTHV5',\n 'R3TRBIZKBFGU4M',\n 'RWCL4YE4CJU3C',\n 'R1R732JX5ROZ8E',\n 'RQAGMOHN0DIOZ',\n 'RQ08F5E0CWSU3',\n 'R1J35G3KUDHKO2',\n 'R2UWMGEYJ6UG50',\n 'R1AKED69R2ZG2N',\n 'RVOFYSMP3IEX1',\n 'R12ISTT4AMDEUP',\n 'R3U2W04EWNC8K9',\n 'RS0D0S0AMLYJ1',\n 'R21YYFH5OI1EVQ',\n 'R2F0NC6T5BVR9',\n 'R2OYTETNVEGRZA',\n 'R2J0V4KPWVH5OZ',\n 'R15W6OLPW3EIZK',\n 'R1PC09563UIEAV',\n 'R23YRXQ4IFN2K9',\n 'R313P74GVMZ8LJ',\n 'R3CG1HC2J6Z3QE',\n 'R5ZH5KQRPXVVI',\n 'R2RJ2THJHNDWQB',\n 'R1BN8DOI663BBD',\n 'R10WOJMSVOOFVD',\n 'R2UUPSQZBV91D4',\n 'R1F097DXLXS1BM',\n 'R3NAYRAUNAAO03',\n 'RGQK8JAHEG9FT',\n 'R2IXHWD95ZFJEB',\n 'R1Q8UBZ6WG5SV6',\n 'R3E5XNKHBFZI5U',\n 'R3PHH4L2H19AZI',\n 'R2FPIBJEJ45CCU',\n 'R10PYJVOV9LT16',\n 'R33H287NMQWRQP',\n 'R1H7AGS07EHBFU',\n 'RJDL99SU5R231',\n 'R1A0NIYJ19ZQ7G',\n 'R6AZTKJ6Q6WSG',\n 'R1WO8DA9D8IPYI',\n 'R2H1YW9OPV5I52',\n 'R2CSXUDIDCZ2H1',\n 'R2G48RYM7TPZOF',\n 'RUCPSZPZLL4EZ',\n 'R2ABB6Z7QDMOQM',\n 'R3AQHHHF87NUIO',\n 'RC4C2S1W3YCYQ',\n 'R3EK8Q0IZRG262',\n 'R2GAQZTCH0NQ4R',\n 'R1Q20N6YG8DOUF',\n 'R2O6DQ1NLHSXSK',\n 'R17V0ZZF18TI7D',\n 'RK8GG3V1P5DDO',\n 'RASCS8UMKRR9Z',\n 'R5EH6K20CRGGQ',\n 'R27GPBY0BI2KC7',\n 'R2C82V6PIDUZFK',\n 'RN55T65W485LS',\n 'R19GRNOTZUANBQ',\n 'R4LYJ9IO42GG8',\n 'R22ZJLFNFWUT8F',\n 'RD45FOJV6AZSJ',\n 'R2D0120Z60ZECJ',\n 'R2NZKHW6ZYLBYS',\n 'R8PC9WSGJ78DO',\n 'R367DLWD17G1JQ',\n 'R10TEM3HBGVQGU',\n 'R9US2UWD7IMED',\n 'R18P6IUH2TAT5K',\n 'R2C36R0DKSKYCJ',\n 'RGA1SL67NUNLY',\n 'R1I208D7RBZHGO',\n 'R36JZ131Z5NKYY',\n 'R1GUSXD4AUHJX8',\n 'RBT1ZJEVHZTSS',\n 'R2PU14HH149SQ5',\n 'R36MMACIKB5GIQ',\n 'R1VTTEINQMCN7S',\n 'R36TYT5EU3XHD3',\n 'R2KJE0EYV5VJBS',\n 'RNNPEOG0PNUTS',\n 'RGUL36MON6S1L',\n 'R2YMGR8WYB3SWP',\n 'R23L0FD6BLTKW0',\n 'RZ4DQSK70IOKM',\n 'R33XL107XKOWXE',\n 'R3TMDI34N19V1J',\n 'R1RWIKO58AB5A1',\n 'R2SA10LMZGMCQC',\n 'R1PPWZ0M55HLYO',\n 'ROM7SSA6NCWL6',\n 'R2CSBJM5KMNAVH',\n 'R6VRA0JMIZ2M9',\n 'R37IQNE8VXD7I9',\n 'R11PAS4PH48X8M',\n 'R2ZIN6HJTJ4SR4',\n 'R3JBK7O0QCMVZU',\n 'R1X3Y9K7KYYID5',\n 'R2K28A4K48FKJK',\n 'R2JZY39HVMVR6X',\n 'R3W4DJ638FH0KD',\n 'R28TGG8HCI5BZD',\n 'R1Q8MEM37K76ZO',\n 'R404WLS6PQHA5',\n 'R1JAN8V13GBF9V',\n 'R2S5P4YIFZ3P4O',\n 'R2QQPM3T8NANW6',\n 'R2BR26VBA48AS0',\n 'RYRHT1V2U7MMB',\n 'R395I5P68VSME6',\n 'R2IX8M69OYV3U1',\n 'R267AE7OE16VCZ',\n 'R3IME3SXYOBB47',\n 'R21ST6KMFIBE8W',\n 'R3VRFXGWONXJU',\n 'RBXKKK9NMPKAL',\n 'R2MH1VKLTEXMPU',\n 'RV0TJ5OHK0Y76',\n 'R3APYO5H36BN5A',\n 'R1BO1QAE44WJN3',\n 'R1X3UHSQR7JKYC',\n 'R378KQ2VKHUPCB',\n 'R3EAO0Y48KTP85',\n 'R2SAU41LVNA2L7',\n 'R2ZASQ9CGNKIS3',\n 'R2RK1WY6837MRU',\n 'RG68HRJ51KHGK',\n 'R3F54VZ7UL1NZU',\n 'R16UR7RL82709S',\n 'R3HPEU1FHHZWT8',\n 'RPFQBIZX2P8AB',\n 'R12MRT8TJR83N0',\n 'R2TRE6LQYCVEYW',\n 'R2UTOS5XJHCL12',\n 'R1ZQ2D5W1QU4CA',\n 'RN3UXZO9FAZ1E',\n 'REX406CXLEZJ9',\n 'R51485OZ63VQ2',\n 'R9X9YKZZNSGWZ',\n 'R2MBEPMYLX3M7F',\n 'R2PZIMF2K9GAIY',\n 'R36QBYQ2T5N5OQ',\n 'R2A6K0U911J54L',\n 'R3T3Q53EP306TS',\n 'R36053Y1S68YOM',\n 'R2CFOUA2G674J3',\n 'R15D07VANQ0UHY',\n 'R22O2ZHUQUEJWJ',\n 'R1SK1DY9VMKNAL',\n 'RAOF7XUV4KMD1',\n 'RONS8MS85I8NG',\n 'R1XV9U17B6JGPB',\n 'RK0LI1ZIEHNZH',\n 'R2BSH8GA12503W',\n 'R1X0MNT2S92FC8',\n 'R55EU9NCO4390',\n 'R74BU2L9BP3J4',\n 'R2WZTS2M330ME0',\n 'R29680CRAOFR9L',\n 'ROLKIUJG29CZV',\n 'R35WKYZAMKYXVL',\n 'R2YQ4AZX9WWRW9',\n 'R48I0U9V7IPPN',\n 'RB0K556VL49PH',\n 'R25SNJ9JYKZOFS',\n 'R2HC1G7RYIAF64',\n 'R3V8K42R0E444L',\n 'R2PFSM60ONU5EC',\n 'R3J5ERV2RUKS3X',\n 'R3FGA94OMPOIH5',\n 'R351R6BJTSGPZW',\n 'R2JHKCKPZS3DT8',\n 'R2G456FRA19NUA',\n 'R5NBHG4GZB8KJ',\n 'RIEHQ2S6VLOD8',\n 'R1MGAEEFHEJLEL',\n 'R1KBWT70ZXUVNV',\n 'R2ZCZKRADQ5OR7',\n 'R3VRQCWFL8UZDY',\n 'R26KFNHCI90I9V',\n 'R3FLCEX08RBSJA',\n 'RYXT7FRQGYCNS',\n 'R8W40Y13SWRZT',\n 'R18FQT7C4UFCBD',\n 'R157AJVMCIRT4L',\n 'R1EC6XM8PPDBD9',\n 'R1LRG91EABTX9O',\n 'R3GV6RPLEI0PWB',\n 'R2UZQWUY78LV3R',\n 'R1V7P4XK7LH8X4',\n 'R2UD25DX6UAF6U',\n 'R3KUVRPQ98DAXA',\n 'RHDKJ7ZG6ADPT',\n 'RZ24TF736VFV8',\n 'RS9BQT6RVI1BY',\n 'R1K4RCI07EI85G',\n 'R1Q5SKEE54T6FH',\n 'R27O1YAJL55LD7',\n 'R159JVK92BBDTJ',\n 'R3P5505RIE9P36',\n 'R1XH2SX0AR9SYO',\n 'R26ELOMJL6MFBS',\n 'RNIN8JUHB3SWE',\n 'R2N1I5X3O0U0ME',\n 'RJ7REXDUQQ903',\n 'RXZNNS6D8X5AT',\n 'R2BJLU2WWRY6TJ',\n 'R2IEPRNON80FEP',\n 'R1HYWP5BPU0EOY',\n 'R2W7OP16NSAUG7',\n 'R3IJ1U6KHG5TU5',\n 'RN6VB7GMYXFQ9',\n 'RFX4GG5UWARRO',\n 'R339ZFXZ9KMGS8',\n 'R1OGCU9KWNRLOG',\n 'R2MYONTXYCSL6H',\n 'R5NKIUW662RMI',\n 'R2JSQ7MK4VDVP4',\n 'RG8XRQMMUMDOE',\n 'R2T9KUKZJAG7YL',\n 'R2CPNWBN3LZQ7J',\n 'R3GIA11598LADA',\n 'RCSJOMYB939EH',\n 'R2N66Q4DPI6M7D',\n 'R7GESDZL6S4AC',\n 'R2X9AABI28LHPV',\n 'R25KIQHGTJHAL7',\n 'R3IGTJDQTNNT82',\n 'R3EX96M53JBYVY',\n 'RC3S295XBM77O',\n 'R1RRX4YIULV1HB',\n 'R9DM5NFG54RFM',\n 'R21Q8EAYA2QBF8',\n 'R2ICM1E7RV78ZT',\n 'RRW9SSF1APTQI',\n 'R2NDNQ46DK81SI',\n 'RN9I8G1F9BYDF',\n 'R1Q1G063LHH6QY',\n 'RNAJ1Q7PBVQSP',\n 'R1CPRNYFF5F0A6',\n 'R21DNAJ9124XYN',\n 'R3VVUTNP6SLRLH',\n 'R8EGKER18EUKG',\n 'R238JVOELQA8SP',\n 'R23KBJG6QEBMEB',\n 'R2P1OHBU6M5YRL',\n 'R355ZW8T3ZV0GX',\n 'RFJ24PVC8IAIS',\n 'R1KDLEIZDJZ4BM',\n 'R2V6MI35KED7GB',\n 'R3OCYN0235BX2S',\n 'R3ANYKUP4ITOV1',\n 'R23J296RKWFN1P',\n 'R3U4THTMJ5LX9S',\n 'R3VGNAHJIL25WT',\n 'REOUWZ5YA3CTC',\n 'R58YEGVEKI4AR',\n 'R2PJM17MK9QA6I',\n 'RJPEVUEZ2A77C',\n 'R1RP2K9819IWL1',\n 'R2OEFGZV5HM7RQ',\n 'RJH5YBPDM7BUM',\n 'R3OO7A6YXY0QDP',\n 'RM4MSGT8VC9P4',\n 'R2AUD57GRM1IY',\n 'R19V1R0U3G4ZWH',\n 'R17SHTZDXVD8KE',\n 'RMT3UEK9R3LEH',\n 'RM7RBMPPZ8ON2',\n 'RYMMG6J679CV1',\n 'R1GF2DMLBOQWSV',\n 'R2EG67DFAX8UAD',\n 'R1WZ2JF8DO6DSB',\n 'R22GCELC2BK9X5',\n 'RGDP6FC1FPWTW',\n 'RBKP9TEP7MDYN',\n 'R3KVM6XXLC90JN',\n 'R1DULXXYP97KK4',\n 'R30YN6OPSRA9QZ',\n 'RA9O6N0SRXVN7',\n 'RGM7UMLX7E9CC',\n 'R3R6PLY37BUPS7',\n 'R2J57AL4W3YYI8',\n 'R1V4SE6IARTRW3',\n 'R2K02UXXRXACPP',\n 'RLLK1SDTCMHDL',\n 'R1UATAJELT0BSC',\n 'RKPKQMQL8ECZC',\n 'R3MIWJUDT1C5X2',\n 'R7KH9RIL6BG1',\n 'R23VY3C4LF3FUU',\n 'R2MFCEXE1JJ616',\n 'R2VP2DO858VBDN',\n 'R9STPSSBMGZ3H',\n 'R2WF2DMTUUYPF9',\n 'R36WGSAQPFZJ1H',\n 'R2LLA326TMPKHU',\n 'R2AWWQUR9MOJ9H',\n 'R3AN1TH9DN0LQX',\n 'R3HVS220ZFS5J5',\n 'R29DERYQPERKGW',\n 'R2C7ZW523YTMK',\n 'R3I3UP1PAR30SA',\n 'R32XJR58B9LD74',\n 'R2QH5QNH1CIBGN',\n 'R2JTGO9QK2B6Q9',\n 'R3LEZUPO9NQ4X1',\n 'R3K47WALU8FP1I',\n 'R3I2LKWBLT0AKE',\n 'R3N37NPYSCL18H',\n 'R2BOLV9X4Q62D9',\n 'R26G3NWVTBHEEL',\n 'R1XULAKLP31QUH',\n 'RDOS3TX6PVU5A',\n 'R2Q4ZTEMYAOE9H',\n 'R2S2KY4CSMXZVI',\n 'R3LMFQS78U62L3',\n 'R2EZCVEPLQCDPB',\n 'R3OUKZAJM8TAH1',\n 'R9VT6GQS9MVS3',\n 'R1DWW26DQOCK0D',\n 'R2K6URXB3X91R5',\n 'R1C0569DOBER0Y',\n 'R3BJUY9J3PFJ60',\n 'R384KHQNQ119GC',\n 'R3LUINV04WFJJ4',\n 'R1I8G538WL4AQJ',\n 'R19WWHFGDSAVQ1',\n 'R15VHXOPX7I9TE',\n 'R2LM4YO3WPDQ7X',\n 'R1GXWMZWEG08DI',\n 'R20LWE6W50WOMQ',\n 'R1D0OS5K1M56S4',\n 'R2O8PCV574GFVD',\n 'R2HDWJCMPWFZR6',\n 'R1CELZC5KMKEMI',\n 'R3028IUHCL8ZVM',\n 'R3NO5PT2EQCUE3',\n 'R3CD9572W88VAI',\n 'R3QLD2ZWDE4GRN',\n 'R2PGVJDNVVBFV3',\n 'R39B501LJEOLCT',\n 'R3MM0BBV6TDF7',\n 'R215GIKUI6361L',\n 'R2JEDNQKSZGGKQ',\n 'R1OCKZRUWFN9LT',\n 'R3727WBJFZWA4U',\n 'R2JHZ87L8ISDEB',\n 'R1V1VZ66DQCH21',\n 'R3F7AYS4D3NSE',\n 'R1T9B65YBHHU68',\n 'RA38G0MUBVHQ5',\n 'R3RCVYN8GS8Q9Q',\n 'R3MZNF1PO3JWVV',\n 'R3CBP5OXM8QGR8',\n 'R1RLG2VNH7WMNV',\n 'RXOYVNCNZYXDV',\n 'R3I3GBP82XSN1Z',\n 'R3OC12DT0MSVT2',\n 'RERDQRNK9WLZH',\n 'R3UZX1AEMJ0EXT',\n 'R35ZE63NOHK1EB',\n 'R1QPX83AS9ZI35',\n 'R23OQU3QDDMRK4',\n 'R1OTUE1I1SLG2F',\n 'R2ASU3GNM6S13S',\n 'R1J0UBG1RAKRC3',\n 'RU2VDJ0LFAMOA',\n 'R3SQUO6MOEGLC5',\n 'RVVYR61F5JHQQ',\n 'R2KEJYX4E7GV01',\n 'RKD9P6EP4JENJ',\n 'R2D9F8D9UL7NOR',\n 'R117URCJC9N8TZ',\n 'R2AIXQESWUT4X2',\n 'R2EGHOV5KQM3AP',\n 'R164YUQES9B3IF',\n 'R1IYH9V4115NJ9',\n 'R371VT6RZ9MVD0',\n 'R3U6R6AKNWZJ3L',\n 'R2P3WJNQPTG7HW',\n 'R3R9AH99ZDVJBR',\n 'R2M0KPKI932BQY',\n 'R30W4XTFQEAOUN',\n 'R3BXUF1LCWLRP0',\n 'RZ3Y2T2DA8HN7',\n 'REZ7ZQKSA5C4A',\n 'R68JKKERQG8I8',\n 'R1N7CIGARM9F97',\n 'R29MZX84NBQSG',\n 'R3BMTKNVT0JOBP',\n 'RHYP0MBOERSPR',\n 'R13XCQEFZURJBT',\n 'R3HBK8NMA7ODW5',\n 'R2YGHYS4RD3DZ5',\n 'R2JP8MD26F3LLL',\n 'R3H3X81MMQJFRN',\n 'R1SATJAXPOTOP4',\n 'R1XL8DXA5JZIVZ',\n 'R10WR4USI5ZI33',\n 'RHTMQK8O6A3FJ',\n 'R29XO5YKSRXR9A',\n 'R3J7KEAB6KF6BG',\n 'R2XGAFNX0GH0M5',\n 'R3KN8ABU6873Q9',\n 'R6KXON9A6GL1K',\n 'R6E81D9TZIEYM',\n 'R1TN238VR19Y7Z',\n 'R1WNQJMFAOF9UK',\n 'R2213E2ECLXB2D',\n 'RLBTBOY55ORRN',\n 'R2F64FU2UIPCLT',\n 'R243BEX1DBNB5O',\n 'R4E9DR5AB1W9F',\n 'R15YEMLTKUYTEA',\n 'R29TNGYOH45TE7',\n 'R2HQOXEZH9DOGQ',\n 'R29WJRBMZ99NEE',\n 'RZCUTTIB51RQ4',\n 'R1QMQRP0GNB10G',\n 'R1Z19YHX818ISA',\n 'R36PVMN6MMW176',\n 'R1D5M8SFEGP384',\n 'R399LVETL8JHFU',\n 'R2M2DJYNGDYKQV',\n 'R2VP8EZ4X23TTC',\n 'R11WRNIKZP55Y6',\n 'RRDSRUFPBQREA',\n 'R1NSZ5OB18XF6V',\n 'RDWEUX0NVVYKO',\n 'R1YVWKTMRQBQRJ',\n 'R2EYLVISZ5O4OY',\n 'R2GK9XYTR9SJ0N',\n 'R2Z5T37Z5T87K6',\n 'R3K2JB944OFCKF',\n 'R5WWSJYD3L9SB',\n 'RVO9FT3TPW8IU',\n 'R235JIXH4QN68H',\n 'R21WPWIAACMAIW',\n 'R3DGTLJXKNN1FT',\n 'R1ARO6PYLWO7MP',\n 'R3TXBMBECX6I37',\n 'R34JP3CY5KDWV0',\n 'R2GYK63IPREEWH',\n 'R1KEOMFL062887',\n 'R3HWJBI8SM8YWE',\n 'R1CXJW7UT2XTYB',\n 'R3DI1LAE4IUO5',\n 'R238YD20UWHVOP',\n 'R1MQ0TQHNWIJM8',\n 'R3E9FPLLR5K35N',\n 'RJ1Q5A16GGU65',\n 'REJ533F7T4TXV',\n 'RTWPZ0WT86OFB',\n 'R13MX6VTI5T293',\n 'R2SZS3VRLE16KU',\n 'RXF829VKE3ZMZ',\n 'R2FJLBKHPIZ8OW',\n 'R2IMPQMNU8FLRY',\n 'R1GVBDB7LI699S',\n 'R23QCONL2JKJ5G',\n 'R3IM2TWUI56G6K',\n 'R18UBCV9IG8UUM',\n 'R1XZPKF78XAWNG',\n 'R2TMBBF1BABT4P',\n 'R1IFODBSWP9XJD',\n 'R3BEJ9NITWG13I',\n 'R21OR18VUB7HJY',\n 'R3PXIKUQJ86TI2',\n 'R1W37IZGOQVOCE',\n 'R1HREG0SPA5XTG',\n 'R6YUYX650OG67',\n 'R12F8EHVJJ7TNN',\n 'R26BYBA9K4PARF',\n 'R20NP3V9R5KS99',\n 'R3PMW7YSF493BP',\n 'R3T4DNWMFF97ZA',\n 'RA2GU5HC3XZU8',\n 'RI2I55KUDANM9',\n 'R3D127PNOQQVQH',\n 'R2SAKLEY0XUVRM',\n 'RQH01A2NK94P4',\n 'R1RX0OCRHXYBJB',\n 'R2GNPDL950FXM4',\n 'R2FEK20PZT29OD',\n 'R1EQ1Q0WMUGHVL',\n 'ROU35FVKWAG7C',\n 'R279W8JQ80QVQU',\n 'R517MDGI59CIO',\n 'RI6LCRD82ESFI',\n 'R1UVGBDAKCLT44',\n 'RK022X8F0UYW8',\n 'R3VG8B5RQ13MYF',\n 'R2XZJ8SFA0AYYO',\n 'R1DF7E9JGXT8M7',\n 'R37HIAW1O5ATM2',\n 'R1JE9X0IT7HBCR',\n 'R2Q943L2V8Y5BR',\n 'R216ZFPYDWO9IC',\n 'R3DSDYLGP7A5XG',\n 'R2UALG1MYN9AZM',\n 'R3SE53A78DOR0Q',\n 'R1R6U0XW4XTCIT',\n 'R1T3HALYIQPKJB',\n 'R1H9PYDIGNML8Y',\n 'R1UXS18UA9W40K',\n 'R1RF9RP1FJ5MS9',\n 'R4O39DQ304EN3',\n 'R3GFDXA6CGWTZO',\n 'RD31JEVBN3TYH',\n 'R4CXSDX5RTX1H',\n 'R45C2G4WHYXFY',\n 'R3URA2A7KYZ292',\n 'R21PYMCPVUNOJD',\n 'R3MEY50YLMXE8O',\n 'R319ON3KH2FX6A',\n 'R11OW31SBHFKHE',\n 'R3B9VNUI7GBUXT',\n 'R15T39XLLTXPJG',\n 'R2X9LU4ERUVEXW',\n 'R1KT2HSNG2Q0SN',\n 'R3R3BTBIVTQK0D',\n 'RT4M2B4ML5W4O',\n 'R120TUV1JM92Z3',\n 'R1JRNZTS9ZJYR8',\n 'RQUV6EB0LED09',\n 'RE72WZ2WWFUPR',\n 'RNANA2FWDGNB9',\n 'R1ROZ62RCQMRXN',\n 'R142QXFZX5A8GR',\n 'R3U1HBL1CZO8C5',\n 'RKWHLRBHEPBOV',\n 'R24OZ4QO3VP37Y',\n 'R35CTRZT63RP6H',\n 'R4TMNKC2RVK1I',\n 'R3OFNQ7XZCR8OH',\n 'R31XIH58DKJ8Q0',\n 'R99709SFYG6GI',\n 'RYY7ZU32RUKT7',\n 'R35TP0RML7DZKS',\n 'R1X3BIHLWWBHHT',\n 'R2QJ6ZQAJ7TTLO',\n 'R2T1WY1ZZXZU65',\n 'RCSTHRJE7D88H',\n 'R1X1HJ4ON3DQMF',\n 'RJGGFMAGN8F0K',\n 'R2KN13HX0L3LX5',\n 'R1TQY6OVB5WB1V',\n 'R1IX9RUIBYYG7W',\n 'R3OVG3DPNDE6MD',\n 'R1RB4Y032U3OSQ',\n 'R1YXFNESNYOVIZ',\n 'R3WTNOQD9RZJ9',\n 'R1HCPAY7DS5JHY',\n 'R25HZP7UX1MN2C',\n 'R3F8BSGRHDU2X0',\n 'R1M91A5NIUQEHU',\n 'R37RF9U4XOPVKA',\n 'R2N9DKJOS9PTLD',\n 'R3JRA2W33GOSES',\n 'R1JX60SK7CEAJK',\n 'R2JOVL9S2B8NST',\n 'R2MGZOLOXZYDKO',\n 'RALLQI04VB2Q9',\n 'R382M3NUWBC4DU',\n 'R2IRRCV8DJFW31',\n 'R36SBGN03DOD16',\n 'RDLJLX166SWAR',\n 'R1P488A7EV0701',\n 'RTVHK72FMCEF4',\n 'RV8X1B8KJ6FZG',\n 'R1OFPWLYFLXPAA',\n 'RRLYVBV242USG',\n 'R3CA126H58ENQ0',\n 'R3OX65PFQ4HOLL',\n 'RB36QYYAFZFE',\n 'R1324UBYVR652W',\n 'R35TG9UXL42KG0',\n 'R3JSDKZ44JMUU2',\n 'R32U5XQLBDZM7Y',\n 'R2NMVN6M076L26',\n 'R33H356V22ENOH',\n 'RU0TYOXMTSRQ4',\n 'R1J5SUYHUDY7Y7',\n 'RME1DQTB82TK6',\n 'R23ATNKQOU1BC0',\n 'R4CHVZ9NUTM1F',\n 'R1MSF5J0BLX5JB',\n 'RMRYETW203ETC',\n 'R28MOGF7PD8G0G',\n 'R13BZCGO730KRC',\n 'R12MTOXFHQXF4F',\n 'RZTV6ODSX2U0A',\n 'R3M6HAGQXUH4XJ',\n 'R3AI76BIT3DE8H',\n 'R34NPKGEZSQ29Q',\n 'R1HRLUQNUDQF8Z',\n 'R1G2E7MBWBHG2D',\n 'R1CUWPILRN4CZ3',\n 'R2Z336WM9LR6V3',\n 'R39DFF8DJP03ST',\n 'R3SHA3DHG2TC79',\n 'R3K7E4WUO5N228',\n 'R1S9F7BW5V7CDU',\n 'R3PEZY5AXQWXHL',\n 'R2K07GNSAJGB2T',\n 'R3731JO01CJ6QH',\n 'R319W80UHCKGAU',\n 'R12B6PEB5IKC25',\n 'R18E9314FKCKRP',\n 'R24W5YJN7DYWP5',\n 'R295MM27FL735O',\n 'R3FYH2A4AHN7SA',\n 'RFI8KA0SF7ZQ4',\n 'R1YIFUEB1ODN9',\n 'RPEB4VMCOGKXS',\n 'RJ24RFFGP88HJ',\n 'R2FK24BDQB98YD',\n 'R1YKS9FRICL8L2',\n 'R13I5XS5V1P5OJ',\n 'R2A7D0TTJ83IJ1',\n 'R2PA1YKEBCQY95',\n 'R1VG4MT1VPY055',\n 'R3EVBAMDXLBR15',\n 'R3ILAEIO9E940V',\n 'R3IUV79EY4R7X3',\n 'RNBNVJ3BSI9JR',\n 'R246JXRD8RUR0S',\n 'RIMV0C9EQ1NZ6',\n 'RCCZ318KXPCSY',\n 'R1GPDHDV9UY89M',\n 'R2BCCB7M3JAN4J',\n 'R1QQ3GOO2KXIOB',\n 'R28MBJMHQYCVY4',\n 'R39Q4C8QVDAB6L',\n 'RJKI4ZFFZYSBV',\n 'R32Q9RZMU279XB',\n 'R1HN7JO27QI4PS',\n 'RAQLU58P78OCB',\n 'REXJ5S3NTJRZK',\n 'R140DR2BVM6YG',\n 'R3B8VOKH4180FX',\n 'R311LHJWAQ9LAS',\n 'R2DXTXPJNPQKTX',\n 'R2CUIIIU1QZP1Q',\n 'R1BYT3A4QRY7VU',\n 'R20UKJUF7YT0LE',\n 'R2VP847ZQB7N7R',\n 'RCZX6ZV2EAEQP',\n 'R25BHMLRWFWPN1',\n 'R2K7I7OPDNKUIN',\n 'R1FFDCWL4VN9BG',\n 'RZC8D8VQ9KLUC',\n 'RJUSXQ0BHG3BL',\n 'R366OXDVMQVQCD',\n 'R3SMG2L0D33OPA',\n 'RVZKT9SCUH1JG',\n 'R1ZHY4BGPLG14N',\n 'R37KTVSMQ8CARN',\n 'R39MB2IDSPLAZN',\n 'R1L8I7X2ROTEH',\n 'R1N4VP50LU0GDU',\n 'R1JE7AU6Z217JP',\n 'R3STO8NR2P17CI',\n 'R121A5AS6OPBOQ',\n 'R2VZSF9YGHZ2OQ',\n 'R1T6KLAYVCD6R0',\n 'RKE6OVCK5M8YH',\n 'R2H4ZPCDG6J499',\n 'R1UL69LP4N6A1K',\n 'R2CWSYBXTMEVHP',\n 'R33EG3DQO3TX8S',\n 'R1L77M114JX6A5',\n 'R3293HNGSPYHCR',\n 'RFRJECH5EU2D1',\n 'RM2T00UZR0PB0',\n 'R27ZM90DXQKUSQ',\n 'R3MRP5WF2BILZ7',\n 'R12OI0AYPF7187',\n 'RX096CYPG3OQJ',\n 'R3LRFXZ80U18GH',\n 'RERUWPMVB3TXI',\n 'RFJ0SBD7GTQYR',\n 'R151FGCXW6ES5N',\n 'R2L8BKF6AA3G84',\n 'R1IFDHHYPFGT2Y',\n 'R1TXCN7UEM2QPS',\n 'R3H2TCKYMVTT8Z',\n 'REKSC2HM255FW',\n 'R195WA4T8RLVWB',\n 'R3DI9PZGZ0MTHA',\n 'R117VUMTSBZIN4',\n 'R2999U92R5XGAH',\n 'R3350VPPMZBF0N',\n 'R3JZNDXBWF9RFE',\n 'R2UWQIB9U2Y3BE',\n 'R3C2AFWNX97AXL',\n 'R1D2UYV0S5LVWL',\n 'R3O5ETVCZJ8JTO',\n 'R2ZYMG58SMX3ZO',\n 'R1WO0LKQIH40WG',\n 'R1JC26XP2IXJ4D',\n 'R3NIM7QH8ZIV9O',\n 'RIO3V6ZC9T2CU',\n 'R253RRPIT0KH51',\n 'R1SIRPTNEDE7XX',\n 'R8CRTP7Q5K0R0',\n 'R3U41J2G5XQAHA',\n 'RNDZDCSJR9R7P',\n 'R3ND28RC2ON9KC',\n 'R38STZSIIE8MMP',\n 'R3MQWRYXMOWD00',\n 'R10PPJD0DM5LOQ',\n 'R3DFCEE31QSRZ5',\n 'R1O3PN9BADIZ5G',\n 'R1PKNGXMR1NMW5',\n 'R2YSQUNU5KH3DC',\n 'R30CX11CI7UW55',\n 'R1OLYLCXHXMUA2',\n 'R38IGS084D9UTB',\n 'R1ZPCQZWALIFEA',\n 'RVO5ZHAXMGL85',\n 'R27CAAH5EZ5MG4',\n 'R3VJNQ8T5D25FJ',\n 'R782UH565KHS1',\n 'R3DMR2S8LJGRCI',\n 'R1VNKVNYAERWYZ',\n 'RDK1HCYM5ASG6',\n 'R2TFETMMU1RTRF',\n 'R2K8X0OAL0UXMP',\n 'RR744OZ7A3VC7',\n 'R1POKFGPC5Y661',\n 'RGKVDICWCVTFH',\n 'R1OSHSNF6ND5X8',\n 'R3F7PVHCWZ7825',\n 'R23Y5QD2UHLS3',\n 'RIAEP5HX0FT84',\n 'R2G9DQ2NTENZ54',\n 'R31A8P5JS1T8PC',\n 'R25XJ2JMIS603N',\n 'R1UVWY2SFVI4EU',\n 'R1N799NZ4DA5I9',\n 'R1Q7P0GAUFRRBV',\n 'R2UWYI7AP273PB',\n 'RHIAOZ6916A33',\n 'R2ZUS0OJ908AVF',\n 'R3MUP5C22MYDTH',\n 'R3RHTXQ7DYRX0E',\n 'R35MOTG9S31ZKY',\n 'R2ZSR7NOHZL573',\n 'R11LJWHZWK5F50',\n 'RHVJ93TW772P7',\n 'R6F1QK2UYKJTQ',\n 'R1DHEDGURFGH9V',\n 'R339S4WMQWM5K',\n 'R2A5Y3U8BVEHC2',\n 'R2X2UNCYFM5L0H',\n 'R11Z5NIUSE28JV',\n 'R2N136T3NFPK16',\n 'R22ISXSU03FYF1',\n 'RN72AQPZZ3QBC',\n 'RSE15ULRPZNOS',\n 'R1EEJGBP9L0NJ1',\n 'RVBKZ3DX284HT',\n 'R211RQRI4C7P15',\n 'R32F015LWJAZX1',\n 'R3DK416VNENVFQ',\n 'RSFCN1WPLR856',\n 'R1EEP6G7VGCL2E',\n 'RQTB967PGVKS7',\n 'R12QVZIX6ESHX2',\n 'R1Z2FK92Q3Q5ZM',\n 'RPFAGKL0AZXUO',\n 'R16CES0WLBJPOU',\n 'R1R5BSZJOT6O5Z',\n 'R1KBVVIS3ZJCQX',\n 'R2KJEL56FEPQTO',\n 'R17IJBQZ5FFR4O',\n 'R9OETT1L4IS6O',\n 'R207W7C85GB4UQ',\n 'R1P2MCKXOQQYMK',\n 'R31CWEV3XMSD11',\n 'R4HNN2IWTGXMV',\n 'R2J37HCBYJDTPT',\n 'R1Y6KNKGAJFSD2',\n 'R3U1FF7BU6140A',\n 'R33NO50SHTW02L',\n 'R26OQMFJ5NDBSU',\n 'R3RRGF04GT6YM1',\n 'R2RQKJ16F9JBZK',\n 'R31S3ODDGCCHCG',\n 'R1TKNPBMN5LSKG',\n 'R1YWH84AXNNVDV',\n 'RZ2IYU2F8983L',\n 'R17CVMOYTRNHGW',\n 'RITP6PNOOKD35',\n 'RCJB8CG8WGQ8R',\n 'RRMD0Q5526BNH',\n 'R2VJRKJ1WPT5K8',\n 'R2MII30K1PHT3R',\n 'R2A18ZZ6ZS6STD',\n 'RBICKKJFREZ90',\n 'R1YDI0NY4FA82R',\n 'R3B7DHDHTHPQ75',\n 'R23PNSNZXE24OW',\n 'R2YVYC6FWAENYO',\n 'R1AG1BI8ZGU9K9',\n 'R3OQ2Z2E50GVQJ',\n 'R3L7XCJSDTRYO1',\n 'R3CYDMDKIJNHLM',\n 'R1M5LBCD3YK8CW',\n 'R1MJ9E7WCB2CZ7',\n 'R3M1TJOFBOVLPA',\n 'R26Q3WQE60CHQN',\n 'R1T7Y2GGTRECNN',\n 'R3AJ2DNF1ZTR2G',\n 'R2SZC5XXPOETGB',\n 'R1S198I9GLS543',\n 'R2XO0NOYG4CA7H',\n 'R14HPDJJYFL7EH',\n 'R2CG1GI8QYK9KX',\n 'R13QABJYAXQNG2',\n 'R1WTVQ3M0UG1W',\n 'R2E7LZDS9025JW',\n 'R3PJXZC2V4N5ZU',\n 'R34D7S1QCKONTZ',\n 'R13A3AVOL8KAKW',\n 'R3MROWMPC9NVLZ',\n 'R3ISC82Y7D1FJY',\n 'R15SBQAZTL16XS',\n 'R2RDNW30XSJPJT',\n 'R1SQZCZQZLNBEF',\n 'R1RBA6MQR2EEP',\n 'R10W7N0FC27V94',\n 'R3IDKHW8VXMCIC',\n 'R35J3BFOV8NTZ',\n 'R28232JICLVQ6X',\n 'R3EHEL3G9JANEI',\n 'R3N733F0Q4HM05',\n 'R9F2VSGZ1ZT3V',\n 'R16KW3G657YVOC',\n 'RHPFFMNED7QVE',\n 'R1UG774SZ3C6R0',\n 'R26MZUBQAQGZCU',\n 'R3LO0BZXGBEZR8',\n 'R1HKNRLT4P8P76',\n 'R1HPR7JDU966NP',\n 'R367YN06PHF3SL',\n 'R24SPU7L3F0JC6',\n 'R30G3C0K970MSI',\n 'R3K7W555OV1ASM',\n 'R3P4NFDR5M9CBK',\n 'RC026IL4IIP3D',\n 'RPTG1W8LMNOAU',\n 'R1IN1D96TWD2GJ',\n 'R2SS4ORK14MZNB',\n 'R13EXKCV5ZZF03',\n 'R2NIBJUVIPZ7J5',\n 'R15SG165WQ0ZEY',\n 'R17GM1L29R9I4V',\n ...]"
     },
     "execution_count": 4,
     "metadata": {},
     "output_type": "execute_result"
    }
   ]
  },
  {
   "cell_type": "code",
   "metadata": {
    "deepnote_to_be_reexecuted": false,
    "execution_millis": 146,
    "execution_start": 1654070299294,
    "source_hash": "cef7b4fe",
    "tags": [],
    "cell_id": "00058-230c23cd-ca88-463a-abf1-3e3efa1f3cf0",
    "deepnote_cell_type": "code",
    "deepnote_cell_height": 887.953125,
    "deepnote_output_heights": [
     611
    ]
   },
   "source": "# opening the file in read mode\nmy_file = open(\"remove_reviews2.txt\", \"r\")\n  \n# reading the file\ndata_from_txt = my_file.read()\n  \n# replacing end splitting the text \n# when newline ('\\n') is seen.\nremove_reviews2 = data_from_txt.split(\"\\n\")\nmy_file.close()\nremove_reviews2",
   "execution_count": null,
   "outputs": [
    {
     "data": {
      "text/plain": "['R8MEA6IGAHO0B',\n 'R8MEA6IGAHO0B',\n 'R2V3BZMI3YQXX8',\n 'R2J68T8Y2ZWUSP',\n 'R3KMVTYXYDOU1O',\n 'RAM9PGMJX3QHC',\n 'R32V8MSKMMLUN5',\n 'RHD4B4FI8ZOX0',\n 'R2O0LZSPMME6US',\n 'R5F0MONILUKRP',\n 'R3T4FXBLX36ZVL',\n 'R286FBMJM6KBVL',\n 'R3222TQXKRY5SC',\n 'R1MQJWZVLX625B',\n 'R3KD1E9HEX42AL',\n 'R1OOWBOVU8QDZJ',\n 'R12Q4C7XNW665',\n 'R1PTHDWKRTF5DT',\n 'RNN38RFJVIE5G',\n 'R3EFBMPPEHZOZV',\n 'RA6OHYP373VWR',\n 'R1KU1LI5H6WEYP',\n 'RNP0IW2BEJTYF',\n 'R1Y0D9EH8E7AXA',\n 'RUAXZ2T4XBWE0',\n 'RZR8DOQ6AZOGP',\n 'R2H7T7QDBOLJXW',\n 'R1KXHOYWM8CDWY',\n 'R1L7AUETBKS36D',\n 'R37LNCQB511I58',\n 'RQZ5DGUWN3U1A',\n 'RDM2R57IACDV8',\n 'R2FA42Y6WH9T7X',\n 'RMW17CI6V8FQS',\n 'R1PXJJ1V25YK0F',\n 'R30Q1TM5KNBGYJ',\n 'R3GUFVMUDMMVSP',\n 'R1UXNK73S0RE7D',\n 'R1VVDY2OPRXUFO',\n 'R10QSCIA3H9VUB',\n 'R3C7OODQINRA8M',\n 'R8J978HOHN8OI',\n 'R140KV2YTBW809',\n 'R2T628MWOORD5L',\n 'RNAFMG7E8AV98',\n 'R22C1N6ZTRCH9X',\n 'R3AXWUF0IRZGWA',\n 'R3L1RQZC3MVSNT',\n 'R3ISGPEW3GWCVT',\n 'R3LD5J71OUGAUV',\n 'R3IB0T9HT1U7TT',\n 'R2SU3LIZTQC9OB',\n 'R2H0G6P50Y109L',\n 'R2SI18DGI79KO',\n 'R1VEGAA8V11R7T',\n 'RIFLXGMTWCAFY',\n 'R3IKNGEAWKUG42',\n 'R9FE33GCTBKS7',\n 'R35KWA1R1N0I9',\n 'R2DEJ3YRG1NSVV',\n 'R13O4UWV9CX2OF',\n 'R2OSY4OKR6FEG5',\n 'R3H3Q9C71TJ245',\n 'R22GUFMSXKR8QB',\n 'R309CG6X5YVGRC',\n 'RQJISYEXZ6OHY',\n 'R2MP3DVMEZVDXA',\n 'RYV0E9CUARKQO',\n 'R3U668T3TDBR0',\n 'R1ZCMRE0LNBW48',\n 'R2DPCF02NONCP0',\n 'R1GHVQJXP6SIJU',\n 'RLP39CVUG7LC5',\n 'R3TV3ZQIHQUWWE',\n 'R2BFEQRH94CYYC',\n 'R9H7RM5Y3312Q',\n 'R3T6BP9SXKZA4H',\n 'R3SLB91L6HIMNO',\n 'R3645FDRSVI686',\n 'R2XX3TY6JTRM3X',\n 'R2CAESEQG63JI1',\n 'R3KU91065W0MEB',\n 'RYAQ8YK6M374L',\n 'R2OEC48EY680S2',\n 'R3DJPGUTJDNOVY',\n 'R2W5YZQG2KTNSO',\n 'R3MGZ75QFPTB0S',\n 'R1MQJWZVLX625B',\n 'R3KD1E9HEX42AL',\n 'R1OOWBOVU8QDZJ',\n 'R12Q4C7XNW665',\n 'R1PTHDWKRTF5DT',\n 'REETTS40B29IF',\n 'R30MKRUWLRMT7Z',\n 'RNN38RFJVIE5G',\n 'R2US0P7MU1S4T0',\n 'R3EFBMPPEHZOZV',\n 'RA6OHYP373VWR',\n 'R1KU1LI5H6WEYP',\n 'R10JXFXKBOR2K9',\n 'RUFSYWR4JEM9X',\n 'RNP0IW2BEJTYF',\n 'R1Y0D9EH8E7AXA',\n 'R3LGEZDESESTXZ',\n 'RUAXZ2T4XBWE0',\n 'RZR8DOQ6AZOGP',\n 'R2H7T7QDBOLJXW',\n 'R3CU67FFUPCHZE',\n 'R1KXHOYWM8CDWY',\n 'R1SWZ6MX0GYYBE',\n 'R1L7AUETBKS36D',\n 'R37LNCQB511I58',\n 'RQZ5DGUWN3U1A',\n 'RDM2R57IACDV8',\n 'R2FA42Y6WH9T7X',\n 'RMW17CI6V8FQS',\n 'R1PXJJ1V25YK0F',\n 'R30Q1TM5KNBGYJ',\n 'R2KW2DFY5P0P3A',\n 'R3GUFVMUDMMVSP',\n 'R1UXNK73S0RE7D',\n 'R3KSV96VGXZ5BC',\n 'R2F22IN30ZCUCH',\n 'R11IMOE7DB7MOF',\n 'R1VVDY2OPRXUFO',\n 'R10QSCIA3H9VUB',\n 'R2I0B00DQRJMYW',\n 'R13O4UWV9CX2OF',\n 'R3C7OODQINRA8M',\n 'R2XTNZE0JPE1Q4',\n 'R8J978HOHN8OI',\n 'RBRV9W7I9YNUX',\n 'R140KV2YTBW809',\n 'R22GUFMSXKR8QB',\n 'R2NCE0RP7HYTJT',\n 'R1AEL8XMKRT511',\n 'R7L22LEG2BUVA',\n 'R3U668T3TDBR0',\n 'RYV0E9CUARKQO',\n 'R1ZCMRE0LNBW48',\n 'R3PDEEDY5UNSZV',\n 'R2DPCF02NONCP0',\n 'R1GHVQJXP6SIJU',\n 'R1AEWMPKRHO009',\n 'R2KC8M0ZHOEC09',\n 'R1RNP94U4ZBQ5A',\n 'RDJQ9RE010GL8',\n 'RLP39CVUG7LC5',\n 'R3TV3ZQIHQUWWE',\n 'R12EPOI9OGT824',\n 'R2BFEQRH94CYYC',\n 'R9H7RM5Y3312Q',\n 'R3O3028KP1P51R',\n 'R1E9L0CEM8EDX3',\n 'R3HYXJ6YHXDUEP',\n 'R3T6BP9SXKZA4H',\n 'R3SLB91L6HIMNO',\n 'R1XVKQNCX89IH3',\n 'R1F4XLVFMCG4N6',\n 'R2X5H4YGLQ608B',\n 'R17ACCE4CQJ05',\n 'R3645FDRSVI686',\n 'R3ED5ONGT0UZGF',\n 'R2XX3TY6JTRM3X',\n 'R3QM702AN4C6H6',\n 'R1Z660NATT8Q0I',\n 'R1OOWBOVU8QDZJ',\n 'R3KD1E9HEX42AL',\n 'R2XKSGAW5T4UZI',\n 'R12Q4C7XNW665',\n 'R1PTHDWKRTF5DT',\n 'R3A99XDTB3S67I',\n 'RNN38RFJVIE5G',\n 'R3EFBMPPEHZOZV',\n 'RA6OHYP373VWR',\n 'R1KU1LI5H6WEYP',\n 'RNP0IW2BEJTYF',\n 'R1Y0D9EH8E7AXA',\n 'R1L6L41DHPYILX',\n 'RUAXZ2T4XBWE0',\n 'RZR8DOQ6AZOGP',\n 'R2H7T7QDBOLJXW',\n 'R1KXHOYWM8CDWY',\n 'R1L7AUETBKS36D',\n 'R37LNCQB511I58',\n 'RQZ5DGUWN3U1A',\n 'RDM2R57IACDV8',\n 'R2FA42Y6WH9T7X',\n 'RMW17CI6V8FQS',\n 'R1PXJJ1V25YK0F',\n 'R30Q1TM5KNBGYJ',\n 'R3GUFVMUDMMVSP',\n 'R1UXNK73S0RE7D',\n 'RWNDOOU365L94',\n 'R3KSU35G0H2O2E',\n 'R1VVDY2OPRXUFO',\n 'R10QSCIA3H9VUB',\n 'R216TXLQ5O9CTH',\n 'R3C7OODQINRA8M',\n 'R8J978HOHN8OI',\n 'R140KV2YTBW809',\n 'R3LD5J71OUGAUV',\n 'R3ISGPEW3GWCVT',\n 'R3IB0T9HT1U7TT',\n 'R2SU3LIZTQC9OB',\n 'R2H0G6P50Y109L',\n 'R2SI18DGI79KO',\n 'R1VEGAA8V11R7T',\n 'RIFLXGMTWCAFY',\n 'R3IKNGEAWKUG42',\n 'R9FE33GCTBKS7',\n 'R35KWA1R1N0I9',\n 'R2DEJ3YRG1NSVV',\n 'R13O4UWV9CX2OF',\n 'R2OSY4OKR6FEG5',\n 'R3H3Q9C71TJ245',\n 'R22GUFMSXKR8QB',\n 'R2R9H5SFFZ9H6D',\n 'R2FCJ99ULRAHLX',\n 'R37L5U3773P9TL',\n 'R3L3C81PIPFK1G',\n 'RNN38RFJVIE5G',\n 'R30MKRUWLRMT7Z',\n 'R3EFBMPPEHZOZV',\n 'RA6OHYP373VWR',\n 'RGC5CRZWYWD8X',\n 'RNP0IW2BEJTYF',\n 'R1Y0D9EH8E7AXA',\n 'R1L6L41DHPYILX',\n 'RZR8DOQ6AZOGP',\n 'R2H7T7QDBOLJXW',\n 'R1KXHOYWM8CDWY',\n 'RQZ5DGUWN3U1A',\n 'RDM2R57IACDV8',\n 'R2FA42Y6WH9T7X',\n 'R3DWK9YAOK7O6A',\n 'RMW17CI6V8FQS',\n 'R1PXJJ1V25YK0F',\n 'R30Q1TM5KNBGYJ',\n 'R1UXNK73S0RE7D',\n 'R1VVDY2OPRXUFO',\n 'R10QSCIA3H9VUB',\n 'R3C7OODQINRA8M',\n 'R140KV2YTBW809',\n 'R2NCE0RP7HYTJT',\n 'R34C2S3GJBJDGG',\n 'R1I0DHJ0CRDA8W',\n 'R2URVOL4YQ1PCV',\n 'R1PMDBR8R2XY60',\n 'R16NN4MG954D7X',\n 'R677V1YQ2R3R0',\n 'R2CRYYNC7YED3A',\n 'R2E1OAVJYUE28V',\n 'R2URVOL4YQ1PCV',\n 'R34C2S3GJBJDGG',\n 'R1PMDBR8R2XY60',\n 'R16NN4MG954D7X',\n 'R677V1YQ2R3R0',\n 'R2CRYYNC7YED3A',\n 'R2E1OAVJYUE28V',\n 'R3R4DFAVIKNB9B',\n 'RZIZI6MXHT08E',\n 'RDRWJAOF475O9',\n 'R3UBKJT7PR32G',\n 'R12N9I3OIAYXQQ',\n 'R3IEEYRFCVFNHB',\n 'R3FRVMHM0KY77B',\n 'R10JXFXKBOR2K9',\n 'RDJQ9RE010GL8',\n 'RUFSYWR4JEM9X',\n 'R3LGEZDESESTXZ',\n 'R3O3028KP1P51R',\n 'R1SWZ6MX0GYYBE',\n 'R3HYXJ6YHXDUEP',\n 'R1XVKQNCX89IH3',\n 'RN8XGYNF6PY84',\n 'R1F4XLVFMCG4N6',\n 'R2X5H4YGLQ608B',\n 'R17ACCE4CQJ05',\n 'R2KW2DFY5P0P3A',\n 'R3ED5ONGT0UZGF',\n 'R3KSV96VGXZ5BC',\n 'R11IMOE7DB7MOF',\n 'R2I0B00DQRJMYW',\n 'RBRV9W7I9YNUX',\n 'R3QM702AN4C6H6',\n 'R3R7ZFNGQGKAEI',\n 'R3OZ640ZLSU2GH',\n 'R2XC72Z1MC8ULS',\n 'R197S4GN8UZNHT',\n 'R2HXDQ10CW6QJW',\n 'RNH5NUO4LKH2R',\n 'R2KAMZU9S2V18G',\n 'R9H7RM5Y3312Q',\n 'R2BFEQRH94CYYC',\n 'R3T6BP9SXKZA4H',\n 'R3SLB91L6HIMNO',\n 'R3645FDRSVI686',\n 'R2XX3TY6JTRM3X',\n 'R1Y0D9EH8E7AXA',\n 'RNP0IW2BEJTYF',\n 'R3LGEZDESESTXZ',\n 'R3LGEZDESESTXZ',\n 'R1Y0D9EH8E7AXA',\n 'R1Z660NATT8Q0I',\n 'R1E9L0CEM8EDX3',\n 'R254HGUYZQPDWT',\n 'R3CC80M8AB3TMG',\n 'R3FUHKCRHX6VF3',\n 'RG8NWZRZWBNOF',\n 'RDM2R57IACDV8',\n 'RQZ5DGUWN3U1A',\n 'R2FA42Y6WH9T7X',\n 'RMW17CI6V8FQS',\n 'R1PXJJ1V25YK0F',\n 'R30Q1TM5KNBGYJ',\n 'R2KW2DFY5P0P3A',\n 'R3GUFVMUDMMVSP',\n 'R1UXNK73S0RE7D',\n 'R20FLFR451WNTA',\n 'R3KSV96VGXZ5BC',\n 'R2F22IN30ZCUCH',\n 'R11IMOE7DB7MOF',\n 'R1VVDY2OPRXUFO',\n 'R10QSCIA3H9VUB',\n 'R254HGUYZQPDWT',\n 'R2I0B00DQRJMYW',\n 'R13O4UWV9CX2OF',\n 'R3C7OODQINRA8M',\n 'R2XTNZE0JPE1Q4',\n 'R8J978HOHN8OI',\n 'RBRV9W7I9YNUX',\n 'R140KV2YTBW809',\n 'R22GUFMSXKR8QB',\n 'R2NCE0RP7HYTJT',\n 'R4GNUK4WTNOC8',\n 'RE3FEKSBKFV1Z',\n 'R3DJPGUTJDNOVY',\n 'R2OEC48EY680S2',\n 'R15ERWEPSCM30G',\n 'R31LE2WPO28K59',\n 'R3645FDRSVI686',\n 'R2DEJ3YRG1NSVV',\n 'R13O4UWV9CX2OF',\n 'R2OSY4OKR6FEG5',\n 'R2XX3TY6JTRM3X',\n 'R3H3Q9C71TJ245',\n 'R22GUFMSXKR8QB',\n 'R1F4XLVFMCG4N6',\n 'RN8XGYNF6PY84',\n 'R2X5H4YGLQ608B',\n 'R17ACCE4CQJ05',\n 'R3ED5ONGT0UZGF',\n 'R2U6LX2BY3HDAE',\n 'R11F2LWDXF1TKS',\n 'R3QM702AN4C6H6',\n 'R1B7GOBJ2U2FAW',\n 'R3FUHKCRHX6VF3',\n 'R2GAQZTCH0NQ4R',\n 'R3ED5ONGT0UZGF',\n 'R3645FDRSVI686',\n 'R3EK8Q0IZRG262',\n 'RWCL4YE4CJU3C',\n 'R1VVDY2OPRXUFO',\n 'R2F22IN30ZCUCH',\n 'R10QSCIA3H9VUB',\n 'R3C7OODQINRA8M',\n 'R140KV2YTBW809',\n 'R10QSCIA3H9VUB',\n 'R1VVDY2OPRXUFO',\n 'R254HGUYZQPDWT',\n 'R2I0B00DQRJMYW',\n 'R13O4UWV9CX2OF',\n 'R366M0TLG6GINT',\n 'R3C7OODQINRA8M',\n 'R2XTNZE0JPE1Q4',\n 'R8J978HOHN8OI',\n 'RBRV9W7I9YNUX',\n 'R140KV2YTBW809',\n 'R22GUFMSXKR8QB',\n 'R2NCE0RP7HYTJT',\n 'R20VU97OOKPNXL',\n 'R37HN5NJAVV0B2',\n 'R1X2QCA7OU19YD',\n 'R32V8MSKMMLUN5',\n 'RAM9PGMJX3QHC',\n 'R8J978HOHN8OI',\n 'R3DV9D8TUPW6QN',\n 'RTKGLTG8VS17K',\n 'R2VZDS9QAWIBQS',\n 'RJQJBY3R7OCCR',\n 'RBOVRTGUC8B0K',\n 'R317L39S1Y16U',\n 'R3H3Q9C71TJ245',\n 'R2OSY4OKR6FEG5',\n 'R22GUFMSXKR8QB',\n 'R140KV2YTBW809',\n 'R2XTNZE0JPE1Q4',\n 'R17BYVND6OROJ5',\n 'R2EPU0ZFQZUHMG',\n 'RSZY5EK2532T6',\n 'R2LHIFBBRSR2BF',\n 'RZ4KUNO4533LS',\n 'R2V40544IXFZJR',\n 'R1O3QILWG8A1CM',\n 'R2YLJM82IDHJO5',\n 'R1E1ASO1KPBFBA',\n 'R3Q3GS4VNYLPWI',\n 'R2WS8GPYR60Q8H',\n 'RYJ6ZGRURF1P2',\n 'R7RZBWRFUIZNR',\n 'R1658IQJRB7EV7',\n 'R2NEXMLVKJ7MEX',\n 'R1H3F79VRX78DE',\n 'RN8X4W8GREJIB',\n 'R1K6H53XL0961W',\n 'R2O7AAE95MES1L',\n 'R9TJJULHKT6KE',\n 'R1ZWHG6BREG4TI',\n 'R3ITAYI48AKE36',\n 'R3OLEQKYY7MMIL',\n 'RX96CW8MD1GOE',\n 'R2RHG2T5A8SY33',\n 'R3VV70CUJEPVF9',\n 'R1VRY6LTMHUKJM',\n 'R3Q1X93V6YAE6P',\n 'R33Q7O0B7XT4BP',\n 'R17BC43JP6H1C2',\n 'R18JEFSZ08AUSG',\n 'R1ZSTWCNNWDA01',\n 'R23OBUKEVRAE0O',\n 'R342J7RFS1TTDQ',\n 'R3RBB09HIVJSMG',\n 'R3SYQRLPA6ZKWB',\n 'R1Q09QEXHAT839',\n 'R15L4ZP6C4OIRF',\n 'R3JQQ0ISENE0TU',\n 'R1I6PMCKLQ7T05',\n 'R2544KLMAS8TON',\n 'R39JSNG56CF1BJ',\n 'R3PYYAXYVZYYLM',\n 'R1INZFNM426ET8',\n 'RSJQXFXMZ7I3B',\n 'RFV5AGC80ISNK',\n 'R3JZ8ESNB3BLS0',\n 'R1HNZCQK2RRHCQ',\n 'R380EMA90KZ7NN',\n 'R1X64BJVC552KY',\n 'R3I8WPGEEO087D',\n 'R1FOKL6G4HHKK0',\n 'R1RTLJPOEO33IK',\n 'R15S20AN3U7DPM',\n 'R13STUU20EUPKK',\n 'R35N132NOHSMCS',\n 'R39XKK7OPNM9C9',\n 'RAJMWQOXY8V1V',\n 'R3V55TD4G7F243',\n 'R21F4HI2047C4B',\n 'R1VVOMQYK9GAW1',\n 'R3E6VY6IMX9BXT',\n 'R3NNWM1OY00J6Q',\n 'R3OIXMFR5QS0EC',\n 'R2WLFHYHEN83SI',\n 'R2ZUZJXU3K76N8',\n 'R35YY6AYVK9ZUI',\n 'R2108L6FVY6P4L',\n 'R397XCGREULJU0',\n 'R3DOYBYEFJY0H7',\n 'R317F1BHD4KWX2',\n 'RFLPVSEG9SL8M',\n 'RVHXGZJJAM637',\n 'R28K11YJCLH22A',\n 'R1XBRKV9MYP8ZW',\n 'RP208K0XIKG17',\n 'R2G24L10L9UJA3',\n 'R2QTC8P8C4DA60',\n 'RNDK8IX1CEFM3',\n 'R26W3NUQPXUD63',\n 'RDIRURJIEO9H6',\n 'R1IQQJK62K41WS',\n 'R2J8QPBWO7RPLI',\n 'R33JDOH2VOHWEQ',\n 'R3MUXMCRVEGETH',\n 'R274Z8A1BNX1IZ',\n 'RKRY071G7LFFD',\n 'R1TJN3XJ1UTZJ4',\n 'R1MFT4IDBPPLZ2',\n 'R1O8TTH2SNXSOF',\n 'R2ID261LCI5XYW',\n 'RU3Y6GKWOAMAB',\n 'R3QQOLRX2EZWER',\n 'RZQAWDZ8V0RM9',\n 'R2U65I24LEM5XV',\n 'R17NAZA120U77F',\n 'R1EL1U7SDKO7ZB',\n 'R1E34H3E32BXPN',\n 'R1ZFL10ZRI9GF6',\n 'R41F9YBGCAES9',\n 'RW5R5U981902D',\n 'R2VFMGGE7OSUY4',\n 'R3RIMOQ7OGJS65',\n 'R2JKJRQ9IYHDEC',\n 'R3FDKKPQLXQ2PF',\n 'R377OFFIEV0VEK',\n 'R17QFJMP8PG2OO',\n 'RWSGS6O7X7NY5',\n 'R3PYYAXYVZYYLM',\n 'R39JSNG56CF1BJ',\n 'R1INZFNM426ET8',\n 'RSJQXFXMZ7I3B',\n 'R1MYNBJ0B6A33K',\n 'RFV5AGC80ISNK',\n 'R3JZ8ESNB3BLS0',\n 'R1HNZCQK2RRHCQ',\n 'R380EMA90KZ7NN',\n 'R1X64BJVC552KY',\n 'R3I8WPGEEO087D',\n 'RU1K8RUQZJN0X',\n 'R1FOKL6G4HHKK0',\n 'R1RTLJPOEO33IK',\n 'R15S20AN3U7DPM',\n 'R13STUU20EUPKK',\n 'R35N132NOHSMCS',\n 'R39XKK7OPNM9C9',\n 'RAJMWQOXY8V1V',\n 'R3V55TD4G7F243',\n 'R21F4HI2047C4B',\n 'R1VVOMQYK9GAW1',\n 'R3E6VY6IMX9BXT',\n 'R3NNWM1OY00J6Q',\n 'R3OIXMFR5QS0EC',\n 'R2ZUZJXU3K76N8',\n 'R28J0DXJJMHJ94',\n 'RUXC4UF0W1IP7',\n 'R35YY6AYVK9ZUI',\n 'R2108L6FVY6P4L',\n 'R269IPYQ1VJJO6',\n 'R1VG3EKHUTEHRW',\n 'R397XCGREULJU0',\n 'R3J41FTBSLGXXG',\n 'RYNLRE1JSCKYA',\n 'R220R7X93F468R',\n 'R317F1BHD4KWX2',\n 'RFLPVSEG9SL8M',\n 'R28K11YJCLH22A',\n 'R1XBRKV9MYP8ZW',\n 'RP208K0XIKG17',\n 'R2G24L10L9UJA3',\n 'RFUCBVJFRF7GJ',\n 'R1RV870562XJQ8',\n 'R2QTC8P8C4DA60',\n 'RNDK8IX1CEFM3',\n 'R24K1D1APZGQW0',\n 'R1SD8ISLPAIH30',\n 'R26W3NUQPXUD63',\n 'R32IJ46D0TIWN6',\n 'RDIRURJIEO9H6',\n 'R3MKG6RFV26S6V',\n 'R1IQQJK62K41WS',\n 'R2J8QPBWO7RPLI',\n 'R33JDOH2VOHWEQ',\n 'R1CBTJ0G9GISEI',\n 'R3MUXMCRVEGETH',\n 'R274Z8A1BNX1IZ',\n 'RKRY071G7LFFD',\n 'R1TJN3XJ1UTZJ4',\n 'R1MFT4IDBPPLZ2',\n 'R1O8TTH2SNXSOF',\n 'R3CHAHFF0Y9APM',\n 'R2YP6W7W2J521W',\n 'R3J7KEAB6KF6BG',\n 'RSPXX9CVKM3NR',\n 'RXOBAKICSHQ6J',\n 'R3OZ52HQHJFEEA',\n 'R1TTS72Z2GW8CW',\n 'R62AKG4X7PGFK',\n 'R2KKJLN6SADLDW',\n 'R13WNIPJHHC6D9',\n 'R2R7GRR7GI9NEB',\n 'R2Q782AGN3VAH8',\n 'R22ZQ14GV1MRJ5',\n 'R1H4GMLVBZRVX6',\n 'R3KJ4MLARLB8YI',\n 'RKHQNP6XHUAEX',\n 'R282NHBTC19OIA',\n 'R3A4GKDTEQ2R7J',\n 'R100SPJKAQ6TI4',\n 'R2TTLN4BG76H6V',\n 'R220CR3DPSCIP',\n 'R2GM7BJ7INJPVK',\n 'R1E93TYG95JL19',\n 'R2Y13OG5FQZBB7',\n 'R3F50XMLNX48ZX',\n 'RVQQJZFMWFXC7',\n 'RRFZI28J8HGDO',\n 'R2KLEG5RUCWJ24',\n 'R1UD0Q39X8X36N',\n 'R2OXGKR6DS4RLI',\n 'R1ZOLH1DGM62L5',\n 'R2TID4JJCEDWVA',\n 'R3HMN3PFWMRJF5',\n 'R218D7BOTDO6UD',\n 'R77ASJUEM5CD',\n 'R2C6K2EPJTH7AS',\n 'RFJR8H9C7K26V',\n 'R2HPYYUAZLLVNI',\n 'R1YDYO9MTFQLK',\n 'R1SAHJD3R3H9K',\n 'RN6VB7GMYXFQ9',\n 'RRAHQZ2OMZ1Y0',\n 'R1JBP4W782FCLL',\n 'R29WDX0OA6EQC6',\n 'R2IK1LEQ215GI4',\n 'R20XP3Z41UA81I',\n 'R3I48PU7T158XX',\n 'R2YEDOP0C739RI',\n 'RPZ6G8W6ZI7T2',\n 'R3W3CIOJ3RKS12',\n 'R1UWBAJR1CDPR3',\n 'R1MU78OTBES2B9',\n 'R39MRZ1Q7PRPJW',\n 'R3TKMYBVQMZDMV',\n 'RS52FAG7R6J8Y',\n 'R2RWLXTENXCJ0',\n 'R1Q4BE4GTZ5XAU',\n 'R1D3KIOQDNUYDK',\n 'R4ZA0Z6CA5PCT',\n 'R2HVAY1HQC00PE',\n 'R6FHRJMJ9A1E4',\n 'R1UHPIZ3TV1KF6',\n 'R13NGY9UDC1202',\n 'R3M0JJNR34Z15T',\n 'R20FI07P3TWRWY',\n 'R7BBOYE6XBC14',\n 'R1SEB2G9OWT6OR',\n 'RW0VP44H2U27V',\n 'R1CDG4GNTOKNSM',\n 'RD14J7PQLV2T',\n 'RGH01F1K99CJN',\n 'RUDVXNNQFC6LU',\n 'R2C86WJLLYR53H',\n 'R3PK9VWRXU9HPU',\n 'RB710B288R0A1',\n 'R19YUZXBAKORZV',\n 'R28BSOV9OEE75W',\n 'R2LZY0R89D0LHR',\n 'R1SXCG5G4QD8YA',\n 'R3B91EK1GAT3B6',\n 'R3UMP7R93XJONI',\n 'RR2DWWNPAU1XL',\n 'R2ZV67ZPGXRB08',\n 'R11D0BPJWQX0CO',\n 'R3NQG520MIBX2F',\n 'R2S204VP1N1QZA',\n 'R3LBFECT0Z0W2V',\n 'R2E43FU0VBGJ1F',\n 'RMZYL7KRT6LV5',\n 'R2RAB1GCKQIKPM',\n 'R1UO5XSSMU54DN',\n 'R1FLGRMLQGWBTD',\n 'R3VJZQGK8VV7JJ',\n 'RS3WNPNGUZQMR',\n 'R1GKAQ35KHAM6A',\n 'RO50JI09W9OP2',\n 'R2BY6RZP6SWR7C',\n 'R33JIGQ56YWXCL',\n 'R1VYEGLL1P6FOA',\n 'R31AD6IGEEUQY6',\n 'R8E3J5ZFKZOOH',\n 'R2V00K2DU7K0G4',\n 'R1UP5S395PSIKA',\n 'R1B79V4PU8IYK0',\n 'R2E0HFHFEA148E',\n 'R2LE0K64O49XLF',\n 'R1GGPBRGQWY2D7',\n 'R2M2RP3FAU4WGA',\n 'RMZMWAK4IZXMI',\n 'R2AF1QFG2XRT3Y',\n 'R1C7VRN35FBM7N',\n 'R1ELCQ8D4OYRS6',\n 'R3PMCK85OCT0BX',\n 'R9Q0853KIQLZB',\n 'R1P0F00UCM7HBQ',\n 'R1467K4KRTM0FJ',\n 'R2K35H41FE13OX',\n 'R1ZWRAY0MJAJTE',\n 'RDYDI9WTCNQPE',\n 'R3R9PETQA7RV9B',\n 'R1QL5P78WZZIZO',\n 'R1XJVH2Y92TKH4',\n 'R21BHJ63TWCXX5',\n 'R746TOEVJEUDR',\n 'RPQOBZJK94TKK',\n 'R19M9SYJ9C02S0',\n 'R2NVBX1RDT4TYF',\n 'RLA2HNRAQ6E2C',\n 'RJPR4CEQEEVCU',\n 'R2PZMGEMKP9VG',\n 'R13I4LIBB12KIB',\n 'R17FQYCQVIGA2',\n 'R1KZ7Q1L52DRG4',\n 'R3NIOHHQDMNITL',\n 'ROT42VHKCYY02',\n 'R29VZWEYQ9TU4Q',\n 'R1DZQ1N31EKPIZ',\n 'R2ACCIS92KPA26',\n 'R2KV17DA0EQTKG',\n 'R1WM6E06N10L20',\n 'RV4OI874XAPLX',\n 'R23WBIQG6799JA',\n 'R20Y42DH14NKWG',\n 'R255C088MA069H',\n 'R2I675K6I3FB76',\n 'R1H93W6NC5EAMR',\n 'R3U1TEZITCJSN1',\n 'R1HJ33DXIDWY0N',\n 'RCATW7VKXF833',\n 'RU42ZP0WAB8R9',\n 'R158Q5579W29SP',\n 'R14JH7XQGMK0CP',\n 'R3F5RNR1X8K1JQ',\n 'R3OD9NJHZN7GZH',\n 'RYXL5DV0LHU8K',\n 'R1WJNM9U7Y30C6',\n 'R3OI5NB40H826W',\n 'R1AO6GGASWPGN2',\n 'R1BGU5Q2G5X8Y2',\n 'R3QVV62I44KSEG',\n 'R2GY610JCABC67',\n 'R39V65IFTV7I1F',\n 'R3K82I2ONT7KFD',\n 'R3DVA96NZR0A3P',\n 'R2VL11AVG8Y2PS',\n 'R3QHGHQURA21TT',\n 'R3F58I5XVJXYNT',\n 'RX3REE8YK33X3',\n 'R3OMFE891AHRQZ',\n 'R1RNF1HJGMMCY6',\n 'R2UN9GBL9L5EIC',\n 'R17TLFS5NDG23E',\n 'R2WK8TFBX43XL',\n 'R2ZE0ZSWP6M71R',\n 'R2595MZWOUJ10S',\n 'R2INH6I3B85TYK',\n 'R1BIJ4GG01I012',\n 'R2W6EGNQ0M6DUF',\n 'R1554E5BFOIJM9',\n 'R1DAYZ1XRDBOXE',\n 'R27OLYDMGWMPXF',\n 'R1WM5BOSZS08KI',\n 'R3LZ8MN69C9OKT',\n 'R1EE8FB63UCON5',\n 'R18BITB5WXGQPG',\n 'R2G1P3TO30A8GF',\n 'R3DPIQD15H0W8X',\n 'R2XBHC41DBNXEG',\n 'R2X4EVXMTU2S8I',\n 'R2A4VLYG50LE26',\n 'R2M46U1XE9ABCJ',\n 'R2UYMPGL9X1W5J',\n 'R1EUQVG8VB6K5J',\n 'RN8NX7ZSCFYW1',\n 'R24ENLM8I7RX78',\n 'R29WPYM5L3IFXS',\n 'R3MO6KO2EPKGG5',\n 'R15MK4ISRAQ9YP',\n 'RPKFX013VC5E',\n 'R2YNXGKZG4DVR9',\n 'R3FVKN7FL5OE68',\n 'R3H7B0YRNSHSXK',\n 'R1KUCH38XZ405Y',\n 'RT14YUSYBEH6Y',\n 'RTYHMN0U81TEC',\n 'RD56F8TAEXEFO',\n 'R2ZP21PC4L9WLX',\n 'R35IRJF6F9QRN',\n 'R3LT2SRAIY6Y53',\n 'R12PULXFAQ75JC',\n 'R3W316N90JAIL6',\n 'R1T4JWWC1GALWU',\n 'RD3TO6VQK05UD',\n 'R2NT70C0D0Y4G0',\n 'R1YIOUX2SW12HG',\n 'R1Q5506P5GR4HK',\n 'R2ZJ8HU03CHXEB',\n 'R3RP6TJHC3OFY8',\n 'R3RZRSZXDPR7U7',\n 'R27GRVC47P28TB',\n 'R18JEFSZ08AUSG',\n 'R1KNQLQHBQH980',\n 'RUD9YRLI19AP5',\n 'R3OZV77CC6ISG8',\n 'R26IQ5945DASQ9',\n 'R1ITQQJFRE3YEB',\n 'R2USH6O0AUS2EB',\n 'R3JH7XBMB15LQB',\n 'R1D71DHGY9HH3K',\n 'R2YN2OV9M2UFS8',\n 'R2XTNGJC9028DE',\n 'R2H2Q31TLM0APU',\n 'R2MQTYOZKD0KZ6',\n 'R3FJSLR44FMEDK',\n 'R3FT9OCYEPX97F',\n 'R3NJ2IJP93BNU6',\n 'R2OENWCVOV119W',\n 'R2Q7B6AAOMG0B8',\n 'R20NUIKLKQ19PC',\n 'R2MXPNP5TAWXQ8',\n 'R1DUUQNY1NLRQT',\n 'R2SZ9GQSZ2WMIM',\n 'R2QZ1QNHU33E5N',\n 'R1CHGSWGEU3LBE',\n 'R20DHMWDPZGGR4',\n 'R2RU3M1IXT3W38',\n 'R2L49L6BW9X7HR',\n 'RGCTTBA6IA8MR',\n 'R2VSHPAGDFT6ZF',\n 'R1QWCC66RG5TE7',\n 'R37I1Y662A9EMW',\n 'R1LXGIJU9LFRPY',\n 'R33FM6HKWZ4G5N',\n 'R2ZN4CE1K5MR2G',\n 'R2CVXPTQ8ZNLJD',\n 'RACC1WOXMXIWX',\n 'RMX3L5PNR064F',\n 'R3UDOI1XT423ZU',\n 'R1RDZR9C14L3BL',\n 'RC3567LUJPWW2',\n 'R225O69F7I18ZD',\n 'R144REPJYOLDQ3',\n 'R1V0KR10JZAJNX',\n 'REIIKKX9AUH3E',\n 'RSRUFV9N0LYBN',\n 'R2N8N3JHHPRYFZ',\n 'R3JMI87MJGYBKV',\n 'R110GFWVWW41JV',\n 'R2RSHNMHAAB0G3',\n 'R1P7IYXCVMJUTC',\n 'R131Z0DA7C1BVS',\n 'R31OLYFFY4JCSO',\n 'R2LGFQJI65QYJC',\n 'RUERUT4LDRAWI',\n 'RO1UE1MH8DD43',\n 'RDPCW2G70793X',\n 'R26TBX2D3WCKKF',\n 'R2F937MHSBBL3M',\n 'R2TUQ58F3COZ4E',\n 'R1A02IW40KB35',\n 'R26TXXSA92AGBK',\n 'R1PVV2908W1N0Z',\n 'R12H7YE1RE3UP5',\n 'R26YNZU80I0HAS',\n 'R1TTVCVJIYUA6M',\n 'R7XBQ4E3TBB8N',\n 'R261NA01GXNCR4',\n 'R1AE7JHOAORBEO',\n 'R1PSQYF2IGD8EN',\n 'R37DEFX9R9Z1UR',\n 'RF0VHDOAJAWEV',\n 'R1X3GCQPAYCJ0B',\n 'R38AN5M4SB9UR6',\n 'R8KGNODMKK3NY',\n 'R1M19XR6UD905O',\n 'R2JFPNPN4YM5TF',\n 'R369EEPXQ7HD4P',\n 'RNNAKA8P16V6',\n 'R27G3UT12QL5EP',\n 'RIXBWQA7HRZMD',\n 'R3RHALWG5HX5LF',\n 'R6YAE59C9V4P4',\n 'R2J6ZH7V1DM87O',\n 'R3GNBQCETKHGOA',\n 'R3QA66HVO1VBDN',\n 'R227IGT3SGQTTW',\n 'R2RO0O0UVIWYJC',\n 'R3QCGMHD0FQVXN',\n 'R1IMVAVBIL5CA6',\n 'R3NT8POEFMT595',\n 'R107488O26FH0Z',\n 'R2OLH6H14LS233',\n 'RA566I7RO71K',\n 'R24OUWVUZW3QPU',\n 'R38VJA6ICZBPQS',\n 'R26WT52I13G2KW',\n 'R29K05DM13D0FO',\n 'R1FTFOA9MEWF86',\n 'R13IZ8TNYAJ0NV',\n 'R2GYZ45YAY7DL9',\n 'R3V09OZ94FAQBU',\n 'R3I1JTZ4MTP4GW',\n 'R2WUW7ECNR4250',\n 'R14RUHI9DX2GFQ',\n 'R2EESEHHHIMWNK',\n 'R18DRTN1O7DYBH',\n 'RI7FCQFP1LEY9',\n 'R1BPO8QFVAFKJZ',\n 'R1HQETKXLCISUJ',\n 'R24NVCB7YUCS9A',\n 'R2TH7F5LPB83E1',\n 'R2P5FXAO4JG0DH',\n 'R2GEU2LEGZ4P5D',\n 'R2HNLGP5UOLB7M',\n 'R1VJ4L8VC8KETE',\n 'R1SLVXMJBE1A18',\n 'R3364MYT34NLF9',\n 'R2AUKD7LFGO1V6',\n 'R1NVLS69U306XU',\n 'R1IU0GVOCW9ETU',\n 'R7ZVFRE4NTKDV',\n 'R2ZSXLS2J13PMA',\n 'R16UMAOY181HYD',\n 'R3EF8492THLSFQ',\n 'RVLVQ9O1YXC25',\n 'R2LZ994Y443EC5',\n 'R3SGY6Q33HQ110',\n 'RSRQWH46UG17C',\n 'R3A8HD3XGGKMDN',\n 'R3KYWKTIH8GWG7',\n 'R246EVR90CQDHK',\n 'R3Q3N48L6ZJ0SZ',\n 'R6LLZUX462RIK',\n 'RHRPT84LERZKQ',\n 'R2S5PC0KL7G8W6',\n 'R1DBEHCEX02EPZ',\n 'RH9H23H5H876M',\n 'RS5D6HXJQW4MU',\n 'R23QDVQR92BC77',\n 'RAG9AMC7MFQ2Q',\n 'RIIMQ3NIERGF5',\n 'R3QVFPJY78YVVZ',\n 'RTORVJ6UMKZQ4',\n 'R2C2GX7VDUZRAB',\n 'R2B0KKRCE50RLJ',\n 'R3JX7JEWZZ3NQG',\n 'R3J5CVUUR1NOB6',\n 'R2XL8IPZZDNXO1',\n 'R17VHL0S2OUGIH',\n 'R23QEES7UG3JY2',\n 'R1RD8OXEHP0Z4G',\n 'R5NP8O99U3VXM',\n 'RLMZ73R3FA1T5',\n 'R22BYECUU3HYGX',\n 'R3RPGWU0207M1M',\n 'R6QN1CPUTBN35',\n 'R1ASDFLWYKZZO5',\n 'R1P2B34QF4ADMT',\n 'RZSXH41O29G6B',\n 'R1R1DXGH1JVFJU',\n 'RE9DAU670BX1L',\n 'R132FMSAAYPCKG',\n 'R9E611A4NNL5Z',\n 'R3OU0J5QDWVKGD',\n 'R1X6HHRXVLE4OA',\n 'R1O35L6JFIF23B',\n 'RM4KYAPHTWYVA',\n 'RVIKHTE9U69RC',\n 'R39A8VI0XE8N81',\n 'R1OM7D024BGUF4',\n 'RY9LM1VHQ6M8O',\n 'R2O4FVHZYWM9GO',\n 'R150AEUVICUSE4',\n 'R246WH4HE45K4P',\n 'R10L1E03XYHE55',\n 'R1I4DM8UFIQBLI',\n 'R254KHTT5O4JQY',\n 'R3OOTPZXAMSX06',\n 'R3L5C1JEUBRSTV',\n 'R2JNK8FQKE6P5A',\n 'R46YKWFWXAI45',\n 'R2IJJ3700Y0FAV',\n 'R3JTDTD47MQKMO',\n 'R1ON4IXZB3O2ZX',\n 'RW2X2U50TUD3P',\n 'R25TAKG8KTXFQC',\n 'R3O8PJH2ETM84W',\n 'R1137PSDE2JW0W',\n 'R3P00MTCGCCJ6C',\n 'R1Y56UT7BN9ZSB',\n 'R60JQN9PDDK90',\n 'R209CFX738N1QP',\n 'R3E6G35K5F19TF',\n 'R2J9K2IE6NJ6CX',\n 'R27VUY8YN6ESKZ',\n 'R38Z17N583G2YZ',\n 'R2L1H98ST7ZCOU',\n 'RHDBE5EPQQ6K4',\n 'R417RB1GDRAXF',\n 'RO80HA612J0BK',\n 'R1ZQ66OTA4AQXU',\n 'R1LCIYAJYZ1AR6',\n 'RTE8WCXNX4SZM',\n 'R2ZE84TWFDUUK2',\n 'R2ZQ3OO4304X4J',\n 'R7OVFXDYFTIIZ',\n 'R1RSJKLAPQC6RE',\n 'R2IN0AI5WF40W9',\n 'RU1BAQVSZ77KX',\n 'R3CRXJ6B3VYU2G',\n 'R1QP7GN1T8D8OM',\n 'R13HMGYVBG3PQK',\n ...]"
     },
     "execution_count": 5,
     "metadata": {},
     "output_type": "execute_result"
    }
   ]
  },
  {
   "cell_type": "code",
   "metadata": {
    "deepnote_to_be_reexecuted": false,
    "execution_millis": 54,
    "execution_start": 1654070299433,
    "source_hash": "ada3443",
    "tags": [],
    "cell_id": "00059-9312b4ef-c094-427e-8de6-fa66e084e58d",
    "deepnote_cell_type": "code",
    "deepnote_cell_height": 905.9375,
    "deepnote_output_heights": [
     611
    ]
   },
   "source": "# opening the file in read mode\nmy_file = open(\"remove_reviews.txt\", \"r\")\n  \n# reading the file\ndata_from_txt = my_file.read()\n  \n# replacing end splitting the text \n# when newline ('\\n') is seen.\nremove_reviews = data_from_txt.split(\"\\n\")\nmy_file.close()\n\nremove_reviews",
   "execution_count": null,
   "outputs": [
    {
     "data": {
      "text/plain": "['R2XP7IT7WBPZZ4',\n 'R1N799NZ4DA5I9',\n 'R2IJJ3700Y0FAV',\n 'R2K2WK38XR5FKZ',\n 'R8P7Q3NE3Y83S',\n 'RH5S9U2O986EO',\n 'R2J6S9QEIBXZ12',\n 'R37R7W7NP0W2HR',\n 'R2Q49CHI4FQE7W',\n 'R20HZYSZNZCTXI',\n 'R1FYQ6XBZ7DROH',\n 'R16AB1BB711MQ',\n 'R2H4ZPCDG6J499',\n 'R1I45HX1F3CEEN',\n 'R33B5EJNQUDJFQ',\n 'R263HF7Y019EXN',\n 'R2HY5SZEWWV85X',\n 'R3MVJI5VIUD1X5',\n 'RORI55TTADI1D',\n 'R3QGSRYM0O677I',\n 'R7GX7JKCBQEBJ',\n 'R3IWX7KI9ME00Z',\n 'R3H3Q9C71TJ245',\n 'R2OXHXPHP6QFDH',\n 'R2M2DJYNGDYKQV',\n 'R3OCDJBYBH58H4',\n 'RHDVMBV6IE7XH',\n 'R1DC4EYQQFBQ5N',\n 'R3DWI4IGHITTSB',\n 'RVL6X6XTAV2OC',\n 'R2XB3EGZKSEKT6',\n 'REVNCXLCI2693',\n 'R351AEVJKC896B',\n 'R37BYYM3LNJ04',\n 'R2QNV1CY6IR8YZ',\n 'R34EZZ68VYPHO0',\n 'RDO57PI4KV5IA',\n 'R8XZVIW6UHPGF',\n 'R18FQT7C4UFCBD',\n 'R3898FYOA3LAYV',\n 'R1XB7Z542G0I97',\n 'R2K6X4LC2NHV0R',\n 'R20HND185O0FLE',\n 'R1XYU41VP0ZXLA',\n 'RO6UAHSJNV9E6',\n 'R104MY31OKNGXH',\n 'RWT1OTTEV12NZ',\n 'R2H7T7QDBOLJXW',\n 'R1MJCQGOKPWSO6',\n 'R3LJGWW0TUM2DE',\n 'RJLIBGUCDLEZ7',\n 'RS3QHIU5EDJCF',\n 'R1YTBAG6HD48JI',\n 'R3DQHDU2WIHCUI',\n 'R2MQ87WXOD18HO',\n 'R23OQU3QDDMRK4',\n 'R3VIDUEMIF1CZT',\n 'RV76BD4BBGI0U',\n 'R3PTD2BL5F2P3S',\n 'R3Q046U8FZ4X3K',\n 'RC92IT9ENY4TA',\n 'R261EV88NBGM5D',\n 'R25IL7DCFKGMXZ',\n 'R3VHRN80D3K0B6',\n 'RMXIO4CAYR8O1',\n 'R36A0KHN48CHBP',\n 'R1HHV19GIRFA9P',\n 'R1G2I0A7LPF41G',\n 'RK4YNJ84Q71BY',\n 'R3C7OODQINRA8M',\n 'RUC0IUI8OP9EG',\n 'R1TNGCEFQ24HE8',\n 'R14BLNL7DBHVRW',\n 'R1VG4MT1VPY055',\n 'R2BUM5VFB2ACUT',\n 'R2B61C7TYQR2EO',\n 'RKLX3GP4P744D',\n 'R1SBEV4UVK5BYN',\n 'RYRQJX8TGIUHW',\n 'R1I1SAO01OYTA3',\n 'R3ELSRXDF1FBGJ',\n 'R3HTXIER9XSC1N',\n 'R380AYUQRK3B8P',\n 'RAZU0M0FWK9K8',\n 'R3QPRXEHA9RCWB',\n 'R1467K4KRTM0FJ',\n 'RSBMCE0787I8Z',\n 'R2XSY1J9113E6X',\n 'R2MV8R7D6XRR1A',\n 'R2Q5F9JF12ED44',\n 'R3VLPA0R3FIOFG',\n 'RP2OWBBQT173L',\n 'R3EWOEPIJIP6LW',\n 'RT8RCRDMGP59I',\n 'RKXMH6MQ7MB8Y',\n 'R2AFK148WXYLW5',\n 'RP08GVY9EU6NM',\n 'R60JQN9PDDK90',\n 'R2ROIXNRML4GU2',\n 'R51ZAJN340R0A',\n 'RJNAH6K2JMLSL',\n 'RK2SMU85QSJQ3',\n 'R2HPDPI0FLASE4',\n 'R1MTOG8C9Z45BX',\n 'RS2A32D19I2H9',\n 'R3H2QTTV16RT63',\n 'RE5HMKRUQV18P',\n 'RWY13SSOFJ974',\n 'REAUNK6LWRIKU',\n 'R3CZ23MR6BC22M',\n 'R18TG2USOSVOC3',\n 'R2J68T8Y2ZWUSP',\n 'R3V7GO2GYDJA9M',\n 'R2YMGR8WYB3SWP',\n 'RGZ4MVKOULIXR',\n 'R802NI63NKL9V',\n 'RBKUGHHNXVYG0',\n 'RHK9SLC4KVI7E',\n 'R2F9QJVPFJ62XJ',\n 'R32EGNIY2XBFLP',\n 'R2O0LZSPMME6US',\n 'R367YN06PHF3SL',\n 'R1ZYAN34E54Z6C',\n 'R1KJT0YZ6Q7F5D',\n 'R1DV5KDMWH08N4',\n 'R174E63UVEWXYD',\n 'R1URGQG52JBIKA',\n 'R13H2YPLZ5F4FG',\n 'R2XTTZR64HR5WT',\n 'R2THF4WA4YMT19',\n 'RELTC0HO9YG6A',\n 'RPEZ0SYDUTVHR',\n 'R2CWQM816OMY34',\n 'R30KMQ9A0L3HC8',\n 'RJ71UJWKMUMOL',\n 'R3QJGA8GWDCTJ3',\n 'RYAQ8YK6M374L',\n 'R2L6R25DJDWD4V',\n 'R1OGYLKGK2USEE',\n 'R1BLPUJB0DX2Z9',\n 'R3L5K8V5YCDLV6',\n 'R100K74OXW3KD0',\n 'R1ED9U68DFV8V4',\n 'R18XUEGLSQVMM3',\n 'R2WX33ATCXHCSF',\n 'RLXTLD5VTX858',\n 'R17RT9YAHGPLML',\n 'R3DL9NU0CIPKH',\n 'RWRD4W8EG76J1',\n 'R3JQAX7NP49PRY',\n 'R1HSO0UL9THT4U',\n 'R1XAZHH5MF0BBH',\n 'RXDCJEIWJFA9D',\n 'R2M2L440U6AAJJ',\n 'R3SEJVRLKX4E6I',\n 'R3KXIG37RIZAFI',\n 'R1VPWWEGR3ZY7E',\n 'R1NK0GJ5WX9J9E',\n 'R2ZI0TIB561C42',\n 'RYW1YT2Q4MQ62',\n 'R1J42HVIEBY10C',\n 'RK5JZCSRIZDUO',\n 'R3CFI4C2T44OH0',\n 'R1S14AETK9NVFH',\n 'R2CODJGIMQUY8D',\n 'R2NNIXJ11H0GSF',\n 'R3RRYY23ANJD99',\n 'R113MFNEZ9VFZS',\n 'R66I3Q6674C4B',\n 'RLXIQMKQNBSDH',\n 'R2TN5287YB5O5A',\n 'R194U8HWRYMJJT',\n 'R2PDW9629J8S3H',\n 'R260JCLMPQXGKO',\n 'R1832OFON36L2C',\n 'R2ET3M4CG36QVA',\n 'R30MY95GPQDGSB',\n 'RX1EMI92N1WXC',\n 'R3TA9GIZU6R9ZM',\n 'RB8HA4I455ELA',\n 'R3KQB8T3RUP1HK',\n 'R1CWQRGCBEJYY0',\n 'R12BI7OVVMHZ6A',\n 'R1JB2FIQVAC46Z',\n 'R31OEU3B5FDI8A',\n 'R1GZIUKMHTY1UB',\n 'RU1BAQVSZ77KX',\n 'R119V02ILAYFRR',\n 'R1P0F00UCM7HBQ',\n 'R3HOYAAIKSA7VB',\n 'R2W5YZQG2KTNSO',\n 'R98B5MW7K7DFA',\n 'R37L5U3773P9TL',\n 'R1X4QGRNO5Z7EL',\n 'R2XDUGJDPUM0L4',\n 'R1PG3C1XFYDCY8',\n 'R17Z4ASK4JF861',\n 'RE9DAU670BX1L',\n 'R28KK80NQ1OWX7',\n 'R22AAC9RY7XMWF',\n 'R3DK2D6EHJDM02',\n 'R1A0NIYJ19ZQ7G',\n 'R253Y0OESD1QS2',\n 'R3QKY0QOZ38JU5',\n 'RAR3XSHE1X3FL',\n 'RIPOKQX5CN9FX',\n 'RYXL5DV0LHU8K',\n 'R3IYS1G4QUWCKX',\n 'RMT3UEK9R3LEH',\n 'R268Y5KZIIP3XI',\n 'R32RLPFB3BUF8N',\n 'R98LQPZZZ66UV',\n 'R2HLQ63CQPZV5E',\n 'R3GMA9Q92KINWM',\n 'R2XCPDB2B44NDW',\n 'RULQV4941HMZ5',\n 'R3LXCX4MCDYQEK',\n 'R8IL7462X27YZ',\n 'R1DA7Q9CEDRI23',\n 'R25BHMLRWFWPN1',\n 'R3UVB6C8U7L2ZY',\n 'R2YH2439HLA5J4',\n 'RQJISYEXZ6OHY',\n 'R1PLK4QEMAWNXC',\n 'R1NR8MPRSMM0PG',\n 'R321L5O20GCTH4',\n 'R1ZHZPKT1A524N',\n 'R26CHAEA0NJEPT',\n 'R22BYECUU3HYGX',\n 'RMDEIDN485JIP',\n 'RPXDCQ1AW8I6U',\n 'R1DZUZWRAJVXVO',\n 'R2D0C49KSVCB5F',\n 'R3BUPK4VY7GJXX',\n 'R2E2YPQ480T843',\n 'R1FF9JBJVFRE5Q',\n 'R38VUNFHQ829WQ',\n 'R3LRWIBWD0EM3Q',\n 'R18XEH3CTI17PJ',\n 'R2B8R3L0CZG4DD',\n 'R3G5H8HACXVU6E',\n 'RUAXZ2T4XBWE0',\n 'R3JRYOG8D8KO4E',\n 'R2LU79GWSRJZ7A',\n 'R1ASDFLWYKZZO5',\n 'R1ON4IXZB3O2ZX',\n 'R309CG6X5YVGRC',\n 'RNT8WMQCE6ZNK',\n 'R7B1XKSUBVVYH',\n 'R2KW2DFY5P0P3A',\n 'R3890V1Y3355HT',\n 'R1I80QK5MC617N',\n 'R1GZPU0SVM8SA3',\n 'R2J1IO3U7KQ57M',\n 'R288DG661IHEJ9',\n 'R2ZE84TWFDUUK2',\n 'R3KU91065W0MEB',\n 'R2D96W31IAEA9O',\n 'RW1LT8UJVXHCB',\n 'R1C3X241TZ13XK',\n 'RT9U9W1PE7XB7',\n 'R2JIX19YD3WHT4',\n 'R8J54IMM2TCLD',\n 'R7RZBWRFUIZNR',\n 'R25BP64Y7OBXNB',\n 'R2SWNBFX931XP7',\n 'RW5R5U981902D',\n 'R28SBTYIL5OCGD',\n 'R2N8N3JHHPRYFZ',\n 'R1313WXHZD7MGX',\n 'R5XFR314DAER4',\n 'R20S4H861YEQB3',\n 'R1TU6ZFT4TEQ3P',\n 'R1KM113Y02PGT0',\n 'R2G0LI870J1H5J',\n 'RNDH75JE9I8EY',\n 'R1TMI1XE916HSI',\n 'R26YZWQ2VXVP8N',\n 'R38P1QQGMIA3UV',\n 'R27LD0IX48PSH0',\n 'R1FA101J72Q5N6',\n 'R1X3GCQPAYCJ0B',\n 'R3DUOUV902K6MD',\n 'R19DX7I2DE6YE3',\n 'R1X5Z3HJS57LIN',\n 'R2NWNV371VKOM3',\n 'RPQX72L1WMCOQ',\n 'RCHI2UL5CRGTQ',\n 'R286FBMJM6KBVL',\n 'R3BJI8TS2B2UYS',\n 'R2KLHK70AHOITV',\n 'R2LJH9HLON5K23',\n 'RS3WNPNGUZQMR',\n 'RQ6JB8KGZEAQC',\n 'R3S1GI85510357',\n 'R1N7UEZRGFON2P',\n 'R24SL0283VNCPK',\n 'R3AGXFZP9U1GBM',\n 'R7OINDI1RJASC',\n 'ROMBUJ1PQBND0',\n 'R1RVGOH3ERNHWA',\n 'R2UIOLTCBWMGUQ',\n 'R1NP6TGG5T9WKM',\n 'R2VH1PAPN673AZ',\n 'R48AWFNSQC5UZ',\n 'R1NRRN3A7MLZH4',\n 'RKDWYW5074B52',\n 'R15UUYYAPVGFXB',\n 'R2RPO88S6EIB9T',\n 'RZP1YLW4FB0ZJ',\n 'R1Q73EVHPZ3RVV',\n 'R2TRE6LQYCVEYW',\n 'R1YG6X03URYI8T',\n 'R3FGTI4HR5WBLF',\n 'R1D0GFI8WYGV0Q',\n 'R2BPT7LMMPWISV',\n 'R30X4V0NO2GOAW',\n 'R3ISGPEW3GWCVT',\n 'R3KJ4MLARLB8YI',\n 'R1VZZKZ6Q9X5RW',\n 'RU0GH45JOJFTF',\n 'R93V3P2RTUXUW',\n 'R2CM5NACQ8OCWI',\n 'RZ9X3UVPYHZY5',\n 'R1RNP94U4ZBQ5A',\n 'R3BBXYMBOGFDOL',\n 'R2AEPF80E49X5I',\n 'R11T0Q1H6Y3TUB',\n 'R1OFI0QQPTOMW6',\n 'RI1TYLKHWTR7Q',\n 'R2M5F3I1UG7PO0',\n 'R16PNF5FYHUDMK',\n 'R34YPA0LFHJRAX',\n 'R1661GJ1ODJ4GA',\n 'R2R42P2AX1XX6E',\n 'R15FDVJE0SN3JA',\n 'R3KGQNCV5UPSY7',\n 'R4EHAURULNFJ7',\n 'R1HKNRLT4P8P76',\n 'R1PTM1Z4JS2NDQ',\n 'R33LT6M364OAOP',\n 'R1KH75PBOSUH0M',\n 'R3VJRLU3J9DYFW',\n 'R10OFCY1NG9XT1',\n 'R37FE90F4D66VZ',\n 'R7L22LEG2BUVA',\n 'RRLR0UYQ5HEBQ',\n 'RGH01F1K99CJN',\n 'R1AEL8XMKRT511',\n 'RWJJ2SRY529K9',\n 'RJ7HN0Z79KGYE',\n 'RCNWU1OYGPYUH',\n 'R2RMALH8GX2JMD',\n 'RYV0E9CUARKQO',\n 'R3VDE5CDIQ9UZ2',\n 'R3N3LAMZQWFPL9',\n 'R12Q28IWO88AR1',\n 'R1L6TZGMJY7CZZ',\n 'R2XVNWIAEXUI3D',\n 'RHGPWX9D0FZX2',\n 'R16UR7RL82709S',\n 'RFJR8H9C7K26V',\n 'R3PTK06S3KGU9T',\n 'R6FHRJMJ9A1E4',\n 'R1GLGXKT3BUUIP',\n 'R1A99SA3TDUBMD',\n 'R20FLFR451WNTA',\n 'R2CS554WNID2HV',\n 'R2PK1727JDCXN1',\n 'R3A4D1FKEKZ7AV',\n 'R3FNWBRE92H42D',\n 'R2IYXDDETMVUHG',\n 'R1JC0Q26DBCWX1',\n 'R2F8SQLK019RNH',\n 'R1S36WXAYUH09A',\n 'R3FO23QPKRFCJ8',\n 'R2V0HCFSE40EII',\n 'R3BLDISO273PIQ',\n 'RWQJH7GNF5XSF',\n 'R2B4LTH3T69U1',\n 'R1UJ4EQ7BIF5GK',\n 'R30YHBJQ6E4E2G',\n 'RDSJQSAZIQBSU',\n 'RBI83XASU7ZSP',\n 'R3U668T3TDBR0',\n 'ROXHLY7K9173Q',\n 'R2DWUN855LF6U6',\n 'R3K82I2ONT7KFD',\n 'R2FINNQ82O1LZD',\n 'RISO3IGNUMK2D',\n 'R3J4M6IHNIVUF6',\n 'RCZLBE2OL3X0B',\n 'R2MYVZPYZAEZZN',\n 'R1GKAQ35KHAM6A',\n 'R2TID4JJCEDWVA',\n 'RDCB7XKJ1CCY8',\n 'RCJYMSYZLMEVZ',\n 'R3078R9IW0YEPV',\n 'RM1P5CBRCW1J0',\n 'R1Y0S4R84X9XPY',\n 'R1E8YDQ6S8VBC0',\n 'R3O7Y3J8B7CFXV',\n 'R2N29SWNVQZ0TW',\n 'R357GBBFGOZ2H4',\n 'RBDB1DUI1356A',\n 'R31IHYHGMK0BNQ',\n 'RURBZHU2CUEAD',\n 'R1N7DDCXX6N10Q',\n 'R2W7OP16NSAUG7',\n 'R38IJ43J8M50FB',\n 'R1DJB46J0JLU3B',\n 'R1P8C7YF1SNJIH',\n 'R1NQOZT7ZUFARN',\n 'RBYNRZS3470MS',\n 'RIJ8SKEPFZ0FQ',\n 'R3P1JMQCOTRY6Y',\n 'R2AVJRD3KDRZ3X',\n 'R3PS4GS8GXXQ3T',\n 'R2SGRFTM7FR78S',\n 'R317D4TU9VXQK3',\n 'R27IOP4VTSL5LK',\n 'R2ZRSKAP7CM9S1',\n 'R2GS3ESH6EJAYF',\n 'R3CQSJK6MKFPR5',\n 'R2DPCF02NONCP0',\n 'RHKT1XC6W1SS8',\n 'R3FAV28GYZDFNS',\n 'R1C9QMEFG018AM',\n 'R2ZXJ310QAGYX1',\n 'R3FZ77RBE33768',\n 'R2QN1591ZEUSLX',\n 'RX3REE8YK33X3',\n 'R2FJQN4ZAHEZ1A',\n 'R1F10B7HWK27F2',\n 'R2BIKLVNOC429M',\n 'R3G23YM4XJNG7W',\n 'R1TVJ2DDR5KT3T',\n 'R2DVMSVCOHC7N7',\n 'R3Q38EEXCSQF8L',\n 'R3LLGZJYS7FUAX',\n 'R3A99XDTB3S67I',\n 'R1OPBBMDBI2IAX',\n 'R275CM6AGNIQI6',\n 'R1B6CGW84VW44V',\n 'RXANA0EYBYRNH',\n 'REETTS40B29IF',\n 'R3N5LSOGGA8S69',\n 'R2Y6X5SUOKYSJV',\n 'R2U0HQO5BXB36P',\n 'R2ATAT4C75CXU8',\n 'R2RB1B6F5G0IYU',\n 'R3NTCO3S4CNVQW',\n 'RUNEK2OWQ8F0W',\n 'RV3V6QPQXMVOT',\n 'RXMNO81J81UU3',\n 'R2XCUAU9HCUI7D',\n 'REU2U17D97R6',\n 'R100SPJKAQ6TI4',\n 'R1JKG1CTOKUP2A',\n 'R1SUGXTFMA2FHT',\n 'R3NWE6CRNYXUPQ',\n 'R1E34H3E32BXPN',\n 'R2M5RJQZADC703',\n 'RI9278XWCTZHL',\n 'R1Z08HKLKPM4RU',\n 'R3RF3NG411BFV3',\n 'R9E611A4NNL5Z',\n 'R3FZGZILX17K5G',\n 'R11BWKWMNU3ZO',\n 'R3VSHMUMY8JCFF',\n 'R2KAMZU9S2V18G',\n 'R25N7M4MC64V2W',\n 'R32WG8UHF10A4S',\n 'R3TV3ZQIHQUWWE',\n 'RSDSFVACVVA8N',\n 'RYRGGQ4NIK3VB',\n 'R3D5OD28O8OTTW',\n 'R1AMY55WWN1960',\n 'R12RBG6S5X2Y9F',\n 'R1NGK8W2YGF4KG',\n 'R3MEQJMOMES8MB',\n 'R34HMDA3YHIGGL',\n 'R3LXAYZTREV9SE',\n 'RRZBTUEZYIHN5',\n 'RM4KYAPHTWYVA',\n 'R2F6G90WAIWKZR',\n 'R2WLR40KGIUB2',\n 'RIKPN32YCLIYY',\n 'RCB13K8O7OS0F',\n 'R1K37JTJ03K0U',\n 'R1G14A2O5G0V6D',\n 'R3CTWSX8YAH90D',\n 'R159JVK92BBDTJ',\n 'ROF9PU3X9BM6W',\n 'R2UWMGEYJ6UG50',\n 'R3M1TR0OKERQS0',\n 'R3TZED4EWF7LKW',\n 'RRINTQFVGT209',\n 'R39H8KKTZIEMJX',\n 'R1XR716C9XS64',\n 'R5Y7WWDVKEUKS',\n 'R3LSO2FL2ZTNJS',\n 'R1UW5CE1SRWXEG',\n 'R22E44OMW53A3O',\n 'R1FQ6ZJ3YM5TPW',\n 'R2B1J0DV4Q90C',\n 'R2HM425RPVB5OV',\n 'R3H115TI9HG1A8',\n 'RNN38RFJVIE5G',\n 'R1Z65S58AEJJMJ',\n 'R3MWLDA9M77DJ5',\n 'R1L12BFD6RYXJU',\n 'RMCTDSYKO0HVQ',\n 'RN0PSP8IDMKM8',\n 'R1D3KIOQDNUYDK',\n 'R2JLPX7U1LFZ0L',\n 'R16NN4MG954D7X',\n 'R1RD8OXEHP0Z4G',\n 'R30HKZ1L9IKISC',\n 'R1MSF5J0BLX5JB',\n 'R1Y9FEZ28WXX61',\n 'R117VG9JJAMOHN',\n 'R3VGAMF3UYOOE0',\n 'R3MDZZU56GPUWZ',\n 'RGJV7OZJMNRHZ',\n 'R31V22ANXPYTZJ',\n 'R27L9Y7UUX8OAX',\n 'R3T0N9A2SDWVQ7',\n 'R25VI660K2KW0N',\n 'R3CC80M8AB3TMG',\n 'R2QCDSEHN4EA7F',\n 'R1BKGIT2OA81ON',\n 'R17QFJMP8PG2OO',\n 'R2Y13OG5FQZBB7',\n 'R3S81IXDGZZ1WG',\n 'R1D29E4YCB0GP',\n 'R6D3FBJR6UPMI',\n 'R75G1CZ1K3M4U',\n 'RZNCOKLFTRV02',\n 'R1AEWMPKRHO009',\n 'R1I27BR63GST2W',\n 'R2SU3LIZTQC9OB',\n 'R2539JBKKEZO1X',\n 'R1G3ESSSJY9MQF',\n 'R1AQIU3Q6IADCT',\n 'R10U8GPNK1IE29',\n 'R1SNYO90CMI8GT',\n 'R2JJDHU9EF7DQK',\n 'R2HNLGP5UOLB7M',\n 'RZIZI6MXHT08E',\n 'R1D47VCUIO7GCM',\n 'R1P2B34QF4ADMT',\n 'R3501Q2ZK47XY2',\n 'R1TWYT7MYM9XYN',\n 'R3F58I5XVJXYNT',\n 'R2Q4UKTHJKPV19',\n 'R2WHPTQLEU2PA0',\n 'RZBQ4L1TMVPAL',\n 'R3EKKR3F5QHW2Y',\n 'R1NL1E36NXA99Y',\n 'R1XYE4DPHURH1K',\n 'RIQHHU5KJHUT7',\n 'RVK6X6VDKTHXF',\n 'R2ZB7KSVT3LE0',\n 'R1W0JR6H5CRNS7',\n 'R7N3WLI7C64OJ',\n 'R1FFMV2OGGGBXI',\n 'R3K2UZ5AYQQ52I',\n 'R3H8RKYPOZJX13',\n 'R3SOEEKKKHB5LE',\n 'R32YH2BV6X8WOU',\n 'R326IMA66X8KXB',\n 'R2URVOL4YQ1PCV',\n 'R1F94O5UMCQKHD',\n 'R3GGM9WFD9OQSB',\n 'R2MXPNP5TAWXQ8',\n 'RLP39CVUG7LC5',\n 'RA6OHYP373VWR',\n 'R2SL70XBCIUL1A',\n 'RSPXX9CVKM3NR',\n 'RMXAZRWDS47OS',\n 'R1G1E7FGIQSOHM',\n 'RNF4MZ8RK6ICV',\n 'R359JI8PHR92ZN',\n 'R3L9SXX2MIDF6M',\n 'R1RX7FQYWOYV2E',\n 'R1NXJOD32GM0XE',\n 'R16CEWB8BKZ06H',\n 'RYBSSMO5D6CXA',\n 'R169P7TXQAB7GF',\n 'R2ZWZ1SLYTJK8B',\n 'R13QBRSTDYMFI7',\n 'R5VSM0VPKN96Q',\n 'R1UATTYXELKRLJ',\n 'RVLVQ9O1YXC25',\n 'RRJEXG5B2QJ5A',\n 'R2GL6CVNJCREMJ',\n 'R2KF9QCDP7I1N6',\n 'R1ZUF3P9CDOAU7',\n 'R1468J8UWG1Q0B',\n 'R347ADGY5T3A8H',\n 'R1UUB87DTEE81V',\n 'R2LEIM8T2ETXLB',\n 'R2B7YH8HJ68NRC',\n 'ROFX1MA98MFHL',\n 'RXA0F4RDG0FYB',\n 'R267LS88Z8MWYS',\n 'R10JXFXKBOR2K9',\n 'R35Z3EQEEDOW65',\n 'R3OTMVWJ4AJ20K',\n 'R224TA9DM6VLTV',\n 'R29H6W92OYTBFB',\n 'RRZVCG1YWODD6',\n 'RC2AS67VRLHVD',\n 'R22ECRS37Z8987',\n 'R1ZE2X5ZXKVEK',\n 'RI05ZDB3QG4TU',\n 'RO50JI09W9OP2',\n 'R2L7G1ABEOWWTU',\n 'RBGI18RS1F1Y6',\n 'R10I1IV8JB3DEV',\n 'ROEOHMDBOKLME',\n 'R3QLAW3AH606B9',\n 'R2KT25S8Z3CZVS',\n 'R3UK0NUIZVO930',\n 'R20GM06XT3OBO',\n 'R1YHTMR4BLXGY9',\n 'R39D9QPUXDSMPS',\n 'R14F227PVYHZBJ',\n 'R3CS01BX8HDVLA',\n 'R1RZOM00Q9FU9C',\n 'R3ORC3LXC1XJI3',\n 'RUFSYWR4JEM9X',\n 'R1YHSD6U1YEYKY',\n 'R15VHXOPX7I9TE',\n 'RDMYWLNDOMOZN',\n 'R22PIN0TNDTD70',\n 'R2A08CI9IIR98G',\n 'R1JONCK3MF02LG',\n 'RLYQ8B240YTFK',\n 'RSIBE5QASCAV',\n 'R29278VPRLYN0O',\n 'R2PRMLMBICKP0O',\n 'R3GFDXA6CGWTZO',\n 'R1AUT4J66FINEI',\n 'R3BFZFFX5TILG2',\n 'R3QAX1B6TZSJVM',\n 'R2EVI34A4HT1S8',\n 'RCG2JRICY1W3T',\n 'R1ZS5H26SIQ3QQ',\n 'R1IUTHTII43960',\n 'R1I9AMDUXPJMRG',\n 'R16JGW7Z6QGSZT',\n 'R3QV1FM0BBISOI',\n 'R39Y79LGVUIWAA',\n 'R18CQUTV42D0R2',\n 'R3KGGETPQ1JR3H',\n 'R9H7RM5Y3312Q',\n 'RZR8DOQ6AZOGP',\n 'RWFK9OM6YEG8N',\n 'RK6UI7TPX3RYS',\n 'RIABE5S60ZUN',\n 'R1QP7GN1T8D8OM',\n 'R2HIVGUJU36W87',\n 'R21HEAB3O1Z9O2',\n 'RYGB8JJ7QS6OD',\n 'R2FQ72XWPL1NLO',\n 'R3CU67FFUPCHZE',\n 'R3AQL1RDREB5MA',\n 'R2ZKM3L39Q74V6',\n 'R24ZXB1XH9ALM0',\n 'R3ISAXLQKJEE53',\n 'R1L7AUETBKS36D',\n 'R3NQG520MIBX2F',\n 'R34SB0X2ASV8YZ',\n 'RQNRHMQVDSX59',\n 'R1Y3W0LSNMJLMA',\n 'R2BMYZ537RJ9SA',\n 'R10POSNOTU3AFW',\n 'R28P2TYLKF1898',\n 'RQZ5DGUWN3U1A',\n 'R1AZMEHZCA1E31',\n 'R2IN0AI5WF40W9',\n 'R175PSCS49AUEC',\n 'R3FUHKCRHX6VF3',\n 'ROCH6OVGVL4IG',\n 'R3HMN3PFWMRJF5',\n 'RDM2R57IACDV8',\n 'R3O6N7I4Z5I8VD',\n 'R2ZW9US8X3RL52',\n 'R1MQNQWQL4KSJA',\n 'R354A8MGI6MLAY',\n 'R1Q2R2A7RA21KT',\n 'RMNORSGY7DPSN',\n 'R3I7JG7CSBOX9T',\n 'RKOFMUI4TMSZK',\n 'R7SMHP1OHEY9M',\n 'R21TJPUAQBXAXI',\n 'R1U7WH0485U672',\n 'R36TIZQP9W8PM4',\n 'R110H8261M3AVK',\n 'RM35UV4RRYK6T',\n 'R3O6PM2AD6J46T',\n 'R2QZ1QNHU33E5N',\n 'R2I01MAQS5S9LS',\n 'R3KVHPFK1XAL43',\n 'R1LRKPM9IN9TL8',\n 'R2K05HKEOOILBC',\n 'R1W75TSXGZSHXG',\n 'R1IG0HF4S7ETGY',\n 'RW2X2U50TUD3P',\n 'R1U8Z8CP7ELYC1',\n 'R20SN8LLY9C17K',\n 'RMED3GZ4S0GQD',\n 'R2U7CLN1LLGLF',\n 'RJ24RFFGP88HJ',\n 'R254E03MTTUOA3',\n 'R33JQ7EYABOOHR',\n 'R22GUFMSXKR8QB',\n 'R1GL25PLS5KLBE',\n 'R2IK1LEQ215GI4',\n 'RF3MDIDFS7YBJ',\n 'R17FQYCQVIGA2',\n 'RVWIW04V32YKG',\n 'RSC9CAHNVO8C0',\n 'R2RQA22KHWV66L',\n 'R8MYVHH7NJ5V0',\n 'R2OEC48EY680S2',\n 'R3DJPGUTJDNOVY',\n 'R25EU5FULK7PVR',\n 'RBYA6QX1TQ0TB',\n 'R3M1FLIM1PIFQ1',\n 'R1J669ERM0VHEV',\n 'R3Q2KS8U6RIBNY',\n 'R1Z8ELAMMZEWII',\n 'R1V5AJ8K22MZ19',\n 'R3UBKJT7PR32G',\n 'R3TN2BFQV8DXB2',\n 'R1X3UHSQR7JKYC',\n 'R64XNM27MA5PU',\n 'R18PVSPBA3QI77',\n 'R1VYEGLL1P6FOA',\n 'R12A2D870GBHXN',\n 'R3RSU3JQW7SROB',\n 'R3MQL55U3IR64E',\n 'RY9MD66FPDJ9Z',\n 'R1LUVPO2BZMLN4',\n 'RHEN2II0ZX4DR',\n 'R1WQL2YNMU1TT0',\n 'R2AJW9RVUJHNUE',\n 'R36F3M892NRQ7B',\n 'RQG462ZZ7L9XX',\n 'RBFDMOMDSA90V',\n 'RCM0TWFZXRIIJ',\n 'R2XTJ33NK5KZIW',\n 'R44QPCOPXS8UL',\n 'R39C6ZRBFVZ311',\n 'R1PKNGXMR1NMW5',\n 'R72IZEVQLKXZJ',\n 'R28RWP73OOG2J9',\n 'RT29T9YQT87VZ',\n 'RGIVGY4GB97LR',\n 'R22ABCRELN8PCJ',\n 'R5OLRLRZIP1KQ',\n 'R15TH4F9CAESDH',\n 'R6Z8T30QYAWC9',\n 'R38S2F95EZ9C36',\n 'R34RTFX2DIA4B4',\n 'R4GNUK4WTNOC8',\n 'R3PEZY5AXQWXHL',\n 'R1S3G6SV5TJK36',\n 'R2ZJLPYVNQN9K0',\n 'RM9577DE125WQ',\n 'R16E88TB7DHIVL',\n 'R31OLYFFY4JCSO',\n 'R2028O8DXRPY3S',\n 'R1PWMG92XH79FP',\n 'REJN0IL314MFU',\n 'R3E1CFG6YHWZYO',\n 'R1ZDEZ356E3HIG',\n 'R327ZC8RXRPT28',\n 'R2NOIL2SFW0FP6',\n 'R1MXCUDXATX9IT',\n 'R2Z5733QTJ529C',\n 'R58XU4C0FGSXU',\n 'R1TN4UZ7MRKEHX',\n 'R1P9AWPRSZ394O',\n 'R35MN9S1W3NDPJ',\n 'RFHVI889UF7SU',\n 'R3LS2RYLW340R9',\n 'R3GUFVMUDMMVSP',\n 'R3I27BHLG2LR6U',\n 'R2FWRI7GJXFS85',\n 'R2A6K0U911J54L',\n 'R3QCIFGSI3N5MB',\n 'R207W7C85GB4UQ',\n 'R1UWBAJR1CDPR3',\n 'R2PZFBE0T89OWA',\n 'R1B7GOBJ2U2FAW',\n 'R36NE9ICTDM831',\n 'R37CJD0A1TGVW0',\n 'R371YHAZL5G8B3',\n 'RPP6ZV102RX4A',\n 'R1VPKKJPN72LAZ',\n 'R2M2ABIAL652AJ',\n 'R1GE424M0G9NJL',\n 'R3MPG6MDDG2BED',\n 'RECS6W0R1LDFW',\n 'R1S29K471Y94GG',\n 'R2P8B0ZDBEG7SI',\n 'R1MQ2NI5K96ZVH',\n 'R16AIDWILEKLGO',\n 'R25NNF0HJSYTXK',\n 'R2TBLPWIZUDBEB',\n 'RWCL4YE4CJU3C',\n 'R17VHL0S2OUGIH',\n 'RODPOX535NVF3',\n 'R2KTUHQNVIRW7X',\n 'R157B7QP58DE5K',\n 'R33JDOH2VOHWEQ',\n 'R1FF3RH752WQTZ',\n 'R3EK8Q0IZRG262',\n 'RQ08F5E0CWSU3',\n 'R22VWU27KJOJCI',\n 'R3A0KIJB1Y3KWG',\n 'R33CSYJYX4U8QS',\n 'R2G59BJIRKJBL2',\n 'RKGHU58LUZD9S',\n 'ROI9HQP6RWV4B',\n 'R2XED8A4Q8WB12',\n 'R37OO82E127Z7B',\n 'R20BETYJ1G1WQ1',\n 'R2WBI9RONJJDE7',\n 'R23ISDP59W1GSI',\n 'RBSEY1Q697DUE',\n 'R1F3AZ26V2BAQH',\n 'R1QL5P78WZZIZO',\n 'R1SLPW92ZI89OH',\n 'R36RDMLKL2V9Z0',\n 'R37HN5NJAVV0B2',\n 'R1TM20JO4SGV71',\n 'RAM9PGMJX3QHC',\n 'R216TXLQ5O9CTH',\n 'R36Z3U3SV46ZQ3',\n 'R290RP0AZ135R2',\n 'R254HGUYZQPDWT',\n 'R2ZR0PAZJX0EJD',\n 'R2OYTETNVEGRZA',\n 'R17GM1L29R9I4V',\n 'RL180JEVI17T4',\n 'R22GOBDFIPJ2YY',\n 'R1U0HBBZLH6UK0',\n 'R2A55A5LW1XWJ0',\n 'R1P5QMI8DH8SSB',\n 'R34CKNMF0QI09N',\n 'RCEGKOGPL56PE',\n 'R3O4V0XKBK6Q2V',\n 'R1ROIM2VIPQGBT',\n 'RDTQXLN9FY8L7',\n 'RBFP226VEKJAD',\n 'R1RWA1XBUQMY4G',\n 'R2NUPIM7JGP45V',\n 'R3ILY1KFCFGJF1',\n 'R1FCNBPQFYIYFO',\n 'R25TAKG8KTXFQC',\n 'R2V298F12A5I3N',\n 'R2J6XZ61SFCX0F',\n 'R3RW1MKXBSBW9X',\n 'R1ELK5WM6OA9AC',\n 'R3CG1HC2J6Z3QE',\n 'R3V9LHCIKESJMH',\n 'RZBAS2W7FL3R',\n 'R2IEPRNON80FEP',\n 'R3PPZLJFJGDI88',\n 'R2L9SAIYU4V6D3',\n 'R1KT2HSNG2Q0SN',\n 'R1POQ9EU104U1J',\n 'R2R9H5SFFZ9H6D',\n 'R1DBK981XVZKXJ',\n 'R3H5G15AMIEJ76',\n 'R1M1BDVOJ5TGW8',\n 'R2P1OHBU6M5YRL',\n 'R2XTNZE0JPE1Q4',\n 'R3LHI2P1UCJ6PV',\n 'R2TTAFTUU2XOLZ',\n 'R1KNQLQHBQH980',\n 'R10PYJVOV9LT16',\n 'R1TAMACBG6SJBM',\n 'R37FS14AB5IEEM',\n 'R3NCOZJ0HH6401',\n 'R4N21TTMUDLLS',\n 'R1TOIX6JN8H0W',\n 'RV6G19N9CYWKI',\n 'R3OGMQ33DY81I7',\n 'R12IJDMUMF6RI',\n 'RNNAKA8P16V6',\n 'R11F2LWDXF1TKS',\n 'R3VX0C56MD20JZ',\n 'R1061O9WGWRZAH',\n 'R1FRDGNO7BDGYI',\n 'R27MBJSK489HL2',\n 'R25LLD2MSPSF3Z',\n 'R32PRISWSLRAXN',\n 'RDRVIXMR2P70L',\n 'R1MT21GT8EG1IW',\n 'RF4ZIK9N4H7KO',\n 'R2XX3TY6JTRM3X',\n 'R1QIUHHK90O68O',\n 'R3JUJBD2YPMT75',\n 'R1YWJ0S9988MRG',\n 'R3R0ERMOW4LXQ4',\n 'R2JZ4RX9U3ZPS9',\n 'R5BIFCX7NRH9M',\n 'R2HI48090MT3CA',\n 'R3605DOO3K3YOC',\n 'R314HSTX8E1EJ',\n 'RJQJBY3R7OCCR',\n 'R3LCG43SFWHM7D',\n 'R3HOEH8ULVNGKM',\n 'R2R3GO8SMV8CB9',\n 'R213WYHQ57VVJ1',\n 'RKWE3AJVNN4CZ',\n 'R3OXM7B60SXAQ4',\n 'R1R7RWJVKS6W77',\n 'R13JIFKD3BBKKO',\n 'RPABUA3JUJIID',\n 'R7GZSQ1ELBOXN',\n 'R32V8MSKMMLUN5',\n 'R3CYDMDKIJNHLM',\n 'R15ERWEPSCM30G',\n 'R3T4IVDIQUHILL',\n 'R2HKRF31IBGH5M',\n 'R3O24627P3N6M',\n 'R35OVONEQC10PW',\n 'R3AQHHHF87NUIO',\n 'RSX36KORGW6RC',\n 'R3UM4M4W8W4N97',\n 'R3L2H5OHSXV4DH',\n 'R3K8JMD1KCKVHN',\n 'R1HN5RVV81YR2P',\n 'R3J5ERV2RUKS3X',\n 'R3EN8W9BGA980E',\n 'R39B501LJEOLCT',\n 'R1YIJMWVU2BWOG',\n 'R3H3BM0A1GEUYR',\n 'R16VNHJV3F11W5',\n 'R1H69S8SE9B441',\n 'R2YAUQ1BDGINOT',\n 'R333Q8SFW39DYP',\n 'R3MOLBX2BNOUA8',\n 'RN32V71UU03E',\n 'R1HORR3JAMK5JS',\n 'RXWNM3B6QRGFQ',\n 'R1ZWHG6BREG4TI',\n 'R3N7D78YCBRQ7A',\n 'R1X3Y9K7KYYID5',\n 'R2RHG2T5A8SY33',\n 'R1ANL13715AHI8',\n 'R37DEFX9R9Z1UR',\n 'R3K90KOWO9BRG5',\n 'RGBPF94U1Q3AP',\n 'R4G8R9464NNV0',\n 'R3IKRKIYQNUJ5O',\n 'R1U3976PUGJB1H',\n 'R2ZEB4AV7WUKD9',\n 'R3F7PVHCWZ7825',\n 'R20EWQB9EO49O4',\n 'R1F6HBZXG8AIM9',\n 'R1O2NRFYZGAPYG',\n 'R12JY1548G34N7',\n 'R36UV1D5B7BAIM',\n 'R2IKWW5ROQ6HRK',\n 'R2FO5NVC8EC3UX',\n 'R7PR3OAO4B70Z',\n 'R39JSNG56CF1BJ',\n 'R2DAQ4QVH1U0YA',\n 'R3RBMB7VMRMM6W',\n 'R3NN1U54U9D111',\n 'R2KAX03CSMEFFL',\n 'R2YP6W7W2J521W',\n 'R1UK7OI8D2OBLM',\n 'R2B5HYI1WBCK1E',\n 'R2RH1KQZZSZJ7P',\n 'R123JGKAP9S28X',\n 'R33WWG9IHMRTG',\n 'RGUL36MON6S1L',\n 'R3ICUOGOJHAKOQ',\n 'R3SE53A78DOR0Q',\n 'R2C4SJA5N02XDX',\n 'R23XB413Q63DKV',\n 'RBKQ4CWQPGYKS',\n 'R3763CDO1X742J',\n 'R8KTNB0IC7JH3',\n 'R3PRC7CMBEMZ1V',\n 'R2IGTAHJ997503',\n 'RCWB1YJQ56E8S',\n 'R1OND9PD0EC863',\n 'R34BO0ZKA1I5JG',\n 'R1T8DW8FPG67EK',\n 'R2MS532WRB51I1',\n ...]"
     },
     "execution_count": 6,
     "metadata": {},
     "output_type": "execute_result"
    }
   ]
  },
  {
   "cell_type": "code",
   "metadata": {
    "deepnote_to_be_reexecuted": false,
    "execution_millis": 1,
    "execution_start": 1654070346789,
    "source_hash": "cbd036b8",
    "tags": [],
    "cell_id": "00060-cd983e53-a00c-4159-b183-ffd8ad68d8d1",
    "deepnote_cell_type": "code",
    "deepnote_cell_height": 98.953125
   },
   "source": "#combine remove_reviews, remove_reviews2 and remove_reviews3 into one list called fake_review_list\nfake_review_list=remove_reviews+remove_reviews2+remove_reviews3",
   "execution_count": null,
   "outputs": []
  },
  {
   "cell_type": "code",
   "metadata": {
    "deepnote_to_be_reexecuted": false,
    "execution_millis": 62,
    "execution_start": 1654070349608,
    "source_hash": "c0b8b6af",
    "tags": [],
    "cell_id": "00061-11a5a3e8-b197-4f57-aef0-1cdf9631e8b2",
    "deepnote_cell_type": "code",
    "deepnote_cell_height": 707.953125,
    "deepnote_output_heights": [
     611
    ]
   },
   "source": "fake_review_list",
   "execution_count": null,
   "outputs": [
    {
     "data": {
      "text/plain": "['R2XP7IT7WBPZZ4',\n 'R1N799NZ4DA5I9',\n 'R2IJJ3700Y0FAV',\n 'R2K2WK38XR5FKZ',\n 'R8P7Q3NE3Y83S',\n 'RH5S9U2O986EO',\n 'R2J6S9QEIBXZ12',\n 'R37R7W7NP0W2HR',\n 'R2Q49CHI4FQE7W',\n 'R20HZYSZNZCTXI',\n 'R1FYQ6XBZ7DROH',\n 'R16AB1BB711MQ',\n 'R2H4ZPCDG6J499',\n 'R1I45HX1F3CEEN',\n 'R33B5EJNQUDJFQ',\n 'R263HF7Y019EXN',\n 'R2HY5SZEWWV85X',\n 'R3MVJI5VIUD1X5',\n 'RORI55TTADI1D',\n 'R3QGSRYM0O677I',\n 'R7GX7JKCBQEBJ',\n 'R3IWX7KI9ME00Z',\n 'R3H3Q9C71TJ245',\n 'R2OXHXPHP6QFDH',\n 'R2M2DJYNGDYKQV',\n 'R3OCDJBYBH58H4',\n 'RHDVMBV6IE7XH',\n 'R1DC4EYQQFBQ5N',\n 'R3DWI4IGHITTSB',\n 'RVL6X6XTAV2OC',\n 'R2XB3EGZKSEKT6',\n 'REVNCXLCI2693',\n 'R351AEVJKC896B',\n 'R37BYYM3LNJ04',\n 'R2QNV1CY6IR8YZ',\n 'R34EZZ68VYPHO0',\n 'RDO57PI4KV5IA',\n 'R8XZVIW6UHPGF',\n 'R18FQT7C4UFCBD',\n 'R3898FYOA3LAYV',\n 'R1XB7Z542G0I97',\n 'R2K6X4LC2NHV0R',\n 'R20HND185O0FLE',\n 'R1XYU41VP0ZXLA',\n 'RO6UAHSJNV9E6',\n 'R104MY31OKNGXH',\n 'RWT1OTTEV12NZ',\n 'R2H7T7QDBOLJXW',\n 'R1MJCQGOKPWSO6',\n 'R3LJGWW0TUM2DE',\n 'RJLIBGUCDLEZ7',\n 'RS3QHIU5EDJCF',\n 'R1YTBAG6HD48JI',\n 'R3DQHDU2WIHCUI',\n 'R2MQ87WXOD18HO',\n 'R23OQU3QDDMRK4',\n 'R3VIDUEMIF1CZT',\n 'RV76BD4BBGI0U',\n 'R3PTD2BL5F2P3S',\n 'R3Q046U8FZ4X3K',\n 'RC92IT9ENY4TA',\n 'R261EV88NBGM5D',\n 'R25IL7DCFKGMXZ',\n 'R3VHRN80D3K0B6',\n 'RMXIO4CAYR8O1',\n 'R36A0KHN48CHBP',\n 'R1HHV19GIRFA9P',\n 'R1G2I0A7LPF41G',\n 'RK4YNJ84Q71BY',\n 'R3C7OODQINRA8M',\n 'RUC0IUI8OP9EG',\n 'R1TNGCEFQ24HE8',\n 'R14BLNL7DBHVRW',\n 'R1VG4MT1VPY055',\n 'R2BUM5VFB2ACUT',\n 'R2B61C7TYQR2EO',\n 'RKLX3GP4P744D',\n 'R1SBEV4UVK5BYN',\n 'RYRQJX8TGIUHW',\n 'R1I1SAO01OYTA3',\n 'R3ELSRXDF1FBGJ',\n 'R3HTXIER9XSC1N',\n 'R380AYUQRK3B8P',\n 'RAZU0M0FWK9K8',\n 'R3QPRXEHA9RCWB',\n 'R1467K4KRTM0FJ',\n 'RSBMCE0787I8Z',\n 'R2XSY1J9113E6X',\n 'R2MV8R7D6XRR1A',\n 'R2Q5F9JF12ED44',\n 'R3VLPA0R3FIOFG',\n 'RP2OWBBQT173L',\n 'R3EWOEPIJIP6LW',\n 'RT8RCRDMGP59I',\n 'RKXMH6MQ7MB8Y',\n 'R2AFK148WXYLW5',\n 'RP08GVY9EU6NM',\n 'R60JQN9PDDK90',\n 'R2ROIXNRML4GU2',\n 'R51ZAJN340R0A',\n 'RJNAH6K2JMLSL',\n 'RK2SMU85QSJQ3',\n 'R2HPDPI0FLASE4',\n 'R1MTOG8C9Z45BX',\n 'RS2A32D19I2H9',\n 'R3H2QTTV16RT63',\n 'RE5HMKRUQV18P',\n 'RWY13SSOFJ974',\n 'REAUNK6LWRIKU',\n 'R3CZ23MR6BC22M',\n 'R18TG2USOSVOC3',\n 'R2J68T8Y2ZWUSP',\n 'R3V7GO2GYDJA9M',\n 'R2YMGR8WYB3SWP',\n 'RGZ4MVKOULIXR',\n 'R802NI63NKL9V',\n 'RBKUGHHNXVYG0',\n 'RHK9SLC4KVI7E',\n 'R2F9QJVPFJ62XJ',\n 'R32EGNIY2XBFLP',\n 'R2O0LZSPMME6US',\n 'R367YN06PHF3SL',\n 'R1ZYAN34E54Z6C',\n 'R1KJT0YZ6Q7F5D',\n 'R1DV5KDMWH08N4',\n 'R174E63UVEWXYD',\n 'R1URGQG52JBIKA',\n 'R13H2YPLZ5F4FG',\n 'R2XTTZR64HR5WT',\n 'R2THF4WA4YMT19',\n 'RELTC0HO9YG6A',\n 'RPEZ0SYDUTVHR',\n 'R2CWQM816OMY34',\n 'R30KMQ9A0L3HC8',\n 'RJ71UJWKMUMOL',\n 'R3QJGA8GWDCTJ3',\n 'RYAQ8YK6M374L',\n 'R2L6R25DJDWD4V',\n 'R1OGYLKGK2USEE',\n 'R1BLPUJB0DX2Z9',\n 'R3L5K8V5YCDLV6',\n 'R100K74OXW3KD0',\n 'R1ED9U68DFV8V4',\n 'R18XUEGLSQVMM3',\n 'R2WX33ATCXHCSF',\n 'RLXTLD5VTX858',\n 'R17RT9YAHGPLML',\n 'R3DL9NU0CIPKH',\n 'RWRD4W8EG76J1',\n 'R3JQAX7NP49PRY',\n 'R1HSO0UL9THT4U',\n 'R1XAZHH5MF0BBH',\n 'RXDCJEIWJFA9D',\n 'R2M2L440U6AAJJ',\n 'R3SEJVRLKX4E6I',\n 'R3KXIG37RIZAFI',\n 'R1VPWWEGR3ZY7E',\n 'R1NK0GJ5WX9J9E',\n 'R2ZI0TIB561C42',\n 'RYW1YT2Q4MQ62',\n 'R1J42HVIEBY10C',\n 'RK5JZCSRIZDUO',\n 'R3CFI4C2T44OH0',\n 'R1S14AETK9NVFH',\n 'R2CODJGIMQUY8D',\n 'R2NNIXJ11H0GSF',\n 'R3RRYY23ANJD99',\n 'R113MFNEZ9VFZS',\n 'R66I3Q6674C4B',\n 'RLXIQMKQNBSDH',\n 'R2TN5287YB5O5A',\n 'R194U8HWRYMJJT',\n 'R2PDW9629J8S3H',\n 'R260JCLMPQXGKO',\n 'R1832OFON36L2C',\n 'R2ET3M4CG36QVA',\n 'R30MY95GPQDGSB',\n 'RX1EMI92N1WXC',\n 'R3TA9GIZU6R9ZM',\n 'RB8HA4I455ELA',\n 'R3KQB8T3RUP1HK',\n 'R1CWQRGCBEJYY0',\n 'R12BI7OVVMHZ6A',\n 'R1JB2FIQVAC46Z',\n 'R31OEU3B5FDI8A',\n 'R1GZIUKMHTY1UB',\n 'RU1BAQVSZ77KX',\n 'R119V02ILAYFRR',\n 'R1P0F00UCM7HBQ',\n 'R3HOYAAIKSA7VB',\n 'R2W5YZQG2KTNSO',\n 'R98B5MW7K7DFA',\n 'R37L5U3773P9TL',\n 'R1X4QGRNO5Z7EL',\n 'R2XDUGJDPUM0L4',\n 'R1PG3C1XFYDCY8',\n 'R17Z4ASK4JF861',\n 'RE9DAU670BX1L',\n 'R28KK80NQ1OWX7',\n 'R22AAC9RY7XMWF',\n 'R3DK2D6EHJDM02',\n 'R1A0NIYJ19ZQ7G',\n 'R253Y0OESD1QS2',\n 'R3QKY0QOZ38JU5',\n 'RAR3XSHE1X3FL',\n 'RIPOKQX5CN9FX',\n 'RYXL5DV0LHU8K',\n 'R3IYS1G4QUWCKX',\n 'RMT3UEK9R3LEH',\n 'R268Y5KZIIP3XI',\n 'R32RLPFB3BUF8N',\n 'R98LQPZZZ66UV',\n 'R2HLQ63CQPZV5E',\n 'R3GMA9Q92KINWM',\n 'R2XCPDB2B44NDW',\n 'RULQV4941HMZ5',\n 'R3LXCX4MCDYQEK',\n 'R8IL7462X27YZ',\n 'R1DA7Q9CEDRI23',\n 'R25BHMLRWFWPN1',\n 'R3UVB6C8U7L2ZY',\n 'R2YH2439HLA5J4',\n 'RQJISYEXZ6OHY',\n 'R1PLK4QEMAWNXC',\n 'R1NR8MPRSMM0PG',\n 'R321L5O20GCTH4',\n 'R1ZHZPKT1A524N',\n 'R26CHAEA0NJEPT',\n 'R22BYECUU3HYGX',\n 'RMDEIDN485JIP',\n 'RPXDCQ1AW8I6U',\n 'R1DZUZWRAJVXVO',\n 'R2D0C49KSVCB5F',\n 'R3BUPK4VY7GJXX',\n 'R2E2YPQ480T843',\n 'R1FF9JBJVFRE5Q',\n 'R38VUNFHQ829WQ',\n 'R3LRWIBWD0EM3Q',\n 'R18XEH3CTI17PJ',\n 'R2B8R3L0CZG4DD',\n 'R3G5H8HACXVU6E',\n 'RUAXZ2T4XBWE0',\n 'R3JRYOG8D8KO4E',\n 'R2LU79GWSRJZ7A',\n 'R1ASDFLWYKZZO5',\n 'R1ON4IXZB3O2ZX',\n 'R309CG6X5YVGRC',\n 'RNT8WMQCE6ZNK',\n 'R7B1XKSUBVVYH',\n 'R2KW2DFY5P0P3A',\n 'R3890V1Y3355HT',\n 'R1I80QK5MC617N',\n 'R1GZPU0SVM8SA3',\n 'R2J1IO3U7KQ57M',\n 'R288DG661IHEJ9',\n 'R2ZE84TWFDUUK2',\n 'R3KU91065W0MEB',\n 'R2D96W31IAEA9O',\n 'RW1LT8UJVXHCB',\n 'R1C3X241TZ13XK',\n 'RT9U9W1PE7XB7',\n 'R2JIX19YD3WHT4',\n 'R8J54IMM2TCLD',\n 'R7RZBWRFUIZNR',\n 'R25BP64Y7OBXNB',\n 'R2SWNBFX931XP7',\n 'RW5R5U981902D',\n 'R28SBTYIL5OCGD',\n 'R2N8N3JHHPRYFZ',\n 'R1313WXHZD7MGX',\n 'R5XFR314DAER4',\n 'R20S4H861YEQB3',\n 'R1TU6ZFT4TEQ3P',\n 'R1KM113Y02PGT0',\n 'R2G0LI870J1H5J',\n 'RNDH75JE9I8EY',\n 'R1TMI1XE916HSI',\n 'R26YZWQ2VXVP8N',\n 'R38P1QQGMIA3UV',\n 'R27LD0IX48PSH0',\n 'R1FA101J72Q5N6',\n 'R1X3GCQPAYCJ0B',\n 'R3DUOUV902K6MD',\n 'R19DX7I2DE6YE3',\n 'R1X5Z3HJS57LIN',\n 'R2NWNV371VKOM3',\n 'RPQX72L1WMCOQ',\n 'RCHI2UL5CRGTQ',\n 'R286FBMJM6KBVL',\n 'R3BJI8TS2B2UYS',\n 'R2KLHK70AHOITV',\n 'R2LJH9HLON5K23',\n 'RS3WNPNGUZQMR',\n 'RQ6JB8KGZEAQC',\n 'R3S1GI85510357',\n 'R1N7UEZRGFON2P',\n 'R24SL0283VNCPK',\n 'R3AGXFZP9U1GBM',\n 'R7OINDI1RJASC',\n 'ROMBUJ1PQBND0',\n 'R1RVGOH3ERNHWA',\n 'R2UIOLTCBWMGUQ',\n 'R1NP6TGG5T9WKM',\n 'R2VH1PAPN673AZ',\n 'R48AWFNSQC5UZ',\n 'R1NRRN3A7MLZH4',\n 'RKDWYW5074B52',\n 'R15UUYYAPVGFXB',\n 'R2RPO88S6EIB9T',\n 'RZP1YLW4FB0ZJ',\n 'R1Q73EVHPZ3RVV',\n 'R2TRE6LQYCVEYW',\n 'R1YG6X03URYI8T',\n 'R3FGTI4HR5WBLF',\n 'R1D0GFI8WYGV0Q',\n 'R2BPT7LMMPWISV',\n 'R30X4V0NO2GOAW',\n 'R3ISGPEW3GWCVT',\n 'R3KJ4MLARLB8YI',\n 'R1VZZKZ6Q9X5RW',\n 'RU0GH45JOJFTF',\n 'R93V3P2RTUXUW',\n 'R2CM5NACQ8OCWI',\n 'RZ9X3UVPYHZY5',\n 'R1RNP94U4ZBQ5A',\n 'R3BBXYMBOGFDOL',\n 'R2AEPF80E49X5I',\n 'R11T0Q1H6Y3TUB',\n 'R1OFI0QQPTOMW6',\n 'RI1TYLKHWTR7Q',\n 'R2M5F3I1UG7PO0',\n 'R16PNF5FYHUDMK',\n 'R34YPA0LFHJRAX',\n 'R1661GJ1ODJ4GA',\n 'R2R42P2AX1XX6E',\n 'R15FDVJE0SN3JA',\n 'R3KGQNCV5UPSY7',\n 'R4EHAURULNFJ7',\n 'R1HKNRLT4P8P76',\n 'R1PTM1Z4JS2NDQ',\n 'R33LT6M364OAOP',\n 'R1KH75PBOSUH0M',\n 'R3VJRLU3J9DYFW',\n 'R10OFCY1NG9XT1',\n 'R37FE90F4D66VZ',\n 'R7L22LEG2BUVA',\n 'RRLR0UYQ5HEBQ',\n 'RGH01F1K99CJN',\n 'R1AEL8XMKRT511',\n 'RWJJ2SRY529K9',\n 'RJ7HN0Z79KGYE',\n 'RCNWU1OYGPYUH',\n 'R2RMALH8GX2JMD',\n 'RYV0E9CUARKQO',\n 'R3VDE5CDIQ9UZ2',\n 'R3N3LAMZQWFPL9',\n 'R12Q28IWO88AR1',\n 'R1L6TZGMJY7CZZ',\n 'R2XVNWIAEXUI3D',\n 'RHGPWX9D0FZX2',\n 'R16UR7RL82709S',\n 'RFJR8H9C7K26V',\n 'R3PTK06S3KGU9T',\n 'R6FHRJMJ9A1E4',\n 'R1GLGXKT3BUUIP',\n 'R1A99SA3TDUBMD',\n 'R20FLFR451WNTA',\n 'R2CS554WNID2HV',\n 'R2PK1727JDCXN1',\n 'R3A4D1FKEKZ7AV',\n 'R3FNWBRE92H42D',\n 'R2IYXDDETMVUHG',\n 'R1JC0Q26DBCWX1',\n 'R2F8SQLK019RNH',\n 'R1S36WXAYUH09A',\n 'R3FO23QPKRFCJ8',\n 'R2V0HCFSE40EII',\n 'R3BLDISO273PIQ',\n 'RWQJH7GNF5XSF',\n 'R2B4LTH3T69U1',\n 'R1UJ4EQ7BIF5GK',\n 'R30YHBJQ6E4E2G',\n 'RDSJQSAZIQBSU',\n 'RBI83XASU7ZSP',\n 'R3U668T3TDBR0',\n 'ROXHLY7K9173Q',\n 'R2DWUN855LF6U6',\n 'R3K82I2ONT7KFD',\n 'R2FINNQ82O1LZD',\n 'RISO3IGNUMK2D',\n 'R3J4M6IHNIVUF6',\n 'RCZLBE2OL3X0B',\n 'R2MYVZPYZAEZZN',\n 'R1GKAQ35KHAM6A',\n 'R2TID4JJCEDWVA',\n 'RDCB7XKJ1CCY8',\n 'RCJYMSYZLMEVZ',\n 'R3078R9IW0YEPV',\n 'RM1P5CBRCW1J0',\n 'R1Y0S4R84X9XPY',\n 'R1E8YDQ6S8VBC0',\n 'R3O7Y3J8B7CFXV',\n 'R2N29SWNVQZ0TW',\n 'R357GBBFGOZ2H4',\n 'RBDB1DUI1356A',\n 'R31IHYHGMK0BNQ',\n 'RURBZHU2CUEAD',\n 'R1N7DDCXX6N10Q',\n 'R2W7OP16NSAUG7',\n 'R38IJ43J8M50FB',\n 'R1DJB46J0JLU3B',\n 'R1P8C7YF1SNJIH',\n 'R1NQOZT7ZUFARN',\n 'RBYNRZS3470MS',\n 'RIJ8SKEPFZ0FQ',\n 'R3P1JMQCOTRY6Y',\n 'R2AVJRD3KDRZ3X',\n 'R3PS4GS8GXXQ3T',\n 'R2SGRFTM7FR78S',\n 'R317D4TU9VXQK3',\n 'R27IOP4VTSL5LK',\n 'R2ZRSKAP7CM9S1',\n 'R2GS3ESH6EJAYF',\n 'R3CQSJK6MKFPR5',\n 'R2DPCF02NONCP0',\n 'RHKT1XC6W1SS8',\n 'R3FAV28GYZDFNS',\n 'R1C9QMEFG018AM',\n 'R2ZXJ310QAGYX1',\n 'R3FZ77RBE33768',\n 'R2QN1591ZEUSLX',\n 'RX3REE8YK33X3',\n 'R2FJQN4ZAHEZ1A',\n 'R1F10B7HWK27F2',\n 'R2BIKLVNOC429M',\n 'R3G23YM4XJNG7W',\n 'R1TVJ2DDR5KT3T',\n 'R2DVMSVCOHC7N7',\n 'R3Q38EEXCSQF8L',\n 'R3LLGZJYS7FUAX',\n 'R3A99XDTB3S67I',\n 'R1OPBBMDBI2IAX',\n 'R275CM6AGNIQI6',\n 'R1B6CGW84VW44V',\n 'RXANA0EYBYRNH',\n 'REETTS40B29IF',\n 'R3N5LSOGGA8S69',\n 'R2Y6X5SUOKYSJV',\n 'R2U0HQO5BXB36P',\n 'R2ATAT4C75CXU8',\n 'R2RB1B6F5G0IYU',\n 'R3NTCO3S4CNVQW',\n 'RUNEK2OWQ8F0W',\n 'RV3V6QPQXMVOT',\n 'RXMNO81J81UU3',\n 'R2XCUAU9HCUI7D',\n 'REU2U17D97R6',\n 'R100SPJKAQ6TI4',\n 'R1JKG1CTOKUP2A',\n 'R1SUGXTFMA2FHT',\n 'R3NWE6CRNYXUPQ',\n 'R1E34H3E32BXPN',\n 'R2M5RJQZADC703',\n 'RI9278XWCTZHL',\n 'R1Z08HKLKPM4RU',\n 'R3RF3NG411BFV3',\n 'R9E611A4NNL5Z',\n 'R3FZGZILX17K5G',\n 'R11BWKWMNU3ZO',\n 'R3VSHMUMY8JCFF',\n 'R2KAMZU9S2V18G',\n 'R25N7M4MC64V2W',\n 'R32WG8UHF10A4S',\n 'R3TV3ZQIHQUWWE',\n 'RSDSFVACVVA8N',\n 'RYRGGQ4NIK3VB',\n 'R3D5OD28O8OTTW',\n 'R1AMY55WWN1960',\n 'R12RBG6S5X2Y9F',\n 'R1NGK8W2YGF4KG',\n 'R3MEQJMOMES8MB',\n 'R34HMDA3YHIGGL',\n 'R3LXAYZTREV9SE',\n 'RRZBTUEZYIHN5',\n 'RM4KYAPHTWYVA',\n 'R2F6G90WAIWKZR',\n 'R2WLR40KGIUB2',\n 'RIKPN32YCLIYY',\n 'RCB13K8O7OS0F',\n 'R1K37JTJ03K0U',\n 'R1G14A2O5G0V6D',\n 'R3CTWSX8YAH90D',\n 'R159JVK92BBDTJ',\n 'ROF9PU3X9BM6W',\n 'R2UWMGEYJ6UG50',\n 'R3M1TR0OKERQS0',\n 'R3TZED4EWF7LKW',\n 'RRINTQFVGT209',\n 'R39H8KKTZIEMJX',\n 'R1XR716C9XS64',\n 'R5Y7WWDVKEUKS',\n 'R3LSO2FL2ZTNJS',\n 'R1UW5CE1SRWXEG',\n 'R22E44OMW53A3O',\n 'R1FQ6ZJ3YM5TPW',\n 'R2B1J0DV4Q90C',\n 'R2HM425RPVB5OV',\n 'R3H115TI9HG1A8',\n 'RNN38RFJVIE5G',\n 'R1Z65S58AEJJMJ',\n 'R3MWLDA9M77DJ5',\n 'R1L12BFD6RYXJU',\n 'RMCTDSYKO0HVQ',\n 'RN0PSP8IDMKM8',\n 'R1D3KIOQDNUYDK',\n 'R2JLPX7U1LFZ0L',\n 'R16NN4MG954D7X',\n 'R1RD8OXEHP0Z4G',\n 'R30HKZ1L9IKISC',\n 'R1MSF5J0BLX5JB',\n 'R1Y9FEZ28WXX61',\n 'R117VG9JJAMOHN',\n 'R3VGAMF3UYOOE0',\n 'R3MDZZU56GPUWZ',\n 'RGJV7OZJMNRHZ',\n 'R31V22ANXPYTZJ',\n 'R27L9Y7UUX8OAX',\n 'R3T0N9A2SDWVQ7',\n 'R25VI660K2KW0N',\n 'R3CC80M8AB3TMG',\n 'R2QCDSEHN4EA7F',\n 'R1BKGIT2OA81ON',\n 'R17QFJMP8PG2OO',\n 'R2Y13OG5FQZBB7',\n 'R3S81IXDGZZ1WG',\n 'R1D29E4YCB0GP',\n 'R6D3FBJR6UPMI',\n 'R75G1CZ1K3M4U',\n 'RZNCOKLFTRV02',\n 'R1AEWMPKRHO009',\n 'R1I27BR63GST2W',\n 'R2SU3LIZTQC9OB',\n 'R2539JBKKEZO1X',\n 'R1G3ESSSJY9MQF',\n 'R1AQIU3Q6IADCT',\n 'R10U8GPNK1IE29',\n 'R1SNYO90CMI8GT',\n 'R2JJDHU9EF7DQK',\n 'R2HNLGP5UOLB7M',\n 'RZIZI6MXHT08E',\n 'R1D47VCUIO7GCM',\n 'R1P2B34QF4ADMT',\n 'R3501Q2ZK47XY2',\n 'R1TWYT7MYM9XYN',\n 'R3F58I5XVJXYNT',\n 'R2Q4UKTHJKPV19',\n 'R2WHPTQLEU2PA0',\n 'RZBQ4L1TMVPAL',\n 'R3EKKR3F5QHW2Y',\n 'R1NL1E36NXA99Y',\n 'R1XYE4DPHURH1K',\n 'RIQHHU5KJHUT7',\n 'RVK6X6VDKTHXF',\n 'R2ZB7KSVT3LE0',\n 'R1W0JR6H5CRNS7',\n 'R7N3WLI7C64OJ',\n 'R1FFMV2OGGGBXI',\n 'R3K2UZ5AYQQ52I',\n 'R3H8RKYPOZJX13',\n 'R3SOEEKKKHB5LE',\n 'R32YH2BV6X8WOU',\n 'R326IMA66X8KXB',\n 'R2URVOL4YQ1PCV',\n 'R1F94O5UMCQKHD',\n 'R3GGM9WFD9OQSB',\n 'R2MXPNP5TAWXQ8',\n 'RLP39CVUG7LC5',\n 'RA6OHYP373VWR',\n 'R2SL70XBCIUL1A',\n 'RSPXX9CVKM3NR',\n 'RMXAZRWDS47OS',\n 'R1G1E7FGIQSOHM',\n 'RNF4MZ8RK6ICV',\n 'R359JI8PHR92ZN',\n 'R3L9SXX2MIDF6M',\n 'R1RX7FQYWOYV2E',\n 'R1NXJOD32GM0XE',\n 'R16CEWB8BKZ06H',\n 'RYBSSMO5D6CXA',\n 'R169P7TXQAB7GF',\n 'R2ZWZ1SLYTJK8B',\n 'R13QBRSTDYMFI7',\n 'R5VSM0VPKN96Q',\n 'R1UATTYXELKRLJ',\n 'RVLVQ9O1YXC25',\n 'RRJEXG5B2QJ5A',\n 'R2GL6CVNJCREMJ',\n 'R2KF9QCDP7I1N6',\n 'R1ZUF3P9CDOAU7',\n 'R1468J8UWG1Q0B',\n 'R347ADGY5T3A8H',\n 'R1UUB87DTEE81V',\n 'R2LEIM8T2ETXLB',\n 'R2B7YH8HJ68NRC',\n 'ROFX1MA98MFHL',\n 'RXA0F4RDG0FYB',\n 'R267LS88Z8MWYS',\n 'R10JXFXKBOR2K9',\n 'R35Z3EQEEDOW65',\n 'R3OTMVWJ4AJ20K',\n 'R224TA9DM6VLTV',\n 'R29H6W92OYTBFB',\n 'RRZVCG1YWODD6',\n 'RC2AS67VRLHVD',\n 'R22ECRS37Z8987',\n 'R1ZE2X5ZXKVEK',\n 'RI05ZDB3QG4TU',\n 'RO50JI09W9OP2',\n 'R2L7G1ABEOWWTU',\n 'RBGI18RS1F1Y6',\n 'R10I1IV8JB3DEV',\n 'ROEOHMDBOKLME',\n 'R3QLAW3AH606B9',\n 'R2KT25S8Z3CZVS',\n 'R3UK0NUIZVO930',\n 'R20GM06XT3OBO',\n 'R1YHTMR4BLXGY9',\n 'R39D9QPUXDSMPS',\n 'R14F227PVYHZBJ',\n 'R3CS01BX8HDVLA',\n 'R1RZOM00Q9FU9C',\n 'R3ORC3LXC1XJI3',\n 'RUFSYWR4JEM9X',\n 'R1YHSD6U1YEYKY',\n 'R15VHXOPX7I9TE',\n 'RDMYWLNDOMOZN',\n 'R22PIN0TNDTD70',\n 'R2A08CI9IIR98G',\n 'R1JONCK3MF02LG',\n 'RLYQ8B240YTFK',\n 'RSIBE5QASCAV',\n 'R29278VPRLYN0O',\n 'R2PRMLMBICKP0O',\n 'R3GFDXA6CGWTZO',\n 'R1AUT4J66FINEI',\n 'R3BFZFFX5TILG2',\n 'R3QAX1B6TZSJVM',\n 'R2EVI34A4HT1S8',\n 'RCG2JRICY1W3T',\n 'R1ZS5H26SIQ3QQ',\n 'R1IUTHTII43960',\n 'R1I9AMDUXPJMRG',\n 'R16JGW7Z6QGSZT',\n 'R3QV1FM0BBISOI',\n 'R39Y79LGVUIWAA',\n 'R18CQUTV42D0R2',\n 'R3KGGETPQ1JR3H',\n 'R9H7RM5Y3312Q',\n 'RZR8DOQ6AZOGP',\n 'RWFK9OM6YEG8N',\n 'RK6UI7TPX3RYS',\n 'RIABE5S60ZUN',\n 'R1QP7GN1T8D8OM',\n 'R2HIVGUJU36W87',\n 'R21HEAB3O1Z9O2',\n 'RYGB8JJ7QS6OD',\n 'R2FQ72XWPL1NLO',\n 'R3CU67FFUPCHZE',\n 'R3AQL1RDREB5MA',\n 'R2ZKM3L39Q74V6',\n 'R24ZXB1XH9ALM0',\n 'R3ISAXLQKJEE53',\n 'R1L7AUETBKS36D',\n 'R3NQG520MIBX2F',\n 'R34SB0X2ASV8YZ',\n 'RQNRHMQVDSX59',\n 'R1Y3W0LSNMJLMA',\n 'R2BMYZ537RJ9SA',\n 'R10POSNOTU3AFW',\n 'R28P2TYLKF1898',\n 'RQZ5DGUWN3U1A',\n 'R1AZMEHZCA1E31',\n 'R2IN0AI5WF40W9',\n 'R175PSCS49AUEC',\n 'R3FUHKCRHX6VF3',\n 'ROCH6OVGVL4IG',\n 'R3HMN3PFWMRJF5',\n 'RDM2R57IACDV8',\n 'R3O6N7I4Z5I8VD',\n 'R2ZW9US8X3RL52',\n 'R1MQNQWQL4KSJA',\n 'R354A8MGI6MLAY',\n 'R1Q2R2A7RA21KT',\n 'RMNORSGY7DPSN',\n 'R3I7JG7CSBOX9T',\n 'RKOFMUI4TMSZK',\n 'R7SMHP1OHEY9M',\n 'R21TJPUAQBXAXI',\n 'R1U7WH0485U672',\n 'R36TIZQP9W8PM4',\n 'R110H8261M3AVK',\n 'RM35UV4RRYK6T',\n 'R3O6PM2AD6J46T',\n 'R2QZ1QNHU33E5N',\n 'R2I01MAQS5S9LS',\n 'R3KVHPFK1XAL43',\n 'R1LRKPM9IN9TL8',\n 'R2K05HKEOOILBC',\n 'R1W75TSXGZSHXG',\n 'R1IG0HF4S7ETGY',\n 'RW2X2U50TUD3P',\n 'R1U8Z8CP7ELYC1',\n 'R20SN8LLY9C17K',\n 'RMED3GZ4S0GQD',\n 'R2U7CLN1LLGLF',\n 'RJ24RFFGP88HJ',\n 'R254E03MTTUOA3',\n 'R33JQ7EYABOOHR',\n 'R22GUFMSXKR8QB',\n 'R1GL25PLS5KLBE',\n 'R2IK1LEQ215GI4',\n 'RF3MDIDFS7YBJ',\n 'R17FQYCQVIGA2',\n 'RVWIW04V32YKG',\n 'RSC9CAHNVO8C0',\n 'R2RQA22KHWV66L',\n 'R8MYVHH7NJ5V0',\n 'R2OEC48EY680S2',\n 'R3DJPGUTJDNOVY',\n 'R25EU5FULK7PVR',\n 'RBYA6QX1TQ0TB',\n 'R3M1FLIM1PIFQ1',\n 'R1J669ERM0VHEV',\n 'R3Q2KS8U6RIBNY',\n 'R1Z8ELAMMZEWII',\n 'R1V5AJ8K22MZ19',\n 'R3UBKJT7PR32G',\n 'R3TN2BFQV8DXB2',\n 'R1X3UHSQR7JKYC',\n 'R64XNM27MA5PU',\n 'R18PVSPBA3QI77',\n 'R1VYEGLL1P6FOA',\n 'R12A2D870GBHXN',\n 'R3RSU3JQW7SROB',\n 'R3MQL55U3IR64E',\n 'RY9MD66FPDJ9Z',\n 'R1LUVPO2BZMLN4',\n 'RHEN2II0ZX4DR',\n 'R1WQL2YNMU1TT0',\n 'R2AJW9RVUJHNUE',\n 'R36F3M892NRQ7B',\n 'RQG462ZZ7L9XX',\n 'RBFDMOMDSA90V',\n 'RCM0TWFZXRIIJ',\n 'R2XTJ33NK5KZIW',\n 'R44QPCOPXS8UL',\n 'R39C6ZRBFVZ311',\n 'R1PKNGXMR1NMW5',\n 'R72IZEVQLKXZJ',\n 'R28RWP73OOG2J9',\n 'RT29T9YQT87VZ',\n 'RGIVGY4GB97LR',\n 'R22ABCRELN8PCJ',\n 'R5OLRLRZIP1KQ',\n 'R15TH4F9CAESDH',\n 'R6Z8T30QYAWC9',\n 'R38S2F95EZ9C36',\n 'R34RTFX2DIA4B4',\n 'R4GNUK4WTNOC8',\n 'R3PEZY5AXQWXHL',\n 'R1S3G6SV5TJK36',\n 'R2ZJLPYVNQN9K0',\n 'RM9577DE125WQ',\n 'R16E88TB7DHIVL',\n 'R31OLYFFY4JCSO',\n 'R2028O8DXRPY3S',\n 'R1PWMG92XH79FP',\n 'REJN0IL314MFU',\n 'R3E1CFG6YHWZYO',\n 'R1ZDEZ356E3HIG',\n 'R327ZC8RXRPT28',\n 'R2NOIL2SFW0FP6',\n 'R1MXCUDXATX9IT',\n 'R2Z5733QTJ529C',\n 'R58XU4C0FGSXU',\n 'R1TN4UZ7MRKEHX',\n 'R1P9AWPRSZ394O',\n 'R35MN9S1W3NDPJ',\n 'RFHVI889UF7SU',\n 'R3LS2RYLW340R9',\n 'R3GUFVMUDMMVSP',\n 'R3I27BHLG2LR6U',\n 'R2FWRI7GJXFS85',\n 'R2A6K0U911J54L',\n 'R3QCIFGSI3N5MB',\n 'R207W7C85GB4UQ',\n 'R1UWBAJR1CDPR3',\n 'R2PZFBE0T89OWA',\n 'R1B7GOBJ2U2FAW',\n 'R36NE9ICTDM831',\n 'R37CJD0A1TGVW0',\n 'R371YHAZL5G8B3',\n 'RPP6ZV102RX4A',\n 'R1VPKKJPN72LAZ',\n 'R2M2ABIAL652AJ',\n 'R1GE424M0G9NJL',\n 'R3MPG6MDDG2BED',\n 'RECS6W0R1LDFW',\n 'R1S29K471Y94GG',\n 'R2P8B0ZDBEG7SI',\n 'R1MQ2NI5K96ZVH',\n 'R16AIDWILEKLGO',\n 'R25NNF0HJSYTXK',\n 'R2TBLPWIZUDBEB',\n 'RWCL4YE4CJU3C',\n 'R17VHL0S2OUGIH',\n 'RODPOX535NVF3',\n 'R2KTUHQNVIRW7X',\n 'R157B7QP58DE5K',\n 'R33JDOH2VOHWEQ',\n 'R1FF3RH752WQTZ',\n 'R3EK8Q0IZRG262',\n 'RQ08F5E0CWSU3',\n 'R22VWU27KJOJCI',\n 'R3A0KIJB1Y3KWG',\n 'R33CSYJYX4U8QS',\n 'R2G59BJIRKJBL2',\n 'RKGHU58LUZD9S',\n 'ROI9HQP6RWV4B',\n 'R2XED8A4Q8WB12',\n 'R37OO82E127Z7B',\n 'R20BETYJ1G1WQ1',\n 'R2WBI9RONJJDE7',\n 'R23ISDP59W1GSI',\n 'RBSEY1Q697DUE',\n 'R1F3AZ26V2BAQH',\n 'R1QL5P78WZZIZO',\n 'R1SLPW92ZI89OH',\n 'R36RDMLKL2V9Z0',\n 'R37HN5NJAVV0B2',\n 'R1TM20JO4SGV71',\n 'RAM9PGMJX3QHC',\n 'R216TXLQ5O9CTH',\n 'R36Z3U3SV46ZQ3',\n 'R290RP0AZ135R2',\n 'R254HGUYZQPDWT',\n 'R2ZR0PAZJX0EJD',\n 'R2OYTETNVEGRZA',\n 'R17GM1L29R9I4V',\n 'RL180JEVI17T4',\n 'R22GOBDFIPJ2YY',\n 'R1U0HBBZLH6UK0',\n 'R2A55A5LW1XWJ0',\n 'R1P5QMI8DH8SSB',\n 'R34CKNMF0QI09N',\n 'RCEGKOGPL56PE',\n 'R3O4V0XKBK6Q2V',\n 'R1ROIM2VIPQGBT',\n 'RDTQXLN9FY8L7',\n 'RBFP226VEKJAD',\n 'R1RWA1XBUQMY4G',\n 'R2NUPIM7JGP45V',\n 'R3ILY1KFCFGJF1',\n 'R1FCNBPQFYIYFO',\n 'R25TAKG8KTXFQC',\n 'R2V298F12A5I3N',\n 'R2J6XZ61SFCX0F',\n 'R3RW1MKXBSBW9X',\n 'R1ELK5WM6OA9AC',\n 'R3CG1HC2J6Z3QE',\n 'R3V9LHCIKESJMH',\n 'RZBAS2W7FL3R',\n 'R2IEPRNON80FEP',\n 'R3PPZLJFJGDI88',\n 'R2L9SAIYU4V6D3',\n 'R1KT2HSNG2Q0SN',\n 'R1POQ9EU104U1J',\n 'R2R9H5SFFZ9H6D',\n 'R1DBK981XVZKXJ',\n 'R3H5G15AMIEJ76',\n 'R1M1BDVOJ5TGW8',\n 'R2P1OHBU6M5YRL',\n 'R2XTNZE0JPE1Q4',\n 'R3LHI2P1UCJ6PV',\n 'R2TTAFTUU2XOLZ',\n 'R1KNQLQHBQH980',\n 'R10PYJVOV9LT16',\n 'R1TAMACBG6SJBM',\n 'R37FS14AB5IEEM',\n 'R3NCOZJ0HH6401',\n 'R4N21TTMUDLLS',\n 'R1TOIX6JN8H0W',\n 'RV6G19N9CYWKI',\n 'R3OGMQ33DY81I7',\n 'R12IJDMUMF6RI',\n 'RNNAKA8P16V6',\n 'R11F2LWDXF1TKS',\n 'R3VX0C56MD20JZ',\n 'R1061O9WGWRZAH',\n 'R1FRDGNO7BDGYI',\n 'R27MBJSK489HL2',\n 'R25LLD2MSPSF3Z',\n 'R32PRISWSLRAXN',\n 'RDRVIXMR2P70L',\n 'R1MT21GT8EG1IW',\n 'RF4ZIK9N4H7KO',\n 'R2XX3TY6JTRM3X',\n 'R1QIUHHK90O68O',\n 'R3JUJBD2YPMT75',\n 'R1YWJ0S9988MRG',\n 'R3R0ERMOW4LXQ4',\n 'R2JZ4RX9U3ZPS9',\n 'R5BIFCX7NRH9M',\n 'R2HI48090MT3CA',\n 'R3605DOO3K3YOC',\n 'R314HSTX8E1EJ',\n 'RJQJBY3R7OCCR',\n 'R3LCG43SFWHM7D',\n 'R3HOEH8ULVNGKM',\n 'R2R3GO8SMV8CB9',\n 'R213WYHQ57VVJ1',\n 'RKWE3AJVNN4CZ',\n 'R3OXM7B60SXAQ4',\n 'R1R7RWJVKS6W77',\n 'R13JIFKD3BBKKO',\n 'RPABUA3JUJIID',\n 'R7GZSQ1ELBOXN',\n 'R32V8MSKMMLUN5',\n 'R3CYDMDKIJNHLM',\n 'R15ERWEPSCM30G',\n 'R3T4IVDIQUHILL',\n 'R2HKRF31IBGH5M',\n 'R3O24627P3N6M',\n 'R35OVONEQC10PW',\n 'R3AQHHHF87NUIO',\n 'RSX36KORGW6RC',\n 'R3UM4M4W8W4N97',\n 'R3L2H5OHSXV4DH',\n 'R3K8JMD1KCKVHN',\n 'R1HN5RVV81YR2P',\n 'R3J5ERV2RUKS3X',\n 'R3EN8W9BGA980E',\n 'R39B501LJEOLCT',\n 'R1YIJMWVU2BWOG',\n 'R3H3BM0A1GEUYR',\n 'R16VNHJV3F11W5',\n 'R1H69S8SE9B441',\n 'R2YAUQ1BDGINOT',\n 'R333Q8SFW39DYP',\n 'R3MOLBX2BNOUA8',\n 'RN32V71UU03E',\n 'R1HORR3JAMK5JS',\n 'RXWNM3B6QRGFQ',\n 'R1ZWHG6BREG4TI',\n 'R3N7D78YCBRQ7A',\n 'R1X3Y9K7KYYID5',\n 'R2RHG2T5A8SY33',\n 'R1ANL13715AHI8',\n 'R37DEFX9R9Z1UR',\n 'R3K90KOWO9BRG5',\n 'RGBPF94U1Q3AP',\n 'R4G8R9464NNV0',\n 'R3IKRKIYQNUJ5O',\n 'R1U3976PUGJB1H',\n 'R2ZEB4AV7WUKD9',\n 'R3F7PVHCWZ7825',\n 'R20EWQB9EO49O4',\n 'R1F6HBZXG8AIM9',\n 'R1O2NRFYZGAPYG',\n 'R12JY1548G34N7',\n 'R36UV1D5B7BAIM',\n 'R2IKWW5ROQ6HRK',\n 'R2FO5NVC8EC3UX',\n 'R7PR3OAO4B70Z',\n 'R39JSNG56CF1BJ',\n 'R2DAQ4QVH1U0YA',\n 'R3RBMB7VMRMM6W',\n 'R3NN1U54U9D111',\n 'R2KAX03CSMEFFL',\n 'R2YP6W7W2J521W',\n 'R1UK7OI8D2OBLM',\n 'R2B5HYI1WBCK1E',\n 'R2RH1KQZZSZJ7P',\n 'R123JGKAP9S28X',\n 'R33WWG9IHMRTG',\n 'RGUL36MON6S1L',\n 'R3ICUOGOJHAKOQ',\n 'R3SE53A78DOR0Q',\n 'R2C4SJA5N02XDX',\n 'R23XB413Q63DKV',\n 'RBKQ4CWQPGYKS',\n 'R3763CDO1X742J',\n 'R8KTNB0IC7JH3',\n 'R3PRC7CMBEMZ1V',\n 'R2IGTAHJ997503',\n 'RCWB1YJQ56E8S',\n 'R1OND9PD0EC863',\n 'R34BO0ZKA1I5JG',\n 'R1T8DW8FPG67EK',\n 'R2MS532WRB51I1',\n ...]"
     },
     "execution_count": 12,
     "metadata": {},
     "output_type": "execute_result"
    }
   ]
  },
  {
   "cell_type": "code",
   "metadata": {
    "deepnote_to_be_reexecuted": false,
    "execution_millis": 0,
    "execution_start": 1654070328763,
    "source_hash": "f19e6ba6",
    "tags": [],
    "cell_id": "00062-8aac861b-12b5-46d5-98f0-0e660680be6f",
    "deepnote_cell_type": "code",
    "deepnote_cell_height": 80.953125
   },
   "source": "df_final=data",
   "execution_count": null,
   "outputs": []
  },
  {
   "cell_type": "code",
   "metadata": {
    "deepnote_to_be_reexecuted": false,
    "execution_millis": 19,
    "execution_start": 1654070330920,
    "source_hash": "bdbf0186",
    "tags": [],
    "cell_id": "00063-ac890f78-1d6d-4880-9c46-d6d14202393d",
    "deepnote_cell_type": "code",
    "deepnote_cell_height": 707.953125,
    "deepnote_output_heights": [
     611
    ]
   },
   "source": "df_final.dtypes",
   "execution_count": null,
   "outputs": [
    {
     "data": {
      "text/plain": "marketplace           object\ncustomer_id            int64\nreview_id             object\nproduct_id            object\nproduct_parent         int64\nproduct_title         object\nproduct_category      object\nstar_rating           object\nhelpful_votes        float64\ntotal_votes          float64\nvine                  object\nverified_purchase      int64\nreview_headline       object\nreview_body           object\nreview_date           object\ntimestamp            float64\nIP Address            object\nSentiment            float64\nSubjectivity         float64\nNeg_Count              int64\nWord_Count             int64\nUnique_words           int64\nNoun_Count           float64\nAdj_Count            float64\nVerb_Count           float64\nAdv_Count            float64\nPro_Count            float64\nPre_Count            float64\nCon_Count            float64\nArt_Count            float64\nNega_Count           float64\nAux_Count            float64\nAuthenticity         float64\nAT                   float64\nGenuinity            float64\nlabel                 object\ndtype: object"
     },
     "execution_count": 9,
     "metadata": {},
     "output_type": "execute_result"
    }
   ]
  },
  {
   "cell_type": "code",
   "metadata": {
    "deepnote_to_be_reexecuted": false,
    "execution_millis": 31629882,
    "execution_start": 1654070354853,
    "source_hash": "64b113f3",
    "tags": [],
    "cell_id": "00064-aecb8fec-43d5-4b45-aea9-56cce1d97980",
    "deepnote_cell_type": "code",
    "deepnote_cell_height": 821.71875
   },
   "source": "#create a new column  called fake_or_real in dataset df_final\n#whichever row's  df_final['record_id] matches value in fake_review_list, fake_or_real=fake\n#same with remove_ip and df_final['remove_ip']\nimport numpy as np\ndf_final_allcol=pd.read_csv(\"Moderately_Genuine.csv\")\n#all columns not required to show feels conjested and difficult to show\ndf_final=df_final_allcol\n\n\ndf_final[\"fake_or_real\"] = np.nan\n\nfor i in range(len(df_final)):\n    flag=0\n    for j in range(len(fake_review_list)):\n        if(df_final['review_id'][i]==fake_review_list[j]):\n            df_final['fake_or_real'][i]=\"Not Genuine\"\n            flag=1\n            break\n    if(flag==0):\n        df_final['fake_or_real'][i]=\"Genuine\"\n\n     \n\n\n\n",
   "execution_count": null,
   "outputs": [
    {
     "name": "stderr",
     "output_type": "stream",
     "text": "/shared-libs/python3.7/py-core/lib/python3.7/site-packages/ipykernel_launcher.py:16: SettingWithCopyWarning: \nA value is trying to be set on a copy of a slice from a DataFrame\n\nSee the caveats in the documentation: https://pandas.pydata.org/pandas-docs/stable/user_guide/indexing.html#returning-a-view-versus-a-copy\n  app.launch_new_instance()\n/shared-libs/python3.7/py/lib/python3.7/site-packages/pandas/core/indexing.py:1637: SettingWithCopyWarning: \nA value is trying to be set on a copy of a slice from a DataFrame\n\nSee the caveats in the documentation: https://pandas.pydata.org/pandas-docs/stable/user_guide/indexing.html#returning-a-view-versus-a-copy\n  self._setitem_single_block(indexer, value, name)\n/shared-libs/python3.7/py-core/lib/python3.7/site-packages/ipykernel_launcher.py:20: SettingWithCopyWarning: \nA value is trying to be set on a copy of a slice from a DataFrame\n\nSee the caveats in the documentation: https://pandas.pydata.org/pandas-docs/stable/user_guide/indexing.html#returning-a-view-versus-a-copy\n"
    }
   ]
  },
  {
   "cell_type": "code",
   "metadata": {
    "deepnote_to_be_reexecuted": false,
    "execution_millis": 0,
    "execution_start": 1655713641889,
    "source_hash": "7d2fa098",
    "tags": [],
    "cell_id": "00065-55c0da26-ef65-4407-b0b5-0f17f3bab50b",
    "owner_user_id": "c11252fb-d98f-414b-9472-bc9a1be742b3",
    "deepnote_cell_type": "code",
    "deepnote_cell_height": 98.953125
   },
   "source": "#export user-definedlabeled dataset to csv\ndf_final.to_csv('user_defined_labeled_dataset.csv')",
   "execution_count": 1,
   "outputs": []
  },
  {
   "cell_type": "code",
   "metadata": {
    "deepnote_to_be_reexecuted": false,
    "execution_millis": 2042,
    "execution_start": 1654239093887,
    "source_hash": "20d22123",
    "tags": [],
    "cell_id": "00066-7ff9e818-ca6b-4384-804e-e8dbb5a6cdde",
    "deepnote_cell_type": "code",
    "deepnote_cell_height": 687.71875
   },
   "source": "df_final=pd.read_csv('user_defined_labeled_dataset.csv')\ndf_final",
   "execution_count": null,
   "outputs": [
    {
     "name": "stderr",
     "output_type": "stream",
     "text": "/shared-libs/python3.7/py-core/lib/python3.7/site-packages/IPython/core/interactiveshell.py:3257: DtypeWarning: Columns (8) have mixed types.Specify dtype option on import or set low_memory=False.\n  interactivity=interactivity, compiler=compiler, result=result)\n"
    },
    {
     "data": {
      "application/vnd.deepnote.dataframe.v3+json": {
       "column_count": 38,
       "columns": [
        {
         "dtype": "int64",
         "name": "Unnamed: 0",
         "stats": {
          "histogram": [
           {
            "bin_end": 5979.9,
            "bin_start": 0,
            "count": 5980
           },
           {
            "bin_end": 11959.8,
            "bin_start": 5979.9,
            "count": 5980
           },
           {
            "bin_end": 17939.699999999997,
            "bin_start": 11959.8,
            "count": 5980
           },
           {
            "bin_end": 23919.6,
            "bin_start": 17939.699999999997,
            "count": 5980
           },
           {
            "bin_end": 29899.5,
            "bin_start": 23919.6,
            "count": 5980
           },
           {
            "bin_end": 35879.399999999994,
            "bin_start": 29899.5,
            "count": 5980
           },
           {
            "bin_end": 41859.299999999996,
            "bin_start": 35879.399999999994,
            "count": 5980
           },
           {
            "bin_end": 47839.2,
            "bin_start": 41859.299999999996,
            "count": 5980
           },
           {
            "bin_end": 53819.1,
            "bin_start": 47839.2,
            "count": 5980
           },
           {
            "bin_end": 59799,
            "bin_start": 53819.1,
            "count": 5980
           }
          ],
          "max": "59799",
          "min": "0",
          "nan_count": 0,
          "unique_count": 59800
         }
        },
        {
         "dtype": "object",
         "name": "marketplace"
        },
        {
         "dtype": "int64",
         "name": "customer_id"
        },
        {
         "dtype": "object",
         "name": "review_id"
        },
        {
         "dtype": "object",
         "name": "product_id"
        },
        {
         "dtype": "int64",
         "name": "product_parent"
        },
        {
         "dtype": "object",
         "name": "product_title"
        },
        {
         "dtype": "object",
         "name": "product_category"
        },
        {
         "dtype": "object",
         "name": "star_rating"
        },
        {
         "dtype": "float64",
         "name": "helpful_votes"
        },
        {
         "dtype": "float64",
         "name": "total_votes"
        },
        {
         "dtype": "object",
         "name": "vine"
        },
        {
         "dtype": "int64",
         "name": "verified_purchase"
        },
        {
         "dtype": "object",
         "name": "review_headline"
        },
        {
         "dtype": "object",
         "name": "review_body"
        },
        {
         "dtype": "object",
         "name": "review_date"
        },
        {
         "dtype": "float64",
         "name": "timestamp"
        },
        {
         "dtype": "object",
         "name": "IP Address"
        },
        {
         "dtype": "float64",
         "name": "Sentiment"
        },
        {
         "dtype": "float64",
         "name": "Subjectivity"
        },
        {
         "dtype": "int64",
         "name": "Neg_Count"
        },
        {
         "dtype": "int64",
         "name": "Word_Count"
        },
        {
         "dtype": "int64",
         "name": "Unique_words"
        },
        {
         "dtype": "float64",
         "name": "Noun_Count"
        },
        {
         "dtype": "float64",
         "name": "Adj_Count"
        },
        {
         "dtype": "float64",
         "name": "Verb_Count"
        },
        {
         "dtype": "float64",
         "name": "Adv_Count"
        },
        {
         "dtype": "float64",
         "name": "Pro_Count"
        },
        {
         "dtype": "float64",
         "name": "Pre_Count"
        },
        {
         "dtype": "float64",
         "name": "Con_Count"
        },
        {
         "dtype": "float64",
         "name": "Art_Count"
        },
        {
         "dtype": "float64",
         "name": "Nega_Count"
        },
        {
         "dtype": "float64",
         "name": "Aux_Count"
        },
        {
         "dtype": "float64",
         "name": "Authenticity"
        },
        {
         "dtype": "float64",
         "name": "AT"
        },
        {
         "dtype": "float64",
         "name": "Genuinity"
        },
        {
         "dtype": "object",
         "name": "label"
        },
        {
         "dtype": "object",
         "name": "fake_or_real"
        },
        {
         "dtype": "int64",
         "name": "_deepnote_index_column"
        }
       ],
       "row_count": 59800,
       "rows": [
        {
         "AT": 32,
         "Adj_Count": 3,
         "Adv_Count": 2,
         "Art_Count": 2,
         "Authenticity": 0.9285714285714286,
         "Aux_Count": 1,
         "Con_Count": 0,
         "Genuinity": 0.4999428074765137,
         "IP Address": "193.93.167.87",
         "Neg_Count": 0,
         "Nega_Count": 0,
         "Noun_Count": 7,
         "Pre_Count": 4,
         "Pro_Count": 1,
         "Sentiment": 1,
         "Subjectivity": 1,
         "Unique_words": 25,
         "Unnamed: 0": 0,
         "Verb_Count": 4,
         "Word_Count": 28,
         "_deepnote_index_column": 0,
         "customer_id": 20422322,
         "fake_or_real": "Not Genuine",
         "helpful_votes": 0,
         "label": "Moderately Genuine",
         "marketplace": "US",
         "product_category": "Mobile_Electronics",
         "product_id": "B00MC4CED8",
         "product_parent": 82850235,
         "product_title": "BlackVue DR600GW-PMP",
         "review_body": "as advertised  everything works perfectly  i am very happy with the camera  as a matter of fact i am going to buy another one for my  nd car ",
         "review_date": "2015-08-31",
         "review_headline": "very happy ",
         "review_id": "R8MEA6IGAHO0B",
         "star_rating": "5",
         "timestamp": 1440987567,
         "total_votes": 0,
         "verified_purchase": 1,
         "vine": "N"
        },
        {
         "AT": 28,
         "Adj_Count": 1,
         "Adv_Count": 0,
         "Art_Count": 0,
         "Authenticity": 1.3333333333333333,
         "Aux_Count": 1,
         "Con_Count": 0,
         "Genuinity": 0.4999355421493637,
         "IP Address": "193.93.167.87",
         "Neg_Count": 0,
         "Nega_Count": 0,
         "Noun_Count": 0,
         "Pre_Count": 0,
         "Pro_Count": 1,
         "Sentiment": 0.8,
         "Subjectivity": 0.75,
         "Unique_words": 3,
         "Unnamed: 0": 1,
         "Verb_Count": 1,
         "Word_Count": 3,
         "_deepnote_index_column": 1,
         "customer_id": 40835037,
         "fake_or_real": "Not Genuine",
         "helpful_votes": 0,
         "label": "Moderately Genuine",
         "marketplace": "US",
         "product_category": "Mobile_Electronics",
         "product_id": "B00OQMFG1Q",
         "product_parent": 82850235,
         "product_title": "GENSSI GSM / GPS Two Way Smart Phone Car Alarm System for iPhone Android Security",
         "review_body": "it is great",
         "review_date": "2015-08-31",
         "review_headline": "five star",
         "review_id": "R31LOQ8JGLPRLK",
         "star_rating": "5",
         "timestamp": 1441001998,
         "total_votes": 1,
         "verified_purchase": 1,
         "vine": "N"
        },
        {
         "AT": 30,
         "Adj_Count": 2,
         "Adv_Count": 0,
         "Art_Count": 1,
         "Authenticity": 1.0833333333333333,
         "Aux_Count": 0,
         "Con_Count": 1,
         "Genuinity": 0.4998767818228214,
         "IP Address": "193.93.167.87",
         "Neg_Count": 0,
         "Nega_Count": 0,
         "Noun_Count": 5,
         "Pre_Count": 1,
         "Pro_Count": 1,
         "Sentiment": 0.6000000000000001,
         "Subjectivity": 0.575,
         "Unique_words": 12,
         "Unnamed: 0": 2,
         "Verb_Count": 0,
         "Word_Count": 12,
         "_deepnote_index_column": 2,
         "customer_id": 51469641,
         "fake_or_real": "Not Genuine",
         "helpful_votes": 0,
         "label": "Moderately Genuine",
         "marketplace": "US",
         "product_category": "Mobile_Electronics",
         "product_id": "B00QERR5CY",
         "product_parent": 82850235,
         "product_title": "iXCC Multi pack Lightning cable",
         "review_body": "these work great and fit my life proof case for the iphone  ",
         "review_date": "2015-08-31",
         "review_headline": "great cables",
         "review_id": "R2Y0MM9YE6OP3P",
         "star_rating": "5",
         "timestamp": 1440959483,
         "total_votes": 0,
         "verified_purchase": 1,
         "vine": "N"
        },
        {
         "AT": 28,
         "Adj_Count": 0,
         "Adv_Count": 2,
         "Art_Count": 0,
         "Authenticity": 1,
         "Aux_Count": 0,
         "Con_Count": 0,
         "Genuinity": 0.742184489121376,
         "IP Address": "193.93.167.87",
         "Neg_Count": 0,
         "Nega_Count": 0,
         "Noun_Count": 1,
         "Pre_Count": 0,
         "Pro_Count": 0,
         "Sentiment": 0.2,
         "Subjectivity": 0.3,
         "Unique_words": 3,
         "Unnamed: 0": 3,
         "Verb_Count": 0,
         "Word_Count": 3,
         "_deepnote_index_column": 3,
         "customer_id": 4332923,
         "fake_or_real": "Not Genuine",
         "helpful_votes": 0,
         "label": "Moderately Genuine",
         "marketplace": "US",
         "product_category": "Mobile_Electronics",
         "product_id": "B00QUFTPV4",
         "product_parent": 82850235,
         "product_title": "abcGoodefg® FBI Covert Acoustic Tube Earpiece Headset PTT Mic for Motorola Two Way Radio Device Walkie Talkie GP88 300 2000 CT150 P040 PRO1150 SP10 XTN500 2pin",
         "review_body": "work very well ",
         "review_date": "2015-08-31",
         "review_headline": "work very well",
         "review_id": "RRB9C05HDOD4O",
         "star_rating": "4",
         "timestamp": 1441015251,
         "total_votes": 0,
         "verified_purchase": 1,
         "vine": "N"
        },
        {
         "AT": 24,
         "Adj_Count": 4,
         "Adv_Count": 1,
         "Art_Count": 0,
         "Authenticity": 0.9583333333333334,
         "Aux_Count": 3,
         "Con_Count": 2,
         "Genuinity": 0.6756851108222771,
         "IP Address": "205.10.168.66",
         "Neg_Count": 1,
         "Nega_Count": 0,
         "Noun_Count": 3,
         "Pre_Count": 2,
         "Pro_Count": 2,
         "Sentiment": 0.2875,
         "Subjectivity": 0.4875,
         "Unique_words": 22,
         "Unnamed: 0": 4,
         "Verb_Count": 6,
         "Word_Count": 24,
         "_deepnote_index_column": 4,
         "customer_id": 7846966,
         "fake_or_real": "Genuine",
         "helpful_votes": 0,
         "label": "Moderately Genuine",
         "marketplace": "US",
         "product_category": "Mobile_Electronics",
         "product_id": "B00KA6CCVY",
         "product_parent": 563475445,
         "product_title": "Aweek® Air Acoustic Earpiece Headset for Baofeng Two Way Radios UV-5R UV-B6 BF-888S UV-B6 UV-B5 Walkie Talkies 2-Pin Jack",
         "review_body": "it appears to be good  but i am still waiting for my other items radio batteries charger  before i can go to   or   stars",
         "review_date": "2015-08-31",
         "review_headline": "it appears to be good  but i m still waiting for my other items    ",
         "review_id": "RY8DDL22YG4R5",
         "star_rating": "3",
         "timestamp": 1440977588,
         "total_votes": 1,
         "verified_purchase": 1,
         "vine": "N"
        },
        {
         "AT": 32,
         "Adj_Count": 3,
         "Adv_Count": 2,
         "Art_Count": 2,
         "Authenticity": 0.9285714285714286,
         "Aux_Count": 1,
         "Con_Count": 0,
         "Genuinity": 0.4999428074765137,
         "IP Address": "205.10.168.66",
         "Neg_Count": 0,
         "Nega_Count": 0,
         "Noun_Count": 7,
         "Pre_Count": 4,
         "Pro_Count": 1,
         "Sentiment": 1,
         "Subjectivity": 1,
         "Unique_words": 25,
         "Unnamed: 0": 5,
         "Verb_Count": 4,
         "Word_Count": 28,
         "_deepnote_index_column": 5,
         "customer_id": 20422322,
         "fake_or_real": "Not Genuine",
         "helpful_votes": 0,
         "label": "Moderately Genuine",
         "marketplace": "US",
         "product_category": "Mobile_Electronics",
         "product_id": "B00MC4CED8",
         "product_parent": 563475445,
         "product_title": "BlackVue DR600GW-PMP",
         "review_body": "as advertised  everything works perfectly  i am very happy with the camera  as a matter of fact i am going to buy another one for my  nd car ",
         "review_date": "2015-08-31",
         "review_headline": "very happy ",
         "review_id": "R8MEA6IGAHO0B",
         "star_rating": "5",
         "timestamp": 1441012613,
         "total_votes": 0,
         "verified_purchase": 1,
         "vine": "N"
        },
        {
         "AT": 32,
         "Adj_Count": 3,
         "Adv_Count": 2,
         "Art_Count": 2,
         "Authenticity": 0.9285714285714286,
         "Aux_Count": 1,
         "Con_Count": 0,
         "Genuinity": 0.4999428074765137,
         "IP Address": "206.33.134.174",
         "Neg_Count": 0,
         "Nega_Count": 0,
         "Noun_Count": 7,
         "Pre_Count": 4,
         "Pro_Count": 1,
         "Sentiment": 1,
         "Subjectivity": 1,
         "Unique_words": 25,
         "Unnamed: 0": 6,
         "Verb_Count": 4,
         "Word_Count": 28,
         "_deepnote_index_column": 6,
         "customer_id": 20422322,
         "fake_or_real": "Not Genuine",
         "helpful_votes": 0,
         "label": "Moderately Genuine",
         "marketplace": "US",
         "product_category": "Mobile_Electronics",
         "product_id": "B00MC4CED8",
         "product_parent": 217304173,
         "product_title": "BlackVue DR600GW-PMP",
         "review_body": "as advertised  everything works perfectly  i am very happy with the camera  as a matter of fact i am going to buy another one for my  nd car ",
         "review_date": "2015-08-31",
         "review_headline": "very happy ",
         "review_id": "R8MEA6IGAHO0B",
         "star_rating": "5",
         "timestamp": 1440987567,
         "total_votes": 0,
         "verified_purchase": 1,
         "vine": "N"
        },
        {
         "AT": 28,
         "Adj_Count": 1,
         "Adv_Count": 0,
         "Art_Count": 0,
         "Authenticity": 1.3333333333333333,
         "Aux_Count": 1,
         "Con_Count": 0,
         "Genuinity": 0.4999355421493637,
         "IP Address": "219.3.75.180",
         "Neg_Count": 0,
         "Nega_Count": 0,
         "Noun_Count": 0,
         "Pre_Count": 0,
         "Pro_Count": 1,
         "Sentiment": 0.8,
         "Subjectivity": 0.75,
         "Unique_words": 3,
         "Unnamed: 0": 7,
         "Verb_Count": 1,
         "Word_Count": 3,
         "_deepnote_index_column": 7,
         "customer_id": 40835037,
         "fake_or_real": "Not Genuine",
         "helpful_votes": 0,
         "label": "Moderately Genuine",
         "marketplace": "US",
         "product_category": "Mobile_Electronics",
         "product_id": "B00OQMFG1Q",
         "product_parent": 137313254,
         "product_title": "GENSSI GSM / GPS Two Way Smart Phone Car Alarm System for iPhone Android Security",
         "review_body": "it is great",
         "review_date": "2015-08-31",
         "review_headline": "five star",
         "review_id": "R31LOQ8JGLPRLK",
         "star_rating": "5",
         "timestamp": 1441001998,
         "total_votes": 1,
         "verified_purchase": 1,
         "vine": "N"
        },
        {
         "AT": 30,
         "Adj_Count": 2,
         "Adv_Count": 0,
         "Art_Count": 1,
         "Authenticity": 1.0833333333333333,
         "Aux_Count": 0,
         "Con_Count": 1,
         "Genuinity": 0.4998767818228214,
         "IP Address": "194.12.14.67",
         "Neg_Count": 0,
         "Nega_Count": 0,
         "Noun_Count": 5,
         "Pre_Count": 1,
         "Pro_Count": 1,
         "Sentiment": 0.6000000000000001,
         "Subjectivity": 0.575,
         "Unique_words": 12,
         "Unnamed: 0": 8,
         "Verb_Count": 0,
         "Word_Count": 12,
         "_deepnote_index_column": 8,
         "customer_id": 51469641,
         "fake_or_real": "Not Genuine",
         "helpful_votes": 0,
         "label": "Moderately Genuine",
         "marketplace": "US",
         "product_category": "Mobile_Electronics",
         "product_id": "B00QERR5CY",
         "product_parent": 82850235,
         "product_title": "iXCC Multi pack Lightning cable",
         "review_body": "these work great and fit my life proof case for the iphone  ",
         "review_date": "2015-08-31",
         "review_headline": "great cables",
         "review_id": "R2Y0MM9YE6OP3P",
         "star_rating": "5",
         "timestamp": 1440959483,
         "total_votes": 0,
         "verified_purchase": 1,
         "vine": "N"
        },
        {
         "AT": 26,
         "Adj_Count": 0,
         "Adv_Count": 3,
         "Art_Count": 1,
         "Authenticity": 1,
         "Aux_Count": 2,
         "Con_Count": 1,
         "Genuinity": 0.742184489121376,
         "IP Address": "213.136.76.172",
         "Neg_Count": 0,
         "Nega_Count": 1,
         "Noun_Count": 3,
         "Pre_Count": 3,
         "Pro_Count": 1,
         "Sentiment": 0.2,
         "Subjectivity": 0.3,
         "Unique_words": 20,
         "Unnamed: 0": 9,
         "Verb_Count": 6,
         "Word_Count": 21,
         "_deepnote_index_column": 9,
         "customer_id": 4332923,
         "fake_or_real": "Not Genuine",
         "helpful_votes": 0,
         "label": "Moderately Genuine",
         "marketplace": "US",
         "product_category": "Mobile_Electronics",
         "product_id": "B00QUFTPV4",
         "product_parent": 221169481,
         "product_title": "abcGoodefg® FBI Covert Acoustic Tube Earpiece Headset PTT Mic for Motorola Two Way Radio Device Walkie Talkie GP88 300 2000 CT150 P040 PRO1150 SP10 XTN500 2pin",
         "review_body": "work very well but could not get used to not hearing anything out of the ear they v were plugged into ",
         "review_date": "2015-08-31",
         "review_headline": "work very well but couldn t get used to not hearing    ",
         "review_id": "RRB9C05HDOD4O",
         "star_rating": "4",
         "timestamp": 1441015251,
         "total_votes": 0,
         "verified_purchase": 1,
         "vine": "N"
        }
       ]
      },
      "text/html": "<div>\n<style scoped>\n    .dataframe tbody tr th:only-of-type {\n        vertical-align: middle;\n    }\n\n    .dataframe tbody tr th {\n        vertical-align: top;\n    }\n\n    .dataframe thead th {\n        text-align: right;\n    }\n</style>\n<table border=\"1\" class=\"dataframe\">\n  <thead>\n    <tr style=\"text-align: right;\">\n      <th></th>\n      <th>Unnamed: 0</th>\n      <th>marketplace</th>\n      <th>customer_id</th>\n      <th>review_id</th>\n      <th>product_id</th>\n      <th>product_parent</th>\n      <th>product_title</th>\n      <th>product_category</th>\n      <th>star_rating</th>\n      <th>helpful_votes</th>\n      <th>...</th>\n      <th>Pre_Count</th>\n      <th>Con_Count</th>\n      <th>Art_Count</th>\n      <th>Nega_Count</th>\n      <th>Aux_Count</th>\n      <th>Authenticity</th>\n      <th>AT</th>\n      <th>Genuinity</th>\n      <th>label</th>\n      <th>fake_or_real</th>\n    </tr>\n  </thead>\n  <tbody>\n    <tr>\n      <th>0</th>\n      <td>0</td>\n      <td>US</td>\n      <td>20422322</td>\n      <td>R8MEA6IGAHO0B</td>\n      <td>B00MC4CED8</td>\n      <td>82850235</td>\n      <td>BlackVue DR600GW-PMP</td>\n      <td>Mobile_Electronics</td>\n      <td>5</td>\n      <td>0.0</td>\n      <td>...</td>\n      <td>4.0</td>\n      <td>0.0</td>\n      <td>2.0</td>\n      <td>0.0</td>\n      <td>1.0</td>\n      <td>0.928571</td>\n      <td>32.0</td>\n      <td>0.499943</td>\n      <td>Moderately Genuine</td>\n      <td>Not Genuine</td>\n    </tr>\n    <tr>\n      <th>1</th>\n      <td>1</td>\n      <td>US</td>\n      <td>40835037</td>\n      <td>R31LOQ8JGLPRLK</td>\n      <td>B00OQMFG1Q</td>\n      <td>82850235</td>\n      <td>GENSSI GSM / GPS Two Way Smart Phone Car Alarm...</td>\n      <td>Mobile_Electronics</td>\n      <td>5</td>\n      <td>0.0</td>\n      <td>...</td>\n      <td>0.0</td>\n      <td>0.0</td>\n      <td>0.0</td>\n      <td>0.0</td>\n      <td>1.0</td>\n      <td>1.333333</td>\n      <td>28.0</td>\n      <td>0.499936</td>\n      <td>Moderately Genuine</td>\n      <td>Not Genuine</td>\n    </tr>\n    <tr>\n      <th>2</th>\n      <td>2</td>\n      <td>US</td>\n      <td>51469641</td>\n      <td>R2Y0MM9YE6OP3P</td>\n      <td>B00QERR5CY</td>\n      <td>82850235</td>\n      <td>iXCC Multi pack Lightning cable</td>\n      <td>Mobile_Electronics</td>\n      <td>5</td>\n      <td>0.0</td>\n      <td>...</td>\n      <td>1.0</td>\n      <td>1.0</td>\n      <td>1.0</td>\n      <td>0.0</td>\n      <td>0.0</td>\n      <td>1.083333</td>\n      <td>30.0</td>\n      <td>0.499877</td>\n      <td>Moderately Genuine</td>\n      <td>Not Genuine</td>\n    </tr>\n    <tr>\n      <th>3</th>\n      <td>3</td>\n      <td>US</td>\n      <td>4332923</td>\n      <td>RRB9C05HDOD4O</td>\n      <td>B00QUFTPV4</td>\n      <td>82850235</td>\n      <td>abcGoodefg® FBI Covert Acoustic Tube Earpiece ...</td>\n      <td>Mobile_Electronics</td>\n      <td>4</td>\n      <td>0.0</td>\n      <td>...</td>\n      <td>0.0</td>\n      <td>0.0</td>\n      <td>0.0</td>\n      <td>0.0</td>\n      <td>0.0</td>\n      <td>1.000000</td>\n      <td>28.0</td>\n      <td>0.742184</td>\n      <td>Moderately Genuine</td>\n      <td>Not Genuine</td>\n    </tr>\n    <tr>\n      <th>4</th>\n      <td>4</td>\n      <td>US</td>\n      <td>7846966</td>\n      <td>RY8DDL22YG4R5</td>\n      <td>B00KA6CCVY</td>\n      <td>563475445</td>\n      <td>Aweek® Air Acoustic Earpiece Headset for Baofe...</td>\n      <td>Mobile_Electronics</td>\n      <td>3</td>\n      <td>0.0</td>\n      <td>...</td>\n      <td>2.0</td>\n      <td>2.0</td>\n      <td>0.0</td>\n      <td>0.0</td>\n      <td>3.0</td>\n      <td>0.958333</td>\n      <td>24.0</td>\n      <td>0.675685</td>\n      <td>Moderately Genuine</td>\n      <td>Genuine</td>\n    </tr>\n    <tr>\n      <th>...</th>\n      <td>...</td>\n      <td>...</td>\n      <td>...</td>\n      <td>...</td>\n      <td>...</td>\n      <td>...</td>\n      <td>...</td>\n      <td>...</td>\n      <td>...</td>\n      <td>...</td>\n      <td>...</td>\n      <td>...</td>\n      <td>...</td>\n      <td>...</td>\n      <td>...</td>\n      <td>...</td>\n      <td>...</td>\n      <td>...</td>\n      <td>...</td>\n      <td>...</td>\n      <td>...</td>\n    </tr>\n    <tr>\n      <th>59795</th>\n      <td>59795</td>\n      <td>US</td>\n      <td>38978459</td>\n      <td>R2CDRVDUKB5Z9P</td>\n      <td>B00005OTZQ</td>\n      <td>554527960</td>\n      <td>Royal SE 2800 Hand-Held Spot Cleaner</td>\n      <td>Mobile_Electronics</td>\n      <td>5</td>\n      <td>23.0</td>\n      <td>...</td>\n      <td>0.0</td>\n      <td>0.0</td>\n      <td>0.0</td>\n      <td>0.0</td>\n      <td>0.0</td>\n      <td>0.521401</td>\n      <td>30.0</td>\n      <td>0.499941</td>\n      <td>Moderately Genuine</td>\n      <td>Genuine</td>\n    </tr>\n    <tr>\n      <th>59796</th>\n      <td>59796</td>\n      <td>US</td>\n      <td>51697602</td>\n      <td>R1DVLTZFXXOX9</td>\n      <td>B00005OTZQ</td>\n      <td>554527960</td>\n      <td>Royal SE 2800 Hand-Held Spot Cleaner</td>\n      <td>Mobile_Electronics</td>\n      <td>5</td>\n      <td>10.0</td>\n      <td>...</td>\n      <td>0.0</td>\n      <td>0.0</td>\n      <td>0.0</td>\n      <td>0.0</td>\n      <td>0.0</td>\n      <td>0.732558</td>\n      <td>30.0</td>\n      <td>0.499705</td>\n      <td>Moderately Genuine</td>\n      <td>Not Genuine</td>\n    </tr>\n    <tr>\n      <th>59797</th>\n      <td>59797</td>\n      <td>US</td>\n      <td>50891675</td>\n      <td>R1GHKKZMHAHQC1</td>\n      <td>B00005OTZQ</td>\n      <td>554527960</td>\n      <td>Royal SE 2800 Hand-Held Spot Cleaner</td>\n      <td>Mobile_Electronics</td>\n      <td>5</td>\n      <td>13.0</td>\n      <td>...</td>\n      <td>0.0</td>\n      <td>0.0</td>\n      <td>0.0</td>\n      <td>0.0</td>\n      <td>0.0</td>\n      <td>0.676190</td>\n      <td>30.0</td>\n      <td>0.499595</td>\n      <td>Moderately Genuine</td>\n      <td>Genuine</td>\n    </tr>\n    <tr>\n      <th>59798</th>\n      <td>59798</td>\n      <td>US</td>\n      <td>38528439</td>\n      <td>R227G6T5B26DVC</td>\n      <td>B00005OTZQ</td>\n      <td>554527960</td>\n      <td>Royal SE 2800 Hand-Held Spot Cleaner</td>\n      <td>Mobile_Electronics</td>\n      <td>5</td>\n      <td>58.0</td>\n      <td>...</td>\n      <td>0.0</td>\n      <td>0.0</td>\n      <td>0.0</td>\n      <td>0.0</td>\n      <td>0.0</td>\n      <td>0.479109</td>\n      <td>30.0</td>\n      <td>0.499938</td>\n      <td>Moderately Genuine</td>\n      <td>Not Genuine</td>\n    </tr>\n    <tr>\n      <th>59799</th>\n      <td>59799</td>\n      <td>US</td>\n      <td>47099634</td>\n      <td>R44WS2RSQQ0HR</td>\n      <td>B00005OTZQ</td>\n      <td>554527960</td>\n      <td>Royal SE 2800 Hand-Held Spot Cleaner</td>\n      <td>Mobile_Electronics</td>\n      <td>4</td>\n      <td>37.0</td>\n      <td>...</td>\n      <td>0.0</td>\n      <td>0.0</td>\n      <td>0.0</td>\n      <td>0.0</td>\n      <td>0.0</td>\n      <td>0.503356</td>\n      <td>30.0</td>\n      <td>0.499939</td>\n      <td>Moderately Genuine</td>\n      <td>Not Genuine</td>\n    </tr>\n  </tbody>\n</table>\n<p>59800 rows × 38 columns</p>\n</div>",
      "text/plain": "       Unnamed: 0 marketplace  customer_id       review_id  product_id  \\\n0               0          US     20422322   R8MEA6IGAHO0B  B00MC4CED8   \n1               1          US     40835037  R31LOQ8JGLPRLK  B00OQMFG1Q   \n2               2          US     51469641  R2Y0MM9YE6OP3P  B00QERR5CY   \n3               3          US      4332923   RRB9C05HDOD4O  B00QUFTPV4   \n4               4          US      7846966   RY8DDL22YG4R5  B00KA6CCVY   \n...           ...         ...          ...             ...         ...   \n59795       59795          US     38978459  R2CDRVDUKB5Z9P  B00005OTZQ   \n59796       59796          US     51697602   R1DVLTZFXXOX9  B00005OTZQ   \n59797       59797          US     50891675  R1GHKKZMHAHQC1  B00005OTZQ   \n59798       59798          US     38528439  R227G6T5B26DVC  B00005OTZQ   \n59799       59799          US     47099634   R44WS2RSQQ0HR  B00005OTZQ   \n\n       product_parent                                      product_title  \\\n0            82850235                               BlackVue DR600GW-PMP   \n1            82850235  GENSSI GSM / GPS Two Way Smart Phone Car Alarm...   \n2            82850235                    iXCC Multi pack Lightning cable   \n3            82850235  abcGoodefg® FBI Covert Acoustic Tube Earpiece ...   \n4           563475445  Aweek® Air Acoustic Earpiece Headset for Baofe...   \n...               ...                                                ...   \n59795       554527960               Royal SE 2800 Hand-Held Spot Cleaner   \n59796       554527960               Royal SE 2800 Hand-Held Spot Cleaner   \n59797       554527960               Royal SE 2800 Hand-Held Spot Cleaner   \n59798       554527960               Royal SE 2800 Hand-Held Spot Cleaner   \n59799       554527960               Royal SE 2800 Hand-Held Spot Cleaner   \n\n         product_category star_rating  helpful_votes  ...  Pre_Count  \\\n0      Mobile_Electronics           5            0.0  ...        4.0   \n1      Mobile_Electronics           5            0.0  ...        0.0   \n2      Mobile_Electronics           5            0.0  ...        1.0   \n3      Mobile_Electronics           4            0.0  ...        0.0   \n4      Mobile_Electronics           3            0.0  ...        2.0   \n...                   ...         ...            ...  ...        ...   \n59795  Mobile_Electronics           5           23.0  ...        0.0   \n59796  Mobile_Electronics           5           10.0  ...        0.0   \n59797  Mobile_Electronics           5           13.0  ...        0.0   \n59798  Mobile_Electronics           5           58.0  ...        0.0   \n59799  Mobile_Electronics           4           37.0  ...        0.0   \n\n      Con_Count  Art_Count Nega_Count Aux_Count Authenticity    AT Genuinity  \\\n0           0.0        2.0        0.0       1.0     0.928571  32.0  0.499943   \n1           0.0        0.0        0.0       1.0     1.333333  28.0  0.499936   \n2           1.0        1.0        0.0       0.0     1.083333  30.0  0.499877   \n3           0.0        0.0        0.0       0.0     1.000000  28.0  0.742184   \n4           2.0        0.0        0.0       3.0     0.958333  24.0  0.675685   \n...         ...        ...        ...       ...          ...   ...       ...   \n59795       0.0        0.0        0.0       0.0     0.521401  30.0  0.499941   \n59796       0.0        0.0        0.0       0.0     0.732558  30.0  0.499705   \n59797       0.0        0.0        0.0       0.0     0.676190  30.0  0.499595   \n59798       0.0        0.0        0.0       0.0     0.479109  30.0  0.499938   \n59799       0.0        0.0        0.0       0.0     0.503356  30.0  0.499939   \n\n                    label  fake_or_real  \n0      Moderately Genuine   Not Genuine  \n1      Moderately Genuine   Not Genuine  \n2      Moderately Genuine   Not Genuine  \n3      Moderately Genuine   Not Genuine  \n4      Moderately Genuine       Genuine  \n...                   ...           ...  \n59795  Moderately Genuine       Genuine  \n59796  Moderately Genuine   Not Genuine  \n59797  Moderately Genuine       Genuine  \n59798  Moderately Genuine   Not Genuine  \n59799  Moderately Genuine   Not Genuine  \n\n[59800 rows x 38 columns]"
     },
     "execution_count": 53,
     "metadata": {},
     "output_type": "execute_result"
    }
   ]
  },
  {
   "cell_type": "code",
   "metadata": {
    "deepnote_to_be_reexecuted": false,
    "execution_millis": 172,
    "execution_start": 1654239104608,
    "source_hash": "ec03e2c2",
    "tags": [],
    "cell_id": "00067-f9a18186-e41f-46ec-94a9-8121efca8cdb",
    "deepnote_cell_type": "code",
    "deepnote_cell_height": 796.9375,
    "deepnote_output_heights": [
     411.984375
    ]
   },
   "source": "#visualise the fake or real\nfake = 0\nreal = 0\nfor score in df_final['fake_or_real']:\n    if score == 'Not Genuine':\n        fake += 1\n    elif score == 'Genuine':\n        real += 1\n\n#Visualiing the distribution of Sentiment\nvalues = [fake, real]\nlabel = ['Fake Reviews', 'Real Reviews']\n\nfig = plt.figure(figsize =(10, 7)) \nplt.pie(values, labels = label,autopct='%1.0f%%')\nplt.title(\"Pie chart to display percentage of fake and real reviews of user_defined labeled dataset \")\nplt.show()",
   "execution_count": null,
   "outputs": [
    {
     "data": {
      "image/png": "[encoded data removed]",
      "text/plain": "<Figure size 720x504 with 1 Axes>"
     },
     "metadata": {
      "image/png": {
       "width": 549,
       "height": 410
      }
     },
     "output_type": "display_data"
    }
   ]
  },
  {
   "cell_type": "code",
   "metadata": {
    "deepnote_to_be_reexecuted": false,
    "execution_millis": 31,
    "execution_start": 1654104410078,
    "source_hash": "bdbf0186",
    "tags": [],
    "cell_id": "00068-ae1ec4b0-922c-4666-81d8-5087d4ce51d7",
    "deepnote_cell_type": "code",
    "deepnote_cell_height": 707.953125,
    "deepnote_output_heights": [
     611
    ]
   },
   "source": "df_final.dtypes",
   "execution_count": null,
   "outputs": [
    {
     "data": {
      "text/plain": "Unnamed: 0             int64\nmarketplace           object\ncustomer_id            int64\nreview_id             object\nproduct_id            object\nproduct_parent         int64\nproduct_title         object\nproduct_category      object\nstar_rating           object\nhelpful_votes        float64\ntotal_votes          float64\nvine                  object\nverified_purchase      int64\nreview_headline       object\nreview_body           object\nreview_date           object\ntimestamp            float64\nIP Address            object\nSentiment            float64\nSubjectivity         float64\nNeg_Count              int64\nWord_Count             int64\nUnique_words           int64\nNoun_Count           float64\nAdj_Count            float64\nVerb_Count           float64\nAdv_Count            float64\nPro_Count            float64\nPre_Count            float64\nCon_Count            float64\nArt_Count            float64\nNega_Count           float64\nAux_Count            float64\nAuthenticity         float64\nAT                   float64\nGenuinity            float64\nlabel                 object\nfake_or_real          object\ndtype: object"
     },
     "execution_count": 43,
     "metadata": {},
     "output_type": "execute_result"
    }
   ]
  },
  {
   "cell_type": "code",
   "metadata": {
    "deepnote_to_be_reexecuted": false,
    "execution_millis": 27,
    "execution_start": 1654104442438,
    "source_hash": "383a41f2",
    "tags": [],
    "cell_id": "00069-fc341caf-b1ac-4bd0-9db1-86b33dd9496c",
    "deepnote_cell_type": "code",
    "deepnote_cell_height": 116.953125
   },
   "source": "df_final=df_final.drop(columns=['label'])\ndf_final.rename(columns = {'fake_or_real':'label'}, inplace = True)\n",
   "execution_count": null,
   "outputs": []
  },
  {
   "cell_type": "code",
   "metadata": {
    "deepnote_to_be_reexecuted": false,
    "execution_millis": 176,
    "execution_start": 1654104447662,
    "source_hash": "4b768466",
    "tags": [],
    "cell_id": "00070-de47502d-da37-4506-a142-68fd47761472",
    "deepnote_cell_type": "code",
    "deepnote_cell_height": 617.875
   },
   "source": "df_final=df_final.drop(columns=['Unnamed: 0'])\ndf_final",
   "execution_count": null,
   "outputs": [
    {
     "data": {
      "application/vnd.deepnote.dataframe.v3+json": {
       "column_count": 36,
       "columns": [
        {
         "dtype": "object",
         "name": "marketplace",
         "stats": {
          "categories": [
           {
            "count": 59800,
            "name": "US"
           }
          ],
          "nan_count": 0,
          "unique_count": 1
         }
        },
        {
         "dtype": "int64",
         "name": "customer_id"
        },
        {
         "dtype": "object",
         "name": "review_id"
        },
        {
         "dtype": "object",
         "name": "product_id"
        },
        {
         "dtype": "int64",
         "name": "product_parent"
        },
        {
         "dtype": "object",
         "name": "product_title"
        },
        {
         "dtype": "object",
         "name": "product_category"
        },
        {
         "dtype": "object",
         "name": "star_rating"
        },
        {
         "dtype": "float64",
         "name": "helpful_votes"
        },
        {
         "dtype": "float64",
         "name": "total_votes"
        },
        {
         "dtype": "object",
         "name": "vine"
        },
        {
         "dtype": "int64",
         "name": "verified_purchase"
        },
        {
         "dtype": "object",
         "name": "review_headline"
        },
        {
         "dtype": "object",
         "name": "review_body"
        },
        {
         "dtype": "object",
         "name": "review_date"
        },
        {
         "dtype": "float64",
         "name": "timestamp"
        },
        {
         "dtype": "object",
         "name": "IP Address"
        },
        {
         "dtype": "float64",
         "name": "Sentiment"
        },
        {
         "dtype": "float64",
         "name": "Subjectivity"
        },
        {
         "dtype": "int64",
         "name": "Neg_Count"
        },
        {
         "dtype": "int64",
         "name": "Word_Count"
        },
        {
         "dtype": "int64",
         "name": "Unique_words"
        },
        {
         "dtype": "float64",
         "name": "Noun_Count"
        },
        {
         "dtype": "float64",
         "name": "Adj_Count"
        },
        {
         "dtype": "float64",
         "name": "Verb_Count"
        },
        {
         "dtype": "float64",
         "name": "Adv_Count"
        },
        {
         "dtype": "float64",
         "name": "Pro_Count"
        },
        {
         "dtype": "float64",
         "name": "Pre_Count"
        },
        {
         "dtype": "float64",
         "name": "Con_Count"
        },
        {
         "dtype": "float64",
         "name": "Art_Count"
        },
        {
         "dtype": "float64",
         "name": "Nega_Count"
        },
        {
         "dtype": "float64",
         "name": "Aux_Count"
        },
        {
         "dtype": "float64",
         "name": "Authenticity"
        },
        {
         "dtype": "float64",
         "name": "AT"
        },
        {
         "dtype": "float64",
         "name": "Genuinity"
        },
        {
         "dtype": "object",
         "name": "label"
        },
        {
         "dtype": "int64",
         "name": "_deepnote_index_column"
        }
       ],
       "row_count": 59800,
       "rows": [
        {
         "AT": 32,
         "Adj_Count": 3,
         "Adv_Count": 2,
         "Art_Count": 2,
         "Authenticity": 0.9285714285714286,
         "Aux_Count": 1,
         "Con_Count": 0,
         "Genuinity": 0.4999428074765137,
         "IP Address": "193.93.167.87",
         "Neg_Count": 0,
         "Nega_Count": 0,
         "Noun_Count": 7,
         "Pre_Count": 4,
         "Pro_Count": 1,
         "Sentiment": 1,
         "Subjectivity": 1,
         "Unique_words": 25,
         "Verb_Count": 4,
         "Word_Count": 28,
         "_deepnote_index_column": 0,
         "customer_id": 20422322,
         "helpful_votes": 0,
         "label": "Not Genuine",
         "marketplace": "US",
         "product_category": "Mobile_Electronics",
         "product_id": "B00MC4CED8",
         "product_parent": 82850235,
         "product_title": "BlackVue DR600GW-PMP",
         "review_body": "as advertised  everything works perfectly  i am very happy with the camera  as a matter of fact i am going to buy another one for my  nd car ",
         "review_date": "2015-08-31",
         "review_headline": "very happy ",
         "review_id": "R8MEA6IGAHO0B",
         "star_rating": "5",
         "timestamp": 1440987567,
         "total_votes": 0,
         "verified_purchase": 1,
         "vine": "N"
        },
        {
         "AT": 28,
         "Adj_Count": 1,
         "Adv_Count": 0,
         "Art_Count": 0,
         "Authenticity": 1.3333333333333333,
         "Aux_Count": 1,
         "Con_Count": 0,
         "Genuinity": 0.4999355421493637,
         "IP Address": "193.93.167.87",
         "Neg_Count": 0,
         "Nega_Count": 0,
         "Noun_Count": 0,
         "Pre_Count": 0,
         "Pro_Count": 1,
         "Sentiment": 0.8,
         "Subjectivity": 0.75,
         "Unique_words": 3,
         "Verb_Count": 1,
         "Word_Count": 3,
         "_deepnote_index_column": 1,
         "customer_id": 40835037,
         "helpful_votes": 0,
         "label": "Not Genuine",
         "marketplace": "US",
         "product_category": "Mobile_Electronics",
         "product_id": "B00OQMFG1Q",
         "product_parent": 82850235,
         "product_title": "GENSSI GSM / GPS Two Way Smart Phone Car Alarm System for iPhone Android Security",
         "review_body": "it is great",
         "review_date": "2015-08-31",
         "review_headline": "five star",
         "review_id": "R31LOQ8JGLPRLK",
         "star_rating": "5",
         "timestamp": 1441001998,
         "total_votes": 1,
         "verified_purchase": 1,
         "vine": "N"
        },
        {
         "AT": 30,
         "Adj_Count": 2,
         "Adv_Count": 0,
         "Art_Count": 1,
         "Authenticity": 1.0833333333333333,
         "Aux_Count": 0,
         "Con_Count": 1,
         "Genuinity": 0.4998767818228214,
         "IP Address": "193.93.167.87",
         "Neg_Count": 0,
         "Nega_Count": 0,
         "Noun_Count": 5,
         "Pre_Count": 1,
         "Pro_Count": 1,
         "Sentiment": 0.6000000000000001,
         "Subjectivity": 0.575,
         "Unique_words": 12,
         "Verb_Count": 0,
         "Word_Count": 12,
         "_deepnote_index_column": 2,
         "customer_id": 51469641,
         "helpful_votes": 0,
         "label": "Not Genuine",
         "marketplace": "US",
         "product_category": "Mobile_Electronics",
         "product_id": "B00QERR5CY",
         "product_parent": 82850235,
         "product_title": "iXCC Multi pack Lightning cable",
         "review_body": "these work great and fit my life proof case for the iphone  ",
         "review_date": "2015-08-31",
         "review_headline": "great cables",
         "review_id": "R2Y0MM9YE6OP3P",
         "star_rating": "5",
         "timestamp": 1440959483,
         "total_votes": 0,
         "verified_purchase": 1,
         "vine": "N"
        },
        {
         "AT": 28,
         "Adj_Count": 0,
         "Adv_Count": 2,
         "Art_Count": 0,
         "Authenticity": 1,
         "Aux_Count": 0,
         "Con_Count": 0,
         "Genuinity": 0.742184489121376,
         "IP Address": "193.93.167.87",
         "Neg_Count": 0,
         "Nega_Count": 0,
         "Noun_Count": 1,
         "Pre_Count": 0,
         "Pro_Count": 0,
         "Sentiment": 0.2,
         "Subjectivity": 0.3,
         "Unique_words": 3,
         "Verb_Count": 0,
         "Word_Count": 3,
         "_deepnote_index_column": 3,
         "customer_id": 4332923,
         "helpful_votes": 0,
         "label": "Not Genuine",
         "marketplace": "US",
         "product_category": "Mobile_Electronics",
         "product_id": "B00QUFTPV4",
         "product_parent": 82850235,
         "product_title": "abcGoodefg® FBI Covert Acoustic Tube Earpiece Headset PTT Mic for Motorola Two Way Radio Device Walkie Talkie GP88 300 2000 CT150 P040 PRO1150 SP10 XTN500 2pin",
         "review_body": "work very well ",
         "review_date": "2015-08-31",
         "review_headline": "work very well",
         "review_id": "RRB9C05HDOD4O",
         "star_rating": "4",
         "timestamp": 1441015251,
         "total_votes": 0,
         "verified_purchase": 1,
         "vine": "N"
        },
        {
         "AT": 24,
         "Adj_Count": 4,
         "Adv_Count": 1,
         "Art_Count": 0,
         "Authenticity": 0.9583333333333334,
         "Aux_Count": 3,
         "Con_Count": 2,
         "Genuinity": 0.6756851108222771,
         "IP Address": "205.10.168.66",
         "Neg_Count": 1,
         "Nega_Count": 0,
         "Noun_Count": 3,
         "Pre_Count": 2,
         "Pro_Count": 2,
         "Sentiment": 0.2875,
         "Subjectivity": 0.4875,
         "Unique_words": 22,
         "Verb_Count": 6,
         "Word_Count": 24,
         "_deepnote_index_column": 4,
         "customer_id": 7846966,
         "helpful_votes": 0,
         "label": "Genuine",
         "marketplace": "US",
         "product_category": "Mobile_Electronics",
         "product_id": "B00KA6CCVY",
         "product_parent": 563475445,
         "product_title": "Aweek® Air Acoustic Earpiece Headset for Baofeng Two Way Radios UV-5R UV-B6 BF-888S UV-B6 UV-B5 Walkie Talkies 2-Pin Jack",
         "review_body": "it appears to be good  but i am still waiting for my other items radio batteries charger  before i can go to   or   stars",
         "review_date": "2015-08-31",
         "review_headline": "it appears to be good  but i m still waiting for my other items    ",
         "review_id": "RY8DDL22YG4R5",
         "star_rating": "3",
         "timestamp": 1440977588,
         "total_votes": 1,
         "verified_purchase": 1,
         "vine": "N"
        },
        {
         "AT": 32,
         "Adj_Count": 3,
         "Adv_Count": 2,
         "Art_Count": 2,
         "Authenticity": 0.9285714285714286,
         "Aux_Count": 1,
         "Con_Count": 0,
         "Genuinity": 0.4999428074765137,
         "IP Address": "205.10.168.66",
         "Neg_Count": 0,
         "Nega_Count": 0,
         "Noun_Count": 7,
         "Pre_Count": 4,
         "Pro_Count": 1,
         "Sentiment": 1,
         "Subjectivity": 1,
         "Unique_words": 25,
         "Verb_Count": 4,
         "Word_Count": 28,
         "_deepnote_index_column": 5,
         "customer_id": 20422322,
         "helpful_votes": 0,
         "label": "Not Genuine",
         "marketplace": "US",
         "product_category": "Mobile_Electronics",
         "product_id": "B00MC4CED8",
         "product_parent": 563475445,
         "product_title": "BlackVue DR600GW-PMP",
         "review_body": "as advertised  everything works perfectly  i am very happy with the camera  as a matter of fact i am going to buy another one for my  nd car ",
         "review_date": "2015-08-31",
         "review_headline": "very happy ",
         "review_id": "R8MEA6IGAHO0B",
         "star_rating": "5",
         "timestamp": 1441012613,
         "total_votes": 0,
         "verified_purchase": 1,
         "vine": "N"
        },
        {
         "AT": 32,
         "Adj_Count": 3,
         "Adv_Count": 2,
         "Art_Count": 2,
         "Authenticity": 0.9285714285714286,
         "Aux_Count": 1,
         "Con_Count": 0,
         "Genuinity": 0.4999428074765137,
         "IP Address": "206.33.134.174",
         "Neg_Count": 0,
         "Nega_Count": 0,
         "Noun_Count": 7,
         "Pre_Count": 4,
         "Pro_Count": 1,
         "Sentiment": 1,
         "Subjectivity": 1,
         "Unique_words": 25,
         "Verb_Count": 4,
         "Word_Count": 28,
         "_deepnote_index_column": 6,
         "customer_id": 20422322,
         "helpful_votes": 0,
         "label": "Not Genuine",
         "marketplace": "US",
         "product_category": "Mobile_Electronics",
         "product_id": "B00MC4CED8",
         "product_parent": 217304173,
         "product_title": "BlackVue DR600GW-PMP",
         "review_body": "as advertised  everything works perfectly  i am very happy with the camera  as a matter of fact i am going to buy another one for my  nd car ",
         "review_date": "2015-08-31",
         "review_headline": "very happy ",
         "review_id": "R8MEA6IGAHO0B",
         "star_rating": "5",
         "timestamp": 1440987567,
         "total_votes": 0,
         "verified_purchase": 1,
         "vine": "N"
        },
        {
         "AT": 28,
         "Adj_Count": 1,
         "Adv_Count": 0,
         "Art_Count": 0,
         "Authenticity": 1.3333333333333333,
         "Aux_Count": 1,
         "Con_Count": 0,
         "Genuinity": 0.4999355421493637,
         "IP Address": "219.3.75.180",
         "Neg_Count": 0,
         "Nega_Count": 0,
         "Noun_Count": 0,
         "Pre_Count": 0,
         "Pro_Count": 1,
         "Sentiment": 0.8,
         "Subjectivity": 0.75,
         "Unique_words": 3,
         "Verb_Count": 1,
         "Word_Count": 3,
         "_deepnote_index_column": 7,
         "customer_id": 40835037,
         "helpful_votes": 0,
         "label": "Not Genuine",
         "marketplace": "US",
         "product_category": "Mobile_Electronics",
         "product_id": "B00OQMFG1Q",
         "product_parent": 137313254,
         "product_title": "GENSSI GSM / GPS Two Way Smart Phone Car Alarm System for iPhone Android Security",
         "review_body": "it is great",
         "review_date": "2015-08-31",
         "review_headline": "five star",
         "review_id": "R31LOQ8JGLPRLK",
         "star_rating": "5",
         "timestamp": 1441001998,
         "total_votes": 1,
         "verified_purchase": 1,
         "vine": "N"
        },
        {
         "AT": 30,
         "Adj_Count": 2,
         "Adv_Count": 0,
         "Art_Count": 1,
         "Authenticity": 1.0833333333333333,
         "Aux_Count": 0,
         "Con_Count": 1,
         "Genuinity": 0.4998767818228214,
         "IP Address": "194.12.14.67",
         "Neg_Count": 0,
         "Nega_Count": 0,
         "Noun_Count": 5,
         "Pre_Count": 1,
         "Pro_Count": 1,
         "Sentiment": 0.6000000000000001,
         "Subjectivity": 0.575,
         "Unique_words": 12,
         "Verb_Count": 0,
         "Word_Count": 12,
         "_deepnote_index_column": 8,
         "customer_id": 51469641,
         "helpful_votes": 0,
         "label": "Not Genuine",
         "marketplace": "US",
         "product_category": "Mobile_Electronics",
         "product_id": "B00QERR5CY",
         "product_parent": 82850235,
         "product_title": "iXCC Multi pack Lightning cable",
         "review_body": "these work great and fit my life proof case for the iphone  ",
         "review_date": "2015-08-31",
         "review_headline": "great cables",
         "review_id": "R2Y0MM9YE6OP3P",
         "star_rating": "5",
         "timestamp": 1440959483,
         "total_votes": 0,
         "verified_purchase": 1,
         "vine": "N"
        },
        {
         "AT": 26,
         "Adj_Count": 0,
         "Adv_Count": 3,
         "Art_Count": 1,
         "Authenticity": 1,
         "Aux_Count": 2,
         "Con_Count": 1,
         "Genuinity": 0.742184489121376,
         "IP Address": "213.136.76.172",
         "Neg_Count": 0,
         "Nega_Count": 1,
         "Noun_Count": 3,
         "Pre_Count": 3,
         "Pro_Count": 1,
         "Sentiment": 0.2,
         "Subjectivity": 0.3,
         "Unique_words": 20,
         "Verb_Count": 6,
         "Word_Count": 21,
         "_deepnote_index_column": 9,
         "customer_id": 4332923,
         "helpful_votes": 0,
         "label": "Not Genuine",
         "marketplace": "US",
         "product_category": "Mobile_Electronics",
         "product_id": "B00QUFTPV4",
         "product_parent": 221169481,
         "product_title": "abcGoodefg® FBI Covert Acoustic Tube Earpiece Headset PTT Mic for Motorola Two Way Radio Device Walkie Talkie GP88 300 2000 CT150 P040 PRO1150 SP10 XTN500 2pin",
         "review_body": "work very well but could not get used to not hearing anything out of the ear they v were plugged into ",
         "review_date": "2015-08-31",
         "review_headline": "work very well but couldn t get used to not hearing    ",
         "review_id": "RRB9C05HDOD4O",
         "star_rating": "4",
         "timestamp": 1441015251,
         "total_votes": 0,
         "verified_purchase": 1,
         "vine": "N"
        }
       ]
      },
      "text/html": "<div>\n<style scoped>\n    .dataframe tbody tr th:only-of-type {\n        vertical-align: middle;\n    }\n\n    .dataframe tbody tr th {\n        vertical-align: top;\n    }\n\n    .dataframe thead th {\n        text-align: right;\n    }\n</style>\n<table border=\"1\" class=\"dataframe\">\n  <thead>\n    <tr style=\"text-align: right;\">\n      <th></th>\n      <th>marketplace</th>\n      <th>customer_id</th>\n      <th>review_id</th>\n      <th>product_id</th>\n      <th>product_parent</th>\n      <th>product_title</th>\n      <th>product_category</th>\n      <th>star_rating</th>\n      <th>helpful_votes</th>\n      <th>total_votes</th>\n      <th>...</th>\n      <th>Pro_Count</th>\n      <th>Pre_Count</th>\n      <th>Con_Count</th>\n      <th>Art_Count</th>\n      <th>Nega_Count</th>\n      <th>Aux_Count</th>\n      <th>Authenticity</th>\n      <th>AT</th>\n      <th>Genuinity</th>\n      <th>label</th>\n    </tr>\n  </thead>\n  <tbody>\n    <tr>\n      <th>0</th>\n      <td>US</td>\n      <td>20422322</td>\n      <td>R8MEA6IGAHO0B</td>\n      <td>B00MC4CED8</td>\n      <td>82850235</td>\n      <td>BlackVue DR600GW-PMP</td>\n      <td>Mobile_Electronics</td>\n      <td>5</td>\n      <td>0.0</td>\n      <td>0.0</td>\n      <td>...</td>\n      <td>1.0</td>\n      <td>4.0</td>\n      <td>0.0</td>\n      <td>2.0</td>\n      <td>0.0</td>\n      <td>1.0</td>\n      <td>0.928571</td>\n      <td>32.0</td>\n      <td>0.499943</td>\n      <td>Not Genuine</td>\n    </tr>\n    <tr>\n      <th>1</th>\n      <td>US</td>\n      <td>40835037</td>\n      <td>R31LOQ8JGLPRLK</td>\n      <td>B00OQMFG1Q</td>\n      <td>82850235</td>\n      <td>GENSSI GSM / GPS Two Way Smart Phone Car Alarm...</td>\n      <td>Mobile_Electronics</td>\n      <td>5</td>\n      <td>0.0</td>\n      <td>1.0</td>\n      <td>...</td>\n      <td>1.0</td>\n      <td>0.0</td>\n      <td>0.0</td>\n      <td>0.0</td>\n      <td>0.0</td>\n      <td>1.0</td>\n      <td>1.333333</td>\n      <td>28.0</td>\n      <td>0.499936</td>\n      <td>Not Genuine</td>\n    </tr>\n    <tr>\n      <th>2</th>\n      <td>US</td>\n      <td>51469641</td>\n      <td>R2Y0MM9YE6OP3P</td>\n      <td>B00QERR5CY</td>\n      <td>82850235</td>\n      <td>iXCC Multi pack Lightning cable</td>\n      <td>Mobile_Electronics</td>\n      <td>5</td>\n      <td>0.0</td>\n      <td>0.0</td>\n      <td>...</td>\n      <td>1.0</td>\n      <td>1.0</td>\n      <td>1.0</td>\n      <td>1.0</td>\n      <td>0.0</td>\n      <td>0.0</td>\n      <td>1.083333</td>\n      <td>30.0</td>\n      <td>0.499877</td>\n      <td>Not Genuine</td>\n    </tr>\n    <tr>\n      <th>3</th>\n      <td>US</td>\n      <td>4332923</td>\n      <td>RRB9C05HDOD4O</td>\n      <td>B00QUFTPV4</td>\n      <td>82850235</td>\n      <td>abcGoodefg® FBI Covert Acoustic Tube Earpiece ...</td>\n      <td>Mobile_Electronics</td>\n      <td>4</td>\n      <td>0.0</td>\n      <td>0.0</td>\n      <td>...</td>\n      <td>0.0</td>\n      <td>0.0</td>\n      <td>0.0</td>\n      <td>0.0</td>\n      <td>0.0</td>\n      <td>0.0</td>\n      <td>1.000000</td>\n      <td>28.0</td>\n      <td>0.742184</td>\n      <td>Not Genuine</td>\n    </tr>\n    <tr>\n      <th>4</th>\n      <td>US</td>\n      <td>7846966</td>\n      <td>RY8DDL22YG4R5</td>\n      <td>B00KA6CCVY</td>\n      <td>563475445</td>\n      <td>Aweek® Air Acoustic Earpiece Headset for Baofe...</td>\n      <td>Mobile_Electronics</td>\n      <td>3</td>\n      <td>0.0</td>\n      <td>1.0</td>\n      <td>...</td>\n      <td>2.0</td>\n      <td>2.0</td>\n      <td>2.0</td>\n      <td>0.0</td>\n      <td>0.0</td>\n      <td>3.0</td>\n      <td>0.958333</td>\n      <td>24.0</td>\n      <td>0.675685</td>\n      <td>Genuine</td>\n    </tr>\n    <tr>\n      <th>...</th>\n      <td>...</td>\n      <td>...</td>\n      <td>...</td>\n      <td>...</td>\n      <td>...</td>\n      <td>...</td>\n      <td>...</td>\n      <td>...</td>\n      <td>...</td>\n      <td>...</td>\n      <td>...</td>\n      <td>...</td>\n      <td>...</td>\n      <td>...</td>\n      <td>...</td>\n      <td>...</td>\n      <td>...</td>\n      <td>...</td>\n      <td>...</td>\n      <td>...</td>\n      <td>...</td>\n    </tr>\n    <tr>\n      <th>59795</th>\n      <td>US</td>\n      <td>38978459</td>\n      <td>R2CDRVDUKB5Z9P</td>\n      <td>B00005OTZQ</td>\n      <td>554527960</td>\n      <td>Royal SE 2800 Hand-Held Spot Cleaner</td>\n      <td>Mobile_Electronics</td>\n      <td>5</td>\n      <td>23.0</td>\n      <td>27.0</td>\n      <td>...</td>\n      <td>0.0</td>\n      <td>0.0</td>\n      <td>0.0</td>\n      <td>0.0</td>\n      <td>0.0</td>\n      <td>0.0</td>\n      <td>0.521401</td>\n      <td>30.0</td>\n      <td>0.499941</td>\n      <td>Genuine</td>\n    </tr>\n    <tr>\n      <th>59796</th>\n      <td>US</td>\n      <td>51697602</td>\n      <td>R1DVLTZFXXOX9</td>\n      <td>B00005OTZQ</td>\n      <td>554527960</td>\n      <td>Royal SE 2800 Hand-Held Spot Cleaner</td>\n      <td>Mobile_Electronics</td>\n      <td>5</td>\n      <td>10.0</td>\n      <td>11.0</td>\n      <td>...</td>\n      <td>0.0</td>\n      <td>0.0</td>\n      <td>0.0</td>\n      <td>0.0</td>\n      <td>0.0</td>\n      <td>0.0</td>\n      <td>0.732558</td>\n      <td>30.0</td>\n      <td>0.499705</td>\n      <td>Not Genuine</td>\n    </tr>\n    <tr>\n      <th>59797</th>\n      <td>US</td>\n      <td>50891675</td>\n      <td>R1GHKKZMHAHQC1</td>\n      <td>B00005OTZQ</td>\n      <td>554527960</td>\n      <td>Royal SE 2800 Hand-Held Spot Cleaner</td>\n      <td>Mobile_Electronics</td>\n      <td>5</td>\n      <td>13.0</td>\n      <td>13.0</td>\n      <td>...</td>\n      <td>0.0</td>\n      <td>0.0</td>\n      <td>0.0</td>\n      <td>0.0</td>\n      <td>0.0</td>\n      <td>0.0</td>\n      <td>0.676190</td>\n      <td>30.0</td>\n      <td>0.499595</td>\n      <td>Genuine</td>\n    </tr>\n    <tr>\n      <th>59798</th>\n      <td>US</td>\n      <td>38528439</td>\n      <td>R227G6T5B26DVC</td>\n      <td>B00005OTZQ</td>\n      <td>554527960</td>\n      <td>Royal SE 2800 Hand-Held Spot Cleaner</td>\n      <td>Mobile_Electronics</td>\n      <td>5</td>\n      <td>58.0</td>\n      <td>61.0</td>\n      <td>...</td>\n      <td>0.0</td>\n      <td>0.0</td>\n      <td>0.0</td>\n      <td>0.0</td>\n      <td>0.0</td>\n      <td>0.0</td>\n      <td>0.479109</td>\n      <td>30.0</td>\n      <td>0.499938</td>\n      <td>Not Genuine</td>\n    </tr>\n    <tr>\n      <th>59799</th>\n      <td>US</td>\n      <td>47099634</td>\n      <td>R44WS2RSQQ0HR</td>\n      <td>B00005OTZQ</td>\n      <td>554527960</td>\n      <td>Royal SE 2800 Hand-Held Spot Cleaner</td>\n      <td>Mobile_Electronics</td>\n      <td>4</td>\n      <td>37.0</td>\n      <td>38.0</td>\n      <td>...</td>\n      <td>0.0</td>\n      <td>0.0</td>\n      <td>0.0</td>\n      <td>0.0</td>\n      <td>0.0</td>\n      <td>0.0</td>\n      <td>0.503356</td>\n      <td>30.0</td>\n      <td>0.499939</td>\n      <td>Not Genuine</td>\n    </tr>\n  </tbody>\n</table>\n<p>59800 rows × 36 columns</p>\n</div>",
      "text/plain": "      marketplace  customer_id       review_id  product_id  product_parent  \\\n0              US     20422322   R8MEA6IGAHO0B  B00MC4CED8        82850235   \n1              US     40835037  R31LOQ8JGLPRLK  B00OQMFG1Q        82850235   \n2              US     51469641  R2Y0MM9YE6OP3P  B00QERR5CY        82850235   \n3              US      4332923   RRB9C05HDOD4O  B00QUFTPV4        82850235   \n4              US      7846966   RY8DDL22YG4R5  B00KA6CCVY       563475445   \n...           ...          ...             ...         ...             ...   \n59795          US     38978459  R2CDRVDUKB5Z9P  B00005OTZQ       554527960   \n59796          US     51697602   R1DVLTZFXXOX9  B00005OTZQ       554527960   \n59797          US     50891675  R1GHKKZMHAHQC1  B00005OTZQ       554527960   \n59798          US     38528439  R227G6T5B26DVC  B00005OTZQ       554527960   \n59799          US     47099634   R44WS2RSQQ0HR  B00005OTZQ       554527960   \n\n                                           product_title    product_category  \\\n0                                   BlackVue DR600GW-PMP  Mobile_Electronics   \n1      GENSSI GSM / GPS Two Way Smart Phone Car Alarm...  Mobile_Electronics   \n2                        iXCC Multi pack Lightning cable  Mobile_Electronics   \n3      abcGoodefg® FBI Covert Acoustic Tube Earpiece ...  Mobile_Electronics   \n4      Aweek® Air Acoustic Earpiece Headset for Baofe...  Mobile_Electronics   \n...                                                  ...                 ...   \n59795               Royal SE 2800 Hand-Held Spot Cleaner  Mobile_Electronics   \n59796               Royal SE 2800 Hand-Held Spot Cleaner  Mobile_Electronics   \n59797               Royal SE 2800 Hand-Held Spot Cleaner  Mobile_Electronics   \n59798               Royal SE 2800 Hand-Held Spot Cleaner  Mobile_Electronics   \n59799               Royal SE 2800 Hand-Held Spot Cleaner  Mobile_Electronics   \n\n      star_rating  helpful_votes  total_votes  ... Pro_Count  Pre_Count  \\\n0               5            0.0          0.0  ...       1.0        4.0   \n1               5            0.0          1.0  ...       1.0        0.0   \n2               5            0.0          0.0  ...       1.0        1.0   \n3               4            0.0          0.0  ...       0.0        0.0   \n4               3            0.0          1.0  ...       2.0        2.0   \n...           ...            ...          ...  ...       ...        ...   \n59795           5           23.0         27.0  ...       0.0        0.0   \n59796           5           10.0         11.0  ...       0.0        0.0   \n59797           5           13.0         13.0  ...       0.0        0.0   \n59798           5           58.0         61.0  ...       0.0        0.0   \n59799           4           37.0         38.0  ...       0.0        0.0   \n\n      Con_Count Art_Count Nega_Count  Aux_Count Authenticity    AT  Genuinity  \\\n0           0.0       2.0        0.0        1.0     0.928571  32.0   0.499943   \n1           0.0       0.0        0.0        1.0     1.333333  28.0   0.499936   \n2           1.0       1.0        0.0        0.0     1.083333  30.0   0.499877   \n3           0.0       0.0        0.0        0.0     1.000000  28.0   0.742184   \n4           2.0       0.0        0.0        3.0     0.958333  24.0   0.675685   \n...         ...       ...        ...        ...          ...   ...        ...   \n59795       0.0       0.0        0.0        0.0     0.521401  30.0   0.499941   \n59796       0.0       0.0        0.0        0.0     0.732558  30.0   0.499705   \n59797       0.0       0.0        0.0        0.0     0.676190  30.0   0.499595   \n59798       0.0       0.0        0.0        0.0     0.479109  30.0   0.499938   \n59799       0.0       0.0        0.0        0.0     0.503356  30.0   0.499939   \n\n             label  \n0      Not Genuine  \n1      Not Genuine  \n2      Not Genuine  \n3      Not Genuine  \n4          Genuine  \n...            ...  \n59795      Genuine  \n59796  Not Genuine  \n59797      Genuine  \n59798  Not Genuine  \n59799  Not Genuine  \n\n[59800 rows x 36 columns]"
     },
     "execution_count": 47,
     "metadata": {},
     "output_type": "execute_result"
    }
   ]
  },
  {
   "cell_type": "code",
   "metadata": {
    "deepnote_to_be_reexecuted": false,
    "execution_millis": 491,
    "execution_start": 1654239139336,
    "source_hash": "10732670",
    "tags": [],
    "cell_id": "00071-51012150-ec80-4612-a5d3-30a7bd478441",
    "deepnote_cell_type": "code",
    "deepnote_cell_height": 761.953125,
    "deepnote_output_heights": [
     611
    ]
   },
   "source": "df_fuzzy=pd.read_csv('Genuine_NotGenuine.csv')\n\nlist(df_fuzzy.columns)\n",
   "execution_count": null,
   "outputs": [
    {
     "data": {
      "text/plain": "['marketplace',\n 'customer_id',\n 'review_id',\n 'product_id',\n 'product_parent',\n 'product_title',\n 'product_category',\n 'star_rating',\n 'helpful_votes',\n 'total_votes',\n 'vine',\n 'verified_purchase',\n 'review_headline',\n 'review_body',\n 'review_date',\n 'timestamp',\n 'IP Address',\n 'Sentiment',\n 'Subjectivity',\n 'Neg_Count',\n 'Word_Count',\n 'Unique_words',\n 'Noun_Count',\n 'Adj_Count',\n 'Verb_Count',\n 'Adv_Count',\n 'Pro_Count',\n 'Pre_Count',\n 'Con_Count',\n 'Art_Count',\n 'Nega_Count',\n 'Aux_Count',\n 'Authenticity',\n 'AT',\n 'Genuinity',\n 'label']"
     },
     "execution_count": 56,
     "metadata": {},
     "output_type": "execute_result"
    }
   ]
  },
  {
   "cell_type": "code",
   "metadata": {
    "deepnote_to_be_reexecuted": false,
    "execution_millis": 139,
    "execution_start": 1654104188553,
    "source_hash": "31acca20",
    "tags": [],
    "cell_id": "00072-d1ff3bd8-a523-4be7-815b-5632fb1b0907",
    "deepnote_cell_type": "code",
    "deepnote_cell_height": 599.875
   },
   "source": "df_fuzzy",
   "execution_count": null,
   "outputs": [
    {
     "data": {
      "application/vnd.deepnote.dataframe.v3+json": {
       "column_count": 36,
       "columns": [
        {
         "dtype": "object",
         "name": "marketplace",
         "stats": {
          "categories": [
           {
            "count": 28778,
            "name": "US"
           }
          ],
          "nan_count": 0,
          "unique_count": 1
         }
        },
        {
         "dtype": "int64",
         "name": "customer_id",
         "stats": {
          "histogram": [
           {
            "bin_end": 5318827.8,
            "bin_start": 10190,
            "count": 1707
           },
           {
            "bin_end": 10627465.6,
            "bin_start": 5318827.8,
            "count": 1607
           },
           {
            "bin_end": 15936103.399999999,
            "bin_start": 10627465.6,
            "count": 4798
           },
           {
            "bin_end": 21244741.2,
            "bin_start": 15936103.399999999,
            "count": 3275
           },
           {
            "bin_end": 26553379,
            "bin_start": 21244741.2,
            "count": 2867
           },
           {
            "bin_end": 31862016.799999997,
            "bin_start": 26553379,
            "count": 2406
           },
           {
            "bin_end": 37170654.6,
            "bin_start": 31862016.799999997,
            "count": 2391
           },
           {
            "bin_end": 42479292.4,
            "bin_start": 37170654.6,
            "count": 2534
           },
           {
            "bin_end": 47787930.199999996,
            "bin_start": 42479292.4,
            "count": 3452
           },
           {
            "bin_end": 53096568,
            "bin_start": 47787930.199999996,
            "count": 3741
           }
          ],
          "max": "53096568",
          "min": "10190",
          "nan_count": 0,
          "unique_count": 28429
         }
        },
        {
         "dtype": "object",
         "name": "review_id",
         "stats": {
          "categories": [
           {
            "count": 2,
            "name": "R26I2RI1GFV8QG"
           },
           {
            "count": 2,
            "name": "R2AT2426ZHFUHH"
           },
           {
            "count": 28774,
            "name": "28774 others"
           }
          ],
          "nan_count": 0,
          "unique_count": 28776
         }
        },
        {
         "dtype": "object",
         "name": "product_id"
        },
        {
         "dtype": "int64",
         "name": "product_parent"
        },
        {
         "dtype": "object",
         "name": "product_title"
        },
        {
         "dtype": "object",
         "name": "product_category"
        },
        {
         "dtype": "int64",
         "name": "star_rating"
        },
        {
         "dtype": "float64",
         "name": "helpful_votes"
        },
        {
         "dtype": "float64",
         "name": "total_votes"
        },
        {
         "dtype": "object",
         "name": "vine"
        },
        {
         "dtype": "int64",
         "name": "verified_purchase"
        },
        {
         "dtype": "object",
         "name": "review_headline"
        },
        {
         "dtype": "object",
         "name": "review_body"
        },
        {
         "dtype": "object",
         "name": "review_date"
        },
        {
         "dtype": "float64",
         "name": "timestamp"
        },
        {
         "dtype": "object",
         "name": "IP Address"
        },
        {
         "dtype": "float64",
         "name": "Sentiment"
        },
        {
         "dtype": "float64",
         "name": "Subjectivity"
        },
        {
         "dtype": "int64",
         "name": "Neg_Count"
        },
        {
         "dtype": "int64",
         "name": "Word_Count"
        },
        {
         "dtype": "int64",
         "name": "Unique_words"
        },
        {
         "dtype": "float64",
         "name": "Noun_Count"
        },
        {
         "dtype": "float64",
         "name": "Adj_Count"
        },
        {
         "dtype": "float64",
         "name": "Verb_Count"
        },
        {
         "dtype": "float64",
         "name": "Adv_Count"
        },
        {
         "dtype": "float64",
         "name": "Pro_Count"
        },
        {
         "dtype": "float64",
         "name": "Pre_Count"
        },
        {
         "dtype": "float64",
         "name": "Con_Count"
        },
        {
         "dtype": "float64",
         "name": "Art_Count"
        },
        {
         "dtype": "float64",
         "name": "Nega_Count"
        },
        {
         "dtype": "float64",
         "name": "Aux_Count"
        },
        {
         "dtype": "float64",
         "name": "Authenticity"
        },
        {
         "dtype": "float64",
         "name": "AT"
        },
        {
         "dtype": "float64",
         "name": "Genuinity"
        },
        {
         "dtype": "object",
         "name": "label"
        },
        {
         "dtype": "int64",
         "name": "_deepnote_index_column"
        }
       ],
       "row_count": 28778,
       "rows": [
        {
         "AT": 25,
         "Adj_Count": 4,
         "Adv_Count": 1,
         "Art_Count": 1,
         "Authenticity": 0.92,
         "Aux_Count": 4,
         "Con_Count": 2,
         "Genuinity": 0.7889113781083029,
         "IP Address": "205.10.168.66",
         "Neg_Count": 1,
         "Nega_Count": 1,
         "Noun_Count": 5,
         "Pre_Count": 2,
         "Pro_Count": 0,
         "Sentiment": 0.0791666666666666,
         "Subjectivity": 0.6666666666666666,
         "Unique_words": 24,
         "Verb_Count": 7,
         "Word_Count": 25,
         "_deepnote_index_column": 0,
         "customer_id": 44855305,
         "helpful_votes": 0,
         "label": "Genuine",
         "marketplace": "US",
         "product_category": "Mobile_Electronics",
         "product_id": "B0067XVNTG",
         "product_parent": 563475445,
         "product_title": "Generic Car Dashboard Video Camera Vehicle Video Accident Recorder (2.0\" 1080P)",
         "review_body": "be careful with these products  i have bought several of these cameras and the image is pretty decent but battery does not hold any charge    ",
         "review_date": "2015-08-31",
         "review_headline": "cameras has battery issues",
         "review_id": "R26I2RI1GFV8QG",
         "star_rating": 2,
         "timestamp": 1440973308,
         "total_votes": 0,
         "verified_purchase": 1,
         "vine": "N"
        },
        {
         "AT": 29,
         "Adj_Count": 2,
         "Adv_Count": 2,
         "Art_Count": 1,
         "Authenticity": 0.7272727272727273,
         "Aux_Count": 1,
         "Con_Count": 0,
         "Genuinity": 0.7935405742182985,
         "IP Address": "205.10.168.66",
         "Neg_Count": 1,
         "Nega_Count": 1,
         "Noun_Count": 2,
         "Pre_Count": 2,
         "Pro_Count": 0,
         "Sentiment": -0.0378787878787878,
         "Subjectivity": 0.3292929292929292,
         "Unique_words": 17,
         "Verb_Count": 5,
         "Word_Count": 22,
         "_deepnote_index_column": 1,
         "customer_id": 21299354,
         "helpful_votes": 0,
         "label": "Genuine",
         "marketplace": "US",
         "product_category": "Mobile_Electronics",
         "product_id": "B00MJCDPM2",
         "product_parent": 563475445,
         "product_title": "Sentey LS-4460 B-Trek S8 Bluetooth Portable Stereo Speaker (Black)",
         "review_body": "first one arrived as a brick   would not work  would not charge  useless   exchanged for a new one that works as advertised ",
         "review_date": "2015-08-31",
         "review_headline": "didn t love the first one",
         "review_id": "R2AT2426ZHFUHH",
         "star_rating": 3,
         "timestamp": 1441033322,
         "total_votes": 1,
         "verified_purchase": 1,
         "vine": "N"
        },
        {
         "AT": 25,
         "Adj_Count": 4,
         "Adv_Count": 1,
         "Art_Count": 1,
         "Authenticity": 0.92,
         "Aux_Count": 4,
         "Con_Count": 2,
         "Genuinity": 0.7889113781083029,
         "IP Address": "197.113.158.177",
         "Neg_Count": 1,
         "Nega_Count": 1,
         "Noun_Count": 5,
         "Pre_Count": 2,
         "Pro_Count": 0,
         "Sentiment": 0.0791666666666666,
         "Subjectivity": 0.6666666666666666,
         "Unique_words": 24,
         "Verb_Count": 7,
         "Word_Count": 25,
         "_deepnote_index_column": 2,
         "customer_id": 44855305,
         "helpful_votes": 0,
         "label": "Genuine",
         "marketplace": "US",
         "product_category": "Mobile_Electronics",
         "product_id": "B0067XVNTG",
         "product_parent": 563475445,
         "product_title": "Generic Car Dashboard Video Camera Vehicle Video Accident Recorder (2.0\" 1080P)",
         "review_body": "be careful with these products  i have bought several of these cameras and the image is pretty decent but battery does not hold any charge    ",
         "review_date": "2015-08-31",
         "review_headline": "cameras has battery issues",
         "review_id": "R26I2RI1GFV8QG",
         "star_rating": 2,
         "timestamp": 1440973308,
         "total_votes": 0,
         "verified_purchase": 1,
         "vine": "N"
        },
        {
         "AT": 29,
         "Adj_Count": 2,
         "Adv_Count": 2,
         "Art_Count": 1,
         "Authenticity": 0.7272727272727273,
         "Aux_Count": 1,
         "Con_Count": 0,
         "Genuinity": 0.7935405742182985,
         "IP Address": "214.101.70.31",
         "Neg_Count": 1,
         "Nega_Count": 1,
         "Noun_Count": 2,
         "Pre_Count": 2,
         "Pro_Count": 0,
         "Sentiment": -0.0378787878787878,
         "Subjectivity": 0.3292929292929292,
         "Unique_words": 17,
         "Verb_Count": 5,
         "Word_Count": 22,
         "_deepnote_index_column": 3,
         "customer_id": 21299354,
         "helpful_votes": 0,
         "label": "Genuine",
         "marketplace": "US",
         "product_category": "Mobile_Electronics",
         "product_id": "B00MJCDPM2",
         "product_parent": 754171872,
         "product_title": "Sentey LS-4460 B-Trek S8 Bluetooth Portable Stereo Speaker (Black)",
         "review_body": "first one arrived as a brick   would not work  would not charge  useless   exchanged for a new one that works as advertised ",
         "review_date": "2015-08-31",
         "review_headline": "didn t love the first one",
         "review_id": "R2AT2426ZHFUHH",
         "star_rating": 3,
         "timestamp": 1441033322,
         "total_votes": 1,
         "verified_purchase": 1,
         "vine": "N"
        },
        {
         "AT": 30,
         "Adj_Count": 0,
         "Adv_Count": 0,
         "Art_Count": 0,
         "Authenticity": 1.1666666666666667,
         "Aux_Count": 0,
         "Con_Count": 0,
         "Genuinity": 0.7941485551380435,
         "IP Address": "223.73.108.197",
         "Neg_Count": 0,
         "Nega_Count": 0,
         "Noun_Count": 0,
         "Pre_Count": 1,
         "Pro_Count": 1,
         "Sentiment": 0,
         "Subjectivity": 0,
         "Unique_words": 6,
         "Verb_Count": 2,
         "Word_Count": 6,
         "_deepnote_index_column": 4,
         "customer_id": 18944032,
         "helpful_votes": 1,
         "label": "Genuine",
         "marketplace": "US",
         "product_category": "Mobile_Electronics",
         "product_id": "B00W6OLUGQ",
         "product_parent": 577462547,
         "product_title": "DTK® AMI MDI MMI Adapter 8-PIN Lightning Cable Connect iPod iPhone 5 ,5S, iPhone 6, iPhone 6 plus iPad to Audi A4 A5 S5 A6 A8 Q7 / Vw Jetta GTI GLI Jetta Passat Cc Tiguan Touareg EOS / Skoda Superb Octavia Fabia / Seat 2009-2013",
         "review_body": "you need to plug in both",
         "review_date": "2015-08-31",
         "review_headline": "two stars",
         "review_id": "R3TZNSOXS13SIG",
         "star_rating": 2,
         "timestamp": 1441025072,
         "total_votes": 3,
         "verified_purchase": 1,
         "vine": "N"
        },
        {
         "AT": 32,
         "Adj_Count": 1,
         "Adv_Count": 0,
         "Art_Count": 0,
         "Authenticity": 0.8823529411764706,
         "Aux_Count": 0,
         "Con_Count": 0,
         "Genuinity": 0.7941485551380435,
         "IP Address": "207.212.248.90",
         "Neg_Count": 0,
         "Nega_Count": 0,
         "Noun_Count": 6,
         "Pre_Count": 2,
         "Pro_Count": 0,
         "Sentiment": 0,
         "Subjectivity": 0,
         "Unique_words": 15,
         "Verb_Count": 5,
         "Word_Count": 17,
         "_deepnote_index_column": 5,
         "customer_id": 279606,
         "helpful_votes": 2,
         "label": "Genuine",
         "marketplace": "US",
         "product_category": "Mobile_Electronics",
         "product_id": "B008MY1F8W",
         "product_parent": 680240984,
         "product_title": "INPA K+CAN K+DCAN Car Diagnostic tool Cable OBD USB Interface for BMW R56 E87 E93 E70",
         "review_body": "worked with mhd flasher for android   used to flash performance tunes to bmw    i    i n   engines ",
         "review_date": "2015-08-31",
         "review_headline": "five stars",
         "review_id": "R12UBZT87UX3AP",
         "star_rating": 5,
         "timestamp": 1440961489,
         "total_votes": 2,
         "verified_purchase": 1,
         "vine": "N"
        },
        {
         "AT": 29,
         "Adj_Count": 0,
         "Adv_Count": 1,
         "Art_Count": 0,
         "Authenticity": 1,
         "Aux_Count": 0,
         "Con_Count": 0,
         "Genuinity": 0.7941485551380435,
         "IP Address": "219.28.245.145",
         "Neg_Count": 0,
         "Nega_Count": 0,
         "Noun_Count": 1,
         "Pre_Count": 0,
         "Pro_Count": 0,
         "Sentiment": 0,
         "Subjectivity": 0,
         "Unique_words": 4,
         "Verb_Count": 1,
         "Word_Count": 4,
         "_deepnote_index_column": 6,
         "customer_id": 24863069,
         "helpful_votes": 0,
         "label": "Genuine",
         "marketplace": "US",
         "product_category": "Mobile_Electronics",
         "product_id": "B00LTCIT7Y",
         "product_parent": 332806411,
         "product_title": "Astatic (302-10005) D104M6B Amplified Ceramic Power 4-Pin CB Microphone",
         "review_body": "scratchy when keyed up",
         "review_date": "2015-08-31",
         "review_headline": "two stars",
         "review_id": "R32MW6D6CXKCFW",
         "star_rating": 2,
         "timestamp": 1440977162,
         "total_votes": 0,
         "verified_purchase": 1,
         "vine": "N"
        },
        {
         "AT": 29,
         "Adj_Count": 0,
         "Adv_Count": 0,
         "Art_Count": 0,
         "Authenticity": 0.75,
         "Aux_Count": 1,
         "Con_Count": 0,
         "Genuinity": 0.7843612630017215,
         "IP Address": "193.105.138.92",
         "Neg_Count": 1,
         "Nega_Count": 0,
         "Noun_Count": 2,
         "Pre_Count": 0,
         "Pro_Count": 0,
         "Sentiment": -0.1,
         "Subjectivity": 0.4,
         "Unique_words": 4,
         "Verb_Count": 2,
         "Word_Count": 4,
         "_deepnote_index_column": 7,
         "customer_id": 528818,
         "helpful_votes": 0,
         "label": "Genuine",
         "marketplace": "US",
         "product_category": "Mobile_Electronics",
         "product_id": "B00MXET7NC",
         "product_parent": 651107618,
         "product_title": "BaoFeng M-1 Commercial Holster for UV-82 : Custom Leather, Vinyl, Stainless Steel Case",
         "review_body": "was everything i expected",
         "review_date": "2015-08-31",
         "review_headline": "four stars",
         "review_id": "R19C76D4LWB6CM",
         "star_rating": 4,
         "timestamp": 1440963690,
         "total_votes": 0,
         "verified_purchase": 1,
         "vine": "N"
        },
        {
         "AT": 30,
         "Adj_Count": 0,
         "Adv_Count": 0,
         "Art_Count": 0,
         "Authenticity": 1,
         "Aux_Count": 0,
         "Con_Count": 0,
         "Genuinity": 0.7941485551380435,
         "IP Address": "214.189.200.151",
         "Neg_Count": 0,
         "Nega_Count": 0,
         "Noun_Count": 2,
         "Pre_Count": 0,
         "Pro_Count": 0,
         "Sentiment": 0,
         "Subjectivity": 0,
         "Unique_words": 2,
         "Verb_Count": 0,
         "Word_Count": 2,
         "_deepnote_index_column": 8,
         "customer_id": 22070226,
         "helpful_votes": 0,
         "label": "Genuine",
         "marketplace": "US",
         "product_category": "Mobile_Electronics",
         "product_id": "B00VU7PGPQ",
         "product_parent": 973149575,
         "product_title": "[New Element Series] iXCC MicroUSB cables",
         "review_body": "life savers",
         "review_date": "2015-08-31",
         "review_headline": "five stars",
         "review_id": "R28UEIZZYTOC6N",
         "star_rating": 5,
         "timestamp": 1441018007,
         "total_votes": 0,
         "verified_purchase": 1,
         "vine": "N"
        },
        {
         "AT": 30,
         "Adj_Count": 1,
         "Adv_Count": 0,
         "Art_Count": 0,
         "Authenticity": 0.75,
         "Aux_Count": 0,
         "Con_Count": 0,
         "Genuinity": 0.7941485551380435,
         "IP Address": "194.214.172.100",
         "Neg_Count": 0,
         "Nega_Count": 0,
         "Noun_Count": 2,
         "Pre_Count": 0,
         "Pro_Count": 0,
         "Sentiment": 0,
         "Subjectivity": 0,
         "Unique_words": 3,
         "Verb_Count": 0,
         "Word_Count": 4,
         "_deepnote_index_column": 9,
         "customer_id": 48689977,
         "helpful_votes": 0,
         "label": "Genuine",
         "marketplace": "US",
         "product_category": "Mobile_Electronics",
         "product_id": "B005LF67OC",
         "product_parent": 71624801,
         "product_title": "BestDealUSA Universal Am-Fm Am Fm Hidden Windshield Antenna Car Radio",
         "review_body": "x x vc     ccc",
         "review_date": "2015-08-31",
         "review_headline": "five stars",
         "review_id": "R2F2BCP1CC8VKZ",
         "star_rating": 5,
         "timestamp": 1440960140,
         "total_votes": 0,
         "verified_purchase": 1,
         "vine": "N"
        }
       ]
      },
      "text/html": "<div>\n<style scoped>\n    .dataframe tbody tr th:only-of-type {\n        vertical-align: middle;\n    }\n\n    .dataframe tbody tr th {\n        vertical-align: top;\n    }\n\n    .dataframe thead th {\n        text-align: right;\n    }\n</style>\n<table border=\"1\" class=\"dataframe\">\n  <thead>\n    <tr style=\"text-align: right;\">\n      <th></th>\n      <th>marketplace</th>\n      <th>customer_id</th>\n      <th>review_id</th>\n      <th>product_id</th>\n      <th>product_parent</th>\n      <th>product_title</th>\n      <th>product_category</th>\n      <th>star_rating</th>\n      <th>helpful_votes</th>\n      <th>total_votes</th>\n      <th>...</th>\n      <th>Pro_Count</th>\n      <th>Pre_Count</th>\n      <th>Con_Count</th>\n      <th>Art_Count</th>\n      <th>Nega_Count</th>\n      <th>Aux_Count</th>\n      <th>Authenticity</th>\n      <th>AT</th>\n      <th>Genuinity</th>\n      <th>label</th>\n    </tr>\n  </thead>\n  <tbody>\n    <tr>\n      <th>0</th>\n      <td>US</td>\n      <td>44855305</td>\n      <td>R26I2RI1GFV8QG</td>\n      <td>B0067XVNTG</td>\n      <td>563475445</td>\n      <td>Generic Car Dashboard Video Camera Vehicle Vid...</td>\n      <td>Mobile_Electronics</td>\n      <td>2</td>\n      <td>0.0</td>\n      <td>0.0</td>\n      <td>...</td>\n      <td>0.0</td>\n      <td>2.0</td>\n      <td>2.0</td>\n      <td>1.0</td>\n      <td>1.0</td>\n      <td>4.0</td>\n      <td>0.920000</td>\n      <td>25.0</td>\n      <td>0.788911</td>\n      <td>Genuine</td>\n    </tr>\n    <tr>\n      <th>1</th>\n      <td>US</td>\n      <td>21299354</td>\n      <td>R2AT2426ZHFUHH</td>\n      <td>B00MJCDPM2</td>\n      <td>563475445</td>\n      <td>Sentey LS-4460 B-Trek S8 Bluetooth Portable St...</td>\n      <td>Mobile_Electronics</td>\n      <td>3</td>\n      <td>0.0</td>\n      <td>1.0</td>\n      <td>...</td>\n      <td>0.0</td>\n      <td>2.0</td>\n      <td>0.0</td>\n      <td>1.0</td>\n      <td>1.0</td>\n      <td>1.0</td>\n      <td>0.727273</td>\n      <td>29.0</td>\n      <td>0.793541</td>\n      <td>Genuine</td>\n    </tr>\n    <tr>\n      <th>2</th>\n      <td>US</td>\n      <td>44855305</td>\n      <td>R26I2RI1GFV8QG</td>\n      <td>B0067XVNTG</td>\n      <td>563475445</td>\n      <td>Generic Car Dashboard Video Camera Vehicle Vid...</td>\n      <td>Mobile_Electronics</td>\n      <td>2</td>\n      <td>0.0</td>\n      <td>0.0</td>\n      <td>...</td>\n      <td>0.0</td>\n      <td>2.0</td>\n      <td>2.0</td>\n      <td>1.0</td>\n      <td>1.0</td>\n      <td>4.0</td>\n      <td>0.920000</td>\n      <td>25.0</td>\n      <td>0.788911</td>\n      <td>Genuine</td>\n    </tr>\n    <tr>\n      <th>3</th>\n      <td>US</td>\n      <td>21299354</td>\n      <td>R2AT2426ZHFUHH</td>\n      <td>B00MJCDPM2</td>\n      <td>754171872</td>\n      <td>Sentey LS-4460 B-Trek S8 Bluetooth Portable St...</td>\n      <td>Mobile_Electronics</td>\n      <td>3</td>\n      <td>0.0</td>\n      <td>1.0</td>\n      <td>...</td>\n      <td>0.0</td>\n      <td>2.0</td>\n      <td>0.0</td>\n      <td>1.0</td>\n      <td>1.0</td>\n      <td>1.0</td>\n      <td>0.727273</td>\n      <td>29.0</td>\n      <td>0.793541</td>\n      <td>Genuine</td>\n    </tr>\n    <tr>\n      <th>4</th>\n      <td>US</td>\n      <td>18944032</td>\n      <td>R3TZNSOXS13SIG</td>\n      <td>B00W6OLUGQ</td>\n      <td>577462547</td>\n      <td>DTK® AMI MDI MMI Adapter 8-PIN Lightning Cable...</td>\n      <td>Mobile_Electronics</td>\n      <td>2</td>\n      <td>1.0</td>\n      <td>3.0</td>\n      <td>...</td>\n      <td>1.0</td>\n      <td>1.0</td>\n      <td>0.0</td>\n      <td>0.0</td>\n      <td>0.0</td>\n      <td>0.0</td>\n      <td>1.166667</td>\n      <td>30.0</td>\n      <td>0.794149</td>\n      <td>Genuine</td>\n    </tr>\n    <tr>\n      <th>...</th>\n      <td>...</td>\n      <td>...</td>\n      <td>...</td>\n      <td>...</td>\n      <td>...</td>\n      <td>...</td>\n      <td>...</td>\n      <td>...</td>\n      <td>...</td>\n      <td>...</td>\n      <td>...</td>\n      <td>...</td>\n      <td>...</td>\n      <td>...</td>\n      <td>...</td>\n      <td>...</td>\n      <td>...</td>\n      <td>...</td>\n      <td>...</td>\n      <td>...</td>\n      <td>...</td>\n    </tr>\n    <tr>\n      <th>28773</th>\n      <td>US</td>\n      <td>38056064</td>\n      <td>R1CSEQKUEBIIY8</td>\n      <td>B00026IDG0</td>\n      <td>70026790</td>\n      <td>Cowon iAUDIO 6 - Digital player / radio - HDD ...</td>\n      <td>Mobile_Electronics</td>\n      <td>5</td>\n      <td>7.0</td>\n      <td>7.0</td>\n      <td>...</td>\n      <td>3.0</td>\n      <td>3.0</td>\n      <td>1.0</td>\n      <td>2.0</td>\n      <td>1.0</td>\n      <td>1.0</td>\n      <td>0.333704</td>\n      <td>28.0</td>\n      <td>0.759495</td>\n      <td>Genuine</td>\n    </tr>\n    <tr>\n      <th>28774</th>\n      <td>US</td>\n      <td>26663400</td>\n      <td>R160TNIIRSNKJ0</td>\n      <td>B00005OTZQ</td>\n      <td>554527960</td>\n      <td>Royal SE 2800 Hand-Held Spot Cleaner</td>\n      <td>Mobile_Electronics</td>\n      <td>1</td>\n      <td>0.0</td>\n      <td>8.0</td>\n      <td>...</td>\n      <td>1.0</td>\n      <td>1.0</td>\n      <td>0.0</td>\n      <td>2.0</td>\n      <td>0.0</td>\n      <td>2.0</td>\n      <td>1.000000</td>\n      <td>27.0</td>\n      <td>0.199434</td>\n      <td>Not Genuine</td>\n    </tr>\n    <tr>\n      <th>28775</th>\n      <td>US</td>\n      <td>30969863</td>\n      <td>R2BZOEH3ENFZ1L</td>\n      <td>B00006J05N</td>\n      <td>777995919</td>\n      <td>Crosley Mini Bubbler Jukebox (WR18-CR)</td>\n      <td>Mobile_Electronics</td>\n      <td>5</td>\n      <td>4.0</td>\n      <td>12.0</td>\n      <td>...</td>\n      <td>2.0</td>\n      <td>2.0</td>\n      <td>1.0</td>\n      <td>2.0</td>\n      <td>1.0</td>\n      <td>2.0</td>\n      <td>1.285714</td>\n      <td>22.0</td>\n      <td>0.753143</td>\n      <td>Genuine</td>\n    </tr>\n    <tr>\n      <th>28776</th>\n      <td>US</td>\n      <td>51959593</td>\n      <td>RCE301XOYH19Z</td>\n      <td>B00006I580</td>\n      <td>904373353</td>\n      <td>DIGISETTE DUO-MP3 E-Cassette Player ( Windows )</td>\n      <td>Mobile_Electronics</td>\n      <td>2</td>\n      <td>0.0</td>\n      <td>1.0</td>\n      <td>...</td>\n      <td>0.0</td>\n      <td>0.0</td>\n      <td>0.0</td>\n      <td>0.0</td>\n      <td>0.0</td>\n      <td>0.0</td>\n      <td>0.833333</td>\n      <td>30.0</td>\n      <td>0.789298</td>\n      <td>Genuine</td>\n    </tr>\n    <tr>\n      <th>28777</th>\n      <td>US</td>\n      <td>51971181</td>\n      <td>R3GTKLIWBR1ABQ</td>\n      <td>B00006I56D</td>\n      <td>189704290</td>\n      <td>Coby Personal CD/MP3 Player with AM/FM Digital...</td>\n      <td>Mobile_Electronics</td>\n      <td>4</td>\n      <td>7.0</td>\n      <td>7.0</td>\n      <td>...</td>\n      <td>0.0</td>\n      <td>0.0</td>\n      <td>0.0</td>\n      <td>0.0</td>\n      <td>0.0</td>\n      <td>0.0</td>\n      <td>0.439153</td>\n      <td>30.0</td>\n      <td>0.760991</td>\n      <td>Genuine</td>\n    </tr>\n  </tbody>\n</table>\n<p>28778 rows × 36 columns</p>\n</div>",
      "text/plain": "      marketplace  customer_id       review_id  product_id  product_parent  \\\n0              US     44855305  R26I2RI1GFV8QG  B0067XVNTG       563475445   \n1              US     21299354  R2AT2426ZHFUHH  B00MJCDPM2       563475445   \n2              US     44855305  R26I2RI1GFV8QG  B0067XVNTG       563475445   \n3              US     21299354  R2AT2426ZHFUHH  B00MJCDPM2       754171872   \n4              US     18944032  R3TZNSOXS13SIG  B00W6OLUGQ       577462547   \n...           ...          ...             ...         ...             ...   \n28773          US     38056064  R1CSEQKUEBIIY8  B00026IDG0        70026790   \n28774          US     26663400  R160TNIIRSNKJ0  B00005OTZQ       554527960   \n28775          US     30969863  R2BZOEH3ENFZ1L  B00006J05N       777995919   \n28776          US     51959593   RCE301XOYH19Z  B00006I580       904373353   \n28777          US     51971181  R3GTKLIWBR1ABQ  B00006I56D       189704290   \n\n                                           product_title    product_category  \\\n0      Generic Car Dashboard Video Camera Vehicle Vid...  Mobile_Electronics   \n1      Sentey LS-4460 B-Trek S8 Bluetooth Portable St...  Mobile_Electronics   \n2      Generic Car Dashboard Video Camera Vehicle Vid...  Mobile_Electronics   \n3      Sentey LS-4460 B-Trek S8 Bluetooth Portable St...  Mobile_Electronics   \n4      DTK® AMI MDI MMI Adapter 8-PIN Lightning Cable...  Mobile_Electronics   \n...                                                  ...                 ...   \n28773  Cowon iAUDIO 6 - Digital player / radio - HDD ...  Mobile_Electronics   \n28774               Royal SE 2800 Hand-Held Spot Cleaner  Mobile_Electronics   \n28775             Crosley Mini Bubbler Jukebox (WR18-CR)  Mobile_Electronics   \n28776    DIGISETTE DUO-MP3 E-Cassette Player ( Windows )  Mobile_Electronics   \n28777  Coby Personal CD/MP3 Player with AM/FM Digital...  Mobile_Electronics   \n\n       star_rating  helpful_votes  total_votes  ... Pro_Count  Pre_Count  \\\n0                2            0.0          0.0  ...       0.0        2.0   \n1                3            0.0          1.0  ...       0.0        2.0   \n2                2            0.0          0.0  ...       0.0        2.0   \n3                3            0.0          1.0  ...       0.0        2.0   \n4                2            1.0          3.0  ...       1.0        1.0   \n...            ...            ...          ...  ...       ...        ...   \n28773            5            7.0          7.0  ...       3.0        3.0   \n28774            1            0.0          8.0  ...       1.0        1.0   \n28775            5            4.0         12.0  ...       2.0        2.0   \n28776            2            0.0          1.0  ...       0.0        0.0   \n28777            4            7.0          7.0  ...       0.0        0.0   \n\n      Con_Count Art_Count Nega_Count  Aux_Count Authenticity    AT  Genuinity  \\\n0           2.0       1.0        1.0        4.0     0.920000  25.0   0.788911   \n1           0.0       1.0        1.0        1.0     0.727273  29.0   0.793541   \n2           2.0       1.0        1.0        4.0     0.920000  25.0   0.788911   \n3           0.0       1.0        1.0        1.0     0.727273  29.0   0.793541   \n4           0.0       0.0        0.0        0.0     1.166667  30.0   0.794149   \n...         ...       ...        ...        ...          ...   ...        ...   \n28773       1.0       2.0        1.0        1.0     0.333704  28.0   0.759495   \n28774       0.0       2.0        0.0        2.0     1.000000  27.0   0.199434   \n28775       1.0       2.0        1.0        2.0     1.285714  22.0   0.753143   \n28776       0.0       0.0        0.0        0.0     0.833333  30.0   0.789298   \n28777       0.0       0.0        0.0        0.0     0.439153  30.0   0.760991   \n\n             label  \n0          Genuine  \n1          Genuine  \n2          Genuine  \n3          Genuine  \n4          Genuine  \n...            ...  \n28773      Genuine  \n28774  Not Genuine  \n28775      Genuine  \n28776      Genuine  \n28777      Genuine  \n\n[28778 rows x 36 columns]"
     },
     "execution_count": 31,
     "metadata": {},
     "output_type": "execute_result"
    }
   ]
  },
  {
   "cell_type": "code",
   "metadata": {
    "deepnote_to_be_reexecuted": false,
    "execution_millis": 21,
    "execution_start": 1654104474582,
    "source_hash": "2a6ac1eb",
    "tags": [],
    "cell_id": "00073-27c96dd1-dcf6-4ec2-af80-d669cc5771fd",
    "deepnote_cell_type": "code",
    "deepnote_cell_height": 1016.953125
   },
   "source": "df_fuzzy=df_fuzzy.drop(columns=['marketplace',\n 'product_parent',\n 'product_category',\n 'helpful_votes',\n 'total_votes',\n 'vine',\n 'verified_purchase',\n 'review_date',\n 'timestamp',\n 'Subjectivity',\n 'Neg_Count',\n 'Word_Count',\n 'Unique_words',\n 'Noun_Count',\n 'Adj_Count',\n 'Verb_Count',\n 'Adv_Count',\n 'Pro_Count',\n 'Pre_Count',\n 'Con_Count',\n 'Art_Count',\n 'Nega_Count',\n 'Aux_Count',\n 'Authenticity',\n 'AT','Genuinity'\n])\n\ndf_final=df_final.drop(columns=['marketplace',\n 'product_parent',\n 'product_category',\n 'helpful_votes',\n 'total_votes',\n 'vine',\n 'verified_purchase',\n 'review_date',\n 'timestamp',\n 'Subjectivity',\n 'Neg_Count',\n 'Word_Count',\n 'Unique_words',\n 'Noun_Count',\n 'Adj_Count',\n 'Verb_Count',\n 'Adv_Count',\n 'Pro_Count',\n 'Pre_Count',\n 'Con_Count',\n 'Art_Count',\n 'Nega_Count',\n 'Aux_Count',\n 'Authenticity',\n 'AT','Genuinity'\n])",
   "execution_count": null,
   "outputs": []
  },
  {
   "cell_type": "code",
   "metadata": {
    "deepnote_to_be_reexecuted": false,
    "execution_millis": 6,
    "execution_start": 1654104489183,
    "source_hash": "bdbf0186",
    "tags": [],
    "cell_id": "00074-c2214ebd-3b32-47c6-a95a-2ac44d8a16b4",
    "deepnote_cell_type": "code",
    "deepnote_cell_height": 310.1875,
    "deepnote_output_heights": [
     213.234375
    ]
   },
   "source": "df_final.dtypes",
   "execution_count": null,
   "outputs": [
    {
     "data": {
      "text/plain": "customer_id          int64\nreview_id           object\nproduct_id          object\nproduct_title       object\nstar_rating         object\nreview_headline     object\nreview_body         object\nIP Address          object\nSentiment          float64\nlabel               object\ndtype: object"
     },
     "execution_count": 50,
     "metadata": {},
     "output_type": "execute_result"
    }
   ]
  },
  {
   "cell_type": "code",
   "metadata": {
    "deepnote_to_be_reexecuted": false,
    "execution_millis": 108,
    "execution_start": 1654104495624,
    "source_hash": "cd14b2a6",
    "tags": [],
    "cell_id": "00075-95d4002b-db52-4be4-814f-2d0e172b8ad3",
    "deepnote_cell_type": "code",
    "deepnote_cell_height": 310.1875,
    "deepnote_output_heights": [
     213.234375
    ]
   },
   "source": "df_fuzzy.dtypes",
   "execution_count": null,
   "outputs": [
    {
     "data": {
      "text/plain": "customer_id          int64\nreview_id           object\nproduct_id          object\nproduct_title       object\nstar_rating          int64\nreview_headline     object\nreview_body         object\nIP Address          object\nSentiment          float64\nlabel               object\ndtype: object"
     },
     "execution_count": 51,
     "metadata": {},
     "output_type": "execute_result"
    }
   ]
  },
  {
   "cell_type": "code",
   "metadata": {
    "deepnote_table_loading": false,
    "deepnote_table_state": {
     "filters": [],
     "pageIndex": 0,
     "pageSize": 10,
     "sortBy": []
    },
    "deepnote_to_be_reexecuted": false,
    "execution_millis": 86,
    "execution_start": 1654104497727,
    "source_hash": "2ba1d712",
    "tags": [],
    "cell_id": "00076-86f49d45-cd9d-4e0c-b076-daf484a15d44",
    "deepnote_cell_type": "code",
    "deepnote_cell_height": 653.875
   },
   "source": "#df_final=pd.read_csv('user_defined_labeled_dataset.csv')\n\ndf_hybrid=df_final.append(df_fuzzy).reset_index(drop=True)\ndf_hybrid",
   "execution_count": null,
   "outputs": [
    {
     "data": {
      "application/vnd.deepnote.dataframe.v3+json": {
       "column_count": 10,
       "columns": [
        {
         "dtype": "int64",
         "name": "customer_id",
         "stats": {
          "histogram": [
           {
            "bin_end": 5318720.7,
            "bin_start": 10071,
            "count": 5635
           },
           {
            "bin_end": 10627370.4,
            "bin_start": 5318720.7,
            "count": 5177
           },
           {
            "bin_end": 15936020.100000001,
            "bin_start": 10627370.4,
            "count": 14797
           },
           {
            "bin_end": 21244669.8,
            "bin_start": 15936020.100000001,
            "count": 10006
           },
           {
            "bin_end": 26553319.5,
            "bin_start": 21244669.8,
            "count": 8842
           },
           {
            "bin_end": 31861969.200000003,
            "bin_start": 26553319.5,
            "count": 7340
           },
           {
            "bin_end": 37170618.9,
            "bin_start": 31861969.200000003,
            "count": 7232
           },
           {
            "bin_end": 42479268.6,
            "bin_start": 37170618.9,
            "count": 7794
           },
           {
            "bin_end": 47787918.300000004,
            "bin_start": 42479268.6,
            "count": 10692
           },
           {
            "bin_end": 53096568,
            "bin_start": 47787918.300000004,
            "count": 11063
           }
          ],
          "max": "53096568",
          "min": "10071",
          "nan_count": 0,
          "unique_count": 85626
         }
        },
        {
         "dtype": "object",
         "name": "review_id"
        },
        {
         "dtype": "object",
         "name": "product_id"
        },
        {
         "dtype": "object",
         "name": "product_title"
        },
        {
         "dtype": "object",
         "name": "star_rating"
        },
        {
         "dtype": "object",
         "name": "review_headline"
        },
        {
         "dtype": "object",
         "name": "review_body"
        },
        {
         "dtype": "object",
         "name": "IP Address"
        },
        {
         "dtype": "float64",
         "name": "Sentiment"
        },
        {
         "dtype": "object",
         "name": "label"
        },
        {
         "dtype": "int64",
         "name": "_deepnote_index_column"
        }
       ],
       "row_count": 88578,
       "rows": [
        {
         "IP Address": "193.93.167.87",
         "Sentiment": 1,
         "_deepnote_index_column": 0,
         "customer_id": 20422322,
         "label": "Not Genuine",
         "product_id": "B00MC4CED8",
         "product_title": "BlackVue DR600GW-PMP",
         "review_body": "as advertised  everything works perfectly  i am very happy with the camera  as a matter of fact i am going to buy another one for my  nd car ",
         "review_headline": "very happy ",
         "review_id": "R8MEA6IGAHO0B",
         "star_rating": "5"
        },
        {
         "IP Address": "193.93.167.87",
         "Sentiment": 0.8,
         "_deepnote_index_column": 1,
         "customer_id": 40835037,
         "label": "Not Genuine",
         "product_id": "B00OQMFG1Q",
         "product_title": "GENSSI GSM / GPS Two Way Smart Phone Car Alarm System for iPhone Android Security",
         "review_body": "it is great",
         "review_headline": "five star",
         "review_id": "R31LOQ8JGLPRLK",
         "star_rating": "5"
        },
        {
         "IP Address": "193.93.167.87",
         "Sentiment": 0.6000000000000001,
         "_deepnote_index_column": 2,
         "customer_id": 51469641,
         "label": "Not Genuine",
         "product_id": "B00QERR5CY",
         "product_title": "iXCC Multi pack Lightning cable",
         "review_body": "these work great and fit my life proof case for the iphone  ",
         "review_headline": "great cables",
         "review_id": "R2Y0MM9YE6OP3P",
         "star_rating": "5"
        },
        {
         "IP Address": "193.93.167.87",
         "Sentiment": 0.2,
         "_deepnote_index_column": 3,
         "customer_id": 4332923,
         "label": "Not Genuine",
         "product_id": "B00QUFTPV4",
         "product_title": "abcGoodefg® FBI Covert Acoustic Tube Earpiece Headset PTT Mic for Motorola Two Way Radio Device Walkie Talkie GP88 300 2000 CT150 P040 PRO1150 SP10 XTN500 2pin",
         "review_body": "work very well ",
         "review_headline": "work very well",
         "review_id": "RRB9C05HDOD4O",
         "star_rating": "4"
        },
        {
         "IP Address": "205.10.168.66",
         "Sentiment": 0.2875,
         "_deepnote_index_column": 4,
         "customer_id": 7846966,
         "label": "Genuine",
         "product_id": "B00KA6CCVY",
         "product_title": "Aweek® Air Acoustic Earpiece Headset for Baofeng Two Way Radios UV-5R UV-B6 BF-888S UV-B6 UV-B5 Walkie Talkies 2-Pin Jack",
         "review_body": "it appears to be good  but i am still waiting for my other items radio batteries charger  before i can go to   or   stars",
         "review_headline": "it appears to be good  but i m still waiting for my other items    ",
         "review_id": "RY8DDL22YG4R5",
         "star_rating": "3"
        },
        {
         "IP Address": "205.10.168.66",
         "Sentiment": 1,
         "_deepnote_index_column": 5,
         "customer_id": 20422322,
         "label": "Not Genuine",
         "product_id": "B00MC4CED8",
         "product_title": "BlackVue DR600GW-PMP",
         "review_body": "as advertised  everything works perfectly  i am very happy with the camera  as a matter of fact i am going to buy another one for my  nd car ",
         "review_headline": "very happy ",
         "review_id": "R8MEA6IGAHO0B",
         "star_rating": "5"
        },
        {
         "IP Address": "206.33.134.174",
         "Sentiment": 1,
         "_deepnote_index_column": 6,
         "customer_id": 20422322,
         "label": "Not Genuine",
         "product_id": "B00MC4CED8",
         "product_title": "BlackVue DR600GW-PMP",
         "review_body": "as advertised  everything works perfectly  i am very happy with the camera  as a matter of fact i am going to buy another one for my  nd car ",
         "review_headline": "very happy ",
         "review_id": "R8MEA6IGAHO0B",
         "star_rating": "5"
        },
        {
         "IP Address": "219.3.75.180",
         "Sentiment": 0.8,
         "_deepnote_index_column": 7,
         "customer_id": 40835037,
         "label": "Not Genuine",
         "product_id": "B00OQMFG1Q",
         "product_title": "GENSSI GSM / GPS Two Way Smart Phone Car Alarm System for iPhone Android Security",
         "review_body": "it is great",
         "review_headline": "five star",
         "review_id": "R31LOQ8JGLPRLK",
         "star_rating": "5"
        },
        {
         "IP Address": "194.12.14.67",
         "Sentiment": 0.6000000000000001,
         "_deepnote_index_column": 8,
         "customer_id": 51469641,
         "label": "Not Genuine",
         "product_id": "B00QERR5CY",
         "product_title": "iXCC Multi pack Lightning cable",
         "review_body": "these work great and fit my life proof case for the iphone  ",
         "review_headline": "great cables",
         "review_id": "R2Y0MM9YE6OP3P",
         "star_rating": "5"
        },
        {
         "IP Address": "213.136.76.172",
         "Sentiment": 0.2,
         "_deepnote_index_column": 9,
         "customer_id": 4332923,
         "label": "Not Genuine",
         "product_id": "B00QUFTPV4",
         "product_title": "abcGoodefg® FBI Covert Acoustic Tube Earpiece Headset PTT Mic for Motorola Two Way Radio Device Walkie Talkie GP88 300 2000 CT150 P040 PRO1150 SP10 XTN500 2pin",
         "review_body": "work very well but could not get used to not hearing anything out of the ear they v were plugged into ",
         "review_headline": "work very well but couldn t get used to not hearing    ",
         "review_id": "RRB9C05HDOD4O",
         "star_rating": "4"
        }
       ]
      },
      "text/html": "<div>\n<style scoped>\n    .dataframe tbody tr th:only-of-type {\n        vertical-align: middle;\n    }\n\n    .dataframe tbody tr th {\n        vertical-align: top;\n    }\n\n    .dataframe thead th {\n        text-align: right;\n    }\n</style>\n<table border=\"1\" class=\"dataframe\">\n  <thead>\n    <tr style=\"text-align: right;\">\n      <th></th>\n      <th>customer_id</th>\n      <th>review_id</th>\n      <th>product_id</th>\n      <th>product_title</th>\n      <th>star_rating</th>\n      <th>review_headline</th>\n      <th>review_body</th>\n      <th>IP Address</th>\n      <th>Sentiment</th>\n      <th>label</th>\n    </tr>\n  </thead>\n  <tbody>\n    <tr>\n      <th>0</th>\n      <td>20422322</td>\n      <td>R8MEA6IGAHO0B</td>\n      <td>B00MC4CED8</td>\n      <td>BlackVue DR600GW-PMP</td>\n      <td>5</td>\n      <td>very happy</td>\n      <td>as advertised  everything works perfectly  i a...</td>\n      <td>193.93.167.87</td>\n      <td>1.000000</td>\n      <td>Not Genuine</td>\n    </tr>\n    <tr>\n      <th>1</th>\n      <td>40835037</td>\n      <td>R31LOQ8JGLPRLK</td>\n      <td>B00OQMFG1Q</td>\n      <td>GENSSI GSM / GPS Two Way Smart Phone Car Alarm...</td>\n      <td>5</td>\n      <td>five star</td>\n      <td>it is great</td>\n      <td>193.93.167.87</td>\n      <td>0.800000</td>\n      <td>Not Genuine</td>\n    </tr>\n    <tr>\n      <th>2</th>\n      <td>51469641</td>\n      <td>R2Y0MM9YE6OP3P</td>\n      <td>B00QERR5CY</td>\n      <td>iXCC Multi pack Lightning cable</td>\n      <td>5</td>\n      <td>great cables</td>\n      <td>these work great and fit my life proof case fo...</td>\n      <td>193.93.167.87</td>\n      <td>0.600000</td>\n      <td>Not Genuine</td>\n    </tr>\n    <tr>\n      <th>3</th>\n      <td>4332923</td>\n      <td>RRB9C05HDOD4O</td>\n      <td>B00QUFTPV4</td>\n      <td>abcGoodefg® FBI Covert Acoustic Tube Earpiece ...</td>\n      <td>4</td>\n      <td>work very well</td>\n      <td>work very well</td>\n      <td>193.93.167.87</td>\n      <td>0.200000</td>\n      <td>Not Genuine</td>\n    </tr>\n    <tr>\n      <th>4</th>\n      <td>7846966</td>\n      <td>RY8DDL22YG4R5</td>\n      <td>B00KA6CCVY</td>\n      <td>Aweek® Air Acoustic Earpiece Headset for Baofe...</td>\n      <td>3</td>\n      <td>it appears to be good  but i m still waiting f...</td>\n      <td>it appears to be good  but i am still waiting ...</td>\n      <td>205.10.168.66</td>\n      <td>0.287500</td>\n      <td>Genuine</td>\n    </tr>\n    <tr>\n      <th>...</th>\n      <td>...</td>\n      <td>...</td>\n      <td>...</td>\n      <td>...</td>\n      <td>...</td>\n      <td>...</td>\n      <td>...</td>\n      <td>...</td>\n      <td>...</td>\n      <td>...</td>\n    </tr>\n    <tr>\n      <th>88573</th>\n      <td>38056064</td>\n      <td>R1CSEQKUEBIIY8</td>\n      <td>B00026IDG0</td>\n      <td>Cowon iAUDIO 6 - Digital player / radio - HDD ...</td>\n      <td>5</td>\n      <td>definitely one of the best players around</td>\n      <td>i was deciding between the iriver and this les...</td>\n      <td>197.146.130.128</td>\n      <td>0.167247</td>\n      <td>Genuine</td>\n    </tr>\n    <tr>\n      <th>88574</th>\n      <td>26663400</td>\n      <td>R160TNIIRSNKJ0</td>\n      <td>B00005OTZQ</td>\n      <td>Royal SE 2800 Hand-Held Spot Cleaner</td>\n      <td>1</td>\n      <td>i m glad i got it as a present and didn t use ...</td>\n      <td>horrible  it does not work at all  how can the...</td>\n      <td>209.77.21.216</td>\n      <td>-1.000000</td>\n      <td>Not Genuine</td>\n    </tr>\n    <tr>\n      <th>88575</th>\n      <td>30969863</td>\n      <td>R2BZOEH3ENFZ1L</td>\n      <td>B00006J05N</td>\n      <td>Crosley Mini Bubbler Jukebox (WR18-CR)</td>\n      <td>5</td>\n      <td>wurlitzer jukebox mini bubbler radio and cd pl...</td>\n      <td>fast shipment  well packaged  highly recommend...</td>\n      <td>200.96.72.144</td>\n      <td>0.180000</td>\n      <td>Genuine</td>\n    </tr>\n    <tr>\n      <th>88576</th>\n      <td>51959593</td>\n      <td>RCE301XOYH19Z</td>\n      <td>B00006I580</td>\n      <td>DIGISETTE DUO-MP3 E-Cassette Player ( Windows )</td>\n      <td>2</td>\n      <td>nice except it breaks</td>\n      <td>this item worked well for a couple of weeks bu...</td>\n      <td>223.138.215.33</td>\n      <td>-0.076923</td>\n      <td>Genuine</td>\n    </tr>\n    <tr>\n      <th>88577</th>\n      <td>51971181</td>\n      <td>R3GTKLIWBR1ABQ</td>\n      <td>B00006I56D</td>\n      <td>Coby Personal CD/MP3 Player with AM/FM Digital...</td>\n      <td>4</td>\n      <td>not perfect  but good bang for buck</td>\n      <td>you will not mistake this for a sony  it is no...</td>\n      <td>193.86.54.100</td>\n      <td>0.164089</td>\n      <td>Genuine</td>\n    </tr>\n  </tbody>\n</table>\n<p>88578 rows × 10 columns</p>\n</div>",
      "text/plain": "       customer_id       review_id  product_id  \\\n0         20422322   R8MEA6IGAHO0B  B00MC4CED8   \n1         40835037  R31LOQ8JGLPRLK  B00OQMFG1Q   \n2         51469641  R2Y0MM9YE6OP3P  B00QERR5CY   \n3          4332923   RRB9C05HDOD4O  B00QUFTPV4   \n4          7846966   RY8DDL22YG4R5  B00KA6CCVY   \n...            ...             ...         ...   \n88573     38056064  R1CSEQKUEBIIY8  B00026IDG0   \n88574     26663400  R160TNIIRSNKJ0  B00005OTZQ   \n88575     30969863  R2BZOEH3ENFZ1L  B00006J05N   \n88576     51959593   RCE301XOYH19Z  B00006I580   \n88577     51971181  R3GTKLIWBR1ABQ  B00006I56D   \n\n                                           product_title star_rating  \\\n0                                   BlackVue DR600GW-PMP           5   \n1      GENSSI GSM / GPS Two Way Smart Phone Car Alarm...           5   \n2                        iXCC Multi pack Lightning cable           5   \n3      abcGoodefg® FBI Covert Acoustic Tube Earpiece ...           4   \n4      Aweek® Air Acoustic Earpiece Headset for Baofe...           3   \n...                                                  ...         ...   \n88573  Cowon iAUDIO 6 - Digital player / radio - HDD ...           5   \n88574               Royal SE 2800 Hand-Held Spot Cleaner           1   \n88575             Crosley Mini Bubbler Jukebox (WR18-CR)           5   \n88576    DIGISETTE DUO-MP3 E-Cassette Player ( Windows )           2   \n88577  Coby Personal CD/MP3 Player with AM/FM Digital...           4   \n\n                                         review_headline  \\\n0                                            very happy    \n1                                              five star   \n2                                           great cables   \n3                                         work very well   \n4      it appears to be good  but i m still waiting f...   \n...                                                  ...   \n88573         definitely one of the best players around    \n88574  i m glad i got it as a present and didn t use ...   \n88575  wurlitzer jukebox mini bubbler radio and cd pl...   \n88576                              nice except it breaks   \n88577               not perfect  but good bang for buck    \n\n                                             review_body       IP Address  \\\n0      as advertised  everything works perfectly  i a...    193.93.167.87   \n1                                            it is great    193.93.167.87   \n2      these work great and fit my life proof case fo...    193.93.167.87   \n3                                        work very well     193.93.167.87   \n4      it appears to be good  but i am still waiting ...    205.10.168.66   \n...                                                  ...              ...   \n88573  i was deciding between the iriver and this les...  197.146.130.128   \n88574  horrible  it does not work at all  how can the...    209.77.21.216   \n88575  fast shipment  well packaged  highly recommend...    200.96.72.144   \n88576  this item worked well for a couple of weeks bu...   223.138.215.33   \n88577  you will not mistake this for a sony  it is no...    193.86.54.100   \n\n       Sentiment        label  \n0       1.000000  Not Genuine  \n1       0.800000  Not Genuine  \n2       0.600000  Not Genuine  \n3       0.200000  Not Genuine  \n4       0.287500      Genuine  \n...          ...          ...  \n88573   0.167247      Genuine  \n88574  -1.000000  Not Genuine  \n88575   0.180000      Genuine  \n88576  -0.076923      Genuine  \n88577   0.164089      Genuine  \n\n[88578 rows x 10 columns]"
     },
     "execution_count": 52,
     "metadata": {},
     "output_type": "execute_result"
    }
   ]
  },
  {
   "cell_type": "code",
   "metadata": {
    "deepnote_to_be_reexecuted": false,
    "execution_millis": 1372,
    "execution_start": 1654104511812,
    "source_hash": "ef96fac4",
    "tags": [],
    "cell_id": "00077-dfbb49e7-77aa-4ec2-9b86-39a9291e19e7",
    "deepnote_cell_type": "code",
    "deepnote_cell_height": 116.953125
   },
   "source": "#export labeled dataset to csv\ndf_hybrid.to_csv('labeled_dataset.csv')\n",
   "execution_count": null,
   "outputs": []
  },
  {
   "cell_type": "code",
   "metadata": {
    "deepnote_to_be_reexecuted": false,
    "execution_millis": 1174,
    "execution_start": 1654235794004,
    "source_hash": "c4f46d35",
    "tags": [],
    "cell_id": "00078-6db4d967-8b9d-4639-8628-348715925ed1",
    "deepnote_cell_type": "code",
    "deepnote_cell_height": 135.796875
   },
   "source": "df_hybrid=pd.read_csv('labeled_dataset.csv')",
   "execution_count": null,
   "outputs": [
    {
     "name": "stderr",
     "output_type": "stream",
     "text": "/shared-libs/python3.7/py-core/lib/python3.7/site-packages/IPython/core/interactiveshell.py:3257: DtypeWarning: Columns (5) have mixed types.Specify dtype option on import or set low_memory=False.\n  interactivity=interactivity, compiler=compiler, result=result)\n"
    }
   ]
  },
  {
   "cell_type": "code",
   "metadata": {
    "deepnote_to_be_reexecuted": false,
    "execution_millis": 188,
    "execution_start": 1654239118498,
    "source_hash": "61471297",
    "tags": [],
    "cell_id": "00079-8dfbc5d6-4e81-4c05-ac59-3aa3a487aeea",
    "deepnote_cell_type": "code",
    "deepnote_cell_height": 814.9375,
    "deepnote_output_heights": [
     411.984375
    ]
   },
   "source": "#visualise the fake or real\nfake = 0\nreal = 0\nfor score in df_hybrid['label']:\n    if score == 'Not Genuine':\n        fake += 1\n    elif score == 'Genuine':\n        real += 1\n\n#Visualiing the distribution of Sentiment\nvalues = [fake, real]\nlabel = ['Fake Reviews', 'Real Reviews']\n\nfig = plt.figure(figsize =(10, 7)) \nplt.pie(values, labels = label,autopct='%1.0f%%')\nplt.title(\"Pie chart to display percentage of fake and real reviews of completely labeled dataset \")\n\nplt.show()",
   "execution_count": null,
   "outputs": [
    {
     "data": {
      "image/png": "[encoded data removed]",
      "text/plain": "<Figure size 720x504 with 1 Axes>"
     },
     "metadata": {
      "image/png": {
       "width": 538,
       "height": 410
      }
     },
     "output_type": "display_data"
    }
   ]
  },
  {
   "cell_type": "code",
   "metadata": {
    "deepnote_to_be_reexecuted": false,
    "execution_millis": 404,
    "execution_start": 1654236283346,
    "source_hash": "7aff2247",
    "tags": [],
    "cell_id": "00080-a516b4d9-1715-48a1-a180-84c3fe499dee",
    "deepnote_cell_type": "code",
    "deepnote_cell_height": 611.9375,
    "deepnote_output_heights": [
     334.984375
    ]
   },
   "source": "fig = plt.figure(figsize = (10, 5))\nvalues = [fake, real]\nlabel = ['Fake Reviews', 'Real Reviews']\n\n# creating the bar plot\nplt.bar(label, values, color ='maroon')\n \nplt.xlabel(\"Class Label\")\nplt.ylabel(\"No.of Reviews\")\nplt.title(\"Bar chart to display the no of reviews in each class\")\nplt.show()",
   "execution_count": null,
   "outputs": [
    {
     "data": {
      "image/png": "[encoded data removed]",
      "text/plain": "<Figure size 720x360 with 1 Axes>"
     },
     "metadata": {
      "image/png": {
       "width": 624,
       "height": 333
      },
      "needs_background": "light"
     },
     "output_type": "display_data"
    }
   ]
  },
  {
   "cell_type": "code",
   "metadata": {
    "deepnote_table_loading": false,
    "deepnote_table_state": {
     "filters": [],
     "pageIndex": 5,
     "pageSize": 10,
     "sortBy": []
    },
    "deepnote_to_be_reexecuted": false,
    "execution_millis": 142,
    "execution_start": 1654237386525,
    "source_hash": "4cc4b936",
    "tags": [],
    "cell_id": "00081-70231b7a-49a3-4c0f-9b1b-38bf6a3970d9",
    "deepnote_cell_type": "code",
    "deepnote_cell_height": 617.875
   },
   "source": "df_hybrid\n",
   "execution_count": null,
   "outputs": [
    {
     "data": {
      "application/vnd.deepnote.dataframe.v3+json": {
       "column_count": 11,
       "columns": [
        {
         "dtype": "int64",
         "name": "Unnamed: 0",
         "stats": {
          "histogram": [
           {
            "bin_end": 8857.7,
            "bin_start": 0,
            "count": 8858
           },
           {
            "bin_end": 17715.4,
            "bin_start": 8857.7,
            "count": 8858
           },
           {
            "bin_end": 26573.100000000002,
            "bin_start": 17715.4,
            "count": 8858
           },
           {
            "bin_end": 35430.8,
            "bin_start": 26573.100000000002,
            "count": 8857
           },
           {
            "bin_end": 44288.5,
            "bin_start": 35430.8,
            "count": 8858
           },
           {
            "bin_end": 53146.200000000004,
            "bin_start": 44288.5,
            "count": 8858
           },
           {
            "bin_end": 62003.90000000001,
            "bin_start": 53146.200000000004,
            "count": 8857
           },
           {
            "bin_end": 70861.6,
            "bin_start": 62003.90000000001,
            "count": 8858
           },
           {
            "bin_end": 79719.3,
            "bin_start": 70861.6,
            "count": 8858
           },
           {
            "bin_end": 88577,
            "bin_start": 79719.3,
            "count": 8858
           }
          ],
          "max": "88577",
          "min": "0",
          "nan_count": 0,
          "unique_count": 88578
         }
        },
        {
         "dtype": "int64",
         "name": "customer_id"
        },
        {
         "dtype": "object",
         "name": "review_id"
        },
        {
         "dtype": "object",
         "name": "product_id"
        },
        {
         "dtype": "object",
         "name": "product_title"
        },
        {
         "dtype": "object",
         "name": "star_rating"
        },
        {
         "dtype": "object",
         "name": "review_headline"
        },
        {
         "dtype": "object",
         "name": "review_body"
        },
        {
         "dtype": "object",
         "name": "IP Address"
        },
        {
         "dtype": "float64",
         "name": "Sentiment"
        },
        {
         "dtype": "object",
         "name": "label"
        },
        {
         "dtype": "int64",
         "name": "_deepnote_index_column"
        }
       ],
       "row_count": 88578,
       "rows": [
        {
         "IP Address": "212.3.84.62",
         "Sentiment": -0.2,
         "Unnamed: 0": 50,
         "_deepnote_index_column": 50,
         "customer_id": 26192749,
         "label": "Not Genuine",
         "product_id": "B00EPRT4BA",
         "product_title": "Pwr+ Car Charger for Satechi, The OontZ, Angle, Cambridge SoundWorks BT Wireless Bluetooth Portable Speaker System Power Supply Adapter Cord",
         "review_body": "does not fit xl",
         "review_headline": "one star",
         "review_id": "R18TG2USOSVOC3",
         "star_rating": "1"
        },
        {
         "IP Address": "205.144.108.126",
         "Sentiment": 0.2571428571428571,
         "Unnamed: 0": 51,
         "_deepnote_index_column": 51,
         "customer_id": 52894341,
         "label": "Genuine",
         "product_id": "B011NH6I18",
         "product_title": "USTEK&reg; GPS Sun Shade Glare Shield Sun Visor Screen Protector for Universal Car GPS Applicable for Most Sedans and SUVs",
         "review_body": "i am not sure what the use case is for this device  a build in  dash mounted display is generally pretty well shielded from glare by virtue of its location  a gps on top of the dashboard and closer to the windshield may suffer from glare problems  but this sunshade needs to be taped to the gps to stay in place  overall  i would say this is a solution in search of a problem  overpriced for what it actually does  br    br   disclaimer  i received an evaluation unit in exchange for a fair and honest review ",
         "review_headline": "does too little for the price",
         "review_id": "R2EVA14XVX2MH3",
         "star_rating": "3"
        },
        {
         "IP Address": "201.58.116.1",
         "Sentiment": 0.375,
         "Unnamed: 0": 52,
         "_deepnote_index_column": 52,
         "customer_id": 41581336,
         "label": "Not Genuine",
         "product_id": "B008MY1F8W",
         "product_title": "INPA K+CAN K+DCAN Car Diagnostic tool Cable OBD USB Interface for BMW R56 E87 E93 E70",
         "review_body": "great product but long shipping ",
         "review_headline": "great product",
         "review_id": "R2J68T8Y2ZWUSP",
         "star_rating": "5"
        },
        {
         "IP Address": "209.224.60.76",
         "Sentiment": -0.25125,
         "Unnamed: 0": 53,
         "_deepnote_index_column": 53,
         "customer_id": 29138846,
         "label": "Genuine",
         "product_id": "B00SF4YGCG",
         "product_title": "Bundle 4 in 1 Essential Home and Car Charger Kit for iPhone 5 5C 5S, iPhone 6 6 Plus, iPad 3 4, iPad Mini, iPod Touch 5/Nano 7, 8 pin to USB -- Includes : 2 X 3ft Lightning Cable, 1 X Car charger, 1 X Wall charger (black)",
         "review_body": "i was very disappointed  the charger will not charge my phone because it will not keep a charge  it very cheap looking and poor quality  it was not worth the money but you get what you pay for so i just went by to the apple store ",
         "review_headline": "save your money ",
         "review_id": "R23WVQTPI7LGPD",
         "star_rating": "2"
        },
        {
         "IP Address": "204.143.108.159",
         "Sentiment": 0.3166666666666666,
         "Unnamed: 0": 54,
         "_deepnote_index_column": 54,
         "customer_id": 18204093,
         "label": "Genuine",
         "product_id": "B00LAG4HN4",
         "product_title": "iXCC Element II Lightning Cable 6ft, iPhone Charger, for iPhone 7 6s 6 Plus, SE 5s 5c 5, iPad Air 2 Pro, iPad mini 2 3 4, iPad 4th Gen [Apple MFi Certified](White and Black)",
         "review_body": "apple makes their charging products with inferior quality to profit off of loyal customers when they are forced to repurchase  save your money here  these are exactly what i was looking for  made with excellent materials at the joints between the cable and plug in  well worth it  added length and color options are a plus ",
         "review_headline": "made with excellent materials at the joints between the cable and plug in",
         "review_id": "RRPOCULNRBGQ",
         "star_rating": "5"
        },
        {
         "IP Address": "217.219.180.150",
         "Sentiment": 0.5,
         "Unnamed: 0": 55,
         "_deepnote_index_column": 55,
         "customer_id": 42865544,
         "label": "Not Genuine",
         "product_id": "B00EDYTN8E",
         "product_title": "Retevis RT-5R 2 Way Radio 5W 128CH UHF/VHF 136-174/400-520 MHz Dual Band Dual Standby DTMF/CTCSS/DCS FM Ham Radio (2 Pack)",
         "review_body": "a gift so i cannot give much information about them  they look great and came on time though ",
         "review_headline": "they look great and came on time though",
         "review_id": "R802NI63NKL9V",
         "star_rating": "5"
        },
        {
         "IP Address": "206.127.143.110",
         "Sentiment": 0.55,
         "Unnamed: 0": 56,
         "_deepnote_index_column": 56,
         "customer_id": 19658274,
         "label": "Genuine",
         "product_id": "B00S7KOA56",
         "product_title": "Car Alarm 2015 New 5.0 Inch Touch Android GPS Wifi Rearview Mirror Fm G-sensor FHD 1080p Rearview Mirror Dash Cam Car DVR Dual Camera GPS",
         "review_body": "love love love loved it",
         "review_headline": "five stars",
         "review_id": "RAZX9ZCFPGCKO",
         "star_rating": "5"
        },
        {
         "IP Address": "195.128.75.168",
         "Sentiment": 0.5,
         "Unnamed: 0": 57,
         "_deepnote_index_column": 57,
         "customer_id": 9094748,
         "label": "Not Genuine",
         "product_id": "B00ZJAAM72",
         "product_title": "Best Apple Watch Charging Stand for 38mm and 42mm from ZIVACHI, Highest Quality, Lightweight and Portable, for Home and Office, Non Slip Surface and Bottom. Protection from Scratching. (Black)",
         "review_body": "satisfied",
         "review_headline": "five stars",
         "review_id": "RBKUGHHNXVYG0",
         "star_rating": "5"
        },
        {
         "IP Address": "192.203.123.12",
         "Sentiment": 0.4333333333333333,
         "Unnamed: 0": 58,
         "_deepnote_index_column": 58,
         "customer_id": 15532751,
         "label": "Not Genuine",
         "product_id": "B00MWGREM2",
         "product_title": "0 Gauge Amp Kit Amplifier Install Wiring 1/0 Ga Power Installation Cables 4000W",
         "review_body": "easy to use",
         "review_headline": "five stars",
         "review_id": "RHK9SLC4KVI7E",
         "star_rating": "5"
        },
        {
         "IP Address": "197.222.50.208",
         "Sentiment": 0.8049999999999999,
         "Unnamed: 0": 59,
         "_deepnote_index_column": 59,
         "customer_id": 43355838,
         "label": "Not Genuine",
         "product_id": "B00MXET7NC",
         "product_title": "BaoFeng M-1 Commercial Holster for UV-82 : Custom Leather, Vinyl, Stainless Steel Case",
         "review_body": "very good  good  seller",
         "review_headline": "five stars",
         "review_id": "R2O0LZSPMME6US",
         "star_rating": "5"
        }
       ]
      },
      "text/html": "<div>\n<style scoped>\n    .dataframe tbody tr th:only-of-type {\n        vertical-align: middle;\n    }\n\n    .dataframe tbody tr th {\n        vertical-align: top;\n    }\n\n    .dataframe thead th {\n        text-align: right;\n    }\n</style>\n<table border=\"1\" class=\"dataframe\">\n  <thead>\n    <tr style=\"text-align: right;\">\n      <th></th>\n      <th>Unnamed: 0</th>\n      <th>customer_id</th>\n      <th>review_id</th>\n      <th>product_id</th>\n      <th>product_title</th>\n      <th>star_rating</th>\n      <th>review_headline</th>\n      <th>review_body</th>\n      <th>IP Address</th>\n      <th>Sentiment</th>\n      <th>label</th>\n    </tr>\n  </thead>\n  <tbody>\n    <tr>\n      <th>0</th>\n      <td>0</td>\n      <td>20422322</td>\n      <td>R8MEA6IGAHO0B</td>\n      <td>B00MC4CED8</td>\n      <td>BlackVue DR600GW-PMP</td>\n      <td>5</td>\n      <td>very happy</td>\n      <td>as advertised  everything works perfectly  i a...</td>\n      <td>193.93.167.87</td>\n      <td>1.000000</td>\n      <td>Not Genuine</td>\n    </tr>\n    <tr>\n      <th>1</th>\n      <td>1</td>\n      <td>40835037</td>\n      <td>R31LOQ8JGLPRLK</td>\n      <td>B00OQMFG1Q</td>\n      <td>GENSSI GSM / GPS Two Way Smart Phone Car Alarm...</td>\n      <td>5</td>\n      <td>five star</td>\n      <td>it is great</td>\n      <td>193.93.167.87</td>\n      <td>0.800000</td>\n      <td>Not Genuine</td>\n    </tr>\n    <tr>\n      <th>2</th>\n      <td>2</td>\n      <td>51469641</td>\n      <td>R2Y0MM9YE6OP3P</td>\n      <td>B00QERR5CY</td>\n      <td>iXCC Multi pack Lightning cable</td>\n      <td>5</td>\n      <td>great cables</td>\n      <td>these work great and fit my life proof case fo...</td>\n      <td>193.93.167.87</td>\n      <td>0.600000</td>\n      <td>Not Genuine</td>\n    </tr>\n    <tr>\n      <th>3</th>\n      <td>3</td>\n      <td>4332923</td>\n      <td>RRB9C05HDOD4O</td>\n      <td>B00QUFTPV4</td>\n      <td>abcGoodefg® FBI Covert Acoustic Tube Earpiece ...</td>\n      <td>4</td>\n      <td>work very well</td>\n      <td>work very well</td>\n      <td>193.93.167.87</td>\n      <td>0.200000</td>\n      <td>Not Genuine</td>\n    </tr>\n    <tr>\n      <th>4</th>\n      <td>4</td>\n      <td>7846966</td>\n      <td>RY8DDL22YG4R5</td>\n      <td>B00KA6CCVY</td>\n      <td>Aweek® Air Acoustic Earpiece Headset for Baofe...</td>\n      <td>3</td>\n      <td>it appears to be good  but i m still waiting f...</td>\n      <td>it appears to be good  but i am still waiting ...</td>\n      <td>205.10.168.66</td>\n      <td>0.287500</td>\n      <td>Genuine</td>\n    </tr>\n    <tr>\n      <th>...</th>\n      <td>...</td>\n      <td>...</td>\n      <td>...</td>\n      <td>...</td>\n      <td>...</td>\n      <td>...</td>\n      <td>...</td>\n      <td>...</td>\n      <td>...</td>\n      <td>...</td>\n      <td>...</td>\n    </tr>\n    <tr>\n      <th>88573</th>\n      <td>88573</td>\n      <td>38056064</td>\n      <td>R1CSEQKUEBIIY8</td>\n      <td>B00026IDG0</td>\n      <td>Cowon iAUDIO 6 - Digital player / radio - HDD ...</td>\n      <td>5</td>\n      <td>definitely one of the best players around</td>\n      <td>i was deciding between the iriver and this les...</td>\n      <td>197.146.130.128</td>\n      <td>0.167247</td>\n      <td>Genuine</td>\n    </tr>\n    <tr>\n      <th>88574</th>\n      <td>88574</td>\n      <td>26663400</td>\n      <td>R160TNIIRSNKJ0</td>\n      <td>B00005OTZQ</td>\n      <td>Royal SE 2800 Hand-Held Spot Cleaner</td>\n      <td>1</td>\n      <td>i m glad i got it as a present and didn t use ...</td>\n      <td>horrible  it does not work at all  how can the...</td>\n      <td>209.77.21.216</td>\n      <td>-1.000000</td>\n      <td>Not Genuine</td>\n    </tr>\n    <tr>\n      <th>88575</th>\n      <td>88575</td>\n      <td>30969863</td>\n      <td>R2BZOEH3ENFZ1L</td>\n      <td>B00006J05N</td>\n      <td>Crosley Mini Bubbler Jukebox (WR18-CR)</td>\n      <td>5</td>\n      <td>wurlitzer jukebox mini bubbler radio and cd pl...</td>\n      <td>fast shipment  well packaged  highly recommend...</td>\n      <td>200.96.72.144</td>\n      <td>0.180000</td>\n      <td>Genuine</td>\n    </tr>\n    <tr>\n      <th>88576</th>\n      <td>88576</td>\n      <td>51959593</td>\n      <td>RCE301XOYH19Z</td>\n      <td>B00006I580</td>\n      <td>DIGISETTE DUO-MP3 E-Cassette Player ( Windows )</td>\n      <td>2</td>\n      <td>nice except it breaks</td>\n      <td>this item worked well for a couple of weeks bu...</td>\n      <td>223.138.215.33</td>\n      <td>-0.076923</td>\n      <td>Genuine</td>\n    </tr>\n    <tr>\n      <th>88577</th>\n      <td>88577</td>\n      <td>51971181</td>\n      <td>R3GTKLIWBR1ABQ</td>\n      <td>B00006I56D</td>\n      <td>Coby Personal CD/MP3 Player with AM/FM Digital...</td>\n      <td>4</td>\n      <td>not perfect  but good bang for buck</td>\n      <td>you will not mistake this for a sony  it is no...</td>\n      <td>193.86.54.100</td>\n      <td>0.164089</td>\n      <td>Genuine</td>\n    </tr>\n  </tbody>\n</table>\n<p>88578 rows × 11 columns</p>\n</div>",
      "text/plain": "       Unnamed: 0  customer_id       review_id  product_id  \\\n0               0     20422322   R8MEA6IGAHO0B  B00MC4CED8   \n1               1     40835037  R31LOQ8JGLPRLK  B00OQMFG1Q   \n2               2     51469641  R2Y0MM9YE6OP3P  B00QERR5CY   \n3               3      4332923   RRB9C05HDOD4O  B00QUFTPV4   \n4               4      7846966   RY8DDL22YG4R5  B00KA6CCVY   \n...           ...          ...             ...         ...   \n88573       88573     38056064  R1CSEQKUEBIIY8  B00026IDG0   \n88574       88574     26663400  R160TNIIRSNKJ0  B00005OTZQ   \n88575       88575     30969863  R2BZOEH3ENFZ1L  B00006J05N   \n88576       88576     51959593   RCE301XOYH19Z  B00006I580   \n88577       88577     51971181  R3GTKLIWBR1ABQ  B00006I56D   \n\n                                           product_title star_rating  \\\n0                                   BlackVue DR600GW-PMP           5   \n1      GENSSI GSM / GPS Two Way Smart Phone Car Alarm...           5   \n2                        iXCC Multi pack Lightning cable           5   \n3      abcGoodefg® FBI Covert Acoustic Tube Earpiece ...           4   \n4      Aweek® Air Acoustic Earpiece Headset for Baofe...           3   \n...                                                  ...         ...   \n88573  Cowon iAUDIO 6 - Digital player / radio - HDD ...           5   \n88574               Royal SE 2800 Hand-Held Spot Cleaner           1   \n88575             Crosley Mini Bubbler Jukebox (WR18-CR)           5   \n88576    DIGISETTE DUO-MP3 E-Cassette Player ( Windows )           2   \n88577  Coby Personal CD/MP3 Player with AM/FM Digital...           4   \n\n                                         review_headline  \\\n0                                            very happy    \n1                                              five star   \n2                                           great cables   \n3                                         work very well   \n4      it appears to be good  but i m still waiting f...   \n...                                                  ...   \n88573         definitely one of the best players around    \n88574  i m glad i got it as a present and didn t use ...   \n88575  wurlitzer jukebox mini bubbler radio and cd pl...   \n88576                              nice except it breaks   \n88577               not perfect  but good bang for buck    \n\n                                             review_body       IP Address  \\\n0      as advertised  everything works perfectly  i a...    193.93.167.87   \n1                                            it is great    193.93.167.87   \n2      these work great and fit my life proof case fo...    193.93.167.87   \n3                                        work very well     193.93.167.87   \n4      it appears to be good  but i am still waiting ...    205.10.168.66   \n...                                                  ...              ...   \n88573  i was deciding between the iriver and this les...  197.146.130.128   \n88574  horrible  it does not work at all  how can the...    209.77.21.216   \n88575  fast shipment  well packaged  highly recommend...    200.96.72.144   \n88576  this item worked well for a couple of weeks bu...   223.138.215.33   \n88577  you will not mistake this for a sony  it is no...    193.86.54.100   \n\n       Sentiment        label  \n0       1.000000  Not Genuine  \n1       0.800000  Not Genuine  \n2       0.600000  Not Genuine  \n3       0.200000  Not Genuine  \n4       0.287500      Genuine  \n...          ...          ...  \n88573   0.167247      Genuine  \n88574  -1.000000  Not Genuine  \n88575   0.180000      Genuine  \n88576  -0.076923      Genuine  \n88577   0.164089      Genuine  \n\n[88578 rows x 11 columns]"
     },
     "execution_count": 27,
     "metadata": {},
     "output_type": "execute_result"
    }
   ]
  },
  {
   "cell_type": "code",
   "metadata": {
    "deepnote_to_be_reexecuted": false,
    "execution_millis": 411,
    "execution_start": 1654238987492,
    "source_hash": "db41e492",
    "tags": [],
    "cell_id": "00082-9bbbf03c-1c91-445b-b06e-3afccb704454",
    "deepnote_cell_type": "code",
    "deepnote_cell_height": 1134.9375,
    "deepnote_output_heights": [
     497.984375
    ]
   },
   "source": "import matplotlib.pyplot as plt\nrevno=list(range(1,11))\nGenuine_scatter=[]\nSentiment_scatter=[]\nlow = (0, 1, 0)\nmedium = ()\nhigh = (1, 0, 0)\n\nfor i in range(50,60):\n    if df_hybrid['label'][i] == 'Not Genuine':\n        Genuine_scatter.append(0)\n    elif df_hybrid['label'][i] == 'Genuine':\n        Genuine_scatter.append(1)\n    if df_hybrid['Sentiment'][i]<0:\n        Sentiment_scatter.append(low)\n    elif df_hybrid['Sentiment'][i] >0:\n        Sentiment_scatter.append(high)\nplt.scatter(\n    x=revno,\n    y=Genuine_scatter,\n    c=Sentiment_scatter\n)\n \nplt.xlabel(\"Review Number\")\nplt.ylabel(\"Genuineness\") \nplt.legend([\"Negative Sentiment\",\"Positive Sentiment\"])\nplt.title(\"Scatter graph to display Genuininess and Sentiment \")\n\nplt.rcParams['figure.figsize'] = [5, 10]\nplt.show()\n",
   "execution_count": null,
   "outputs": [
    {
     "data": {
      "image/png": "[encoded data removed]",
      "text/plain": "<Figure size 576x576 with 1 Axes>"
     },
     "metadata": {
      "image/png": {
       "width": 497,
       "height": 496
      },
      "needs_background": "light"
     },
     "output_type": "display_data"
    }
   ]
  },
  {
   "cell_type": "code",
   "metadata": {
    "tags": [],
    "cell_id": "00083-b2ae89d2-e6e7-42ed-adcd-32690b502c21",
    "deepnote_cell_type": "code",
    "deepnote_cell_height": 65.953125
   },
   "source": "",
   "execution_count": null,
   "outputs": []
  },
  {
   "cell_type": "markdown",
   "source": "<a style='text-decoration:none;line-height:16px;display:flex;color:#5B5B62;padding:10px;justify-content:end;' href='https://deepnote.com?utm_source=created-in-deepnote-cell&projectId=d611ce83-46e4-4a42-b601-819324222ef9' target=\"_blank\">\n<img alt='Created in deepnote.com' style='display:inline;max-height:16px;margin:0px;margin-right:7.5px;' src='data:image/svg+xml;base64,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' > </img>\nCreated in <span style='font-weight:600;margin-left:4px;'>Deepnote</span></a>",
   "metadata": {
    "tags": [],
    "created_in_deepnote_cell": true,
    "deepnote_cell_type": "markdown"
   }
  }
 ],
 "nbformat": 4,
 "nbformat_minor": 2,
 "metadata": {
  "deepnote": {
   "is_reactive": false
  },
  "deepnote_execution_queue": [],
  "deepnote_notebook_id": "3aa735ec-5728-42de-8dc1-6fbb47b3d6ad",
  "kernelspec": {
   "display_name": "Python 3",
   "language": "python",
   "name": "python3"
  },
  "language_info": {
   "codemirror_mode": {
    "name": "ipython",
    "version": 3
   },
   "file_extension": ".py",
   "mimetype": "text/x-python",
   "name": "python",
   "nbconvert_exporter": "python",
   "pygments_lexer": "ipython3",
   "version": "3.8.5"
  }
 }
}